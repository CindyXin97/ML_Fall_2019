{
  "nbformat": 4,
  "nbformat_minor": 0,
  "metadata": {
    "colab": {
      "name": "Keras_examples_LSTM_text_generation.ipynb",
      "provenance": [],
      "collapsed_sections": [],
      "toc_visible": true
    },
    "kernelspec": {
      "name": "python3",
      "display_name": "Python 3"
    },
    "accelerator": "GPU"
  },
  "cells": [
    {
      "cell_type": "markdown",
      "metadata": {
        "id": "DcRfl7sNhboO",
        "colab_type": "text"
      },
      "source": [
        "# Derived from https://keras.io/examples/lstm_text_generation/"
      ]
    },
    {
      "cell_type": "code",
      "metadata": {
        "id": "w-IH2DOpf5XZ",
        "colab_type": "code",
        "outputId": "e1223048-8edc-4a77-a9fe-1328e1ae1950",
        "colab": {
          "base_uri": "https://localhost:8080/",
          "height": 53
        }
      },
      "source": [
        "from google.colab import drive\n",
        "drive.mount('/content/gdrive')\n",
        "\n",
        "DRIVE_DIR=\"/content/gdrive/My Drive/\"\n",
        "\n",
        "import os \n",
        "MODEL_DIR=os.path.join(DRIVE_DIR, \"Colab Notebooks\", \"NYU\", \"Models\")\n",
        "modelDirExists = True if os.path.isdir(MODEL_DIR) else False\n",
        "\n",
        "if modelDirExists:\n",
        "  print(\"Saving checkpoints to \", MODEL_DIR)"
      ],
      "execution_count": 46,
      "outputs": [
        {
          "output_type": "stream",
          "text": [
            "Drive already mounted at /content/gdrive; to attempt to forcibly remount, call drive.mount(\"/content/gdrive\", force_remount=True).\n",
            "Saving checkpoints to  /content/gdrive/My Drive/Colab Notebooks/NYU/Models\n"
          ],
          "name": "stdout"
        }
      ]
    },
    {
      "cell_type": "markdown",
      "metadata": {
        "id": "q6pLOKSng1zy",
        "colab_type": "text"
      },
      "source": [
        "# Standard imports"
      ]
    },
    {
      "cell_type": "code",
      "metadata": {
        "id": "1Vb7M8JELpAP",
        "colab_type": "code",
        "colab": {}
      },
      "source": [
        "import tensorflow as tf\n",
        "\n",
        "from __future__ import print_function\n",
        "from tensorflow.keras.callbacks import ModelCheckpoint, LambdaCallback\n",
        "\n",
        "from tensorflow.keras.models import Sequential\n",
        "from tensorflow.keras.layers import Dense\n",
        "from tensorflow.keras.layers import LSTM\n",
        "from tensorflow.keras.optimizers import RMSprop\n",
        "from tensorflow.keras.utils import get_file\n",
        "import numpy as np\n",
        "import random\n",
        "import sys\n",
        "import io\n",
        "\n",
        "from tensorflow.keras.utils import plot_model\n",
        "import IPython\n",
        "\n"
      ],
      "execution_count": 0,
      "outputs": []
    },
    {
      "cell_type": "markdown",
      "metadata": {
        "id": "rOI2b8gvg9yN",
        "colab_type": "text"
      },
      "source": [
        "# Get the text file\n",
        "- create maps to map between characters and their integer encodings\n",
        "  - from character to integer\n",
        "  - from integer to character"
      ]
    },
    {
      "cell_type": "code",
      "metadata": {
        "id": "vNRoCXtug8oX",
        "colab_type": "code",
        "outputId": "ef9100c9-87f2-45e8-f15a-90b241d2a029",
        "colab": {
          "base_uri": "https://localhost:8080/",
          "height": 53
        }
      },
      "source": [
        "path = get_file(\n",
        "    'nietzsche.txt',\n",
        "    origin='https://s3.amazonaws.com/text-datasets/nietzsche.txt')\n",
        "with io.open(path, encoding='utf-8') as f:\n",
        "    text = f.read().lower()\n",
        "print('corpus length:', len(text))\n",
        "\n",
        "chars = sorted(list(set(text)))\n",
        "print('total chars:', len(chars))\n",
        "char_indices = dict((c, i) for i, c in enumerate(chars))\n",
        "indices_char = dict((i, c) for i, c in enumerate(chars))\n"
      ],
      "execution_count": 48,
      "outputs": [
        {
          "output_type": "stream",
          "text": [
            "corpus length: 600893\n",
            "total chars: 57\n"
          ],
          "name": "stdout"
        }
      ]
    },
    {
      "cell_type": "markdown",
      "metadata": {
        "id": "JXrmtsAthNMx",
        "colab_type": "text"
      },
      "source": [
        "# Prepare the training data: creating example sequences/targets\n",
        "- example i: maxlen consecuitve characters\n",
        "  - text[i:i+ maxlen] training example: $x^{(i)}$\n",
        "  - text[maxlen] target: $y^{(i)}$\n"
      ]
    },
    {
      "cell_type": "code",
      "metadata": {
        "id": "GZdPuW6EgCRS",
        "colab_type": "code",
        "outputId": "17199291-3592-4d8d-993a-558872501e01",
        "colab": {
          "base_uri": "https://localhost:8080/",
          "height": 35
        }
      },
      "source": [
        "# cut the text in semi-redundant sequences of maxlen characters\n",
        "maxlen = 40\n",
        "step = 3\n",
        "sentences = []\n",
        "next_chars = []\n",
        "for i in range(0, len(text) - maxlen, step):\n",
        "    sentences.append(text[i: i + maxlen])\n",
        "    next_chars.append(text[i + maxlen])\n",
        "print('nb sequences:', len(sentences))\n",
        "\n"
      ],
      "execution_count": 49,
      "outputs": [
        {
          "output_type": "stream",
          "text": [
            "nb sequences: 200285\n"
          ],
          "name": "stdout"
        }
      ]
    },
    {
      "cell_type": "markdown",
      "metadata": {
        "id": "gMnLQsslpA76",
        "colab_type": "text"
      },
      "source": [
        "# Examine the prepared input: \n",
        "- x: a prefix (of length maxlen)\n",
        "- y: the following character"
      ]
    },
    {
      "cell_type": "code",
      "metadata": {
        "id": "Y77yYH68oV1S",
        "colab_type": "code",
        "colab": {
          "base_uri": "https://localhost:8080/",
          "height": 395
        },
        "outputId": "cf001da4-c812-4933-b689-9733bc77d15c"
      },
      "source": [
        "for i, example in enumerate( zip(sentences, next_chars)):\n",
        "  if i > 10: break\n",
        "  else: pass\n",
        "  (sentence, next_char) = example\n",
        "  print(\"x: \", sentence, \", y: \", next_char)"
      ],
      "execution_count": 50,
      "outputs": [
        {
          "output_type": "stream",
          "text": [
            "x:  preface\n",
            "\n",
            "\n",
            "supposing that truth is a woma , y:  n\n",
            "x:  face\n",
            "\n",
            "\n",
            "supposing that truth is a woman-- , y:  w\n",
            "x:  e\n",
            "\n",
            "\n",
            "supposing that truth is a woman--wha , y:  t\n",
            "x:  \n",
            "supposing that truth is a woman--what t , y:  h\n",
            "x:  pposing that truth is a woman--what then , y:  ?\n",
            "x:  sing that truth is a woman--what then? i , y:  s\n",
            "x:  g that truth is a woman--what then? is t , y:  h\n",
            "x:  hat truth is a woman--what then? is ther , y:  e\n",
            "x:   truth is a woman--what then? is there n , y:  o\n",
            "x:  uth is a woman--what then? is there not  , y:  g\n",
            "x:   is a woman--what then? is there not gro , y:  u\n"
          ],
          "name": "stdout"
        }
      ]
    },
    {
      "cell_type": "markdown",
      "metadata": {
        "id": "6O5sy7RWiJGj",
        "colab_type": "text"
      },
      "source": [
        "# One Hot Encode the characters \n",
        "- in $x^{(i)},  y^{(i)}$"
      ]
    },
    {
      "cell_type": "code",
      "metadata": {
        "id": "kzkczyaeh8k5",
        "colab_type": "code",
        "outputId": "10fc980f-73a9-4864-cfdb-cf7c9efde0be",
        "colab": {
          "base_uri": "https://localhost:8080/",
          "height": 35
        }
      },
      "source": [
        "print('Vectorization...')\n",
        "x = np.zeros((len(sentences), maxlen, len(chars)), dtype=np.bool)\n",
        "y = np.zeros((len(sentences), len(chars)), dtype=np.bool)\n",
        "for i, sentence in enumerate(sentences):\n",
        "    for t, char in enumerate(sentence):\n",
        "        x[i, t, char_indices[char]] = 1\n",
        "    y[i, char_indices[next_chars[i]]] = 1\n",
        "\n",
        "\n"
      ],
      "execution_count": 51,
      "outputs": [
        {
          "output_type": "stream",
          "text": [
            "Vectorization...\n"
          ],
          "name": "stdout"
        }
      ]
    },
    {
      "cell_type": "markdown",
      "metadata": {
        "id": "co02Jvz6lQe0",
        "colab_type": "text"
      },
      "source": [
        "# Examine the input shape\n",
        "- $x^{(i)}_{(t),j}$ is found at  $x[ i, t, j ]$\n",
        "\n",
        "  - example i\n",
        "  - time step/sequence element t\n",
        "  - a sequence element is a vector, index at position j\n",
        "    - length of OHE (number of distinct characters)"
      ]
    },
    {
      "cell_type": "code",
      "metadata": {
        "id": "8yxV52HOlS_e",
        "colab_type": "code",
        "outputId": "eac63009-a6d1-47b9-b936-31be2876da1f",
        "colab": {
          "base_uri": "https://localhost:8080/",
          "height": 89
        }
      },
      "source": [
        "print(\"X shape: \", x.shape)\n",
        "print(\"\\tNumber of examples: \", x.shape[0])\n",
        "print(\"\\tEach example is sequence of length \", x.shape[1])\n",
        "print(\"\\tEach element of the sequence is of length \", x.shape[2])"
      ],
      "execution_count": 52,
      "outputs": [
        {
          "output_type": "stream",
          "text": [
            "X shape:  (200285, 40, 57)\n",
            "\tNumber of examples:  200285\n",
            "\tEach example is sequence of length  40\n",
            "\tEach element of the sequence is of length  57\n"
          ],
          "name": "stdout"
        }
      ]
    },
    {
      "cell_type": "markdown",
      "metadata": {
        "id": "Ao6DVrY1iV5v",
        "colab_type": "text"
      },
      "source": [
        "# Utility routines\n",
        "\n",
        "The sample routine\n",
        "- takes the probability vector (one probability per potential next character)\n",
        "- uses it to randomly sample the next character to produce\n",
        "- `temperature`\n",
        "  - our model produces a probability from a score, using the softmax, as usual for Classifiers that we have studied\n",
        "  - softmax exagerates small differences in the score into larger differences in probability\n",
        "  - the `temperature` controls the degree of exageration\n",
        "- the routine recalculates the probability, using the desired temperature before sampling\n",
        "\n"
      ]
    },
    {
      "cell_type": "code",
      "metadata": {
        "id": "t0OzYFF8iYWJ",
        "colab_type": "code",
        "colab": {}
      },
      "source": [
        "def createModel():\n",
        "  model = Sequential()\n",
        "  model.add(LSTM(128, input_shape=(maxlen, len(chars))))\n",
        "  model.add(Dense(len(chars), activation='softmax'))\n",
        "\n",
        "  return model\n",
        "\n",
        "def plotModel(model, modelName):\n",
        "  plotFile = modelName + \".png\"\n",
        "  plot_model(model, plotFile, show_shapes=True)\n",
        "\n",
        "  return plotFile\n",
        "  \n",
        "def sample(preds, temperature=1.0):\n",
        "    # helper function to sample an index from a probability array\n",
        "    preds = np.asarray(preds).astype('float64')\n",
        "    preds = np.log(preds) / temperature\n",
        "    exp_preds = np.exp(preds)\n",
        "    preds = exp_preds / np.sum(exp_preds)\n",
        "    probas = np.random.multinomial(1, preds, 1)\n",
        "    return np.argmax(probas)\n",
        "\n",
        "\n",
        "def on_epoch_end(epoch, _):\n",
        "    # Function invoked at end of each epoch. Prints generated text.\n",
        "    print()\n",
        "    print('----- Generating text after Epoch: %d' % epoch)\n",
        "\n",
        "    start_index = random.randint(0, len(text) - maxlen - 1)\n",
        "    diversities = [0.2, 0.5, 1.0, 1.2]\n",
        "    for diversity in diversities[:2]:\n",
        "        # print('----- diversity:', diversity)\n",
        "\n",
        "        generated = ''\n",
        "        sentence = text[start_index: start_index + maxlen]\n",
        "        generated += sentence\n",
        "        print('\\n----- Generating with seed (diversity={d:3.2f}): \"{sent:s}\"\\n\\t'.format(d=diversity, sent=sentence) )\n",
        "        sys.stdout.write(generated)\n",
        "\n",
        "        for i in range(400):\n",
        "            x_pred = np.zeros((1, maxlen, len(chars)))\n",
        "            for t, char in enumerate(sentence):\n",
        "                x_pred[0, t, char_indices[char]] = 1.\n",
        "\n",
        "            preds = model.predict(x_pred, verbose=0)[0]\n",
        "            next_index = sample(preds, diversity)\n",
        "            next_char = indices_char[next_index]\n",
        "\n",
        "            sentence = sentence[1:] + next_char\n",
        "\n",
        "            sys.stdout.write(next_char)\n",
        "            sys.stdout.flush()\n",
        "        print()\n",
        "\n"
      ],
      "execution_count": 0,
      "outputs": []
    },
    {
      "cell_type": "code",
      "metadata": {
        "id": "LdA-rpuZgFJf",
        "colab_type": "code",
        "outputId": "09b33a4e-3266-40a9-a5b2-fa1c5291809e",
        "colab": {
          "base_uri": "https://localhost:8080/",
          "height": 330
        }
      },
      "source": [
        "# build the model: a single LSTM\n",
        "print('Build model...')\n",
        "model = createModel()\n",
        "\n",
        "optimizer = RMSprop(lr=0.01)\n",
        "model.compile(loss='categorical_crossentropy') #, optimizer=optimizer)\n",
        "\n",
        "plotFile = plotModel(model, \"first_model\")\n",
        "IPython.display.Image(plotFile) \n",
        "\n"
      ],
      "execution_count": 54,
      "outputs": [
        {
          "output_type": "stream",
          "text": [
            "Build model...\n"
          ],
          "name": "stdout"
        },
        {
          "output_type": "execute_result",
          "data": {
            "image/png": "[encoded data removed]",
            "text/plain": [
              "<IPython.core.display.Image object>"
            ]
          },
          "metadata": {
            "tags": []
          },
          "execution_count": 54
        }
      ]
    },
    {
      "cell_type": "markdown",
      "metadata": {
        "id": "HVmgE2nijpXc",
        "colab_type": "text"
      },
      "source": [
        "# Resume training from existing weights ?"
      ]
    },
    {
      "cell_type": "code",
      "metadata": {
        "id": "SQgyqPmoi_47",
        "colab_type": "code",
        "colab": {
          "base_uri": "https://localhost:8080/",
          "height": 35
        },
        "outputId": "34870000-2f08-4069-b67f-c69b92edc08f"
      },
      "source": [
        "modelFile = os.path.join(MODEL_DIR, \"lstm_text_gen-loss_1.2006.h5\") # None\n",
        "\n",
        "if modelFile is not None and os.path.exists(modelFile):\n",
        "  print(\"Initializing with weights from \", modelFile)\n",
        "  model.load_weights(modelFile)"
      ],
      "execution_count": 55,
      "outputs": [
        {
          "output_type": "stream",
          "text": [
            "Initializing with weights from  /content/gdrive/My Drive/Colab Notebooks/NYU/Models/lstm_text_gen-loss_1.2006.h5\n"
          ],
          "name": "stdout"
        }
      ]
    },
    {
      "cell_type": "code",
      "metadata": {
        "id": "jTjuOEXzi1ly",
        "colab_type": "code",
        "colab": {}
      },
      "source": [
        "print_callback = LambdaCallback(on_epoch_end=on_epoch_end)\n",
        "\n",
        "ckpt_filepath=os.path.join(MODEL_DIR, \"lstm_text_gen-loss_{loss:.4f}.h5\")\n",
        "checkpoint_callback = ModelCheckpoint(ckpt_filepath, monitor='loss', verbose=1, save_best_only=True, mode='min')\n",
        "\n"
      ],
      "execution_count": 0,
      "outputs": []
    },
    {
      "cell_type": "markdown",
      "metadata": {
        "id": "k2zfOK40jusN",
        "colab_type": "text"
      },
      "source": [
        "# Train"
      ]
    },
    {
      "cell_type": "code",
      "metadata": {
        "id": "0dqk9QXrgKCf",
        "colab_type": "code",
        "outputId": "1f9317a1-e42b-4046-967b-0006e2b141bd",
        "colab": {
          "base_uri": "https://localhost:8080/",
          "height": 1000
        }
      },
      "source": [
        "callbacks = [print_callback]\n",
        "if modelDirExists:\n",
        "  callbacks.append(checkpoint_callback)\n",
        "\n",
        "model.fit(x, y,\n",
        "          batch_size=128,\n",
        "          epochs=60,\n",
        "          callbacks=callbacks)"
      ],
      "execution_count": 57,
      "outputs": [
        {
          "output_type": "stream",
          "text": [
            "Train on 200285 samples\n",
            "Epoch 1/60\n",
            "200192/200285 [============================>.] - ETA: 0s - loss: 1.1967\n",
            "----- Generating text after Epoch: 0\n",
            "\n",
            "----- Generating with seed (diversity=0.20): \"to\n",
            "\"good europeanism.\" and while digress\"\n",
            "\t\n",
            "to\n",
            "\"good europeanism.\" and while digress to the contrary and self-contempe of the endowiched and in the spectache still the exceptional sense. the spirit of the interpretations of the subject of man of the proposity of the world, and and the most reselvation of a still up namier and desires and destructive and account to seem the spectacted to the destinedce of the proposity of the proposity of the spectache in the spectache stand of ma\n",
            "\n",
            "----- Generating with seed (diversity=0.50): \"to\n",
            "\"good europeanism.\" and while digress\"\n",
            "\t\n",
            "to\n",
            "\"good europeanism.\" and while digress, but it is not been must be the best and despects and to the enough of indecentive us. the problem of preser and freedom--for the fill.\" it is always he loss at present so do not accond the same discief--whereating the feelings, and the comment in the present of \"their pround the best and the always deterious. there is the most species, in which are at an its own man in the contrary, at was the o\n",
            "\n",
            "Epoch 00001: loss improved from inf to 1.19663, saving model to /content/gdrive/My Drive/Colab Notebooks/NYU/Models/lstm_text_gen-loss_1.1966.h5\n",
            "200285/200285 [==============================] - 147s 733us/sample - loss: 1.1966\n",
            "Epoch 2/60\n",
            "200192/200285 [============================>.] - ETA: 0s - loss: 1.1895\n",
            "----- Generating text after Epoch: 1\n",
            "\n",
            "----- Generating with seed (diversity=0.20): \"ally, in the general economy of life (wh\"\n",
            "\t\n",
            "ally, in the general economy of life (when the philosopher with the same than the same distusual in an instincting that it is a still and secret and to the free spirits with the same than in the first things in the subject to a sensian of man in the subject of all the subjects and the sense of its own painful companishic that is the world who make is a subjection with the satisfaction of the subjects and the subject, and the subject, an\n",
            "\n",
            "----- Generating with seed (diversity=0.50): \"ally, in the general economy of life (wh\"\n",
            "\t\n",
            "ally, in the general economy of life (when it is a cent of which is the most sense, and manifestation and the obleams of its own one will not the belief what the belief in all his still at one morals grasestous development, which is a stand the stask of the most regard to the world of all the spectators his prevale of the sack that we are such may adyaptary the first took and labbiture. it is not be far exist of the unengined the long f\n",
            "\n",
            "Epoch 00002: loss improved from 1.19663 to 1.18956, saving model to /content/gdrive/My Drive/Colab Notebooks/NYU/Models/lstm_text_gen-loss_1.1896.h5\n",
            "200285/200285 [==============================] - 145s 726us/sample - loss: 1.1896\n",
            "Epoch 3/60\n",
            "200192/200285 [============================>.] - ETA: 0s - loss: 1.1849\n",
            "----- Generating text after Epoch: 2\n",
            "\n",
            "----- Generating with seed (diversity=0.20): \"be those of\n",
            "duty: that reverence, which \"\n",
            "\t\n",
            "be those of\n",
            "duty: that reverence, which is not the believed that it is a state and deceal is not in the properority of the subjection of the subjection of the same disinterent and as the belief in the present as a comparison of the specialized and as the procition that is the most sense, that the christian in the christian interpreting of the philosophical causal of the subjection of the subjection of the specialistic perhaps and consid\n",
            "\n",
            "----- Generating with seed (diversity=0.50): \"be those of\n",
            "duty: that reverence, which \"\n",
            "\t\n",
            "be those of\n",
            "duty: that reverence, which is not the result of his tanours, and the same distusual, and the groughs of the worst in the procuction of the spirit, or an extanged. the contrary of the precispocianly of a conduced, and delight reving to the consideration of successing of the interpretations and discipline subsen in the present to be in the procition that in the former his strong single to him, that\n",
            "is the interpouence and hel\n",
            "\n",
            "Epoch 00003: loss improved from 1.18956 to 1.18487, saving model to /content/gdrive/My Drive/Colab Notebooks/NYU/Models/lstm_text_gen-loss_1.1849.h5\n",
            "200285/200285 [==============================] - 146s 728us/sample - loss: 1.1849\n",
            "Epoch 4/60\n",
            "200192/200285 [============================>.] - ETA: 0s - loss: 1.1804\n",
            "----- Generating text after Epoch: 3\n",
            "\n",
            "----- Generating with seed (diversity=0.20): \"se of rearing human beings; there are th\"\n",
            "\t\n",
            "se of rearing human beings; there are the most sense, as the procision of the state is the world is the worst and sense, and whatever has been more in the philosopher that the whole of the strength of incompletery the state of the subjection of the subjection of the state of the subjection of the subjects and the subjection of the subjection of all the sense of an instincting that the masterlach strength of the morality is well known be\n",
            "\n",
            "----- Generating with seed (diversity=0.50): \"se of rearing human beings; there are th\"\n",
            "\t\n",
            "se of rearing human beings; there are the existence that it is also the still and instradre and according to the partic conception of the strange, trangly the day, the presses of an experience and intellectual preservation of the contradiction of the soul of the exception, all that the procispocians. to the something and the point\" and perhaps always be the recognint have been love of the presentive man for the really because of man is \n",
            "\n",
            "Epoch 00004: loss improved from 1.18487 to 1.18050, saving model to /content/gdrive/My Drive/Colab Notebooks/NYU/Models/lstm_text_gen-loss_1.1805.h5\n",
            "200285/200285 [==============================] - 145s 722us/sample - loss: 1.1805\n",
            "Epoch 5/60\n"
          ],
          "name": "stdout"
        },
        {
          "output_type": "error",
          "ename": "KeyboardInterrupt",
          "evalue": "ignored",
          "traceback": [
            "\u001b[0;31m---------------------------------------------------------------------------\u001b[0m",
            "\u001b[0;31mKeyboardInterrupt\u001b[0m                         Traceback (most recent call last)",
            "\u001b[0;32m<ipython-input-57-2abc7ba2173b>\u001b[0m in \u001b[0;36m<module>\u001b[0;34m()\u001b[0m\n\u001b[1;32m      6\u001b[0m           \u001b[0mbatch_size\u001b[0m\u001b[0;34m=\u001b[0m\u001b[0;36m128\u001b[0m\u001b[0;34m,\u001b[0m\u001b[0;34m\u001b[0m\u001b[0;34m\u001b[0m\u001b[0m\n\u001b[1;32m      7\u001b[0m           \u001b[0mepochs\u001b[0m\u001b[0;34m=\u001b[0m\u001b[0;36m60\u001b[0m\u001b[0;34m,\u001b[0m\u001b[0;34m\u001b[0m\u001b[0;34m\u001b[0m\u001b[0m\n\u001b[0;32m----> 8\u001b[0;31m           callbacks=callbacks)\n\u001b[0m",
            "\u001b[0;32m/usr/local/lib/python3.6/dist-packages/tensorflow_core/python/keras/engine/training.py\u001b[0m in \u001b[0;36mfit\u001b[0;34m(self, x, y, batch_size, epochs, verbose, callbacks, validation_split, validation_data, shuffle, class_weight, sample_weight, initial_epoch, steps_per_epoch, validation_steps, validation_freq, max_queue_size, workers, use_multiprocessing, **kwargs)\u001b[0m\n\u001b[1;32m    725\u001b[0m         \u001b[0mmax_queue_size\u001b[0m\u001b[0;34m=\u001b[0m\u001b[0mmax_queue_size\u001b[0m\u001b[0;34m,\u001b[0m\u001b[0;34m\u001b[0m\u001b[0;34m\u001b[0m\u001b[0m\n\u001b[1;32m    726\u001b[0m         \u001b[0mworkers\u001b[0m\u001b[0;34m=\u001b[0m\u001b[0mworkers\u001b[0m\u001b[0;34m,\u001b[0m\u001b[0;34m\u001b[0m\u001b[0;34m\u001b[0m\u001b[0m\n\u001b[0;32m--> 727\u001b[0;31m         use_multiprocessing=use_multiprocessing)\n\u001b[0m\u001b[1;32m    728\u001b[0m \u001b[0;34m\u001b[0m\u001b[0m\n\u001b[1;32m    729\u001b[0m   def evaluate(self,\n",
            "\u001b[0;32m/usr/local/lib/python3.6/dist-packages/tensorflow_core/python/keras/engine/training_arrays.py\u001b[0m in \u001b[0;36mfit\u001b[0;34m(self, model, x, y, batch_size, epochs, verbose, callbacks, validation_split, validation_data, shuffle, class_weight, sample_weight, initial_epoch, steps_per_epoch, validation_steps, validation_freq, **kwargs)\u001b[0m\n\u001b[1;32m    673\u001b[0m         \u001b[0mvalidation_steps\u001b[0m\u001b[0;34m=\u001b[0m\u001b[0mvalidation_steps\u001b[0m\u001b[0;34m,\u001b[0m\u001b[0;34m\u001b[0m\u001b[0;34m\u001b[0m\u001b[0m\n\u001b[1;32m    674\u001b[0m         \u001b[0mvalidation_freq\u001b[0m\u001b[0;34m=\u001b[0m\u001b[0mvalidation_freq\u001b[0m\u001b[0;34m,\u001b[0m\u001b[0;34m\u001b[0m\u001b[0;34m\u001b[0m\u001b[0m\n\u001b[0;32m--> 675\u001b[0;31m         steps_name='steps_per_epoch')\n\u001b[0m\u001b[1;32m    676\u001b[0m \u001b[0;34m\u001b[0m\u001b[0m\n\u001b[1;32m    677\u001b[0m   def evaluate(self,\n",
            "\u001b[0;32m/usr/local/lib/python3.6/dist-packages/tensorflow_core/python/keras/engine/training_arrays.py\u001b[0m in \u001b[0;36mmodel_iteration\u001b[0;34m(model, inputs, targets, sample_weights, batch_size, epochs, verbose, callbacks, val_inputs, val_targets, val_sample_weights, shuffle, initial_epoch, steps_per_epoch, validation_steps, validation_freq, mode, validation_in_fit, prepared_feed_values_from_dataset, steps_name, **kwargs)\u001b[0m\n\u001b[1;32m    404\u001b[0m         \u001b[0mbatch_logs\u001b[0m \u001b[0;34m=\u001b[0m \u001b[0mcbks\u001b[0m\u001b[0;34m.\u001b[0m\u001b[0mmake_logs\u001b[0m\u001b[0;34m(\u001b[0m\u001b[0mmodel\u001b[0m\u001b[0;34m,\u001b[0m \u001b[0mbatch_logs\u001b[0m\u001b[0;34m,\u001b[0m \u001b[0mbatch_outs\u001b[0m\u001b[0;34m,\u001b[0m \u001b[0mmode\u001b[0m\u001b[0;34m)\u001b[0m\u001b[0;34m\u001b[0m\u001b[0;34m\u001b[0m\u001b[0m\n\u001b[1;32m    405\u001b[0m         \u001b[0mcallbacks\u001b[0m\u001b[0;34m.\u001b[0m\u001b[0m_call_batch_hook\u001b[0m\u001b[0;34m(\u001b[0m\u001b[0mmode\u001b[0m\u001b[0;34m,\u001b[0m \u001b[0;34m'end'\u001b[0m\u001b[0;34m,\u001b[0m \u001b[0mbatch_index\u001b[0m\u001b[0;34m,\u001b[0m \u001b[0mbatch_logs\u001b[0m\u001b[0;34m)\u001b[0m\u001b[0;34m\u001b[0m\u001b[0;34m\u001b[0m\u001b[0m\n\u001b[0;32m--> 406\u001b[0;31m         \u001b[0mprogbar\u001b[0m\u001b[0;34m.\u001b[0m\u001b[0mon_batch_end\u001b[0m\u001b[0;34m(\u001b[0m\u001b[0mbatch_index\u001b[0m\u001b[0;34m,\u001b[0m \u001b[0mbatch_logs\u001b[0m\u001b[0;34m)\u001b[0m\u001b[0;34m\u001b[0m\u001b[0;34m\u001b[0m\u001b[0m\n\u001b[0m\u001b[1;32m    407\u001b[0m \u001b[0;34m\u001b[0m\u001b[0m\n\u001b[1;32m    408\u001b[0m         \u001b[0;32mif\u001b[0m \u001b[0mcallbacks\u001b[0m\u001b[0;34m.\u001b[0m\u001b[0mmodel\u001b[0m\u001b[0;34m.\u001b[0m\u001b[0mstop_training\u001b[0m\u001b[0;34m:\u001b[0m\u001b[0;34m\u001b[0m\u001b[0;34m\u001b[0m\u001b[0m\n",
            "\u001b[0;32m/usr/local/lib/python3.6/dist-packages/tensorflow_core/python/keras/callbacks.py\u001b[0m in \u001b[0;36mon_batch_end\u001b[0;34m(self, batch, logs)\u001b[0m\n\u001b[1;32m    759\u001b[0m     \u001b[0;31m# will be handled by on_epoch_end.\u001b[0m\u001b[0;34m\u001b[0m\u001b[0;34m\u001b[0m\u001b[0;34m\u001b[0m\u001b[0m\n\u001b[1;32m    760\u001b[0m     \u001b[0;32mif\u001b[0m \u001b[0mself\u001b[0m\u001b[0;34m.\u001b[0m\u001b[0mverbose\u001b[0m \u001b[0;32mand\u001b[0m \u001b[0;34m(\u001b[0m\u001b[0mself\u001b[0m\u001b[0;34m.\u001b[0m\u001b[0mtarget\u001b[0m \u001b[0;32mis\u001b[0m \u001b[0;32mNone\u001b[0m \u001b[0;32mor\u001b[0m \u001b[0mself\u001b[0m\u001b[0;34m.\u001b[0m\u001b[0mseen\u001b[0m \u001b[0;34m<\u001b[0m \u001b[0mself\u001b[0m\u001b[0;34m.\u001b[0m\u001b[0mtarget\u001b[0m\u001b[0;34m)\u001b[0m\u001b[0;34m:\u001b[0m\u001b[0;34m\u001b[0m\u001b[0;34m\u001b[0m\u001b[0m\n\u001b[0;32m--> 761\u001b[0;31m       \u001b[0mself\u001b[0m\u001b[0;34m.\u001b[0m\u001b[0mprogbar\u001b[0m\u001b[0;34m.\u001b[0m\u001b[0mupdate\u001b[0m\u001b[0;34m(\u001b[0m\u001b[0mself\u001b[0m\u001b[0;34m.\u001b[0m\u001b[0mseen\u001b[0m\u001b[0;34m,\u001b[0m \u001b[0mself\u001b[0m\u001b[0;34m.\u001b[0m\u001b[0mlog_values\u001b[0m\u001b[0;34m)\u001b[0m\u001b[0;34m\u001b[0m\u001b[0;34m\u001b[0m\u001b[0m\n\u001b[0m\u001b[1;32m    762\u001b[0m \u001b[0;34m\u001b[0m\u001b[0m\n\u001b[1;32m    763\u001b[0m   \u001b[0;32mdef\u001b[0m \u001b[0mon_epoch_end\u001b[0m\u001b[0;34m(\u001b[0m\u001b[0mself\u001b[0m\u001b[0;34m,\u001b[0m \u001b[0mepoch\u001b[0m\u001b[0;34m,\u001b[0m \u001b[0mlogs\u001b[0m\u001b[0;34m=\u001b[0m\u001b[0;32mNone\u001b[0m\u001b[0;34m)\u001b[0m\u001b[0;34m:\u001b[0m\u001b[0;34m\u001b[0m\u001b[0;34m\u001b[0m\u001b[0m\n",
            "\u001b[0;32m/usr/local/lib/python3.6/dist-packages/tensorflow_core/python/keras/utils/generic_utils.py\u001b[0m in \u001b[0;36mupdate\u001b[0;34m(self, current, values)\u001b[0m\n\u001b[1;32m    388\u001b[0m       \u001b[0;32mif\u001b[0m \u001b[0mself\u001b[0m\u001b[0;34m.\u001b[0m\u001b[0m_dynamic_display\u001b[0m\u001b[0;34m:\u001b[0m\u001b[0;34m\u001b[0m\u001b[0;34m\u001b[0m\u001b[0m\n\u001b[1;32m    389\u001b[0m         \u001b[0msys\u001b[0m\u001b[0;34m.\u001b[0m\u001b[0mstdout\u001b[0m\u001b[0;34m.\u001b[0m\u001b[0mwrite\u001b[0m\u001b[0;34m(\u001b[0m\u001b[0;34m'\\b'\u001b[0m \u001b[0;34m*\u001b[0m \u001b[0mprev_total_width\u001b[0m\u001b[0;34m)\u001b[0m\u001b[0;34m\u001b[0m\u001b[0;34m\u001b[0m\u001b[0m\n\u001b[0;32m--> 390\u001b[0;31m         \u001b[0msys\u001b[0m\u001b[0;34m.\u001b[0m\u001b[0mstdout\u001b[0m\u001b[0;34m.\u001b[0m\u001b[0mwrite\u001b[0m\u001b[0;34m(\u001b[0m\u001b[0;34m'\\r'\u001b[0m\u001b[0;34m)\u001b[0m\u001b[0;34m\u001b[0m\u001b[0;34m\u001b[0m\u001b[0m\n\u001b[0m\u001b[1;32m    391\u001b[0m       \u001b[0;32melse\u001b[0m\u001b[0;34m:\u001b[0m\u001b[0;34m\u001b[0m\u001b[0;34m\u001b[0m\u001b[0m\n\u001b[1;32m    392\u001b[0m         \u001b[0msys\u001b[0m\u001b[0;34m.\u001b[0m\u001b[0mstdout\u001b[0m\u001b[0;34m.\u001b[0m\u001b[0mwrite\u001b[0m\u001b[0;34m(\u001b[0m\u001b[0;34m'\\n'\u001b[0m\u001b[0;34m)\u001b[0m\u001b[0;34m\u001b[0m\u001b[0;34m\u001b[0m\u001b[0m\n",
            "\u001b[0;32m/usr/local/lib/python3.6/dist-packages/ipykernel/iostream.py\u001b[0m in \u001b[0;36mwrite\u001b[0;34m(self, string)\u001b[0m\n\u001b[1;32m    358\u001b[0m                     \u001b[0mself\u001b[0m\u001b[0;34m.\u001b[0m\u001b[0mflush\u001b[0m\u001b[0;34m(\u001b[0m\u001b[0;34m)\u001b[0m\u001b[0;34m\u001b[0m\u001b[0;34m\u001b[0m\u001b[0m\n\u001b[1;32m    359\u001b[0m             \u001b[0;32melse\u001b[0m\u001b[0;34m:\u001b[0m\u001b[0;34m\u001b[0m\u001b[0;34m\u001b[0m\u001b[0m\n\u001b[0;32m--> 360\u001b[0;31m                 \u001b[0mself\u001b[0m\u001b[0;34m.\u001b[0m\u001b[0m_schedule_flush\u001b[0m\u001b[0;34m(\u001b[0m\u001b[0;34m)\u001b[0m\u001b[0;34m\u001b[0m\u001b[0;34m\u001b[0m\u001b[0m\n\u001b[0m\u001b[1;32m    361\u001b[0m \u001b[0;34m\u001b[0m\u001b[0m\n\u001b[1;32m    362\u001b[0m     \u001b[0;32mdef\u001b[0m \u001b[0mwritelines\u001b[0m\u001b[0;34m(\u001b[0m\u001b[0mself\u001b[0m\u001b[0;34m,\u001b[0m \u001b[0msequence\u001b[0m\u001b[0;34m)\u001b[0m\u001b[0;34m:\u001b[0m\u001b[0;34m\u001b[0m\u001b[0;34m\u001b[0m\u001b[0m\n",
            "\u001b[0;32m/usr/local/lib/python3.6/dist-packages/ipykernel/iostream.py\u001b[0m in \u001b[0;36m_schedule_flush\u001b[0;34m(self)\u001b[0m\n\u001b[1;32m    295\u001b[0m         \u001b[0;32mreturn\u001b[0m \u001b[0mself\u001b[0m\u001b[0;34m.\u001b[0m\u001b[0mpub_thread\u001b[0m \u001b[0;32mis\u001b[0m \u001b[0;32mNone\u001b[0m\u001b[0;34m\u001b[0m\u001b[0;34m\u001b[0m\u001b[0m\n\u001b[1;32m    296\u001b[0m \u001b[0;34m\u001b[0m\u001b[0m\n\u001b[0;32m--> 297\u001b[0;31m     \u001b[0;32mdef\u001b[0m \u001b[0m_schedule_flush\u001b[0m\u001b[0;34m(\u001b[0m\u001b[0mself\u001b[0m\u001b[0;34m)\u001b[0m\u001b[0;34m:\u001b[0m\u001b[0;34m\u001b[0m\u001b[0;34m\u001b[0m\u001b[0m\n\u001b[0m\u001b[1;32m    298\u001b[0m         \"\"\"schedule a flush in the IO thread\n\u001b[1;32m    299\u001b[0m \u001b[0;34m\u001b[0m\u001b[0m\n",
            "\u001b[0;31mKeyboardInterrupt\u001b[0m: "
          ]
        }
      ]
    }
  ]
}