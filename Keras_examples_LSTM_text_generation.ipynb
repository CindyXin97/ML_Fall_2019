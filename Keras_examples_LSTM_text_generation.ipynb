{
  "nbformat": 4,
  "nbformat_minor": 0,
  "metadata": {
    "colab": {
      "name": "Keras_examples_LSTM_text_generation.ipynb",
      "provenance": [],
      "collapsed_sections": [],
      "toc_visible": true
    },
    "kernelspec": {
      "name": "python3",
      "display_name": "Python 3"
    },
    "accelerator": "GPU"
  },
  "cells": [
    {
      "cell_type": "markdown",
      "metadata": {
        "id": "DcRfl7sNhboO",
        "colab_type": "text"
      },
      "source": [
        "# Derived from https://keras.io/examples/lstm_text_generation/"
      ]
    },
    {
      "cell_type": "code",
      "metadata": {
        "id": "w-IH2DOpf5XZ",
        "colab_type": "code",
        "outputId": "4c18ef63-f691-4d59-d7f1-41a32329bc30",
        "colab": {
          "base_uri": "https://localhost:8080/",
          "height": 53
        }
      },
      "source": [
        "from google.colab import drive\n",
        "drive.mount('/content/gdrive')\n",
        "\n",
        "DRIVE_DIR=\"/content/gdrive/My Drive/\"\n",
        "\n",
        "import os \n",
        "MODEL_DIR=os.path.join(DRIVE_DIR, \"Colab Notebooks\", \"NYU\", \"Models\")\n",
        "modelDirExists = True if os.path.isdir(MODEL_DIR) else False\n",
        "\n",
        "if modelDirExists:\n",
        "  print(\"Saving checkpoints to \", MODEL_DIR)"
      ],
      "execution_count": 3,
      "outputs": [
        {
          "output_type": "stream",
          "text": [
            "Drive already mounted at /content/gdrive; to attempt to forcibly remount, call drive.mount(\"/content/gdrive\", force_remount=True).\n",
            "Saving checkpoints to  /content/gdrive/My Drive/Colab Notebooks/NYU/Models\n"
          ],
          "name": "stdout"
        }
      ]
    },
    {
      "cell_type": "markdown",
      "metadata": {
        "id": "q6pLOKSng1zy",
        "colab_type": "text"
      },
      "source": [
        "# Standard imports"
      ]
    },
    {
      "cell_type": "code",
      "metadata": {
        "id": "1Vb7M8JELpAP",
        "colab_type": "code",
        "outputId": "66316f31-58bc-457f-a154-c8ca89933c33",
        "colab": {
          "base_uri": "https://localhost:8080/",
          "height": 64
        }
      },
      "source": [
        "import tensorflow as tf\n",
        "\n",
        "from __future__ import print_function\n",
        "from tensorflow.keras.callbacks import ModelCheckpoint, LambdaCallback\n",
        "\n",
        "from tensorflow.keras.models import Sequential\n",
        "from tensorflow.keras.layers import Dense\n",
        "from tensorflow.keras.layers import LSTM\n",
        "from tensorflow.keras.optimizers import RMSprop\n",
        "from tensorflow.keras.utils import get_file\n",
        "import numpy as np\n",
        "import random\n",
        "import sys\n",
        "import io\n",
        "\n",
        "from tensorflow.keras.utils import plot_model\n",
        "import IPython\n",
        "\n"
      ],
      "execution_count": 4,
      "outputs": [
        {
          "output_type": "display_data",
          "data": {
            "text/html": [
              "<p style=\"color: red;\">\n",
              "The default version of TensorFlow in Colab will soon switch to TensorFlow 2.x.<br>\n",
              "We recommend you <a href=\"https://www.tensorflow.org/guide/migrate\" target=\"_blank\">upgrade</a> now \n",
              "or ensure your notebook will continue to use TensorFlow 1.x via the <code>%tensorflow_version 1.x</code> magic:\n",
              "<a href=\"https://colab.research.google.com/notebooks/tensorflow_version.ipynb\" target=\"_blank\">more info</a>.</p>\n"
            ],
            "text/plain": [
              "<IPython.core.display.HTML object>"
            ]
          },
          "metadata": {
            "tags": []
          }
        }
      ]
    },
    {
      "cell_type": "markdown",
      "metadata": {
        "id": "rOI2b8gvg9yN",
        "colab_type": "text"
      },
      "source": [
        "# Get the text file\n",
        "- create maps to map between characters and their integer encodings\n",
        "  - from character to integer\n",
        "  - from integer to character"
      ]
    },
    {
      "cell_type": "code",
      "metadata": {
        "id": "vNRoCXtug8oX",
        "colab_type": "code",
        "colab": {
          "base_uri": "https://localhost:8080/",
          "height": 89
        },
        "outputId": "488aed00-f82f-4b67-94ba-986c8a1783cb"
      },
      "source": [
        "path = get_file(\n",
        "    'nietzsche.txt',\n",
        "    origin='https://s3.amazonaws.com/text-datasets/nietzsche.txt')\n",
        "with io.open(path, encoding='utf-8') as f:\n",
        "    text = f.read().lower()\n",
        "print('corpus length:', len(text))\n",
        "\n",
        "chars = sorted(list(set(text)))\n",
        "print('total chars:', len(chars))\n",
        "char_indices = dict((c, i) for i, c in enumerate(chars))\n",
        "indices_char = dict((i, c) for i, c in enumerate(chars))\n"
      ],
      "execution_count": 5,
      "outputs": [
        {
          "output_type": "stream",
          "text": [
            "Downloading data from https://s3.amazonaws.com/text-datasets/nietzsche.txt\n",
            "606208/600901 [==============================] - 1s 2us/step\n",
            "corpus length: 600893\n",
            "total chars: 57\n"
          ],
          "name": "stdout"
        }
      ]
    },
    {
      "cell_type": "markdown",
      "metadata": {
        "id": "JXrmtsAthNMx",
        "colab_type": "text"
      },
      "source": [
        "# Prepare the training data: creating example sequences/targets\n",
        "- example i: maxlen consecuitve characters\n",
        "  - text[i:i+ maxlen] training example: $x^{(i)}$\n",
        "  - text[maxlen] target: $y^{(i)}$\n"
      ]
    },
    {
      "cell_type": "code",
      "metadata": {
        "id": "GZdPuW6EgCRS",
        "colab_type": "code",
        "outputId": "87a5d9f1-3220-4762-a000-0e057a08489c",
        "colab": {
          "base_uri": "https://localhost:8080/",
          "height": 35
        }
      },
      "source": [
        "# cut the text in semi-redundant sequences of maxlen characters\n",
        "maxlen = 40\n",
        "step = 3\n",
        "sentences = []\n",
        "next_chars = []\n",
        "for i in range(0, len(text) - maxlen, step):\n",
        "    sentences.append(text[i: i + maxlen])\n",
        "    next_chars.append(text[i + maxlen])\n",
        "print('nb sequences:', len(sentences))\n",
        "\n"
      ],
      "execution_count": 6,
      "outputs": [
        {
          "output_type": "stream",
          "text": [
            "nb sequences: 200285\n"
          ],
          "name": "stdout"
        }
      ]
    },
    {
      "cell_type": "markdown",
      "metadata": {
        "id": "6O5sy7RWiJGj",
        "colab_type": "text"
      },
      "source": [
        "# One Hot Encode the characters \n",
        "- in $x^{(i)},  y^{(i)}$"
      ]
    },
    {
      "cell_type": "code",
      "metadata": {
        "id": "kzkczyaeh8k5",
        "colab_type": "code",
        "colab": {
          "base_uri": "https://localhost:8080/",
          "height": 35
        },
        "outputId": "8873f1a1-af92-4f98-d065-b4f5ea17ded0"
      },
      "source": [
        "print('Vectorization...')\n",
        "x = np.zeros((len(sentences), maxlen, len(chars)), dtype=np.bool)\n",
        "y = np.zeros((len(sentences), len(chars)), dtype=np.bool)\n",
        "for i, sentence in enumerate(sentences):\n",
        "    for t, char in enumerate(sentence):\n",
        "        x[i, t, char_indices[char]] = 1\n",
        "    y[i, char_indices[next_chars[i]]] = 1\n",
        "\n",
        "\n"
      ],
      "execution_count": 7,
      "outputs": [
        {
          "output_type": "stream",
          "text": [
            "Vectorization...\n"
          ],
          "name": "stdout"
        }
      ]
    },
    {
      "cell_type": "markdown",
      "metadata": {
        "id": "co02Jvz6lQe0",
        "colab_type": "text"
      },
      "source": [
        "# Examine the input shape\n",
        "- $x^{(i)}_{(t),j}$ is found at  $x[ i, t, j ]$\n",
        "\n",
        "  - example i\n",
        "  - time step/sequence element t\n",
        "  - a sequence element is a vector, index at position j\n",
        "    - length of OHE (number of distinct characters)"
      ]
    },
    {
      "cell_type": "code",
      "metadata": {
        "id": "8yxV52HOlS_e",
        "colab_type": "code",
        "colab": {
          "base_uri": "https://localhost:8080/",
          "height": 89
        },
        "outputId": "cc0aaa22-a035-4bb9-bd42-5171c3ceecc0"
      },
      "source": [
        "print(\"X shape: \", x.shape)\n",
        "print(\"\\tNumber of examples: \", x.shape[0])\n",
        "print(\"\\tEach example is sequence of length \", x.shape[1])\n",
        "print(\"\\tEach element of the sequence is of length \", x.shape[2])"
      ],
      "execution_count": 8,
      "outputs": [
        {
          "output_type": "stream",
          "text": [
            "X shape:  (200285, 40, 57)\n",
            "\tNumber of examples:  200285\n",
            "\tEach example is sequence of length  40\n",
            "\tEach element of the sequence is of length  57\n"
          ],
          "name": "stdout"
        }
      ]
    },
    {
      "cell_type": "markdown",
      "metadata": {
        "id": "Ao6DVrY1iV5v",
        "colab_type": "text"
      },
      "source": [
        "# Utility routines\n",
        "\n",
        "The sample routine\n",
        "- takes the probability vector (one probability per potential next character)\n",
        "- uses it to randomly sample the next character to produce\n",
        "- `temperature`\n",
        "  - our model produces a probability from a score, using the softmax, as usual for Classifiers that we have studied\n",
        "  - softmax exagerates small differences in the score into larger differences in probability\n",
        "  - the `temperature` controls the degree of exageration\n",
        "- the routine recalculates the probability, using the desired temperature before sampling\n",
        "\n"
      ]
    },
    {
      "cell_type": "code",
      "metadata": {
        "id": "t0OzYFF8iYWJ",
        "colab_type": "code",
        "colab": {}
      },
      "source": [
        "def createModel():\n",
        "  model = Sequential()\n",
        "  model.add(LSTM(128, input_shape=(maxlen, len(chars))))\n",
        "  model.add(Dense(len(chars), activation='softmax'))\n",
        "\n",
        "  return model\n",
        "\n",
        "def plotModel(model, modelName):\n",
        "  plotFile = modelName + \".png\"\n",
        "  plot_model(model, plotFile, show_shapes=True)\n",
        "\n",
        "  return plotFile\n",
        "  \n",
        "def sample(preds, temperature=1.0):\n",
        "    # helper function to sample an index from a probability array\n",
        "    preds = np.asarray(preds).astype('float64')\n",
        "    preds = np.log(preds) / temperature\n",
        "    exp_preds = np.exp(preds)\n",
        "    preds = exp_preds / np.sum(exp_preds)\n",
        "    probas = np.random.multinomial(1, preds, 1)\n",
        "    return np.argmax(probas)\n",
        "\n",
        "\n",
        "def on_epoch_end(epoch, _):\n",
        "    # Function invoked at end of each epoch. Prints generated text.\n",
        "    print()\n",
        "    print('----- Generating text after Epoch: %d' % epoch)\n",
        "\n",
        "    start_index = random.randint(0, len(text) - maxlen - 1)\n",
        "    for diversity in [0.2, 0.5, 1.0, 1.2]:\n",
        "        print('----- diversity:', diversity)\n",
        "\n",
        "        generated = ''\n",
        "        sentence = text[start_index: start_index + maxlen]\n",
        "        generated += sentence\n",
        "        print('----- Generating with seed: \"' + sentence + '\"')\n",
        "        sys.stdout.write(generated)\n",
        "\n",
        "        for i in range(400):\n",
        "            x_pred = np.zeros((1, maxlen, len(chars)))\n",
        "            for t, char in enumerate(sentence):\n",
        "                x_pred[0, t, char_indices[char]] = 1.\n",
        "\n",
        "            preds = model.predict(x_pred, verbose=0)[0]\n",
        "            next_index = sample(preds, diversity)\n",
        "            next_char = indices_char[next_index]\n",
        "\n",
        "            sentence = sentence[1:] + next_char\n",
        "\n",
        "            sys.stdout.write(next_char)\n",
        "            sys.stdout.flush()\n",
        "        print()\n",
        "\n"
      ],
      "execution_count": 0,
      "outputs": []
    },
    {
      "cell_type": "code",
      "metadata": {
        "id": "LdA-rpuZgFJf",
        "colab_type": "code",
        "outputId": "b7033306-eca2-4907-fb85-f3be53b4528e",
        "colab": {
          "base_uri": "https://localhost:8080/",
          "height": 404
        }
      },
      "source": [
        "# build the model: a single LSTM\n",
        "print('Build model...')\n",
        "model = createModel()\n",
        "\n",
        "optimizer = RMSprop(lr=0.01)\n",
        "model.compile(loss='categorical_crossentropy') #, optimizer=optimizer)\n",
        "\n",
        "plotFile = plotModel(model, \"first_model\")\n",
        "IPython.display.Image(plotFile) \n",
        "\n"
      ],
      "execution_count": 10,
      "outputs": [
        {
          "output_type": "stream",
          "text": [
            "Build model...\n",
            "WARNING:tensorflow:From /usr/local/lib/python3.6/dist-packages/tensorflow_core/python/ops/resource_variable_ops.py:1630: calling BaseResourceVariable.__init__ (from tensorflow.python.ops.resource_variable_ops) with constraint is deprecated and will be removed in a future version.\n",
            "Instructions for updating:\n",
            "If using Keras pass *_constraint arguments to layers.\n"
          ],
          "name": "stdout"
        },
        {
          "output_type": "execute_result",
          "data": {
            "image/png": "[encoded data removed]",
            "text/plain": [
              "<IPython.core.display.Image object>"
            ]
          },
          "metadata": {
            "tags": []
          },
          "execution_count": 10
        }
      ]
    },
    {
      "cell_type": "markdown",
      "metadata": {
        "id": "HVmgE2nijpXc",
        "colab_type": "text"
      },
      "source": [
        "# Resume training from existing weights ?"
      ]
    },
    {
      "cell_type": "code",
      "metadata": {
        "id": "SQgyqPmoi_47",
        "colab_type": "code",
        "colab": {}
      },
      "source": [
        "modelFile = os.path.join(MODEL_DIR, \"lstm_text_gen-loss_1.2006.h5\") # None\n",
        "\n",
        "if modelFile is not None and os.path.exists(modelFile):\n",
        "  model.load_weights(modelFile)"
      ],
      "execution_count": 0,
      "outputs": []
    },
    {
      "cell_type": "code",
      "metadata": {
        "id": "jTjuOEXzi1ly",
        "colab_type": "code",
        "colab": {}
      },
      "source": [
        "print_callback = LambdaCallback(on_epoch_end=on_epoch_end)\n",
        "\n",
        "ckpt_filepath=os.path.join(MODEL_DIR, \"lstm_text_gen-loss_{loss:.4f}.h5\")\n",
        "checkpoint_callback = ModelCheckpoint(ckpt_filepath, monitor='loss', verbose=1, save_best_only=True, mode='min')\n",
        "\n"
      ],
      "execution_count": 0,
      "outputs": []
    },
    {
      "cell_type": "markdown",
      "metadata": {
        "id": "k2zfOK40jusN",
        "colab_type": "text"
      },
      "source": [
        "# Train"
      ]
    },
    {
      "cell_type": "code",
      "metadata": {
        "id": "0dqk9QXrgKCf",
        "colab_type": "code",
        "outputId": "5d9dbb24-70b3-4c1e-f867-7bb28b6d8cc5",
        "colab": {
          "base_uri": "https://localhost:8080/",
          "height": 1000
        }
      },
      "source": [
        "callbacks = [print_callback]\n",
        "if modelDirExists:\n",
        "  callbacks.append(checkpoint_callback)\n",
        "\n",
        "model.fit(x, y,\n",
        "          batch_size=128,\n",
        "          epochs=60,\n",
        "          callbacks=callbacks)"
      ],
      "execution_count": 0,
      "outputs": [
        {
          "output_type": "stream",
          "text": [
            "WARNING:tensorflow:From /usr/local/lib/python3.6/dist-packages/tensorflow_core/python/ops/math_grad.py:1424: where (from tensorflow.python.ops.array_ops) is deprecated and will be removed in a future version.\n",
            "Instructions for updating:\n",
            "Use tf.where in 2.0, which has the same broadcast rule as np.where\n",
            "Train on 200285 samples\n",
            "Epoch 1/60\n",
            "200192/200285 [============================>.] - ETA: 0s - loss: 1.1967\n",
            "----- Generating text after Epoch: 0\n",
            "----- diversity: 0.2\n",
            "----- Generating with seed: \"liar to her. alas, he who knows the hear\"\n",
            "liar to her. alas, he who knows the heart and the subject of the subject of the subject, and in the same dangerous and in the same and have still with any some destinction of the soul of the subject of all any of the soul of the subject of all the soul of the subjects and the subject of really it is a compelse of the state it is also the sort of the spectach sense of the serious and of the stands, the subject of self-destruction of the \n",
            "----- diversity: 0.5\n",
            "----- Generating with seed: \"liar to her. alas, he who knows the hear\"\n",
            "liar to her. alas, he who knows the heart of the most religion.\n",
            "\n",
            "\n",
            "1-the same man would not the worstical something the truths and the demands and in the provation and all the laws could any most development of the interpreted of the fact there is also to be rankind the still wished these value and believed that he seep themselves with it. believe in the last owes has been more of the world, and nowarays and the world in the present stil\n",
            "----- diversity: 1.0\n",
            "----- Generating with seed: \"liar to her. alas, he who knows the hear\"\n",
            "liar to her. alas, he who knows the hearture great doed. there ard \"nature. alave himself superstity of the wan, and the fluttions in the person any helpy, as the that it distontieitomede, the significal every man would not be the great sthing a good conscience to mans of most deagurate conditation with germans, which with their hased to a stitcon;\n",
            "it\n",
            "misula, it\n",
            "is his didliants of which something.\" and and poysing and sensaumery is alo\n",
            "----- diversity: 1.2\n",
            "----- Generating with seed: \"liar to her. alas, he who knows the hear\"\n",
            "liar to her. alas, he who knows the heartail as as .\n",
            "\n",
            "impelfess and inmedness bonged tommenx an except well-dofigifis? perfacture, has mayined make contidnint; hell not be dynkined he down\n",
            "fulldres? you memal ansiment, and they\n",
            "light and a woald -to hupen to creaty\n",
            "and feeling of \n",
            "\n",
            "strivers of fact that it was the othellens of everymanning for the leare charitarly as represertity and distusuably-still,\n",
            "? e thore thus comely: with musis-\n",
            "\n",
            "Epoch 00001: loss improved from inf to 1.19669, saving model to /content/gdrive/My Drive/Colab Notebooks/NYU/Models/lstm_text_gen-loss_1.1967.h5\n",
            "200285/200285 [==============================] - 138s 690us/sample - loss: 1.1967\n",
            "Epoch 2/60\n",
            "200192/200285 [============================>.] - ETA: 0s - loss: 1.1895\n",
            "----- Generating text after Epoch: 1\n",
            "----- diversity: 0.2\n",
            "----- Generating with seed: \"too wintry,\n",
            "has too little fire in him: \"\n",
            "too wintry,\n",
            "has too little fire in him: to him all the delight of the subtlerest the standing to the procisply to the considerated and astitude--or experiences and consequences to a system is not also the believed that he has alto fave the latter or an instinction of the subtlere to a still un eriously, the subtleranous and art of the contradiction of the highest mander of the strength of the more interpreted in the subjection which hav\n",
            "----- diversity: 0.5\n",
            "----- Generating with seed: \"too wintry,\n",
            "has too little fire in him: \"\n",
            "too wintry,\n",
            "has too little fire in him: truthfully of the morality is always out of the instinct of the about of the fact that the greater of the world, and the contempty is to say, that it is not be the fighterear and almost as a play, as the present-day in every or all the spectatoless; and the tempt to the processing that is the interpreted to him hence the most interpretation, and even in the most according to the state itself and w\n",
            "----- diversity: 1.0\n",
            "----- Generating with seed: \"too wintry,\n",
            "has too little fire in him: \"\n",
            "too wintry,\n",
            "has too little fire in him: to the queste: which has finard\n",
            "than from some places his concertion itself of insight, but resul aring his powerful man as a world-book\n",
            "merely oryands fores--their fact that perhaps everything that he will aid, arcusions and funder-planture, itself,\n",
            "gure and--if he vant of the greatly, more uncondunt of love in .\n",
            "\n",
            "for internativeness--to word betrayed in\n",
            "primordicied to beirest, are dortations in\n",
            "----- diversity: 1.2\n",
            "----- Generating with seed: \"too wintry,\n",
            "has too little fire in him: \"\n",
            "too wintry,\n",
            "has too little fire in him: philosophicical swectic--nowable, the odous,--it is not beend, misunderstrived to do-sofusl. there is no pastice leastes it; arding.tice be\n",
            "we lay\n",
            "counses one free, as herefoles; this sepro9s\" in\n",
            "quite sense from\n",
            "agation of itself, unwerker himself supirs \"that the bradumita. as their pognation of to peapt, as whereot there iswarsic, these lacely and excepsion\n",
            "previnging\n",
            "man\n",
            "in a man\n",
            "in to the\n",
            "des\n",
            "\n",
            "Epoch 00002: loss improved from 1.19669 to 1.18941, saving model to /content/gdrive/My Drive/Colab Notebooks/NYU/Models/lstm_text_gen-loss_1.1894.h5\n",
            "200285/200285 [==============================] - 138s 690us/sample - loss: 1.1894\n",
            "Epoch 3/60\n",
            " 41344/200285 [=====>........................] - ETA: 1:24 - loss: 1.1594"
          ],
          "name": "stdout"
        }
      ]
    }
  ]
}