{
 "cells": [
  {
   "cell_type": "code",
   "execution_count": 1,
   "metadata": {
    "slideshow": {
     "slide_type": "notes"
    }
   },
   "outputs": [
    {
     "data": {
      "text/latex": [
       "$$\n",
       "\\newcommand{\\x}{\\mathbf{x}}\n",
       "\\newcommand{\\y}{\\mathbf{y}}\n",
       "\\newcommand{\\b}{\\mathbf{b}}\n",
       "\\newcommand{\\c}{\\mathbf{c}}\n",
       "\\newcommand{\\e}{\\mathbf{e}}\n",
       "\\newcommand{\\z}{\\mathbf{z}}\n",
       "\\newcommand{\\h}{\\mathbf{h}}\n",
       "\\newcommand{\\w}{\\mathbf{w}}\n",
       "\\newcommand{\\W}{\\mathbf{W}}\n",
       "\\newcommand{\\X}{\\mathbf{X}}\n",
       "\\newcommand{\\KL}{\\mathbf{KL}}\n",
       "\\newcommand{\\E}{{\\mathbb{E}}}\n",
       "\\newcommand{\\ip}{\\mathbf{{(i)}}}\n",
       "% \\ll indexes a layer; we can change the actual letter\n",
       "\\newcommand{\\ll}{l}\n",
       "\\newcommand{\\llp}{(\\ll)}\n",
       "%\n",
       "\\newcommand{\\tp}{\\mathbf{{(t)}}}\n",
       "\\newcommand{\\loss}{\\mathcal{L}}\n",
       "\\newcommand{\\cost}{\\mathcal{L}}\n",
       "%\n",
       "% Functions with arguments\n",
       "\\def\\xsy#1#2{#1^#2}\n",
       "\\def\\rand#1{\\tilde{#1}}\n",
       "\\def\\randx{\\rand{\\x}}\n",
       "\\def\\randy{\\rand{\\y}}\n",
       "%\n",
       "\\def\\argmax#1{\\underset{#1} {\\operatorname{argmax}} }\n",
       "\\def\\argmin#1{\\underset{#1} {\\operatorname{argmin}} }\n",
       "\\def\\max#1{\\underset{#1} {\\operatorname{max}} }\n",
       "\\def\\min#1{\\underset{#1} {\\operatorname{min}} }\n",
       "%\n",
       "\\def\\pr#1{\\mathcal{p}(#1)}\n",
       "\\def\\cnt#1{\\mathcal{count}_{#1}}\n",
       "\\def\\node#1{\\mathbb{#1}}\n",
       "$$\n"
      ],
      "text/plain": [
       "<IPython.core.display.Latex object>"
      ]
     },
     "metadata": {},
     "output_type": "display_data"
    },
    {
     "name": "stdout",
     "output_type": "stream",
     "text": [
      "Macro `_latex_std_` created. To execute, type its name (without quotes).\n",
      "=== Macro contents: ===\n",
      "get_ipython().run_line_magic('run', 'Latex_macros.ipynb')\n",
      " "
     ]
    }
   ],
   "source": [
    "%run Latex_macros.ipynb"
   ]
  },
  {
   "cell_type": "code",
   "execution_count": 2,
   "metadata": {
    "slideshow": {
     "slide_type": "notes"
    }
   },
   "outputs": [],
   "source": [
    "# My standard magic !  You will see this in almost all my notebooks.\n",
    "\n",
    "from IPython.core.interactiveshell import InteractiveShell\n",
    "InteractiveShell.ast_node_interactivity = \"all\"\n",
    "\n",
    "# Reload all modules imported with %aimport\n",
    "%load_ext autoreload\n",
    "%autoreload 1\n",
    "\n",
    "%matplotlib inline\n",
    "\n",
    "import numpy as np\n",
    "import pandas as pd\n",
    "import matplotlib.pyplot as plt\n",
    "\n",
    "import os\n",
    "MOVIE_DIR=\"./images\"\n",
    "\n",
    "CREATE_MOVIE = False # True if you have ffmpeg installed\n",
    "\n",
    "import training_models_helper\n",
    "%aimport training_models_helper\n",
    "\n",
    "tmh = training_models_helper.TrainingModelsHelper()\n",
    "\n",
    "gdh = training_models_helper.GradientDescentHelper()\n",
    "\n",
    "import mnist_helper\n",
    "%aimport mnist_helper\n",
    "\n",
    "mnh = mnist_helper.MNIST_Helper()\n",
    "\n",
    "import class_helper\n",
    "%aimport class_helper\n",
    "\n",
    "clh= class_helper.Classification_Helper()"
   ]
  },
  {
   "cell_type": "markdown",
   "metadata": {
    "slideshow": {
     "slide_type": "slide"
    }
   },
   "source": [
    "# Gradient Descent\n",
    "\n",
    "As we have seen before, Machine Learning is an optimization problem:\n",
    "- minimize Cost/Loss\n",
    "- maximize Utility\n",
    "\n",
    "Most of the models we have seen thus far have relatively simple Cost functions that are amenable to\n",
    "closed form solutions."
   ]
  },
  {
   "cell_type": "markdown",
   "metadata": {
    "slideshow": {
     "slide_type": "subslide"
    }
   },
   "source": [
    "But the art of Machine Learning is in crafting Cost functions that express the goals of the problem.\n",
    "\n",
    "So we can no longer count on closed form solutions for the optimization.\n",
    "\n",
    "Gradient Descent is a way of finding the parameters (e.g, $\\Theta$) that minimize\n",
    "a given cost Function, ie., solving optimization problems.\n",
    "\n",
    "The advantage of Gradient Descent is its ability to handle complex Cost Functions.\n",
    "\n",
    "Gradient Descent\n",
    "- minimizes convex functions\n",
    "- is a type of search algorithm\n",
    "- is a critical tool for Deep Learning\n",
    "    - most cost functions won't be amenable to closed form solutions\n"
   ]
  },
  {
   "cell_type": "markdown",
   "metadata": {
    "slideshow": {
     "slide_type": "slide"
    }
   },
   "source": [
    "\n",
    "## Cost/Loss, Utility/Optimization: review\n",
    "\n",
    "- The prediction $\\hat{\\y}^{(i)}$ for example $\\x^\\ip$ is perfect if it matches the true label $\\y^\\ip$\n",
    "\n",
    "$$ \\hat{\\y}^\\ip = \\y^\\ip$$\n",
    "\n",
    "- The distance between $\\hat{\\y}^{(i)}, \\y^\\ip$  is called the *Loss* (or *Cost*) for example $i$:\n",
    "\n",
    "$$\n",
    "\\loss^\\ip_\\Theta =  L( \\hat{\\y}^\\ip , \\y) \n",
    "$$\n",
    "\n",
    "where $L(a,b)$ is a function that is $0$ when $a = b$ and increasing as $a$ increasingly differs from $b$.\n",
    "\n",
    "Two versions $L$ that we've seen are Mean Squared Error (for Regression) and Cross Entropy Loss (for classification).\n",
    "\n",
    "\n"
   ]
  },
  {
   "cell_type": "markdown",
   "metadata": {
    "slideshow": {
     "slide_type": "subslide"
    }
   },
   "source": [
    "The Loss for the entire training set is simply the average (across examples) of the Loss for the example\n",
    "\n",
    "$$\n",
    "\\loss_\\Theta  = { 1\\over{m} } \\sum_{i=1}^m \\loss^\\ip_\\Theta\n",
    "$$"
   ]
  },
  {
   "cell_type": "markdown",
   "metadata": {
    "slideshow": {
     "slide_type": "subslide"
    }
   },
   "source": [
    "Whereas Loss describes how \"bad\" our prediction is, we sometimes refer to the converse -- how \"good\" the prediction is.\n",
    "\n",
    "We call the \"goodness\" of the prediction  the *Utility* $U_\\Theta$.\n",
    "\n",
    "So we could state the optimization objective either as\n",
    "\"minimize Cost\" or \"maximize Utility\".\n",
    "\n",
    "By convention, the DL optimization problem is usually framed as one of minimization (of cost or loss) \n",
    "rather than maximization of utility."
   ]
  },
  {
   "cell_type": "markdown",
   "metadata": {},
   "source": [
    "\n",
    "- The goal of fitting/training is to solve for the $\\Theta$ that minimizes the training set loss \n",
    "$L_\\Theta$ (or conversely, maximizes the Utility $U_\\Theta$.\n",
    "\n",
    "- The method for finding $\\Theta$ is called optimization.\n",
    "\n",
    "- There is one optimization method that we will study in depth: Gradient Descent.\n",
    "\n",
    "- We can use this in Classical ML but it will become a key tool once we move on to Deep Learning.\n",
    "\n",
    "- One focus of this lecture will be variations on Gradient Descent."
   ]
  },
  {
   "cell_type": "markdown",
   "metadata": {
    "slideshow": {
     "slide_type": "slide"
    }
   },
   "source": [
    "## Gradients\n",
    "\n",
    "Gradient Descent is a method for optimizing the Optimization Objective.\n",
    "\n",
    "It works for any model but we will illustrate it with Linear Regression.\n",
    "\n",
    "For Regression with MSE as the loss, $L(a,b) = (a-b)^2$,so the loss for example $i$ is:\n",
    "$$\n",
    "\\loss^\\ip_\\Theta = (\\text{error}^\\ip)^2\n",
    "$$\n",
    "\n",
    "where\n",
    "\n",
    "$$\n",
    "\\text{error}^\\ip = \\hat{\\y}^\\ip - \\y^\\ip\n",
    "$$\n",
    "\n",
    "The average cost\n",
    "\n",
    "$$\n",
    "\\begin{array}{lll}\n",
    "\\loss_\\Theta = \\text{MSE}(\\X, \\Theta) = {1 \\over m} \\sum_{i=1}^m { (\\text{error}^{(i)} )^2}\n",
    "\\end{array}\n",
    "$$\n",
    "\n",
    "where $\\X$ is the entire training set."
   ]
  },
  {
   "cell_type": "markdown",
   "metadata": {
    "slideshow": {
     "slide_type": "subslide"
    }
   },
   "source": [
    "There may be added elements (e.g., regularization constraints) of the objective as well (discussed later). \n",
    "\n",
    "A function of $\\Theta$, $\\loss_\\Theta$, can be minimized by taking its derivative \n",
    "with respect to $\\Theta$ and setting it equal to $0$.\n",
    "\n",
    "This is an equation that can be solved for $\\Theta$.\n",
    "\n",
    "Because $\\Theta$ is a vector, there is one derivative per feature.\n",
    "Hence the vector of derivatives (called the **gradient**) is\n",
    "\n",
    "$\n",
    "\\nabla_\\Theta \\loss_\\Theta =\n",
    "\\begin{pmatrix}\n",
    " \\frac{\\partial}{\\partial \\Theta_0} \\loss_\\Theta \\\\\n",
    " \\frac{\\partial}{\\partial \\Theta_1} \\loss_\\Theta\\\\\n",
    " \\vdots \\\\\n",
    " \\frac{\\partial}{\\partial \\Theta_n} \\loss_\\Theta\n",
    "\\end{pmatrix}\n",
    "$"
   ]
  },
  {
   "cell_type": "markdown",
   "metadata": {
    "slideshow": {
     "slide_type": "subslide"
    }
   },
   "source": [
    "For $\\loss_\\Theta = \\text{MSE}(\\X, \\Theta)$\n",
    "$$\n",
    "\\nabla_\\Theta \\loss_\\Theta =\n",
    "\\begin{pmatrix}\n",
    " \\frac{\\partial}{\\partial \\Theta_0} \\text{MSE}(X, \\boldsymbol{\\theta}) \\\\\n",
    " \\frac{\\partial}{\\partial \\Theta_1} \\text{MSE}(X, \\boldsymbol{\\theta}) \\\\\n",
    " \\vdots \\\\\n",
    " \\frac{\\partial}{\\partial \\Theta_n} \\text{MSE}(X, \\boldsymbol{\\theta})\n",
    "\\end{pmatrix}\n",
    "$$"
   ]
  },
  {
   "cell_type": "markdown",
   "metadata": {
    "slideshow": {
     "slide_type": "subslide"
    }
   },
   "source": [
    "$\n",
    "\\begin{array}{lll}\n",
    "{ { \\partial  }\\over { \\partial{ \\theta_j} } } { \\text{MSE}(X, \\Theta) }& = & {1 \\over m} \\sum_{i=1}^m { \\partial \\over { \\partial \\theta_j } } { ( \\text{error}^{(i)})^2 }\\\\\n",
    "& = & {1 \\over m} \\sum_{i=1}^m { 2 \\times \\text{error}^{(i)} \\times { \\partial \\over { \\theta_j} }} {\\text{error}^{(i)} }\\\\\n",
    "& = & {2 \\over m} \\sum_{i=1}^m { \\text{error}^{(i)} \\times { \\partial \\over { \\theta_j} }} { \\hat{\\y^\\ip } } &\\text{ since } \\text{error}^\\ip = \\hat{\\y}^\\ip - \\y^\\ip, \\y^\\ip \\text{ is constant}\\\\\n",
    "&= &  {2 \\over m} \\sum_{i=1}^m { \\text{error}^{(i)} \\times { \\x^\\ip_j} } & \\text{ since } \\hat{y}^\\ip = \\Theta^T \\cdot \\x = \\sum_{k=1}^n { \\Theta_k \\x^\\ip_k}  \\\\ & & &\\text{ and } \\Theta_j \\x^\\ip_j \\text{ is only term involving } \\Theta_j \\\\\n",
    "\\end{array}\n",
    "$"
   ]
  },
  {
   "cell_type": "markdown",
   "metadata": {
    "slideshow": {
     "slide_type": "subslide"
    }
   },
   "source": [
    "Thus the gradient for Linear Regression can be written in matrix form as\n",
    "\n",
    "$\n",
    "\\nabla_{\\boldsymbol{\\theta}}\\, \\text{MSE}(X, \\boldsymbol{\\theta}) =\n",
    " = \\dfrac{2}{m} \\X^T ( \\theta^T \\X - \\mathbf{y})\n",
    "$\n",
    "\n",
    "This will be particularly useful when working with NumPy as the gradient calculation is a vector operation that is implemented so as to be fast."
   ]
  },
  {
   "cell_type": "markdown",
   "metadata": {
    "slideshow": {
     "slide_type": "slide"
    }
   },
   "source": [
    "## Batch Gradient Descent\n",
    "\n",
    "The basic algorithm is:\n",
    "1. Initialize $\\Theta$ randomly\n",
    "1. Repeat until done\n",
    "    1. Compute the Gradient\n",
    "    1. Update $\\Theta$ by taking a step in the (negative) direction of the Gradient"
   ]
  },
  {
   "cell_type": "markdown",
   "metadata": {
    "slideshow": {
     "slide_type": "slide"
    }
   },
   "source": [
    "**Intuition**\n",
    "\n",
    "- Our objective is to minimize the Average Loss $\\loss_\\Theta$\n",
    "- The gradient, with respect to $\\Theta_j$, is the increase in $\\loss_\\Theta$ for a unit change in $\\Theta_j$\n",
    "    - we multiply by -1 to *decrease* the loss\n",
    "- So by taking a step (size to be determined) in the negative direction of the gradient we decrease $\\loss_\\Theta$"
   ]
  },
  {
   "cell_type": "markdown",
   "metadata": {
    "slideshow": {
     "slide_type": "subslide"
    }
   },
   "source": [
    "Let's illustrate Batch Gradient Descent on an example.\n",
    "\n",
    "First, we use sklearn's `LinearRegression` as a baseline against which we will compare the $\\Theta$ obtained from\n",
    "Gradient Descent."
   ]
  },
  {
   "cell_type": "code",
   "execution_count": 3,
   "metadata": {
    "slideshow": {
     "slide_type": "subslide"
    }
   },
   "outputs": [
    {
     "data": {
      "image/png": "[encoded data removed]",
      "text/plain": [
       "<Figure size 432x288 with 1 Axes>"
      ]
     },
     "metadata": {
      "needs_background": "light"
     },
     "output_type": "display_data"
    }
   ],
   "source": [
    "X_lr, y_lr = gdh.gen_lr_data()\n",
    "clf_lr = gdh.fit_lr(X_lr,y_lr)\n",
    "fig, ax = gdh.plot_lr(X_lr, y_lr, clf_lr)\n",
    "\n",
    "theta_lr = (clf_lr.intercept_, clf_lr.coef_)"
   ]
  },
  {
   "cell_type": "markdown",
   "metadata": {
    "slideshow": {
     "slide_type": "subslide"
    }
   },
   "source": [
    "Now let's perform Batch Gradient Descent and compare the $\\Theta$'s"
   ]
  },
  {
   "cell_type": "code",
   "execution_count": 4,
   "metadata": {
    "slideshow": {
     "slide_type": "subslide"
    }
   },
   "outputs": [
    {
     "data": {
      "text/plain": [
       "array([[ 7.99360578e-15],\n",
       "       [-7.99360578e-15]])"
      ]
     },
     "execution_count": 4,
     "metadata": {},
     "output_type": "execute_result"
    }
   ],
   "source": [
    "gd_theta = gdh.batchGradientDescent_lr(X_lr, y_lr)\n",
    "theta_lr - gd_theta"
   ]
  },
  {
   "cell_type": "markdown",
   "metadata": {
    "slideshow": {
     "slide_type": "subslide"
    }
   },
   "source": [
    "The $\\Theta$'s are equal up to 15 decimal points."
   ]
  },
  {
   "cell_type": "markdown",
   "metadata": {
    "slideshow": {
     "slide_type": "subslide"
    }
   },
   "source": [
    "Let's look at the code for Batch Gradient Descent and examine the details"
   ]
  },
  {
   "cell_type": "raw",
   "metadata": {
    "slideshow": {
     "slide_type": "subslide"
    }
   },
   "source": [
    "alpha = 0.1\n",
    "n_iterations = 1000\n",
    "m = 100\n",
    "theta = np.random.randn(2,1)\n",
    "\n",
    "for iteration in range(n_iterations):\n",
    "    gradients = 2/m * X_b.T.dot(X_b.dot(theta) - y)\n",
    "    theta = theta - alpha * gradients\n"
   ]
  },
  {
   "cell_type": "markdown",
   "metadata": {
    "slideshow": {
     "slide_type": "subslide"
    }
   },
   "source": [
    "- You can see the code that implements the steps described in English\n",
    "    - `alpha` is the step size: how fast we adjust $\\Theta$ in the direction of the gradient\n",
    "    - `X_b` is the matrix\n",
    "        - whose first column is $1$\n",
    "        - whose other columns are the non-intercept features\n",
    "    - `X_b.dot(theta)` are the predicted values for all observations\n",
    "    - `X_b.dot(theta) - y` are the errors for all observations"
   ]
  },
  {
   "cell_type": "markdown",
   "metadata": {
    "slideshow": {
     "slide_type": "subslide"
    }
   },
   "source": [
    "**Intuition**\n",
    "\n",
    "- Why is the proportional to `gradients`?\n",
    "    - When the gradient is large, we are far from the minimum $\\loss_\\Theta$: take a big step\n",
    "    - When the gradient is small, we are close to the minimum $\\loss_\\Theta$: take a small step\n",
    "- Why $\\alpha < 1$ ?\n",
    "    - If we take too big a step, we may overshoot the minimum, as we will see"
   ]
  },
  {
   "cell_type": "markdown",
   "metadata": {
    "slideshow": {
     "slide_type": "subslide"
    }
   },
   "source": [
    "Since the $\\Theta$'s computed by Gradient Descent and Linear Regression are the same, it's no surprise that the predictions are too.\n",
    "- as demonstrated in the following code"
   ]
  },
  {
   "cell_type": "code",
   "execution_count": 5,
   "metadata": {
    "slideshow": {
     "slide_type": "subslide"
    }
   },
   "outputs": [
    {
     "data": {
      "text/plain": [
       "array([[ True],\n",
       "       [ True]])"
      ]
     },
     "execution_count": 5,
     "metadata": {},
     "output_type": "execute_result"
    }
   ],
   "source": [
    "X_new = np.array([[0], [2]])\n",
    "gd_y_pred = gdh.predict(X_new, theta_lr)\n",
    "clf_y_pred = clf_lr.predict(X_new)\n",
    "\n",
    "gd_y_pred == clf_y_pred"
   ]
  },
  {
   "cell_type": "markdown",
   "metadata": {
    "slideshow": {
     "slide_type": "slide"
    }
   },
   "source": [
    "### Batch gradient descent: the movie\n",
    "\n",
    "We can hopefully gain intuition by watching Gradient Descent at work.\n",
    "- you will see the effect of each update of $\\Theta$\n",
    "- you will see the effect of changing $\\eta$, which scales the step size\n"
   ]
  },
  {
   "cell_type": "code",
   "execution_count": 6,
   "metadata": {
    "slideshow": {
     "slide_type": "subslide"
    }
   },
   "outputs": [],
   "source": [
    "%%capture\n",
    "movie_file = os.path.join(MOVIE_DIR,'batch_gradient_descent_eta_10.mp4')\n",
    "\n",
    "if CREATE_MOVIE:\n",
    "    gd_anim = gdh.create_movie(X_lr, y_lr, n_iterations=10)\n",
    "    gd_anim.save(movie_file, codec='h264')\n",
    "\n",
    "\n",
    "if CREATE_MOVIE:\n",
    "    gdh.show_movie(gd_anim)\n",
    "else:\n",
    "    print(\"To view movie:\\n Use link in following cell, or use browser to visit file {f}\".format(f=movie_file))"
   ]
  },
  {
   "cell_type": "markdown",
   "metadata": {
    "slideshow": {
     "slide_type": "subslide"
    }
   },
   "source": [
    "[Movie](images/batch_gradient_descent_eta_10.mp4)"
   ]
  },
  {
   "cell_type": "markdown",
   "metadata": {
    "slideshow": {
     "slide_type": "slide"
    }
   },
   "source": [
    "### Initializing $\\Theta$\n",
    "What would have happened if, instead of initializing $\\Theta$ to random numbers \n",
    "- we had initialized it to $0$ ?\n",
    "- we had initialized it to a very large number"
   ]
  },
  {
   "cell_type": "markdown",
   "metadata": {
    "slideshow": {
     "slide_type": "slide"
    }
   },
   "source": [
    "### Step size\n",
    "\n",
    "What's a good choice for `alpha` ?  We had used 0.1 and obtained convergence in around 10 steps.\n",
    "\n",
    "Le'ts try a smaller step size: `alpha` = 0.2"
   ]
  },
  {
   "cell_type": "code",
   "execution_count": 7,
   "metadata": {
    "slideshow": {
     "slide_type": "subslide"
    }
   },
   "outputs": [],
   "source": [
    "%%capture\n",
    "movie_file = os.path.join(MOVIE_DIR,'batch_gradient_descent_eta_02.mp4')\n",
    "\n",
    "if CREATE_MOVIE:\n",
    "    gd_anim_eta_02 = gdh.create_movie(X_lr, y_lr, alpha=0.02, n_iterations=30)\n",
    "    gd_anim_eta_02.save(movie_file, codec='h264')\n",
    "\n",
    "\n",
    "if CREATE_MOVIE:\n",
    "    gdh.show_movie(gd_anim_eta_02)\n",
    "else:\n",
    "    print(\"To view movie:\\n Use link in following cell, or use browser to visit file {f}\".format(f=movie_file))"
   ]
  },
  {
   "cell_type": "markdown",
   "metadata": {
    "slideshow": {
     "slide_type": "subslide"
    }
   },
   "source": [
    "[Movie](images/batch_gradient_descent_eta_02.mp4)"
   ]
  },
  {
   "cell_type": "markdown",
   "metadata": {
    "slideshow": {
     "slide_type": "slide"
    }
   },
   "source": [
    "Like watching paint dry !\n",
    "\n",
    "How about something bigger ?"
   ]
  },
  {
   "cell_type": "code",
   "execution_count": 8,
   "metadata": {
    "slideshow": {
     "slide_type": "subslide"
    }
   },
   "outputs": [],
   "source": [
    "%%capture\n",
    "movie_file = os.path.join(MOVIE_DIR,'batch_gradient_descent_eta_45.mp4')\n",
    "if CREATE_MOVIE:\n",
    "    gd_anim_eta_45 = gdh.create_movie(X_lr, y_lr, alpha=0.45, n_iterations=20)\n",
    "    gd_anim_eta_45.save(movie_file, codec='h264')\n",
    "\n",
    "\n",
    "if CREATE_MOVIE:\n",
    "    gdh.show_movie(gd_anim_eta_45)\n",
    "else:\n",
    "    print(\"To view movie:\\n Use link in following cell, or use browser to visit file {f}\".format(f=movie_file))"
   ]
  },
  {
   "cell_type": "markdown",
   "metadata": {
    "slideshow": {
     "slide_type": "subslide"
    }
   },
   "source": [
    "[Movie](images/batch_gradient_descent_eta_45.mp4)"
   ]
  },
  {
   "cell_type": "markdown",
   "metadata": {
    "slideshow": {
     "slide_type": "subslide"
    }
   },
   "source": [
    "And even bigger"
   ]
  },
  {
   "cell_type": "code",
   "execution_count": 9,
   "metadata": {
    "slideshow": {
     "slide_type": "subslide"
    }
   },
   "outputs": [],
   "source": [
    "%%capture\n",
    "movie_file = os.path.join(MOVIE_DIR,'batch_gradient_descent_eta_50.mp4')\n",
    "\n",
    "if CREATE_MOVIE:\n",
    "    gd_anim_eta_50 = gdh.create_movie(X_lr, y_lr, alpha=0.50, n_iterations=20)\n",
    "    gd_anim_eta_50.save(movie_file, codec='h264')\n",
    "\n",
    "\n",
    "if CREATE_MOVIE:\n",
    "    gdh.show_movie(gd_anim_eta_50)\n",
    "else:\n",
    "    print(\"To view movie:\\n Use link in following cell, or use browser to visit file {f}\".format(f=movie_file))"
   ]
  },
  {
   "cell_type": "markdown",
   "metadata": {
    "slideshow": {
     "slide_type": "subslide"
    }
   },
   "source": [
    "[Movie](images/batch_gradient_descent_eta_50.mp4)"
   ]
  },
  {
   "cell_type": "markdown",
   "metadata": {
    "slideshow": {
     "slide_type": "subslide"
    }
   },
   "source": [
    "Lost in space !\n",
    "- the vertical intercept magnitude increases until it is off the screen"
   ]
  },
  {
   "cell_type": "markdown",
   "metadata": {
    "slideshow": {
     "slide_type": "slide"
    }
   },
   "source": [
    "### Learning rate schedule\n",
    "\n",
    "We see from the above that if the step size is too small, it takes long to converge.\n",
    "\n",
    "But if the step size is too big, we may overshoot.\n",
    "\n",
    "An adaptive learning rate schedule may be the solution:\n",
    "- take big steps at first\n",
    "- take smaller steps toward end"
   ]
  },
  {
   "cell_type": "code",
   "execution_count": 10,
   "metadata": {
    "slideshow": {
     "slide_type": "subslide"
    }
   },
   "outputs": [
    {
     "data": {
      "image/png": "[encoded data removed]",
      "text/plain": [
       "<Figure size 432x288 with 1 Axes>"
      ]
     },
     "metadata": {
      "needs_background": "light"
     },
     "output_type": "display_data"
    }
   ],
   "source": [
    "t0, t1 = 5, 50  # learning schedule hyperparameters\n",
    "\n",
    "def learning_schedule(t):\n",
    "    return t0 / (t + t1)\n",
    "\n",
    "t = np.linspace(0, 10, 10)\n",
    "\n",
    "fig = plt.figure()\n",
    "ax  = fig.add_subplot(1,1,1)\n",
    "_ =ax.plot(t, learning_schedule(t))\n",
    "_ = ax.set_xlabel(\"time\")\n",
    "_ = ax.set_ylabel(\"eta\")"
   ]
  },
  {
   "cell_type": "markdown",
   "metadata": {
    "slideshow": {
     "slide_type": "slide"
    }
   },
   "source": [
    "### When to stop\n",
    "\n",
    "Can we do better than running for a fixed number of iterations ?\n",
    "Yes:\n",
    "- Let $\\text{Cost}_{t}$ be the Cpst Function at step $t$\n",
    "- Stop if\n",
    "    - $\\text{Cost}_{t-1} - \\text{Cost}_{t} < \\epsilon $\n",
    "    - That is: stop if improvement of Cost Function is not big enough"
   ]
  },
  {
   "cell_type": "markdown",
   "metadata": {
    "slideshow": {
     "slide_type": "slide"
    }
   },
   "source": [
    "## A word on derivatives\n",
    "\n",
    "Preview of part 2 of the course:\n",
    "- the derivatives we used were *analytic* and not numerical approximations\n",
    "- how can we automate calculation of analytic derivatives ?"
   ]
  },
  {
   "cell_type": "markdown",
   "metadata": {
    "slideshow": {
     "slide_type": "slide"
    }
   },
   "source": [
    "## Other cost functions\n",
    "\n",
    "- Ridge Regression Cost Function\n",
    "    - MSE, with a penalty large $\\Theta$\n",
    "        - it's easy to compute the derivative of this cost function\n",
    "        - try Minibatch Gradient Descent on this Cost Functions"
   ]
  },
  {
   "cell_type": "markdown",
   "metadata": {
    "slideshow": {
     "slide_type": "subslide"
    }
   },
   "source": [
    "### Gradient Boosing\n",
    "\n",
    "In the Decision Tree lecture we described Gradient Boosting (using Decision Tree Regression as an example).\n",
    "\n",
    "Herei\n",
    "- We built a *sequence* of Trees $T_{(0)}, T_{(1)}, \\ldots$\n",
    "- The relevance to us is that this resulted in a sequence of predictions $\\hat{\\y}_{(0)}, \\y_{(1)}, \\ldots$\n",
    "- We updated $\\hat{\\y}$ via\n",
    " $$\\hat{\\y}_\\tp = \\hat{\\y}_{(t-1)} + \\alpha *\\hat{\\e}_\\tp$$\n",
    "     - where $\\e_\\tp = \\y - \\hat{\\y}_{(t-1)}$\n",
    "   "
   ]
  },
  {
   "cell_type": "markdown",
   "metadata": {
    "slideshow": {
     "slide_type": "subslide"
    }
   },
   "source": [
    "For an MSE loss function\n",
    "$$\n",
    "\\loss^\\ip = ( \\hat{\\y}_{(t-1)} - \\y )^2\n",
    "$$\n",
    "\n",
    "the derivative with respect to $\\hat{\\y}_{(t-1)}$ is\n",
    "$$\n",
    "\\begin{array}[lll]\\\\\n",
    "\\frac{\\partial \\loss^\\ip }{\\partial \\hat{\\y}_{(t-1)}}  & = &  2 * (  \\hat{\\y}_{(t-1)} - \\y) & \\text{ by chain rule}\\\\\n",
    "& = & -2 * \\e_\\tp \\\\\n",
    "\\end{array}\n",
    "$$"
   ]
  },
  {
   "cell_type": "markdown",
   "metadata": {
    "slideshow": {
     "slide_type": "subslide"
    }
   },
   "source": [
    "So the update rule for Gradient Boosting is the same as for Gradient Descent !\n",
    "\n",
    "Thus Gradient Boosting, which was originally described informally \n",
    "- is the minimization an MSE loss function by Gradient Descent.\n",
    " - n.b., we often describe a loss function as 0.5 time that described above\n",
    "     - in to cancel out the $2$ from the derivative of the sqaured error"
   ]
  },
  {
   "cell_type": "markdown",
   "metadata": {
    "slideshow": {
     "slide_type": "slide"
    }
   },
   "source": [
    "# Improvements to Gradient Descent\n",
    "\n",
    "[Simon Ruder survey](https://arxiv.org/abs/1609.04747)\n",
    "\n",
    "[Gradient Descent Cheatsheet](https://towardsdatascience.com/10-gradient-descent-optimisation-algorithms-86989510b5e9)\n",
    "\n",
    "The update step\n",
    "$$\n",
    "\\Theta = \\Theta - \\alpha * \\frac{\\partial \\loss_\\Theta }{\\partial \\Theta}\n",
    "$$\n",
    "\n",
    "\n",
    "where $\\alpha$ is the learning rate.\n",
    "\n",
    "The improvements to Gradient Descent modify\n",
    "- $\\alpha$, the learning rate\n",
    "- $\\frac{\\partial \\loss_\\Theta }{\\partial \\Theta}$ the gradient"
   ]
  },
  {
   "cell_type": "markdown",
   "metadata": {
    "slideshow": {
     "slide_type": "subslide"
    }
   },
   "source": [
    "In order to be able to flexibly change the definiton of both the gradient and the learning rate\n",
    "at each time step $t$,\n",
    "e will re-write the update step at time $t$ as\n",
    "\n",
    "$$\n",
    "\\Theta_\\tp = \\Theta_{(t-1)} -  \\alpha' * V_\\tp\n",
    "$$\n",
    "\n",
    "$V_\\tp$ will be our modified gradient and $\\alpha'$ our modified learning rate."
   ]
  },
  {
   "cell_type": "markdown",
   "metadata": {
    "slideshow": {
     "slide_type": "slide"
    }
   },
   "source": [
    "## Momentum: modify the gradient\n",
    "\n",
    "In vanilla Gradient Descent, the gradients at time $t-1$ and time $t$ are completely independent.\n",
    "\n",
    "This has the potential for gradients to rapidly change direction (recall, they are a vector).\n",
    "\n",
    "To smooth out jumps we could compute a modified gradient $V_\\tp$ as:\n",
    "$$\n",
    "V_\\tp = \\beta_V * V_{(t-1)} + (1 - \\beta_V) * \\frac{\\partial \\loss_\\Theta }{\\partial \\Theta}\n",
    "$$\n",
    "\n",
    "(Initialize $V_0 = 0$)\n",
    "\n",
    "That is, the modified gradient is a weighted combination of the previous gradient and the new gradient.\n",
    "\n",
    "Typically $\\beta_V \\approx 0.9$ so the old gradient dominates.\n",
    "\n",
    "$V_\\tp$ is the exponentially weighted moving average of the gradient.\n",
    "\n",
    "Hence, there is \"momentum\" in the gradients in that they can't jump suddenly."
   ]
  },
  {
   "cell_type": "markdown",
   "metadata": {
    "slideshow": {
     "slide_type": "slide"
    }
   },
   "source": [
    "## RMSprop: Modify the learning rate\n",
    "\n",
    "Let\n",
    "$$\n",
    "S_\\tp = \\beta_S * S_{(t-1)} + (1 -\\beta_S) * \\left( \\frac{\\partial \\loss_\\Theta }{\\partial \\Theta} \\right)^2\n",
    "$$\n",
    "\n",
    "That is, $S_\\tp$ is the exponentially weighted *variance* of the gradient.\n",
    "\n",
    "(Initialize $S_0 = 0$)\n",
    "\n",
    "Rather than using a learning rate of $\\alpha$, the RMSprop algorithm uses\n",
    "$$\n",
    "\\alpha' = \\frac{1}{\\sqrt{S_\\tp + \\epsilon}} * \\alpha\n",
    "$$\n",
    "\n",
    "The intuition is that if the gradient with respect to $\\Theta_j$ is noisy (i.e., large variance)\n",
    "we want to damp updates in that component.\n",
    "\n",
    "This also has the advantage that a rarely updated element $\\Theta_i$, having a low variance,\n",
    "will have a relatively larger update when it is encountered than a more frequently encountered feature.\n",
    "\n",
    "Typically $\\beta_S \\approx 0.9$ so the old variance dominates.\n",
    "\n",
    "Why the extra $\\epsilon$ ?  We've seen this before (e.g., $\\log(x + \\epsilon)$):\n",
    "it's to avoid mathematical issues of certain functions (inverse, log) when the argument is $0$."
   ]
  },
  {
   "cell_type": "markdown",
   "metadata": {
    "slideshow": {
     "slide_type": "slide"
    }
   },
   "source": [
    "## AdaM: Modify both the gradient and the learning rate\n",
    "\n",
    "The AdaAM (Adaptive Moment) algorithm modifies both the gradient and learning rates via\n",
    "exponentially moving averages of the gradient as well as its variance.\n",
    "\n",
    "$$\n",
    "\\begin{array}[lll] \\\\\n",
    "V_\\tp = \\beta_V * V_{(t-1)} + (1 - \\beta_V) \\frac{\\partial \\loss_\\Theta }{\\partial \\Theta} \\\\\n",
    "S_\\tp = \\beta_S * S_{(t-1)} + (1 -\\beta_S) * \\left( \\frac{\\partial \\loss }{\\partial \\Theta} \\right)^2 \\\\\n",
    "\\alpha' = \\frac{1}{\\sqrt{S_\\tp + \\epsilon}} * \\alpha\n",
    "\\end{array}\n",
    "$$"
   ]
  },
  {
   "cell_type": "markdown",
   "metadata": {
    "slideshow": {
     "slide_type": "subslide"
    }
   },
   "source": [
    "### Bias correction\n",
    "\n",
    "You will have observed that we initialized to $0$ the moving averages for gradients ($V_0 = 0$) and\n",
    "the variance of the gradients ($S_0 = 0$).\n",
    "\n",
    "So the values are \"biased\" towards 0 with the bias having greatest effect for small $t$ (i.e., when the number\n",
    "of \"actual\" values is small).\n",
    "\n",
    "We can correct for the bias by dividing by $(1 - \\beta^t)$:\n",
    "\n",
    "$$\n",
    "\\begin{array}[lll] \\\\\n",
    "\\hat{V} & = & \\frac{V_\\tp}{1 - \\beta_V^t} \\\\\n",
    "\\hat{S} & = & \\frac{S_\\tp}{1 - \\beta_S^t} \\\\\n",
    "\\end{array}\n",
    "$$"
   ]
  },
  {
   "cell_type": "code",
   "execution_count": 11,
   "metadata": {
    "slideshow": {
     "slide_type": "slide"
    }
   },
   "outputs": [
    {
     "name": "stdout",
     "output_type": "stream",
     "text": [
      "Done\n"
     ]
    }
   ],
   "source": [
    "print(\"Done\")"
   ]
  }
 ],
 "metadata": {
  "celltoolbar": "Slideshow",
  "kernelspec": {
   "display_name": "Python 3",
   "language": "python",
   "name": "python3"
  },
  "language_info": {
   "codemirror_mode": {
    "name": "ipython",
    "version": 3
   },
   "file_extension": ".py",
   "mimetype": "text/x-python",
   "name": "python",
   "nbconvert_exporter": "python",
   "pygments_lexer": "ipython3",
   "version": "3.7.1"
  },
  "toc": {
   "base_numbering": 1,
   "nav_menu": {},
   "number_sections": true,
   "sideBar": true,
   "skip_h1_title": false,
   "title_cell": "Table of Contents",
   "title_sidebar": "Contents",
   "toc_cell": false,
   "toc_position": {},
   "toc_section_display": true,
   "toc_window_display": true
  }
 },
 "nbformat": 4,
 "nbformat_minor": 2
}
