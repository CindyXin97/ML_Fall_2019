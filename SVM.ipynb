{
 "cells": [
  {
   "cell_type": "code",
   "execution_count": 1,
   "metadata": {
    "slideshow": {
     "slide_type": "notes"
    }
   },
   "outputs": [
    {
     "data": {
      "text/latex": [
       "$$\n",
       "\\newcommand{\\x}{\\mathbf{x}}\n",
       "\\newcommand{\\y}{\\mathbf{y}}\n",
       "\\newcommand{\\b}{\\mathbf{b}}\n",
       "\\newcommand{\\c}{\\mathbf{c}}\n",
       "\\newcommand{\\e}{\\mathbf{e}}\n",
       "\\newcommand{\\z}{\\mathbf{z}}\n",
       "\\newcommand{\\h}{\\mathbf{h}}\n",
       "\\newcommand{\\w}{\\mathbf{w}}\n",
       "\\newcommand{\\W}{\\mathbf{W}}\n",
       "\\newcommand{\\X}{\\mathbf{X}}\n",
       "\\newcommand{\\KL}{\\mathbf{KL}}\n",
       "\\newcommand{\\E}{{\\mathbb{E}}}\n",
       "\\newcommand{\\ip}{\\mathbf{{(i)}}}\n",
       "% \\ll indexes a layer; we can change the actual letter\n",
       "\\newcommand{\\ll}{l}\n",
       "\\newcommand{\\llp}{(\\ll)}\n",
       "%\n",
       "\\newcommand{\\tp}{\\mathbf{{(t)}}}\n",
       "\\newcommand{\\loss}{\\mathcal{L}}\n",
       "\\newcommand{\\cost}{\\mathcal{L}}\n",
       "%\n",
       "% Functions with arguments\n",
       "\\def\\xsy#1#2{#1^#2}\n",
       "\\def\\rand#1{\\tilde{#1}}\n",
       "\\def\\randx{\\rand{\\x}}\n",
       "\\def\\randy{\\rand{\\y}}\n",
       "%\n",
       "\\def\\argmax#1{\\underset{#1} {\\operatorname{argmax}} }\n",
       "\\def\\argmin#1{\\underset{#1} {\\operatorname{argmin}} }\n",
       "\\def\\max#1{\\underset{#1} {\\operatorname{max}} }\n",
       "\\def\\min#1{\\underset{#1} {\\operatorname{min}} }\n",
       "%\n",
       "\\def\\pr#1{\\mathcal{p}(#1)}\n",
       "\\def\\cnt#1{\\mathcal{count}_{#1}}\n",
       "\\def\\node#1{\\mathbb{#1}}\n",
       "$$\n"
      ],
      "text/plain": [
       "<IPython.core.display.Latex object>"
      ]
     },
     "metadata": {},
     "output_type": "display_data"
    },
    {
     "name": "stdout",
     "output_type": "stream",
     "text": [
      "Macro `_latex_std_` created. To execute, type its name (without quotes).\n",
      "=== Macro contents: ===\n",
      "get_ipython().run_line_magic('run', 'Latex_macros.ipynb')\n",
      " "
     ]
    }
   ],
   "source": [
    "%run Latex_macros.ipynb"
   ]
  },
  {
   "cell_type": "markdown",
   "metadata": {
    "slideshow": {
     "slide_type": "notes"
    }
   },
   "source": [
    "$\n",
    "\\newcommand{\\margin}{{\\mathbb{m}}}\n",
    "\\newcommand{\\lmk}{\\boldsymbol{\\ell}}\n",
    "$"
   ]
  },
  {
   "cell_type": "code",
   "execution_count": 2,
   "metadata": {
    "slideshow": {
     "slide_type": "notes"
    }
   },
   "outputs": [],
   "source": [
    "# My standard magic !  You will see this in almost all my notebooks.\n",
    "\n",
    "from IPython.core.interactiveshell import InteractiveShell\n",
    "InteractiveShell.ast_node_interactivity = \"all\"\n",
    "\n",
    "# Reload all modules imported with %aimport\n",
    "%load_ext autoreload\n",
    "%autoreload 1\n",
    "\n",
    "%matplotlib inline"
   ]
  },
  {
   "cell_type": "code",
   "execution_count": 3,
   "metadata": {
    "slideshow": {
     "slide_type": "notes"
    }
   },
   "outputs": [],
   "source": [
    "# Standard imports\n",
    "import pandas as pd\n",
    "import numpy as np\n",
    "import matplotlib.pyplot as plt\n",
    "\n",
    "# Common imports\n",
    "import os\n",
    "\n",
    "import svm_helper\n",
    "%aimport svm_helper\n",
    "svmh = svm_helper.SVM_Helper()\n",
    "\n",
    "%matplotlib inline\n"
   ]
  },
  {
   "cell_type": "markdown",
   "metadata": {
    "slideshow": {
     "slide_type": "slide"
    }
   },
   "source": [
    "# Why Support Vector Machines (SVM)\n",
    "\n",
    "- Another model to solve the Classification task\n",
    "- Model was derived from mathematical principles\n",
    "    - formulated as a constrained optimization problem\n",
    "- Has an interesting Cost function\n",
    "    - two parts\n",
    "\n",
    "Our claim throughout the course is that Cost functions are a key part of Machine Learning.\n",
    "\n",
    "So while our \"destination\" is the SVM we will mainly focus on the \"interesting sights\" on the journey\n",
    "- the Hinge Loss Cost function\n",
    "- Gradient Descent, as a means of solving optimization problems"
   ]
  },
  {
   "cell_type": "markdown",
   "metadata": {
    "slideshow": {
     "slide_type": "slide"
    }
   },
   "source": [
    "# SVM: high level intro and terminology\n",
    "\n",
    "We will start with an intuitive (less mathematical) formulation of the SVM algorithm.\n",
    "\n",
    "Along the way, we introduce terminology to facilitate the discussion.\n",
    "\n",
    "Just as we did for Regression (MSE cost) and Classification (Cross Entropy cost):\n",
    "- we will motivate the SVM Cost as a \"good idea\"\n",
    "  \n",
    "- we will circle back and mathematically justify the SVM Cost\n",
    "  - for MSE and Cross Entropy: derived Cost function on the basis of Maximum Likelihood\n",
    "  - for SVM: will derive it as the objective of an optimization problem\n",
    "          -"
   ]
  },
  {
   "cell_type": "markdown",
   "metadata": {
    "slideshow": {
     "slide_type": "slide"
    }
   },
   "source": [
    "## Linear separation for Classification\n",
    "\n",
    "The basis of many models that we have encountered thus far are linear combinations of features\n",
    "$\\Theta^T \\x$.\n",
    "\n",
    "This linear combination defines a hyperplane that partitions the $n$ dimensional feature space.\n",
    "\n",
    "It turns out that this can be the basis for a binary classifier\n",
    "- points above/below the hyperplane as classified as Positive/Negative (or vice-versa)\n",
    "$$\n",
    "\\begin{array}[lll]\\\\\n",
    "\\Theta^T \\x \\ge    0 & \\text{predict Positive} \\\\\n",
    "\\Theta^T \\x \\lt    0  & \\text{predict Negative} \\\\\n",
    "\\end{array}\n",
    "$$\n",
    "\n",
    "(Logistic Regression starts with a linear combination of features to predict the log odds).\n",
    "\n",
    "**TO DO** Picture"
   ]
  },
  {
   "cell_type": "markdown",
   "metadata": {
    "slideshow": {
     "slide_type": "subslide"
    }
   },
   "source": [
    "If there is a $\\Theta$ that creates a linear separation of our data, we will say that the\n",
    "data is Linearly Separable.\n",
    "\n",
    "What do we do if our data is *not* Linearly Separable ?\n",
    "\n",
    "Transform it !\n",
    "- Just like we added a polynomial feature to make our curvy data linear.\n",
    "- Just like we transformed the target of Logistic Regression fromb probability to log odds"
   ]
  },
  {
   "cell_type": "markdown",
   "metadata": {
    "slideshow": {
     "slide_type": "subslide"
    }
   },
   "source": [
    "In our introduction, we will start by assuming the data has already been made Linearly Separable.\n",
    "\n",
    "We will come back and show a class of transformations that help make this possible"
   ]
  },
  {
   "cell_type": "markdown",
   "metadata": {
    "slideshow": {
     "slide_type": "subslide"
    }
   },
   "source": [
    "**Note**\n",
    "\n",
    "In our derivation the design matrix $\\X$ has been augmented with a column of $1$'s \n",
    "- representing the intercept\n",
    "- so that $\\x^\\ip_0 = 1$.\n",
    "\n",
    "When we do this $\\Theta_0$ becomes the intercept.\n",
    "\n",
    "Geron changes notation from previous chapeters (in the \"Under the Hood\" subsection, page 204)\n",
    "and *specifically* separates the intercept term.\n",
    "\n",
    "Instead he denotes the intercept by $b$ and writes the hyperplane equation as\n",
    "$$\n",
    "\\Theta^T \\x + b\n",
    "$$\n",
    "\n",
    "We will maintain the convention of using $\\Theta_0$ as the intercept (and $\\x^\\ip_0 = 1$)."
   ]
  },
  {
   "cell_type": "markdown",
   "metadata": {
    "slideshow": {
     "slide_type": "subslide"
    }
   },
   "source": [
    "## Margin Classification\n",
    "\n",
    "If the data is Linearly Separable, how do we choose a hyperplane to separate it ?\n",
    "- it is not unique\n",
    "- among the choices, which is best ?\n",
    "\n",
    "\n",
    "**TO DO** Pictures\n",
    "- two different hyper planes\n",
    "- margin\n",
    "    - buffer zone\n",
    "    - same accuracy, different margin"
   ]
  },
  {
   "cell_type": "markdown",
   "metadata": {
    "slideshow": {
     "slide_type": "subslide"
    }
   },
   "source": [
    "Our goal is not just to find a hyperplane (*separating hyperplane*) but\n",
    "- to also find two, parallel hyperplanes (*boundary hyperplanes*)\n",
    "- that are as far apart as possible\n",
    "    - The *margin* is the distance from the separating hyperplane to the boundaries\n",
    "    - The *buffer zone* is the area between the boundaries\n",
    "- in which all Positive and Negative examples are on opposing sides of the boundaries\n",
    "- there are no examples in the buffer zone"
   ]
  },
  {
   "cell_type": "markdown",
   "metadata": {
    "slideshow": {
     "slide_type": "subslide"
    }
   },
   "source": [
    " With a margin of $\\margin$, our predictions become\n",
    "$$\n",
    "\\begin{array}[lll]\\\\\n",
    "\\Theta^T \\x \\ge    \\margin & \\text{predict Positive} \\\\\n",
    "\\Theta^T \\x \\lt   -\\margin & \\text{predict Negative} \\\\\n",
    "\\end{array}\n",
    "$$"
   ]
  },
  {
   "cell_type": "markdown",
   "metadata": {
    "slideshow": {
     "slide_type": "subslide"
    }
   },
   "source": [
    " ### Large Margin Classification\n",
    "The idea behind a wide buffer zone is to improve generalization\n",
    "- we don't want any training example to come \"too close\" to a boundary\n",
    "- if it does, a similar test example may fall on the \"wrong side\" of the boundary\n",
    "\n",
    "This is called *Large Margin Classification*."
   ]
  },
  {
   "cell_type": "markdown",
   "metadata": {
    "slideshow": {
     "slide_type": "subslide"
    }
   },
   "source": [
    "### Hard and Soft Margins\n",
    "\n",
    "There may be datasets that can't be made perfectly Linearly Separable\n",
    "- a handful of \"outlier\" points\n",
    "\n",
    "**TO DO** Picture"
   ]
  },
  {
   "cell_type": "markdown",
   "metadata": {
    "slideshow": {
     "slide_type": "subslide"
    }
   },
   "source": [
    "If we loosen our objectives, we might be able to approximately fit more datasets\n",
    "- allow *margin violations*\n",
    "    - training examples that are either\n",
    "    - on wrong side of the boundary\n",
    "    - are in the buffer zone\n",
    "    \n",
    "*Hard Margin* classification **disallows** margin violations\n",
    "\n",
    "*Soft Margin* classification **allows but penalizes** margin violations (by imposing a Cost)"
   ]
  },
  {
   "cell_type": "markdown",
   "metadata": {
    "slideshow": {
     "slide_type": "subslide"
    }
   },
   "source": [
    "Our derivation of the SVM Cost function is obtained by assuming Hard Margins.\n",
    "\n",
    "Soft Margins can be accomodated by adding a \"slack\" variable to each constraint."
   ]
  },
  {
   "cell_type": "markdown",
   "metadata": {
    "slideshow": {
     "slide_type": "subslide"
    }
   },
   "source": [
    "### Support Vector Classifier (SVC),  Support Vector Machine (SVM)\n",
    "\n",
    "What we have described thus far is a *Support Vector Classifier*.\n",
    "\n",
    "If we add a preliminary set of transformations to induce Linear Separability, the process\n",
    "if called a *Support Vector Machine*\n"
   ]
  },
  {
   "cell_type": "markdown",
   "metadata": {
    "slideshow": {
     "slide_type": "slide"
    }
   },
   "source": [
    "## SVM Cost function\n",
    "\n",
    "Now that we have defined our goals we follow the usual process for Machine Learning\n",
    "- define a Cost/Loss function that mimics our goals\n",
    "    - come back later to mathematically justify this function"
   ]
  },
  {
   "cell_type": "markdown",
   "metadata": {
    "slideshow": {
     "slide_type": "subslide"
    }
   },
   "source": [
    "    \n",
    "The SVM Cost function will be the sum of two parts, each capturing an objective\n",
    "- *Classification Loss*\n",
    "    - a penalty for Margin Violations\n",
    "        - misclassified example\n",
    "        - correctly classified example, but example is in the buffer zone\n",
    "- *Margin Penalty*\n",
    "    - a penalty for small margins\n",
    "\n",
    "By minimizing the SVM Cost we achieve\n",
    "- high accuracy\n",
    "- wide margins"
   ]
  },
  {
   "cell_type": "markdown",
   "metadata": {
    "slideshow": {
     "slide_type": "slide"
    }
   },
   "source": [
    "### Margin Penalty\n",
    "\n",
    "Our prediction function compares $\\Theta^T \\x$ to margin $\\margin$.\n",
    "\n",
    "What would happen if we divided both sides of the inequality by $\\margin$ ?\n",
    "- the inequalities involve a new margin of exactly $1$\n",
    "- $\\Theta$ would be rescaled by a factor of $\\frac{1}{\\margin}$\n",
    "- Our prediction becomes\n",
    "$$\n",
    "\\begin{array}[lll]\\\\\n",
    "\\Theta^T \\x \\ge    1 & \\text{predict Positive} \\\\\n",
    "\\Theta^T \\x \\le   -1 & \\text{predict Negative} \\\\\n",
    "\\end{array}\n",
    "$$"
   ]
  },
  {
   "cell_type": "markdown",
   "metadata": {
    "slideshow": {
     "slide_type": "subslide"
    }
   },
   "source": [
    "Forcing $\\margin = 1$ changes the large margin goal to one\n",
    "of making the elements of $\\Theta$'s small.\n",
    "\n",
    "So our Margin Penalty looks like an L2 Regularization term\n",
    "\n",
    "$$\n",
    "\\frac{1}{2} \\Theta^T \\cdot \\Theta\n",
    "$$"
   ]
  },
  {
   "cell_type": "markdown",
   "metadata": {
    "slideshow": {
     "slide_type": "subslide"
    }
   },
   "source": [
    "The mysterious $\\frac{1}{2}$\n",
    "- doesn't really affect the overall cost in a significant way\n",
    "- will be useful in the mathematical derivations\n",
    "    - Hint: \n",
    "        - $\\frac{\\partial \\Theta^2}{\\partial \\Theta} = 2 \\Theta$\n",
    "        - the $\\frac{1}{2}$ makes the derivative of the Margin Penalty with respect to $\\Theta$  exactly $\\Theta$\n",
    "        - the derivative will be used in the optimization of SVM Cost"
   ]
  },
  {
   "cell_type": "markdown",
   "metadata": {
    "slideshow": {
     "slide_type": "slide"
    }
   },
   "source": [
    "### Classification Loss: Hard Margin\n",
    "\n",
    "Recall the separate prediction functions for Positive and Negative examples.\n",
    "\n",
    "$$\n",
    "\\begin{array}[lll]\\\\\n",
    "\\Theta^T \\x \\ge    1 & \\text{predict Positive} \\\\\n",
    "\\Theta^T \\x \\le   -1 & \\text{predict Negative} \\\\\n",
    "\\end{array}\n",
    "$$"
   ]
  },
  {
   "cell_type": "markdown",
   "metadata": {
    "slideshow": {
     "slide_type": "subslide"
    }
   },
   "source": [
    "We could write our Classification Loss in a manner analagous to the Cross Entropy Loss,\n",
    "with two terms, one each for the Positive and Negative sides.\n",
    "\n",
    "For compactness of writing, let\n",
    "$$\n",
    "s(\\x) = \\Theta^T \\x -1\n",
    "$$\n",
    "\n",
    "Then the Classification Loss is\n",
    "$$\n",
    "\\loss^\\ip = \\left( \\y^\\ip \\max{} (0, - s(\\x^\\ip))  + (1 - \\y^\\ip) \\max{}(0, s(\\x^\\ip)) \\right)\n",
    "$$"
   ]
  },
  {
   "cell_type": "markdown",
   "metadata": {
    "slideshow": {
     "slide_type": "subslide"
    }
   },
   "source": [
    "Let's analyze \n",
    "$$\n",
    "\\loss^\\ip = \\left( \\y^\\ip \\max{} (0, - s(\\x^\\ip))  + (1 - \\y^\\ip) \\max{}(0, s(\\x^\\ip)) \\right)\n",
    "$$\n",
    "in detail\n",
    "\n",
    "- if example $i$ is Positive ($\\y^\\ip = 1$)\n",
    "    - if $\\Theta^T \\x^\\ip \\ge 1$\n",
    "        - there is **no** margin violation caused by $\\x^\\ip$\n",
    "        - then $s(\\x^\\ip) \\ge 0$\n",
    "        - $\\max{} (0, - s(\\x^\\ip)) = 0$ and example $i$ contributes $0$ to Margin Loss\n",
    "        \n",
    "    - if $\\Theta^T \\x^\\ip \\lt 1$ \n",
    "        - there **is** a margin violation caused by $\\x^\\ip$\n",
    "        - then $s(\\x^\\ip) < 0$\n",
    "        - example $i$ contributes a positive amount $\\max{} (0, - s(\\x^\\ip)) > 0$ to margin loss\n",
    "    - there is **no** margin violation caused by $\\x^\\ip$"
   ]
  },
  {
   "cell_type": "markdown",
   "metadata": {
    "slideshow": {
     "slide_type": "subslide"
    }
   },
   "source": [
    "- if example $i$ is Negative $\\y^\\ip = 0$, an analagous argument holds\n",
    "\n",
    "**Aside**\n",
    "\n",
    "Note the similarity in form to Cross Entropy Loss,\n",
    "$$\n",
    "\\loss^\\ip = - \\left( \\y^\\ip \\log(\\hat{p}) + (1-\\y^\\ip) \\log(1-\\hat{p})  \\right)\n",
    "$$"
   ]
  },
  {
   "cell_type": "markdown",
   "metadata": {
    "slideshow": {
     "slide_type": "subslide"
    }
   },
   "source": [
    "In both the Positive and Negative example case, the loss is minimized when the $\\max{}$ is $0$\n",
    "- large positive scores for positive examples\n",
    "- large negative scores for negative examples"
   ]
  },
  {
   "cell_type": "markdown",
   "metadata": {
    "slideshow": {
     "slide_type": "slide"
    }
   },
   "source": [
    "Rather than having the asymmetry in the two halves of our classification loss it is more convenient\n",
    "to have the binary decision be represented by $\\{-1, +1 \\}$ rather than $\\{0,1\\}$.\n",
    "\n",
    "Let $t^\\ip$ be\n",
    "$$t^\\ip =\n",
    "\\begin{cases}\n",
    "+1 \\text{ if } \\y^\\ip = 1 \\\\\n",
    "-1 \\text{ if } \\y^\\ip = 0\n",
    "\\end{cases}\n",
    "$$\n",
    "\n",
    "so that our targets are now in the range $[-1,+1]$ rather than $[0,1]$."
   ]
  },
  {
   "cell_type": "markdown",
   "metadata": {
    "slideshow": {
     "slide_type": "subslide"
    }
   },
   "source": [
    "Doing so makes the product $(t^\\ip * s(\\x^\\ip))$ positive for correct predictions. \n",
    "\n",
    "So\n",
    "the Classification Loss can be rewritten as\n",
    "$$\n",
    "\\loss^\\ip = \\max{}(0, - 1 * t^\\ip * s(\\x^\\ip))\n",
    "$$\n"
   ]
  },
  {
   "cell_type": "markdown",
   "metadata": {
    "slideshow": {
     "slide_type": "subslide"
    }
   },
   "source": [
    "### Cost function\n",
    "\n",
    "We have almost arrived at our final, average (over examples) SVM Cost function.\n",
    "\n",
    "Do we want the two components (Margin Penalty and Classification Loss) to have\n",
    "equal importance ?\n",
    "\n",
    "It is typical to have a contant $C$ that expresses the relative weight of the two terms.\n",
    "\n",
    "The final average SVM Cost function is the sum of the Margin Penalty and Classification Losses,\n",
    "averaged over all $m$ examples\n",
    "\n",
    "$$\n",
    "\\loss = \\frac{1}{2} \\Theta^T \\cdot \\Theta +  C * \\frac{1}{m} * \\sum_{i-1}^m { \\max{}(0, - 1 * t^\\ip * s(\\x^\\ip)) }\n",
    "$$\n"
   ]
  },
  {
   "cell_type": "markdown",
   "metadata": {
    "slideshow": {
     "slide_type": "subslide"
    }
   },
   "source": [
    "### How do we determine $C$: Bias, variance tradeoff\n",
    "\n",
    "What determines $C$ ?\n",
    "\n",
    "If $C$ were infinite, we would tolerate **no** margin violations.\n",
    "This is called a **hard** margin.\n",
    "\n",
    "Hard margins are problematic in that\n",
    "- some training sets may have no solution\n",
    "- it encourages overfitting of training and poor generalization"
   ]
  },
  {
   "cell_type": "markdown",
   "metadata": {
    "slideshow": {
     "slide_type": "subslide"
    }
   },
   "source": [
    "A *soft* margin allows (but penalizes) margin violations, which may lead to better\n",
    "generalization.\n",
    "\n",
    "- if $C$ is high, relatively less importance is made to have elements of $\\Theta$ become $0$\n",
    "    - this can lead to overfitting\n",
    "- if $C$ is low, more elements of $\\Theta$ will be zero\n",
    "    - this can lead to underfitting\n",
    " \n",
    "So the choice of $C$ depends on the tradeoff between generalization and fitting the training set well.\n",
    "\n",
    "In other words: the Bias/Variance Tradeoff we have encountered earlier in the course.\n"
   ]
  },
  {
   "cell_type": "markdown",
   "metadata": {
    "slideshow": {
     "slide_type": "slide"
    }
   },
   "source": [
    "# Optimization preview: minimizing the Cost function\n",
    "\n",
    "There are (at least) two ways to minimize the SVM Cost\n",
    "- using a Quadratic Optimizer (since the first term is quadratic)\n",
    "- using a method known as Gradient Descent\n",
    "\n",
    "We will briefly mention Quadratic Programming in our discussions of\n",
    "- the Kernel Trick\n",
    "- an alternate derivation of SVM via landmark similarity\n",
    "\n",
    "Gradient Descent will be introduced as a separate topic.\n"
   ]
  },
  {
   "cell_type": "markdown",
   "metadata": {
    "slideshow": {
     "slide_type": "slide"
    }
   },
   "source": [
    "# SVM for Regression\n",
    "\n",
    "SVM's can be used not only for Classification but for Regression as well.\n",
    "\n",
    "For Classification, the cost function tries to fit all training examples *outside* the buffer zone.\n",
    "\n",
    "For Regression, the cost function tries to fit all training examples *within* the buffer zone.\n",
    "\n"
   ]
  },
  {
   "cell_type": "markdown",
   "metadata": {
    "slideshow": {
     "slide_type": "subslide"
    }
   },
   "source": [
    "# Hinge Loss\n",
    "\n",
    "Let's explore the Classification Loss more deeply.\n",
    "\n",
    "$$\n",
    "\\loss^\\ip = \\left( \\y^\\ip \\max{} (0, - s(\\x^\\ip))  + (1 - \\y^\\ip) \\max{}(0, s(\\x^\\ip)) \\right)\n",
    "$$\n",
    "\n",
    "You are familiar with the plot of the $\\max{}({0, z})$ \n",
    "- constant zero for negative arguments $z$\n",
    "- linear (and equal to $z$) for positive $z$\n",
    "\n",
    "This resembles a *hinge* so the Classification Loss is refered to as a *Hinge Loss*"
   ]
  },
  {
   "cell_type": "markdown",
   "metadata": {
    "slideshow": {
     "slide_type": "subslide"
    }
   },
   "source": [
    "Lets' compare the plot of the Hinge Loss to the Cross Entropy Loss,\n",
    "which has a similar form.\n",
    "\n",
    "Here are the two sides of the Hinge Loss"
   ]
  },
  {
   "cell_type": "code",
   "execution_count": 4,
   "metadata": {
    "scrolled": true,
    "slideshow": {
     "slide_type": "subslide"
    }
   },
   "outputs": [
    {
     "data": {
      "image/png": "[encoded data removed]",
      "text/plain": [
       "<Figure size 864x324 with 2 Axes>"
      ]
     },
     "metadata": {
      "needs_background": "light"
     },
     "output_type": "display_data"
    }
   ],
   "source": [
    "svmh.plot_hinges()"
   ]
  },
  {
   "cell_type": "markdown",
   "metadata": {
    "slideshow": {
     "slide_type": "subslide"
    }
   },
   "source": [
    "And here are the two sides of the Cross Entropy Loss"
   ]
  },
  {
   "cell_type": "code",
   "execution_count": 5,
   "metadata": {
    "scrolled": true,
    "slideshow": {
     "slide_type": "subslide"
    }
   },
   "outputs": [
    {
     "data": {
      "image/png": "[encoded data removed]",
      "text/plain": [
       "<Figure size 864x324 with 2 Axes>"
      ]
     },
     "metadata": {
      "needs_background": "light"
     },
     "output_type": "display_data"
    }
   ],
   "source": [
    "svmh.plot_log_p()"
   ]
  },
  {
   "cell_type": "markdown",
   "metadata": {
    "slideshow": {
     "slide_type": "subslide"
    }
   },
   "source": [
    "If we move the \"hinge point\" from $0$ to $-1, +1$ the similarity\n",
    "between the SVM Classification Loss and Cross Entropy becomes more apparant"
   ]
  },
  {
   "cell_type": "code",
   "execution_count": 6,
   "metadata": {
    "scrolled": true,
    "slideshow": {
     "slide_type": "subslide"
    }
   },
   "outputs": [
    {
     "data": {
      "image/png": "[encoded data removed]",
      "text/plain": [
       "<Figure size 864x324 with 2 Axes>"
      ]
     },
     "metadata": {
      "needs_background": "light"
     },
     "output_type": "display_data"
    }
   ],
   "source": [
    "svmh.plot_log_p(hinge_pt=True)"
   ]
  },
  {
   "cell_type": "markdown",
   "metadata": {
    "slideshow": {
     "slide_type": "subslide"
    }
   },
   "source": [
    "Close, but different in an important way.\n",
    "\n",
    "Consider the behavior of an optimizer that is minimizing the average (across all examples) loss\n",
    "\n",
    "- Once the Hinge Loss for an example becomes 0 ($\\loss^\\ip = 0)$ \n",
    "    - the optimizer **does not need to reduce the loss further**\n",
    "- In contrast, the Cross Entropy Loss **never** becomes $0$\n",
    "    - so the optimizer continues to try to reduce it"
   ]
  },
  {
   "cell_type": "markdown",
   "metadata": {
    "slideshow": {
     "slide_type": "subslide"
    }
   },
   "source": [
    "For a Classfication task\n",
    "- Cross Entropy Loss continues to try to improve the probability $\\hat{p}^\\ip$ long after $\\hat{p}^\\ip$ has crossed the prediction treshold (e.g., 0.5)\n",
    "    - this might lead to overfitting (high variance)\n",
    "- Hinge Loss will not try to improve prediction once we cross the threshold\n",
    "    - this might lead to a fit that is \"good\" but not \"best\" (high bias)\n",
    "\n",
    "The Hinge Loss (on a Regression task) imposes **no** cost for a training example as long as it is within the margin\n",
    "- Recall: Regression tries to place points *within* the buffer zone, not outside\n",
    "- Once the example is within the margin, there is no cost reduction in making a \"better\" fit.\n",
    "    - fit does not need to be better than \"good enough\"\n"
   ]
  },
  {
   "cell_type": "markdown",
   "metadata": {
    "slideshow": {
     "slide_type": "slide"
    }
   },
   "source": [
    "# Importance of normalization of $\\x$\n",
    "\n",
    "Imagine that the various components of $\\x$ are on vastly different scales\n",
    "- suppose $\\x_1$ is in \"billions of units\" (so $\\x_1$ is small) but $\\x_2$ is in single units (large)\n",
    "\n",
    "Then parameter $\\Theta_1$ (which multiplies $\\x_1$) will likely be much smaller than $\\Theta_2$.\n",
    "\n",
    "The Margin Penalty, which tries to reduce the value of elements of $\\Theta$ will thus\n",
    "be more likely to reduce $\\Theta_2$ than $\\Theta_1$ for no reason other than the disparate scales.\n",
    "\n",
    "As we saw in our lecture on transformations, this is a danger with cost functions that\n",
    "include a penalty for parameters magnitude."
   ]
  },
  {
   "cell_type": "markdown",
   "metadata": {
    "slideshow": {
     "slide_type": "slide"
    }
   },
   "source": [
    "The disparate scales of features in $\\x$ can also affect some transformations.\n",
    "\n",
    "For the Gaussian RBF, the 2-norm will be dominated by the larger dimension, almost to the exclusion of smaller dimensions.\n",
    "\n",
    "Thus, if the chosen $\\phi$ is sensitive to scale (such as the Gaussian RBF) it's important to normalize the training set (across each dimension of features) so that\n",
    "all features (elements of $\\x$) are on similar scale."
   ]
  },
  {
   "cell_type": "markdown",
   "metadata": {
    "slideshow": {
     "slide_type": "slide"
    }
   },
   "source": [
    "# SVM Drawbacks\n",
    "\n",
    "## Complexity\n",
    "The SVM may utilize up to $m$ landmarks from the vectors among the training set.\n",
    "\n",
    "These landmarks are referred to as \"support vectors\".\n",
    "\n",
    "As $m$ may be very large\n",
    "- SVM models may consume a lot of memory (in the test phase, not just when being fit)."
   ]
  },
  {
   "cell_type": "markdown",
   "metadata": {
    "slideshow": {
     "slide_type": "slide"
    }
   },
   "source": [
    "# SVM in `sklearn`\n",
    "\n",
    "`sklearn` has several SVM algorithms (using different optimization techniques) that, mathematically,\n",
    "should yield equivalent results.\n",
    "\n",
    "The difference is that some optimize for time (faster solution) versus space (ability to handle bigger\n",
    "training sets) versus being more general solvers.\n",
    "\n",
    "According to Geron (page 194), the following should be equivalent\n",
    "- `LinearSVC(C=1, loss=\"hinge\")`\n",
    "- `SVC(C=1,kernel=\"linear\")`\n",
    "- `SGDClassifier(loss=\"hinge\", alpha=1/(m*C))`"
   ]
  },
  {
   "cell_type": "markdown",
   "metadata": {
    "slideshow": {
     "slide_type": "slide"
    }
   },
   "source": [
    "# SVM Cost function derived from Constrained Optimization\n",
    "\n",
    "Here is an alternate (and slightly more mathematical) derivation of the SVM Cost function.\n",
    "\n",
    "Recall our dual objectives\n",
    "- maximize margin (width of buffer zone)\n",
    "- with **no** margin violations (no examples in buffer zone)\n",
    "\n",
    "The natural way to express these objectives is as a Constrained Optimization problem\n",
    "- maximize margin\n",
    "- subject to not violating a boundary constraint (all examples on correct side of boundary)"
   ]
  },
  {
   "cell_type": "markdown",
   "metadata": {
    "slideshow": {
     "slide_type": "subslide"
    }
   },
   "source": [
    "We already showed\n",
    " how maximizing the margin was equivalent to minimizing\n",
    "$$\n",
    "\\frac{1}{2} \\Theta^T \\cdot \\Theta\n",
    "$$"
   ]
  },
  {
   "cell_type": "markdown",
   "metadata": {
    "slideshow": {
     "slide_type": "subslide"
    }
   },
   "source": [
    "And we showed how the two boundary equations could be unified into a single equation\n",
    "- replace the Positive/Negative labels  $\\y^\\ip \\in \\{0,1\\}$ to $t^\\ip \\in \\{ -1, +1\\}$\n",
    " - $$t^\\ip =\n",
    "\\begin{cases}\n",
    "+1 \\text{ if } \\y^\\ip = 1 \\\\\n",
    "-1 \\text{ if } \\y^\\ip = 0\n",
    "\\end{cases}\n",
    "$$\n",
    "\n",
    "So the constraints can be written as\n",
    "\n",
    "$$\n",
    "t^\\ip * \\Theta^T \\x^\\ip \\ge 1 \\text{for } i=1,\\ldots,m\n",
    "$$\n"
   ]
  },
  {
   "cell_type": "markdown",
   "metadata": {
    "slideshow": {
     "slide_type": "slide"
    }
   },
   "source": [
    "The Constrained Minimization problem is thus\n",
    "\n",
    "$$\n",
    "\\begin{array}[llll]\\\\\n",
    "\\text{minimize } \\frac{1}{2} \\Theta^T \\Theta \\\\\n",
    "\\text{subject to } t^\\ip * s(\\hat\\x^\\ip) \\ge 1 \\text{for } i=1,\\ldots,m\n",
    "\\end{array}\n",
    "$$"
   ]
  },
  {
   "cell_type": "markdown",
   "metadata": {
    "slideshow": {
     "slide_type": "subslide"
    }
   },
   "source": [
    "## Solving Constrained Optimization: LaGrangian multipliers\n",
    "\n",
    "It is beyond the scope of this course, but one way to solve constrained minimization\n",
    "is to create an objective function $\\loss$ that is the sum of\n",
    "- the function to minimize\n",
    "- $\\lambda$ times each constraint (when it is rewritten in a form where the inequality is with respect to $0$)\n",
    "\n",
    "The $\\lambda$ terms are called *Lagrangian multipliers*.\n",
    "\n",
    "They serve as penalties when a constraint is violated (i.e., is greater than $0$)."
   ]
  },
  {
   "cell_type": "markdown",
   "metadata": {
    "slideshow": {
     "slide_type": "subslide"
    }
   },
   "source": [
    "The (per example) objective function $\\loss$ becomes\n",
    "$$\n",
    " \\frac{1}{2} \\Theta^T \\Theta + \\lambda * ( \\max{}(0, - 1 * t^\\ip * s(\\x^\\ip)))\n",
    "$$\n",
    "\n",
    "which is equal to the SVM Cost function that we constructed in the ad hoc fashion\n",
    "if we let $\\lambda = C$.\n",
    "\n",
    "Recall $C$ expressed the relative weight between the Margin Penalty and Classification Loss.\n"
   ]
  },
  {
   "cell_type": "markdown",
   "metadata": {
    "slideshow": {
     "slide_type": "subslide"
    }
   },
   "source": [
    "# Transformations to induce Linear Separability\n",
    "\n",
    "Sometimes our models can't fit the data because some key feature is missing.\n",
    "\n",
    "This was the case for our \"curvy\" data and Linear model: the polynomial term was missing.\n"
   ]
  },
  {
   "cell_type": "markdown",
   "metadata": {
    "slideshow": {
     "slide_type": "subslide"
    }
   },
   "source": [
    "Transformations to induce linearity are interesting because\n",
    "- they make our data linear in the new dimensions (features)\n",
    "- when mapped back to our original dimensions, they introduce non-linearity, which can be powerful\n",
    "\n",
    "As we will see, non-linear decision boundaries are a key part of Deep Learning.\n",
    "\n",
    "In Classical Machine Learning, these transformations serve a similar role."
   ]
  },
  {
   "cell_type": "markdown",
   "metadata": {
    "slideshow": {
     "slide_type": "subslide"
    }
   },
   "source": [
    "Let's explore a classification problem.  \n",
    "- The colors denote different classes.\n",
    "- We won't name the $\\x_1, \\x_2$ features"
   ]
  },
  {
   "cell_type": "code",
   "execution_count": 7,
   "metadata": {
    "slideshow": {
     "slide_type": "subslide"
    }
   },
   "outputs": [
    {
     "data": {
      "image/png": "[encoded data removed]",
      "text/plain": [
       "<Figure size 432x288 with 1 Axes>"
      ]
     },
     "metadata": {
      "needs_background": "light"
     },
     "output_type": "display_data"
    }
   ],
   "source": [
    "Xc, yc = svmh.make_circles(plot=True)"
   ]
  },
  {
   "cell_type": "markdown",
   "metadata": {
    "slideshow": {
     "slide_type": "subslide"
    }
   },
   "source": [
    "Doesn't appear to be linearly separable.\n",
    "\n",
    "But, as we saw in the Transformation lecture, an RBF transformation does the trick:"
   ]
  },
  {
   "cell_type": "code",
   "execution_count": 8,
   "metadata": {
    "slideshow": {
     "slide_type": "subslide"
    }
   },
   "outputs": [
    {
     "data": {
      "image/png": "[encoded data removed]",
      "text/plain": [
       "<Figure size 432x288 with 1 Axes>"
      ]
     },
     "metadata": {
      "needs_background": "light"
     },
     "output_type": "display_data"
    }
   ],
   "source": [
    "X_w_rbf = svmh.circles_rbf_transform(Xc)\n",
    "_= svmh.plot_3D(X=X_w_rbf, y=yc )"
   ]
  },
  {
   "cell_type": "markdown",
   "metadata": {
    "slideshow": {
     "slide_type": "subslide"
    }
   },
   "source": [
    "Magic ! The new feature separates the two classes.\n",
    "- just like the polynomial feature make the curvy data set linear\n",
    "\n",
    "The particular transformation is called Radial Basis Function (RBF) Transformation.\n",
    "\n",
    "Here's the code that created the new feature \"r\"."
   ]
  },
  {
   "cell_type": "raw",
   "metadata": {
    "slideshow": {
     "slide_type": "subslide"
    }
   },
   "source": [
    "r = np.exp( -(Xc ** 2).sum(1) )"
   ]
  },
  {
   "cell_type": "markdown",
   "metadata": {
    "slideshow": {
     "slide_type": "subslide"
    }
   },
   "source": [
    "Simple.  \n",
    "\n",
    "Basically, the transformation creates a scalar measure (*similarity function*) of the distance between\n",
    "the existing features $\\x^\\ip$ of example $i$ and the features of a reference point.\n",
    "\n",
    "In this case the reference point (\"landmark\") is the origin $(0,0)$ so\n",
    "we don't write it explicitly.\n",
    "\n",
    "In general the distance would be coded as\n",
    " `Xc - x_ref`\n",
    " \n",
    "Examples that are very\n",
    "close to the reference point have high values, and the values fall off sharply as the distance increases.\n"
   ]
  },
  {
   "cell_type": "markdown",
   "metadata": {
    "slideshow": {
     "slide_type": "slide"
    }
   },
   "source": [
    "## Kernels and the Kernel Trick\n",
    "\n",
    "There is a class of particularly useful transformations called *kernel functions*\n",
    "or *similarity functions*.\n",
    "\n",
    "In order to appreciate them we present, without proof, some properties of efficient solvers for\n",
    "the SVM problem."
   ]
  },
  {
   "cell_type": "markdown",
   "metadata": {
    "slideshow": {
     "slide_type": "subslide"
    }
   },
   "source": [
    "A common way to implement SVM algorithms is via\n",
    "a solution to a Quadratic Programming problem.\n",
    "\n",
    "Quadratic Programming problems can be reformulated into a twin problem called \n",
    "its *dual form*.  The dual form for the SVM problem is\n",
    "\n",
    "**Geron Equation 5-6: Dual form of the linear SVM objective**\n",
    "\n",
    "$\n",
    "\\begin{split}\n",
    "\\underset{\\mathbf{\\alpha}}{\\operatorname{minimize}}\n",
    "\\dfrac{1}{2}\\sum\\limits_{i=1}^{m}{\n",
    "  \\sum\\limits_{j=1}^{m}{\n",
    "  \\alpha^{(i)} \\alpha^{(j)} t^{(i)} t^{(j)} {\\mathbf{x}^{(i)}}^T \\mathbf{x}^{(j)}\n",
    "  }\n",
    "} \\quad - \\quad \\sum\\limits_{i=1}^{m}{\\alpha^{(i)}}\\\\\n",
    "\\text{subject to}\\quad \\alpha^{(i)} \\ge 0 \\quad \\text{for }i = 1, 2, \\dots, m\n",
    "\\end{split}\n",
    "$\n",
    "\n",
    "It is beyond the scope of this course to explain the equation.\n",
    "\n",
    "The key thing to observe is the dot product $\\x^\\ip \\cdot \\x^{(i')}$ within the double summation.\n",
    "\n",
    "(Note, we change the superscripts to $i$ and $i'$ and the multiplication of the transpose to the dot product)."
   ]
  },
  {
   "cell_type": "markdown",
   "metadata": {
    "slideshow": {
     "slide_type": "subslide"
    }
   },
   "source": [
    "Consider a transformation $\\phi(\\x)$ that is applied to all examples.\n",
    "\n",
    "Then the above dot product becomes \n",
    "$$\\phi(\\x^\\ip) \\cdot \\phi(\\x^{(i')})$$\n",
    "\n",
    "Note that some transformations may add dimensions \n",
    "- so that $\\x$ goes from $n$ features\n",
    "to $\\phi(\\x)$ with $n' \\gg n$ features."
   ]
  },
  {
   "cell_type": "markdown",
   "metadata": {
    "slideshow": {
     "slide_type": "slide"
    }
   },
   "source": [
    "A function $K$ is called a *kernel function* (sometimes called *similarity function*) if\n",
    "\n",
    "$$\n",
    "K(\\x^\\ip, \\x^{(i')}) = \\phi(\\x^\\ip) \\cdot \\phi(\\x^{(i')})\n",
    "$$\n",
    "\n",
    "That is: it is a function that can be rewritten as a dot product of transformed arguments.\n",
    "\n",
    "In order for a function to be a Kernel Function, it must satisfy Mercer's Theorem."
   ]
  },
  {
   "cell_type": "markdown",
   "metadata": {
    "slideshow": {
     "slide_type": "subslide"
    }
   },
   "source": [
    "To make this concrete: \n",
    "- consider the similarity function $K$ that \n",
    "compares two examples with\n",
    "a second order polynomial transformation\n",
    "$$\n",
    "K(\\x^\\ip, \\x^{(i')}) = (\\x^\\ip \\cdot \\x^{(i')})^2\n",
    "$$\n",
    "\n",
    "Geron equations 5-8 and 5-9 show the transformation $\\phi$ that proves that $K$ is a kernel function\n",
    "for the case where the length of $\\x$ is 2:\n",
    "\n",
    "**Equation 5-8: Second-degree polynomial mapping**\n",
    "\n",
    "$\n",
    "\\phi\\left(\\mathbf{x}\\right) = \\phi\\left( \\begin{pmatrix}\n",
    "  x_1 \\\\\n",
    "  x_2\n",
    "\\end{pmatrix} \\right) = \\begin{pmatrix}\n",
    "  {x_1}^2 \\\\\n",
    "  \\sqrt{2} \\, x_1 x_2 \\\\\n",
    "  {x_2}^2\n",
    "\\end{pmatrix}\n",
    "$"
   ]
  },
  {
   "cell_type": "markdown",
   "metadata": {
    "slideshow": {
     "slide_type": "subslide"
    }
   },
   "source": [
    "**Equation 5-9: Kernel trick for a $2^{nd}$-degree polynomial mapping**\n",
    "\n",
    "$$\n",
    "\\begin{array}[llll]\\\\\n",
    "\\phi(\\mathbf{a})^T \\phi(\\mathbf{b})  & = & \n",
    "\\begin{pmatrix}\n",
    "  {a_1}^2 \\\\\n",
    "  \\sqrt{2} \\, a_1 a_2 \\\\\n",
    "  {a_2}^2\n",
    "  \\end{pmatrix}^T \\begin{pmatrix}\n",
    "  {b_1}^2 \\\\\n",
    "  \\sqrt{2} \\, b_1 b_2 \\\\\n",
    "  {b_2}^2\n",
    "\\end{pmatrix} \\\\\n",
    "& = & {a_1}^2 {b_1}^2 + 2 a_1 b_1 a_2 b_2 + {a_2}^2 {b_2}^2 \\\\\n",
    "&  = & \\left( a_1 b_1 + a_2 b_2 \\right)^2 \\\\\n",
    "&  = & \\left( \\begin{pmatrix}\n",
    "  a_1 \\\\\n",
    "  a_2\n",
    "\\end{pmatrix}^T \\begin{pmatrix}\n",
    "    b_1 \\\\\n",
    "    b_2\n",
    "  \\end{pmatrix} \\right)^2 \\\\\n",
    "& = & (\\mathbf{a}^T \\mathbf{b})^2\n",
    "\\end{array}  \n",
    "$$"
   ]
  },
  {
   "cell_type": "markdown",
   "metadata": {
    "slideshow": {
     "slide_type": "subslide"
    }
   },
   "source": [
    "What this means is\n",
    "- $K(\\x^\\ip, \\x^{(i')})  =  (\\mathbf{a}^T \\mathbf{b})^2$ is a Kernel function for transformation $\\phi$\n",
    "    - because it is equivalent to the dot product of its transformed arguments\n",
    "- it **is not necessary to compute** $\\phi(\\x^\\ip)$ or $\\phi(\\x^{(i')})$\n",
    "- we can simply replace $\\phi(\\x^\\ip) \\cdot \\phi(\\x^{(i')})$ in the dual form\n",
    "    - with shortcut $K(\\x^\\ip, \\x^{(i')}) =  (\\mathbf{a}^T \\mathbf{b})^2$ \n",
    "    \n",
    "Some transformations are expensive (the Radial Basis Transformation is infinite dimensional).\n",
    "\n",
    "So a kernel function achieves the benefit (transforming for linear separability)\n",
    "without the cost.\n"
   ]
  },
  {
   "cell_type": "markdown",
   "metadata": {
    "slideshow": {
     "slide_type": "slide"
    }
   },
   "source": [
    "## Some Kernels/Similarity functions\n",
    "[kernels](http://crsouza.com/2010/03/17/kernel-functions-for-machine-learning-applications/#linear)\n",
    "\n",
    "There are a number of common similarity functions.\n",
    "We investigate just a handful:"
   ]
  },
  {
   "cell_type": "markdown",
   "metadata": {
    "slideshow": {
     "slide_type": "subslide"
    }
   },
   "source": [
    "### Linear\n",
    "\n",
    "The linear similarity\n",
    "\n",
    "$$\n",
    "K(\\x, \\x^{(i')}) = \\x^T \\cdot \\x^{(i')} + c\n",
    "$$\n",
    "\n",
    "$\\phi$ is the identity transformation $\\phi(\\x) = \\x$.\n",
    "\n",
    "The linear kernel results in something very close to plain logistic regression."
   ]
  },
  {
   "cell_type": "markdown",
   "metadata": {
    "slideshow": {
     "slide_type": "subslide"
    }
   },
   "source": [
    "### Gaussian\n",
    "\n",
    "The Gaussian Radial Basis Function (RBF)\n",
    "\n",
    "$$\n",
    "K(\\x, \\x^{(i')}) =  \\exp( - \\frac{1}{2 \\sigma^2} * \\mid\\mid  \\x - \\x^{(i')} \\mid\\mid^2 )\n",
    "$$\n",
    "\n",
    "\n",
    "The form of this function is that of a Gaussian distribution with mean $0$ and standard deviation $\\sigma$.\n",
    "\n",
    "The similarity is maximized when $\\x$ and  $\\x^{(i')}$ are close\n",
    "in Euclidean space (due to the 2-norm $\\mid\\mid \\; \\mid\\mid^2$)\n",
    "\n",
    "When $\\sigma$ is small, there is a sharp drop-off from the maximium at $\\x^{(i')}$ to near-by points.\n",
    "\n",
    "Conversely, when $\\sigma$ is large, the drop-off is much smoother.\n"
   ]
  },
  {
   "cell_type": "markdown",
   "metadata": {
    "slideshow": {
     "slide_type": "slide"
    }
   },
   "source": [
    "## When to use kernels\n",
    "\n",
    "The choice of the complexity of a kernel depends on the relationship\n",
    "between $m$, the number of training examples, and $n$, the number of features.\n",
    "\n",
    "- When $m$ is large (and large relative to $n, m \\gg n$) there is a lot of data on which to fit a complicated kernel.\n",
    "    - however, when $m$ is really large, this can be expensive\n",
    "- When $m$ is small, the lack of data for fitting suggests a simple, linear kernel or logistic regression\n",
    "- when $n$ is small, simpler Kernels are Logistic Regression is suggested"
   ]
  },
  {
   "cell_type": "markdown",
   "metadata": {
    "slideshow": {
     "slide_type": "subslide"
    }
   },
   "source": [
    "# Support Vector Machines: derivation via landmark similarity\n",
    "\n",
    "We now show another derivation of the Support Vector Machine.\n",
    "\n",
    "The SVM will apply a particular kind of transformation $\\phi$ to $\\x$ before fitting a linear model."
   ]
  },
  {
   "cell_type": "markdown",
   "metadata": {
    "slideshow": {
     "slide_type": "slide"
    }
   },
   "source": [
    "## Landmarks and the Similarity transformation\n",
    "\n",
    "Let us pick a set of distinguished points $\\{ \\lmk^{(1)}, \\lmk^{(2)}, \\ldots \\}$ in the input domain.\n",
    "\n",
    "We will refer to these distinguished points as \"landmarks\" because we will use\n",
    "them as reference points from which we will measure the similarity (inverse of distance) of each example $\\x^\\ip$ in the training set.\n",
    "\n",
    "In particular, let us choose $n'$ landmarks and let\n",
    "$$\n",
    "K(\\x, \\lmk^\\ip)\n",
    "$$\n",
    "be a measure of similarity between vector $\\x$ and the $i^{th}$ landmark.\n",
    "\n",
    "$K$ will be referred to as a \"similarity function\" or \"kernel\"."
   ]
  },
  {
   "cell_type": "markdown",
   "metadata": {
    "slideshow": {
     "slide_type": "subslide"
    }
   },
   "source": [
    "Then the transformation of $\\x^\\ip$ into\n",
    "$$\n",
    "\\hat\\x^\\ip = [ K(\\x^\\ip, \\lmk^{(1)}), K(\\x^\\ip, \\lmk^{(2)}), \\ldots, K(\\x^\\ip, \\lmk^{(n')}),]\n",
    "$$\n",
    "is a representation of the original $\\x^\\ip$ into a \"similarity\" vector.\n",
    "\n",
    "The transformed features $\\hat{x}^\\ip$ is of length $n'$, each element\n",
    "representing the distance of $\\x^\\ip$ to one landmark.\n",
    "\n",
    "We will do linear classification on these transformed features $\\hat\\x$ rather than the original $\\x$."
   ]
  },
  {
   "cell_type": "markdown",
   "metadata": {
    "slideshow": {
     "slide_type": "subslide"
    }
   },
   "source": [
    "The linear classifier creates a hyperplane to separate Positive and Negative examples\n",
    "by using the dot product to create a score \n",
    "$$s(\\hat{\\x}^\\ip) = \\Theta^T \\cdot  \\hat{\\x}^\\ip$$\n",
    "based on transformed $\\hat{x}^\\ip$\n",
    "\n",
    "This score will determine the prediction.\n",
    "\n",
    "Score:\n",
    "$$\n",
    "s(\\hat{\\x}^\\ip) = \\Theta^T \\cdot \\hat{\\x}^\\ip + b\n",
    "$$\n",
    "\n",
    "Score to prediction:\n",
    "$$\n",
    "\\hat{\\y}^\\ip = \n",
    "\\begin{cases}\n",
    "0 & \\text{if } s(\\hat{\\x}^\\ip) < 0 \\\\\n",
    "1 & \\text{if } s(\\hat{\\x}^\\ip) \\ge 0\n",
    "\\end{cases}\n",
    "$$"
   ]
  },
  {
   "cell_type": "markdown",
   "metadata": {
    "slideshow": {
     "slide_type": "subslide"
    }
   },
   "source": [
    "\n",
    "**Note** \n",
    "\n",
    "- $\\Theta$ and $\\hat{\\x}$ must have the same length\n",
    "- The $\\Theta$ in this derivation is thus **very different** than the $\\Theta$ in the original derivation\n",
    "    - in this derivation the length of $\\Theta$ is $m$ (number of examples) **not** $n$ (number of original features)\n",
    "    - the elements of this $\\Theta$ correspond to *landmarks* **not** features in the original dimensions"
   ]
  },
  {
   "cell_type": "markdown",
   "metadata": {
    "slideshow": {
     "slide_type": "subslide"
    }
   },
   "source": [
    "So once again, the dot product is doing a form of \"pattern matching\" of features,\n",
    "but now \n",
    "- we use transformed features: similarity to landmarks\n",
    "- the pattern is identifying the relative importance of being similar to each landmark"
   ]
  },
  {
   "cell_type": "markdown",
   "metadata": {
    "slideshow": {
     "slide_type": "subslide"
    }
   },
   "source": [
    "So far, very similar to Logistic Regression: the score determines the prediction.\n",
    "\n",
    "One difference is that Logistic Regression converts score to  probability\n",
    "via a sigmoid function:\n",
    "$$\n",
    "\\hat{p}^\\ip = \\sigma( s(\\x^\\ip))\n",
    "$$\n",
    "This probability is needed mainly for the Cost function for Logistic Regression (Binary Cross Entropy)\n",
    "but may be useful as an informative output as well.\n",
    "\n",
    "We shall soon seen the main difference from Logistic Regression: Hinge Loss\n",
    "rather than Cross Entropy"
   ]
  },
  {
   "cell_type": "markdown",
   "metadata": {
    "slideshow": {
     "slide_type": "slide"
    }
   },
   "source": [
    "## Choosing the landmarks\n",
    "\n",
    "**TO DO** Picture\n",
    "\n",
    "How do we choose the landmarks ?  How many do we choose ?\n",
    "\n",
    "Let's choose each of the $m$ examples in the training set as a landmark so\n",
    "that\n",
    "$\\lmk^\\ip = \\x^\\ip$.\n",
    "\n",
    "This might initially seem to be a large number of landmarks.  \n",
    "\n",
    "Is it possible to choose fewer ?\n",
    "\n",
    "Yes, and we will let Machine Learning decide which ones matter!"
   ]
  },
  {
   "cell_type": "markdown",
   "metadata": {
    "slideshow": {
     "slide_type": "subslide"
    }
   },
   "source": [
    "## Cost function\n",
    "\n",
    "Just like with Logistic Regression, a critical part of the cost function\n",
    "is a constraint that our predictions are accurate.\n",
    "\n",
    "For Logistic Regression, we converted the linear score into a probability via the logistic function\n",
    "\n",
    "$$ \\hat{p}^\\ip  = \\sigma(s(\\hat\\x^\\ip))$$\n",
    "\n",
    "and used Binary Cross Entropy Loss for each example $i$ (and then sum across examples for total loss:\n",
    "$$\n",
    "\\loss^\\ip = - \\left( \\y^\\ip \\log(\\hat{p}) + (1-\\y^\\ip) \\log(1-\\hat{p})  \\right)\n",
    "$$"
   ]
  },
  {
   "cell_type": "markdown",
   "metadata": {
    "slideshow": {
     "slide_type": "subslide"
    }
   },
   "source": [
    "In contrast, SVM will use cost function (Hinge Loss) that is similar in form to\n",
    "Binary Cross entropy.\n",
    "\n",
    "$$\n",
    "\\loss^\\ip = \\left( \\y^\\ip \\max{} (0, - s(\\hat\\x))  + (1 - \\y^\\ip) \\max{}(0, s(\\hat\\x)) \\right)\n",
    "$$\n",
    "\n",
    "This cost function was chosen such that it can be minimized very quickly via specialized constrained optimizers.  \n",
    "\n",
    "SGD would still work, but would be move slower.\n",
    "\n",
    "We refer to this loss as the *classification loss*."
   ]
  },
  {
   "cell_type": "markdown",
   "metadata": {
    "slideshow": {
     "slide_type": "slide"
    }
   },
   "source": [
    "### Regularization penalty\n",
    "\n",
    "The purpose of the classification loss is to enforce correct prediction.\n",
    "\n",
    "We add one more constraint to the cost function: \n",
    "- an L2 regularization penalty on the weights $\\Theta$.\n",
    "\n",
    "One reason for this constraint is that it\n",
    "- forces some $\\Theta_i$ to $0$\n",
    "- which means landmark $\\lmk^\\ip$ is not necessary \n",
    "- and we wind up with $m' < m$ landmarks\n",
    "\n",
    "Once we discuss adding a margin to the hinge loss, we will see a second purpose."
   ]
  },
  {
   "cell_type": "markdown",
   "metadata": {
    "slideshow": {
     "slide_type": "subslide"
    }
   },
   "source": [
    "So the final (per example) cost  function is a classification error plus a regularization penalty:\n",
    "$$\n",
    "    \\loss^\\ip =  - \\max{}(0, t^\\ip * s(\\hat\\x^\\ip) ) + \\lambda * \\frac{1}{2} \\Theta^T \\cdot \\Theta\n",
    "$$\n",
    "where $\\lambda$ is multiplier for the strength of the regularization penalty $\\frac{1}{2} \\Theta^T \\cdot \\Theta$."
   ]
  },
  {
   "cell_type": "markdown",
   "metadata": {
    "slideshow": {
     "slide_type": "subslide"
    }
   },
   "source": [
    "**Asides**\n",
    "\n",
    "- Write penalty with the $\\frac{1}{2}$ in front so that the derivative with respect to $\\w$ is $\\w$.\n",
    "- The Regularization Penalty is the same as the Margin Penalty of our prior derivation\n",
    "- The relative weight between Classification Loss and the Regularization Penalty is $\\lambda$\n",
    "    - The Regularization Penalty is $\\lambda$ times more important than Classification Loss\n",
    "    - Prior derivation: Classification Loss was $C$ times as important as Regularization Penalty\n",
    "    - so $C = \\frac{1}{\\lambda}$"
   ]
  },
  {
   "cell_type": "markdown",
   "metadata": {
    "slideshow": {
     "slide_type": "subslide"
    }
   },
   "source": [
    "As we discussed in our original derivation\n",
    "- we can always use a margin value of $1$ rather\n",
    "than an arbitrary $\\margin$\n",
    "as this will only result in a rescaling of values in $\\Theta$ by $\\margin$"
   ]
  },
  {
   "cell_type": "markdown",
   "metadata": {
    "slideshow": {
     "slide_type": "subslide"
    }
   },
   "source": [
    "So the cost becomes\n",
    "$$\n",
    "    \\loss^\\ip =  - \\max{}(0, t^\\ip * s(\\hat\\x^\\ip) - 1) + \\lambda * \\frac{1}{2} \\Theta^T \\cdot \\Theta\n",
    "$$\n",
    "\n",
    "Thus our goal is no longer to just make $t^\\ip * s(\\hat\\x^\\ip)$ positive, but to\n",
    "make it greater than the hinge value of $1$."
   ]
  },
  {
   "cell_type": "markdown",
   "metadata": {
    "slideshow": {
     "slide_type": "subslide"
    }
   },
   "source": [
    "## The landmarks are chosen by the regularizer !\n",
    "\n",
    "Now that we have the complete cost function we see something interesting\n",
    "- the regularizer tries to force $\\Theta_j$ to zero for some $j$\n",
    "- this corresponds to eliminating landmard $\\lmk^{(j)}$\n",
    "\n",
    "So the Regularization Penalty automatically choses which of the $m$ elements of the training set\n",
    "to keep as landmarks."
   ]
  },
  {
   "cell_type": "markdown",
   "metadata": {
    "slideshow": {
     "slide_type": "slide"
    }
   },
   "source": [
    "# SVM and Gradient Descent preview\n",
    "\n",
    "Gradient Descent is a way of finding the parameters (e.g, $\\Theta$) that minimize\n",
    "a given cost Function.\n",
    "\n",
    "The Cost Functions given for SVMs are amenable to this solution\n",
    "- but are solved more rapidly with Quadratic Programming\n",
    "\n",
    "The advantage of Gradient Descent is its ability to handle complex Cost Functions."
   ]
  },
  {
   "cell_type": "markdown",
   "metadata": {
    "slideshow": {
     "slide_type": "subslide"
    }
   },
   "source": [
    "In the SVM context:\n",
    "- consider the transformation using the Radial Basis Function (RBF)\n",
    "- the RBF takes a parameter $\\sigma$\n",
    "\n",
    "So $\\sigma$ is a hyperparameter of the SVM problem.\n",
    "\n",
    "Hyperparameters (e.g., strength of regularization penalties) were previously handled\n",
    "by post hoc search.\n",
    "\n",
    "With Gradient Descent\n",
    "- $\\sigma$ becomes just one more parameter in the Cost Function\n",
    "- solve for it simultaneously with $\\Theta$."
   ]
  },
  {
   "cell_type": "code",
   "execution_count": 9,
   "metadata": {
    "slideshow": {
     "slide_type": "slide"
    }
   },
   "outputs": [
    {
     "name": "stdout",
     "output_type": "stream",
     "text": [
      "Done\n"
     ]
    }
   ],
   "source": [
    "print(\"Done\")"
   ]
  }
 ],
 "metadata": {
  "celltoolbar": "Slideshow",
  "kernelspec": {
   "display_name": "Python 3",
   "language": "python",
   "name": "python3"
  },
  "language_info": {
   "codemirror_mode": {
    "name": "ipython",
    "version": 3
   },
   "file_extension": ".py",
   "mimetype": "text/x-python",
   "name": "python",
   "nbconvert_exporter": "python",
   "pygments_lexer": "ipython3",
   "version": "3.7.1"
  },
  "toc": {
   "base_numbering": 1,
   "nav_menu": {},
   "number_sections": true,
   "sideBar": true,
   "skip_h1_title": false,
   "title_cell": "Table of Contents",
   "title_sidebar": "Contents",
   "toc_cell": false,
   "toc_position": {
    "height": "calc(100% - 180px)",
    "left": "10px",
    "top": "150px",
    "width": "370.594px"
   },
   "toc_section_display": true,
   "toc_window_display": false
  }
 },
 "nbformat": 4,
 "nbformat_minor": 2
}
