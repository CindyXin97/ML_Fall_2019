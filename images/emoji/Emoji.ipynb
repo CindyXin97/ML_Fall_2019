{
 "cells": [
  {
   "cell_type": "markdown",
   "metadata": {},
   "source": [
    "- <img src=https://emojipedia-us.s3.dualstack.us-west-1.amazonaws.com/thumbs/120/apple/155/female-scientist-type-4_1f469-1f3fd-200d-1f52c.png width=30, align=left> &nbsp; Scientist\n",
    "<br>\n",
    "\n",
    "- <img src=https://emojipedia-us.s3.dualstack.us-west-1.amazonaws.com/thumbs/120/emojione/151/steam-locomotive_1f682.png width=30 align=left> &nbsp; &nbsp; Engineer\n",
    "<br>\n",
    "\n",
    "\n",
    "- <img src=https://emojipedia-us.s3.dualstack.us-west-1.amazonaws.com/thumbs/120/facebook/158/graduation-cap_1f393.png width=30 align=left> &nbsp; &nbsp; Academic\n",
    "\n",
    "<br>\n",
    "\n",
    "- <img src=https://emojipedia-us.s3.dualstack.us-west-1.amazonaws.com/thumbs/120/apple/155/pushpin_1f4cc.png width=30 align=left> &nbsp; &nbsp; Pin"
   ]
  }
 ],
 "metadata": {
  "kernelspec": {
   "display_name": "Python 3",
   "language": "python",
   "name": "python3"
  },
  "language_info": {
   "codemirror_mode": {
    "name": "ipython",
    "version": 3
   },
   "file_extension": ".py",
   "mimetype": "text/x-python",
   "name": "python",
   "nbconvert_exporter": "python",
   "pygments_lexer": "ipython3",
   "version": "3.6.6"
  },
  "toc": {
   "base_numbering": 1,
   "nav_menu": {},
   "number_sections": true,
   "sideBar": true,
   "skip_h1_title": false,
   "title_cell": "Table of Contents",
   "title_sidebar": "Contents",
   "toc_cell": false,
   "toc_position": {},
   "toc_section_display": true,
   "toc_window_display": false
  }
 },
 "nbformat": 4,
 "nbformat_minor": 2
}
