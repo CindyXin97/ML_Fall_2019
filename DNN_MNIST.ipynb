{
  "nbformat": 4,
  "nbformat_minor": 0,
  "metadata": {
    "colab": {
      "name": "DNN_MNIST.ipynb",
      "provenance": [],
      "collapsed_sections": []
    },
    "kernelspec": {
      "name": "python3",
      "display_name": "Python 3"
    },
    "accelerator": "GPU"
  },
  "cells": [
    {
      "cell_type": "code",
      "metadata": {
        "id": "YlCPUZXh0U74",
        "colab_type": "code",
        "colab": {}
      },
      "source": [
        "'''Trains a simple convnet on the MNIST dataset.\n",
        "\n",
        "\n",
        "'''\n",
        "\n",
        "import tensorflow as tf\n",
        "\n",
        "from tensorflow.keras.datasets import mnist, fashion_mnist\n",
        "from tensorflow.keras.models import Sequential\n",
        "from tensorflow.keras.layers import Dense, Dropout, Flatten\n",
        "from tensorflow.keras.layers import Conv2D, MaxPooling2D\n",
        "\n",
        "# Functional API\n",
        "from tensorflow.keras.layers import Input\n",
        "from tensorflow.keras.models import Model"
      ],
      "execution_count": 0,
      "outputs": []
    },
    {
      "cell_type": "code",
      "metadata": {
        "id": "fy1_Snuk0dMX",
        "colab_type": "code",
        "colab": {}
      },
      "source": [
        "import os\n",
        "import matplotlib.pyplot as plt\n",
        "import numpy as np\n",
        "\n",
        "from tensorflow.keras.utils import plot_model\n",
        "import matplotlib.pyplot as plt\n",
        "\n",
        "import IPython"
      ],
      "execution_count": 0,
      "outputs": []
    },
    {
      "cell_type": "markdown",
      "metadata": {
        "id": "ZArwoOTyyNR6",
        "colab_type": "text"
      },
      "source": [
        "# Load the data"
      ]
    },
    {
      "cell_type": "code",
      "metadata": {
        "id": "EH8gsQDS8QUE",
        "colab_type": "code",
        "colab": {}
      },
      "source": [
        "(X_train, y_train), (X_test, y_test) = tf.keras.datasets.fashion_mnist.load_data()\n",
        "\n",
        "\n",
        "# Determine \n",
        "# - the dimensions of the input by examining the first training example\n",
        "# - the dimensions of the output (number of classes) by examinimg the targets\n",
        "\n",
        "input_size = np.prod(X_train[0].shape)\n",
        "output_size = np.unique(y_train).shape[0]\n",
        "\n",
        "# input image dimensions\n",
        "img_rows, img_cols = X_train[0].shape[0:2]\n",
        "\n",
        "batch_size=128\n",
        "epochs = 20"
      ],
      "execution_count": 0,
      "outputs": []
    },
    {
      "cell_type": "markdown",
      "metadata": {
        "id": "mOxCVEd-yR7-",
        "colab_type": "text"
      },
      "source": [
        "# Utility routines"
      ]
    },
    {
      "cell_type": "code",
      "metadata": {
        "id": "Pf5O2Xxj0qu7",
        "colab_type": "code",
        "colab": {}
      },
      "source": [
        "def prepareData(X_train, y_train, X_test, y_test, flatten=True):\n",
        "  # normalize to range [0,1]\n",
        "  # Flatten the data to one dimension \n",
        "\n",
        "  X_train, X_test = X_train.astype(np.float32), X_test.astype(np.float32)\n",
        "  y_train, y_test = y_train.astype(np.float32), y_test.astype(np.float32)\n",
        "\n",
        "  if flatten:\n",
        "    X_train, X_test = X_train.reshape(-1, input_size), X_test.reshape(-1, input_size)\n",
        "\n",
        "  # Normalize\n",
        "  X_train, X_test = X_train/255.0, X_test/255.0\n",
        " \n",
        "  valid_size = X_train.shape[0] // 10  \n",
        "  X_valid, X_train = X_train[:valid_size], X_train[valid_size:]\n",
        "  y_valid, y_train = y_train[:valid_size], y_train[valid_size:]\n",
        "\n",
        "  return X_train, y_train, X_test, y_test, X_valid, y_valid\n",
        "\n",
        "def showImage(img, ax=plt, cmap=None):\n",
        "  # Some datasets (e.g., MNIST) have only 1 channel instead of 3\n",
        "  if img.shape[-1] == 1:\n",
        "    img = img[:,:, 0]\n",
        "    cmap = \"gray\"\n",
        "  \n",
        "  \n",
        "  if cmap is None:\n",
        "    _= ax.imshow(img)\n",
        "  else:\n",
        "    _= ax.imshow(img, cmap=cmap)\n",
        "\n",
        "\n",
        "def showTrain(xtrain, ytrain, num=5, cmap=None):\n",
        "  #  ytrain is OHE\n",
        "  isOHE = len(ytrain.shape) > 1\n",
        "  if isOHE:\n",
        "    num_classes = ytrain.shape[-1]\n",
        "  else:\n",
        "    num_classes = np.unique(ytrain).shape[-1]\n",
        "\n",
        "  \n",
        "  fig = plt.figure(figsize=(12,12))\n",
        "  for thisClass in range(0, num_classes):\n",
        "   \n",
        "    if isOHE:\n",
        "      xtrain_thisClass = xtrain[ ytrain[:,thisClass] == 1]\n",
        "    else:\n",
        "      xtrain_thisClass = xtrain[ ytrain == thisClass, ]\n",
        "\n",
        "    for i in range(0,num):\n",
        "      ax = fig.add_subplot(num_classes, num, thisClass * num + i +1)\n",
        "      showImage(xtrain_thisClass[i], ax, cmap=cmap)\n",
        "\n",
        "      # ax.set_title(y[i])\n",
        "      # ax.set_xlabel( idxs[i] )\n",
        "      ax.set_xticks([])\n",
        "      ax.set_yticks([])\n",
        "\n",
        "\n",
        "def plot_training(history, metrics=[]):\n",
        "    \"\"\"\n",
        "    Plot training and validation statistics\n",
        "    - accuracy vs epoch number\n",
        "    - loss     vs epoch number\n",
        "\n",
        "    From https://www.learnopencv.com/keras-tutorial-fine-tuning-using-pre-trained-models/\n",
        "    \"\"\"  \n",
        "\n",
        "    # Loss\n",
        "    loss = history.history['loss']\n",
        "\n",
        "    epochs = range(len(loss))\n",
        "\n",
        "    plt.plot(epochs, loss, 'b', label='Training loss')\n",
        "    plt.title('Training loss')\n",
        "    plt.legend()\n",
        "\n",
        "    plt.figure()\n",
        "\n",
        "    for metric in metrics:\n",
        "      metric_value = history.history[metric]\n",
        "      plt.plot(epochs, metric_value, 'b', label=\"Training \" + metric)\n",
        "      plt.title('Training  accuracy')\n",
        "      plt.legend()\n",
        "\n",
        "    plt.show()\n",
        "\n",
        "def trainModel(model, X_train, y_train, X_test, y_test, loss_fn=tf.keras.losses.sparse_categorical_crossentropy, batch_size=128, epochs=20):\n",
        "  modelName=\"mnist_dnn\"\n",
        "\n",
        "  metrics = [ \"acc\" ]\n",
        "  mnist_dnn_model.compile(loss=loss_fn,\n",
        "                metrics=metrics)\n",
        "\n",
        "  from tensorflow.keras.callbacks import EarlyStopping, ModelCheckpoint\n",
        "  es_callback = tf.keras.callbacks.EarlyStopping(monitor='val_loss', min_delta=.005, patience=2, verbose=0, mode='auto', baseline=None, restore_best_weights=True)\n",
        "\n",
        "  callbacks = [ es_callback,\n",
        "                ModelCheckpoint(filepath=modelName + \".ckpt\", monitor='acc', save_best_only=True)\n",
        "            ]\n",
        "\n",
        "  history = mnist_dnn_model.fit(X_train, y_train,\n",
        "    batch_size=batch_size,\n",
        "    epochs=epochs,\n",
        "    verbose=1,\n",
        "    callbacks=callbacks,\n",
        "    validation_data=(X_test, y_test))\n",
        "  score = mnist_dnn_model.evaluate(X_test, y_test, verbose=0)\n",
        "  print('Test loss:', score[0])\n",
        "\n",
        "  return history"
      ],
      "execution_count": 0,
      "outputs": []
    },
    {
      "cell_type": "markdown",
      "metadata": {
        "id": "X7DsSE6cyZvu",
        "colab_type": "text"
      },
      "source": [
        "# Visualize the data"
      ]
    },
    {
      "cell_type": "code",
      "metadata": {
        "id": "Zl6JmCYV1Qm6",
        "colab_type": "code",
        "outputId": "1c4bbd5c-d748-4ee7-e1d0-6d9bd43603dd",
        "colab": {
          "base_uri": "https://localhost:8080/",
          "height": 687
        }
      },
      "source": [
        "showTrain(X_train, y_train, num=10, cmap=\"gray\")"
      ],
      "execution_count": 33,
      "outputs": [
        {
          "output_type": "display_data",
          "data": {
            "image/png": "[encoded data removed]",
            "text/plain": [
              "<Figure size 864x864 with 100 Axes>"
            ]
          },
          "metadata": {
            "tags": []
          }
        }
      ]
    },
    {
      "cell_type": "markdown",
      "metadata": {
        "id": "eOfd6kv8yso-",
        "colab_type": "text"
      },
      "source": [
        "# Normalize and flatten the 2D data"
      ]
    },
    {
      "cell_type": "code",
      "metadata": {
        "id": "NuAKrhQ489FA",
        "colab_type": "code",
        "colab": {}
      },
      "source": [
        "X_train, y_train, X_test, y_test, X_valid, y_valid = prepareData(X_train, y_train, X_test, y_test)\n"
      ],
      "execution_count": 0,
      "outputs": []
    },
    {
      "cell_type": "markdown",
      "metadata": {
        "id": "ZJwfGbk2yweV",
        "colab_type": "text"
      },
      "source": [
        "# Methods to create classifiers of various types"
      ]
    },
    {
      "cell_type": "code",
      "metadata": {
        "id": "i0MAv19E0vdc",
        "colab_type": "code",
        "colab": {}
      },
      "source": [
        "def createSimpleClassifier(num_classes):\n",
        "  model = Sequential( [ Dense(num_classes, activation='softmax',\n",
        "                              input_shape=(input_size,)       \n",
        "                              )\n",
        "                      ]   \n",
        "                      )\n",
        "\n",
        "  return model\n",
        "\n",
        "def createOneLayerModel(num_units, num_classes):\n",
        "  model = Sequential( [Dense(num_units, activation=\"relu\",  input_shape=(input_size,) ),\n",
        "                       Dense(num_classes, activation='softmax')\n",
        "                      ]   \n",
        "                      )\n",
        "\n",
        "  return model\n",
        "\n",
        "def createMultiLayerModel(num_units, num_classes):\n",
        "  # Create model with first Dense layer (need to specify input_shape for first layer)\n",
        "  model = Sequential( [ Dense(num_units[0], activation=\"relu\",  input_shape=(input_size,) ) ] )\n",
        "\n",
        "  # Add the rest of the Dense layers\n",
        "  for units in num_units[1:]:\n",
        "    model.add( Dense(num_units[0], activation=\"relu\") )\n",
        "\n",
        "  # Add classifier layer\n",
        "  model.add(Dense(num_classes, activation='softmax'))\n",
        "\n",
        "\n",
        "  return model\n"
      ],
      "execution_count": 0,
      "outputs": []
    },
    {
      "cell_type": "markdown",
      "metadata": {
        "id": "I0M5vqA51gaM",
        "colab_type": "text"
      },
      "source": [
        "\n",
        "# Create a simple classifier\n"
      ]
    },
    {
      "cell_type": "code",
      "metadata": {
        "id": "_bYo9td-tBXF",
        "colab_type": "code",
        "outputId": "374ad229-1e54-45a7-9e38-60a34a253e36",
        "colab": {
          "base_uri": "https://localhost:8080/",
          "height": 341
        }
      },
      "source": [
        "mnist_dnn_model = createSimpleClassifier(output_size)\n",
        "history = trainModel(mnist_dnn_model, X_train, y_train, X_test, y_test)"
      ],
      "execution_count": 36,
      "outputs": [
        {
          "output_type": "stream",
          "text": [
            "Train on 54000 samples, validate on 10000 samples\n",
            "Epoch 1/20\n",
            "54000/54000 [==============================] - 2s 33us/sample - loss: 0.7025 - acc: 0.7696 - val_loss: 0.5511 - val_acc: 0.8142\n",
            "Epoch 2/20\n",
            "54000/54000 [==============================] - 1s 26us/sample - loss: 0.5016 - acc: 0.8298 - val_loss: 0.5209 - val_acc: 0.8172\n",
            "Epoch 3/20\n",
            "54000/54000 [==============================] - 1s 27us/sample - loss: 0.4664 - acc: 0.8414 - val_loss: 0.4921 - val_acc: 0.8331\n",
            "Epoch 4/20\n",
            "54000/54000 [==============================] - 1s 26us/sample - loss: 0.4489 - acc: 0.8479 - val_loss: 0.4766 - val_acc: 0.8385\n",
            "Epoch 5/20\n",
            "54000/54000 [==============================] - 1s 26us/sample - loss: 0.4367 - acc: 0.8511 - val_loss: 0.4728 - val_acc: 0.8372\n",
            "Epoch 6/20\n",
            "54000/54000 [==============================] - 1s 25us/sample - loss: 0.4282 - acc: 0.8545 - val_loss: 0.4621 - val_acc: 0.8396\n",
            "Epoch 7/20\n",
            "54000/54000 [==============================] - 1s 28us/sample - loss: 0.4222 - acc: 0.8575 - val_loss: 0.4618 - val_acc: 0.8402\n",
            "Epoch 8/20\n",
            "54000/54000 [==============================] - 2s 28us/sample - loss: 0.4165 - acc: 0.8580 - val_loss: 0.4635 - val_acc: 0.8406\n",
            "Test loss: 0.4621148594379425\n"
          ],
          "name": "stdout"
        }
      ]
    },
    {
      "cell_type": "code",
      "metadata": {
        "id": "N0tOlxk99_66",
        "colab_type": "code",
        "outputId": "c4c89d45-1ed5-4746-9b38-132bb64b0b39",
        "colab": {
          "base_uri": "https://localhost:8080/",
          "height": 53
        }
      },
      "source": [
        "test_loss, test_accuracy = mnist_dnn_model.evaluate(X_test, y_test)\n",
        "print(\"Test dataset: loss={tl:5.4f}, accuracy={ta:5.4f}\".format(tl=test_loss, ta=test_accuracy))"
      ],
      "execution_count": 37,
      "outputs": [
        {
          "output_type": "stream",
          "text": [
            "10000/10000 [==============================] - 1s 59us/sample - loss: 0.4621 - acc: 0.8396\n",
            "Test dataset: loss=0.4621, accuracy=0.8396\n"
          ],
          "name": "stdout"
        }
      ]
    },
    {
      "cell_type": "code",
      "metadata": {
        "id": "PVtahOPq-bL9",
        "colab_type": "code",
        "outputId": "34aabdf4-a2b7-4417-a5ca-f412f15d49e0",
        "colab": {
          "base_uri": "https://localhost:8080/",
          "height": 299
        }
      },
      "source": [
        "plot_training(history)"
      ],
      "execution_count": 38,
      "outputs": [
        {
          "output_type": "display_data",
          "data": {
            "image/png": "[encoded data removed]",
            "text/plain": [
              "<Figure size 432x288 with 1 Axes>"
            ]
          },
          "metadata": {
            "tags": []
          }
        },
        {
          "output_type": "display_data",
          "data": {
            "text/plain": [
              "<Figure size 432x288 with 0 Axes>"
            ]
          },
          "metadata": {
            "tags": []
          }
        }
      ]
    },
    {
      "cell_type": "markdown",
      "metadata": {
        "id": "gfjmHoyAAHuB",
        "colab_type": "text"
      },
      "source": [
        "# `sparse_categorical_crossentropy` verssus `categorical_crossentropy` \n",
        "- `sparse_categorical_crossentropy`: y is numeric (scalar)\n",
        "- `categorical_crossentropy`: y is OHE\n"
      ]
    },
    {
      "cell_type": "code",
      "metadata": {
        "id": "v13vXLx3z1Rp",
        "colab_type": "code",
        "outputId": "f64713d6-2224-46b8-964a-af02aed7c0f7",
        "colab": {
          "base_uri": "https://localhost:8080/",
          "height": 35
        }
      },
      "source": [
        "y_train[:2]"
      ],
      "execution_count": 39,
      "outputs": [
        {
          "output_type": "execute_result",
          "data": {
            "text/plain": [
              "array([8., 6.], dtype=float32)"
            ]
          },
          "metadata": {
            "tags": []
          },
          "execution_count": 39
        }
      ]
    },
    {
      "cell_type": "markdown",
      "metadata": {
        "id": "-LXa4dAoz3d2",
        "colab_type": "text"
      },
      "source": [
        "## Use OHE for y\n"
      ]
    },
    {
      "cell_type": "code",
      "metadata": {
        "id": "Sk4dKPeJ_N_M",
        "colab_type": "code",
        "colab": {}
      },
      "source": [
        "# convert class vectors to binary class matrices\n",
        "y_train_OHE = tf.keras.utils.to_categorical(y_train, output_size)\n",
        "y_test_OHE = tf.keras.utils.to_categorical(y_test, output_size)\n"
      ],
      "execution_count": 0,
      "outputs": []
    },
    {
      "cell_type": "code",
      "metadata": {
        "id": "aRtHnblJ0GI9",
        "colab_type": "code",
        "outputId": "f3f2fbe8-12d0-4efe-a0cd-ddeedae0027a",
        "colab": {
          "base_uri": "https://localhost:8080/",
          "height": 53
        }
      },
      "source": [
        "y_train_OHE[:2]"
      ],
      "execution_count": 41,
      "outputs": [
        {
          "output_type": "execute_result",
          "data": {
            "text/plain": [
              "array([[0., 0., 0., 0., 0., 0., 0., 0., 1., 0.],\n",
              "       [0., 0., 0., 0., 0., 0., 1., 0., 0., 0.]], dtype=float32)"
            ]
          },
          "metadata": {
            "tags": []
          },
          "execution_count": 41
        }
      ]
    },
    {
      "cell_type": "markdown",
      "metadata": {
        "id": "6UBv8PIY0MX1",
        "colab_type": "text"
      },
      "source": [
        "## Train again, using OHE for  y, and get same results"
      ]
    },
    {
      "cell_type": "code",
      "metadata": {
        "id": "_3clmZHk_mKZ",
        "colab_type": "code",
        "outputId": "5bbe1577-d8b8-46d6-912e-f4bad71f3dbd",
        "colab": {
          "base_uri": "https://localhost:8080/",
          "height": 161
        }
      },
      "source": [
        "history = trainModel(mnist_dnn_model, X_train, y_train_OHE, X_test, y_test_OHE, loss_fn=tf.keras.losses.categorical_crossentropy)\n"
      ],
      "execution_count": 42,
      "outputs": [
        {
          "output_type": "stream",
          "text": [
            "Train on 54000 samples, validate on 10000 samples\n",
            "Epoch 1/20\n",
            "54000/54000 [==============================] - 2s 38us/sample - loss: 0.4223 - acc: 0.8568 - val_loss: 0.4649 - val_acc: 0.8397\n",
            "Epoch 2/20\n",
            "54000/54000 [==============================] - 2s 31us/sample - loss: 0.4166 - acc: 0.8594 - val_loss: 0.4613 - val_acc: 0.8408\n",
            "Epoch 3/20\n",
            "54000/54000 [==============================] - 2s 32us/sample - loss: 0.4129 - acc: 0.8600 - val_loss: 0.4619 - val_acc: 0.8409\n",
            "Test loss: 0.4649167972564697\n"
          ],
          "name": "stdout"
        }
      ]
    },
    {
      "cell_type": "code",
      "metadata": {
        "id": "hk_1Sb2a_3RW",
        "colab_type": "code",
        "outputId": "ce6c43a9-b5c7-4e52-f931-31db034e0f70",
        "colab": {
          "base_uri": "https://localhost:8080/",
          "height": 53
        }
      },
      "source": [
        "test_loss, test_accuracy = mnist_dnn_model.evaluate(X_test, y_test_OHE)\n",
        "print(\"Test dataset: loss={tl:5.4f}, accuracy={ta:5.4f}\".format(tl=test_loss, ta=test_accuracy))"
      ],
      "execution_count": 43,
      "outputs": [
        {
          "output_type": "stream",
          "text": [
            "10000/10000 [==============================] - 1s 71us/sample - loss: 0.4649 - acc: 0.8397\n",
            "Test dataset: loss=0.4649, accuracy=0.8397\n"
          ],
          "name": "stdout"
        }
      ]
    },
    {
      "cell_type": "markdown",
      "metadata": {
        "id": "tXH8hhiIFUI0",
        "colab_type": "text"
      },
      "source": [
        "# Add a layer before the classifier"
      ]
    },
    {
      "cell_type": "code",
      "metadata": {
        "id": "UO-vwet9FWK9",
        "colab_type": "code",
        "outputId": "c536efe5-b655-4abd-f936-e0476ec764bd",
        "colab": {
          "base_uri": "https://localhost:8080/",
          "height": 323
        }
      },
      "source": [
        "mnist_dnn_model = createOneLayerModel(100, output_size)\n",
        "trainModel(mnist_dnn_model, X_train, y_train, X_test, y_test)"
      ],
      "execution_count": 44,
      "outputs": [
        {
          "output_type": "stream",
          "text": [
            "Train on 54000 samples, validate on 10000 samples\n",
            "Epoch 1/20\n",
            "54000/54000 [==============================] - 2s 40us/sample - loss: 0.6075 - acc: 0.7877 - val_loss: 0.4810 - val_acc: 0.8324\n",
            "Epoch 2/20\n",
            "54000/54000 [==============================] - 2s 29us/sample - loss: 0.4316 - acc: 0.8476 - val_loss: 0.4243 - val_acc: 0.8475\n",
            "Epoch 3/20\n",
            "54000/54000 [==============================] - 2s 30us/sample - loss: 0.3840 - acc: 0.8614 - val_loss: 0.4067 - val_acc: 0.8553\n",
            "Epoch 4/20\n",
            "54000/54000 [==============================] - 2s 31us/sample - loss: 0.3528 - acc: 0.8729 - val_loss: 0.3971 - val_acc: 0.8552\n",
            "Epoch 5/20\n",
            "54000/54000 [==============================] - 2s 29us/sample - loss: 0.3306 - acc: 0.8812 - val_loss: 0.3601 - val_acc: 0.8734\n",
            "Epoch 6/20\n",
            "54000/54000 [==============================] - 2s 30us/sample - loss: 0.3161 - acc: 0.8849 - val_loss: 0.3687 - val_acc: 0.8660\n",
            "Epoch 7/20\n",
            "54000/54000 [==============================] - 2s 33us/sample - loss: 0.3006 - acc: 0.8916 - val_loss: 0.3668 - val_acc: 0.8682\n",
            "Test loss: 0.36005933423042297\n"
          ],
          "name": "stdout"
        },
        {
          "output_type": "execute_result",
          "data": {
            "text/plain": [
              "<tensorflow.python.keras.callbacks.History at 0x7fe4657adbe0>"
            ]
          },
          "metadata": {
            "tags": []
          },
          "execution_count": 44
        }
      ]
    },
    {
      "cell_type": "markdown",
      "metadata": {
        "id": "88YVmafO0Zvj",
        "colab_type": "text"
      },
      "source": [
        "# Create models of various depths using a function"
      ]
    },
    {
      "cell_type": "code",
      "metadata": {
        "id": "U3hLGH5zID54",
        "colab_type": "code",
        "outputId": "fb826194-42b9-4fe5-c376-cb72530c5283",
        "colab": {
          "base_uri": "https://localhost:8080/",
          "height": 1000
        }
      },
      "source": [
        "trained = {}\n",
        "\n",
        "for dense_spec in ( [10], [20], [30], [100],\n",
        "                   [30,30], [50,50]\n",
        "):\n",
        "\n",
        "  print(\"\\n\\nTraining with Dense layer sizes: \", dense_spec)\n",
        "  model_name = \", \".join( [ str(e) for e in dense_spec ])\n",
        "\n",
        "  # Create the model\n",
        "  mnist_dnn_model =  createMultiLayerModel( dense_spec, output_size)\n",
        "\n",
        "  # Train the model\n",
        "  history = trainModel(mnist_dnn_model, X_train, y_train, X_test, y_test)\n",
        "\n",
        "  # Save the results\n",
        "  results = { \"model\": mnist_dnn_model, \"history\": history}\n",
        "  trained[model_name] = results\n"
      ],
      "execution_count": 45,
      "outputs": [
        {
          "output_type": "stream",
          "text": [
            "\n",
            "\n",
            "Training with Dense layer sizes:  [10]\n",
            "Train on 54000 samples, validate on 10000 samples\n",
            "Epoch 1/20\n",
            "54000/54000 [==============================] - 2s 39us/sample - loss: 0.8966 - acc: 0.7073 - val_loss: 0.6117 - val_acc: 0.7904\n",
            "Epoch 2/20\n",
            "54000/54000 [==============================] - 2s 28us/sample - loss: 0.5369 - acc: 0.8166 - val_loss: 0.5250 - val_acc: 0.8210\n",
            "Epoch 3/20\n",
            "54000/54000 [==============================] - 2s 29us/sample - loss: 0.4806 - acc: 0.8339 - val_loss: 0.4898 - val_acc: 0.8288\n",
            "Epoch 4/20\n",
            "54000/54000 [==============================] - 2s 31us/sample - loss: 0.4541 - acc: 0.8416 - val_loss: 0.4907 - val_acc: 0.8293\n",
            "Epoch 5/20\n",
            "54000/54000 [==============================] - 2s 32us/sample - loss: 0.4367 - acc: 0.8475 - val_loss: 0.4926 - val_acc: 0.8259\n",
            "Test loss: 0.48984382572174073\n",
            "\n",
            "\n",
            "Training with Dense layer sizes:  [20]\n",
            "Train on 54000 samples, validate on 10000 samples\n",
            "Epoch 1/20\n",
            "54000/54000 [==============================] - 2s 41us/sample - loss: 0.7125 - acc: 0.7668 - val_loss: 0.5437 - val_acc: 0.8146\n",
            "Epoch 2/20\n",
            "54000/54000 [==============================] - 2s 30us/sample - loss: 0.4915 - acc: 0.8295 - val_loss: 0.4894 - val_acc: 0.8299\n",
            "Epoch 3/20\n",
            "54000/54000 [==============================] - 2s 28us/sample - loss: 0.4560 - acc: 0.8412 - val_loss: 0.4789 - val_acc: 0.8318\n",
            "Epoch 4/20\n",
            "54000/54000 [==============================] - 2s 29us/sample - loss: 0.4353 - acc: 0.8490 - val_loss: 0.4631 - val_acc: 0.8363\n",
            "Epoch 5/20\n",
            "54000/54000 [==============================] - 2s 31us/sample - loss: 0.4188 - acc: 0.8526 - val_loss: 0.4885 - val_acc: 0.8212\n",
            "Epoch 6/20\n",
            "54000/54000 [==============================] - 2s 29us/sample - loss: 0.4079 - acc: 0.8579 - val_loss: 0.4552 - val_acc: 0.8433\n",
            "Epoch 7/20\n",
            "54000/54000 [==============================] - 2s 29us/sample - loss: 0.3987 - acc: 0.8598 - val_loss: 0.4705 - val_acc: 0.8398\n",
            "Epoch 8/20\n",
            "54000/54000 [==============================] - 2s 30us/sample - loss: 0.3916 - acc: 0.8610 - val_loss: 0.4297 - val_acc: 0.8494\n",
            "Epoch 9/20\n",
            "54000/54000 [==============================] - 2s 29us/sample - loss: 0.3839 - acc: 0.8655 - val_loss: 0.4264 - val_acc: 0.8500\n",
            "Epoch 10/20\n",
            "54000/54000 [==============================] - 2s 28us/sample - loss: 0.3787 - acc: 0.8661 - val_loss: 0.4229 - val_acc: 0.8516\n",
            "Epoch 11/20\n",
            "54000/54000 [==============================] - 2s 29us/sample - loss: 0.3732 - acc: 0.8686 - val_loss: 0.4205 - val_acc: 0.8503\n",
            "Epoch 12/20\n",
            "54000/54000 [==============================] - 2s 32us/sample - loss: 0.3686 - acc: 0.8699 - val_loss: 0.4195 - val_acc: 0.8524\n",
            "Test loss: 0.4229238360643387\n",
            "\n",
            "\n",
            "Training with Dense layer sizes:  [30]\n",
            "Train on 54000 samples, validate on 10000 samples\n",
            "Epoch 1/20\n",
            "54000/54000 [==============================] - 2s 44us/sample - loss: 0.6553 - acc: 0.7774 - val_loss: 0.5125 - val_acc: 0.8221\n",
            "Epoch 2/20\n",
            "54000/54000 [==============================] - 2s 31us/sample - loss: 0.4628 - acc: 0.8373 - val_loss: 0.4611 - val_acc: 0.8381\n",
            "Epoch 3/20\n",
            "54000/54000 [==============================] - 2s 29us/sample - loss: 0.4218 - acc: 0.8518 - val_loss: 0.4621 - val_acc: 0.8370\n",
            "Epoch 4/20\n",
            "54000/54000 [==============================] - 2s 30us/sample - loss: 0.3985 - acc: 0.8591 - val_loss: 0.4233 - val_acc: 0.8486\n",
            "Epoch 5/20\n",
            "54000/54000 [==============================] - 2s 29us/sample - loss: 0.3809 - acc: 0.8650 - val_loss: 0.4201 - val_acc: 0.8538\n",
            "Epoch 6/20\n",
            "54000/54000 [==============================] - 2s 32us/sample - loss: 0.3671 - acc: 0.8693 - val_loss: 0.4042 - val_acc: 0.8599\n",
            "Epoch 7/20\n",
            "54000/54000 [==============================] - 2s 28us/sample - loss: 0.3570 - acc: 0.8730 - val_loss: 0.3890 - val_acc: 0.8612\n",
            "Epoch 8/20\n",
            "54000/54000 [==============================] - 2s 29us/sample - loss: 0.3464 - acc: 0.8757 - val_loss: 0.3943 - val_acc: 0.8583\n",
            "Epoch 9/20\n",
            "54000/54000 [==============================] - 2s 33us/sample - loss: 0.3407 - acc: 0.8768 - val_loss: 0.4067 - val_acc: 0.8551\n",
            "Test loss: 0.3890445674419403\n",
            "\n",
            "\n",
            "Training with Dense layer sizes:  [100]\n",
            "Train on 54000 samples, validate on 10000 samples\n",
            "Epoch 1/20\n",
            "54000/54000 [==============================] - 2s 45us/sample - loss: 0.5992 - acc: 0.7903 - val_loss: 0.4541 - val_acc: 0.8413\n",
            "Epoch 2/20\n",
            "54000/54000 [==============================] - 2s 31us/sample - loss: 0.4274 - acc: 0.8474 - val_loss: 0.4220 - val_acc: 0.8487\n",
            "Epoch 3/20\n",
            "54000/54000 [==============================] - 2s 33us/sample - loss: 0.3762 - acc: 0.8645 - val_loss: 0.4130 - val_acc: 0.8531\n",
            "Epoch 4/20\n",
            "54000/54000 [==============================] - 2s 31us/sample - loss: 0.3468 - acc: 0.8738 - val_loss: 0.3991 - val_acc: 0.8609\n",
            "Epoch 5/20\n",
            "54000/54000 [==============================] - 2s 32us/sample - loss: 0.3266 - acc: 0.8807 - val_loss: 0.3757 - val_acc: 0.8675\n",
            "Epoch 6/20\n",
            "54000/54000 [==============================] - 2s 30us/sample - loss: 0.3098 - acc: 0.8876 - val_loss: 0.4239 - val_acc: 0.8512\n",
            "Epoch 7/20\n",
            "54000/54000 [==============================] - 2s 29us/sample - loss: 0.2981 - acc: 0.8912 - val_loss: 0.3542 - val_acc: 0.8730\n",
            "Epoch 8/20\n",
            "54000/54000 [==============================] - 2s 30us/sample - loss: 0.2864 - acc: 0.8959 - val_loss: 0.3551 - val_acc: 0.8772\n",
            "Epoch 9/20\n",
            "54000/54000 [==============================] - 2s 33us/sample - loss: 0.2765 - acc: 0.8986 - val_loss: 0.3982 - val_acc: 0.8636\n",
            "Test loss: 0.35418538039922715\n",
            "\n",
            "\n",
            "Training with Dense layer sizes:  [30, 30]\n",
            "Train on 54000 samples, validate on 10000 samples\n",
            "Epoch 1/20\n",
            "54000/54000 [==============================] - 3s 50us/sample - loss: 0.6686 - acc: 0.7713 - val_loss: 0.5515 - val_acc: 0.7873\n",
            "Epoch 2/20\n",
            "54000/54000 [==============================] - 2s 34us/sample - loss: 0.4504 - acc: 0.8390 - val_loss: 0.4436 - val_acc: 0.8409\n",
            "Epoch 3/20\n",
            "54000/54000 [==============================] - 2s 33us/sample - loss: 0.4083 - acc: 0.8529 - val_loss: 0.4390 - val_acc: 0.8407\n",
            "Epoch 4/20\n",
            "54000/54000 [==============================] - 2s 31us/sample - loss: 0.3830 - acc: 0.8607 - val_loss: 0.4125 - val_acc: 0.8521\n",
            "Epoch 5/20\n",
            "54000/54000 [==============================] - 2s 31us/sample - loss: 0.3653 - acc: 0.8668 - val_loss: 0.4230 - val_acc: 0.8492\n",
            "Epoch 6/20\n",
            "54000/54000 [==============================] - 2s 31us/sample - loss: 0.3523 - acc: 0.8720 - val_loss: 0.4016 - val_acc: 0.8573\n",
            "Epoch 7/20\n",
            "54000/54000 [==============================] - 2s 31us/sample - loss: 0.3420 - acc: 0.8758 - val_loss: 0.4040 - val_acc: 0.8533\n",
            "Epoch 8/20\n",
            "54000/54000 [==============================] - 2s 35us/sample - loss: 0.3318 - acc: 0.8787 - val_loss: 0.3979 - val_acc: 0.8549\n",
            "Test loss: 0.40160410273075103\n",
            "\n",
            "\n",
            "Training with Dense layer sizes:  [50, 50]\n",
            "Train on 54000 samples, validate on 10000 samples\n",
            "Epoch 1/20\n",
            "54000/54000 [==============================] - 3s 53us/sample - loss: 0.6323 - acc: 0.7814 - val_loss: 0.4659 - val_acc: 0.8336\n",
            "Epoch 2/20\n",
            "54000/54000 [==============================] - 2s 31us/sample - loss: 0.4350 - acc: 0.8443 - val_loss: 0.4323 - val_acc: 0.8432\n",
            "Epoch 3/20\n",
            "54000/54000 [==============================] - 2s 34us/sample - loss: 0.3919 - acc: 0.8579 - val_loss: 0.4500 - val_acc: 0.8404\n",
            "Epoch 4/20\n",
            "54000/54000 [==============================] - 2s 33us/sample - loss: 0.3657 - acc: 0.8666 - val_loss: 0.3890 - val_acc: 0.8646\n",
            "Epoch 5/20\n",
            "54000/54000 [==============================] - 2s 32us/sample - loss: 0.3441 - acc: 0.8745 - val_loss: 0.3846 - val_acc: 0.8600\n",
            "Epoch 6/20\n",
            "54000/54000 [==============================] - 2s 37us/sample - loss: 0.3292 - acc: 0.8800 - val_loss: 0.3990 - val_acc: 0.8562\n",
            "Test loss: 0.38903514575958253\n"
          ],
          "name": "stdout"
        }
      ]
    },
    {
      "cell_type": "code",
      "metadata": {
        "id": "s1tVCIKgyDd8",
        "colab_type": "code",
        "outputId": "8892cd46-0fb7-4503-afc9-6882a5fdcf34",
        "colab": {
          "base_uri": "https://localhost:8080/",
          "height": 35
        }
      },
      "source": [
        "trained.keys()"
      ],
      "execution_count": 46,
      "outputs": [
        {
          "output_type": "execute_result",
          "data": {
            "text/plain": [
              "dict_keys(['10', '20', '30', '100', '30, 30', '50, 50'])"
            ]
          },
          "metadata": {
            "tags": []
          },
          "execution_count": 46
        }
      ]
    },
    {
      "cell_type": "markdown",
      "metadata": {
        "id": "wBWvCT4x0kFb",
        "colab_type": "text"
      },
      "source": [
        "# Examine a model"
      ]
    },
    {
      "cell_type": "code",
      "metadata": {
        "id": "8c6vM-oT1roh",
        "colab_type": "code",
        "outputId": "44ef809b-1f50-4ac7-b0a3-59e798f1604e",
        "colab": {
          "base_uri": "https://localhost:8080/",
          "height": 551
        }
      },
      "source": [
        "\n",
        "model_name = '10'\n",
        "resuts = trained[model_name]\n",
        "model, history = results[\"model\"], results[\"history\"]\n",
        "\n",
        "model.summary()\n",
        "plot_training(history)\n"
      ],
      "execution_count": 47,
      "outputs": [
        {
          "output_type": "stream",
          "text": [
            "Model: \"sequential_15\"\n",
            "_________________________________________________________________\n",
            "Layer (type)                 Output Shape              Param #   \n",
            "=================================================================\n",
            "dense_31 (Dense)             (None, 50)                39250     \n",
            "_________________________________________________________________\n",
            "dense_32 (Dense)             (None, 50)                2550      \n",
            "_________________________________________________________________\n",
            "dense_33 (Dense)             (None, 10)                510       \n",
            "=================================================================\n",
            "Total params: 42,310\n",
            "Trainable params: 42,310\n",
            "Non-trainable params: 0\n",
            "_________________________________________________________________\n"
          ],
          "name": "stdout"
        },
        {
          "output_type": "display_data",
          "data": {
            "image/png": "[encoded data removed]",
            "text/plain": [
              "<Figure size 432x288 with 1 Axes>"
            ]
          },
          "metadata": {
            "tags": []
          }
        },
        {
          "output_type": "display_data",
          "data": {
            "text/plain": [
              "<Figure size 432x288 with 0 Axes>"
            ]
          },
          "metadata": {
            "tags": []
          }
        }
      ]
    }
  ]
}