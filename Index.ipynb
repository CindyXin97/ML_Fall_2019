{
 "cells": [
  {
   "cell_type": "markdown",
   "metadata": {},
   "source": [
    "## Week 1\n",
    "- [Course Overview](Course_overview.ipynb)\n",
    "- [Getting Started](Getting_Started.ipynb)\n",
    "- [Intro to Classical ML](Intro_Classical_ML.ipynb)\n",
    "\n",
    "## Week 2\n",
    "- [Recipe for Machine Learning](Recipe_for_ML.ipynb)\n",
    "\n",
    "## Week 3\n",
    "- [Classification and Categorical Variables](Classification_and_Non_Numerical_Data.ipynb)\n",
    "\n",
    "## Week 4\n",
    "- [Classification continued](Classification_continued.ipynb)\n",
    "- [Cost functions](Cost_functions.ipynb)\n",
    "- [Transformations](Transformations.ipynb)\n",
    "\n",
    "## Week 5\n",
    "- [Naive Bayes](Naive_Bayes.ipynb)\n",
    "- [Decision Trees](Decision_Trees.ipynb)\n",
    "\n",
    "\n",
    "## Week 6\n",
    "- [Support Vector Machines](SVM.ipynb)\n",
    "- [Gradient Descent](Gradient_Descent.ipynb)\n",
    "- [Interpretation: Linear Models](Linear_Model_Interpretation.ipynb)\n",
    "- [Missing Data](Missing_Data.ipynb)\n",
    "\n",
    "## Week 7\n",
    "- [Missing Data](Missing_Data.ipynb) *continued*\n",
    "- [Becoming a Successful Data Scientist](Successful_Data_Scientist.ipynb)\n",
    "- [Unsupervised Learning](Unsupervised.ipynb)\n",
    "\n",
    "## Week 8\n",
    "- [Intro to Neural Networks](Neural%20Networks.ipynb)\n",
    "- Coding Neural Networks: Tensorflow, Keras\n",
    "    - [Intro to Keras](Tensorflow_Keras.ipynb)\n",
    "    - **Colab**: [DNN Tensorflow example Notebook from github](https://colab.research.google.com/github/kenperry-public/ML_Fall_2019/blob/master/DNN_TensorFlow_example.ipynb)\n",
    "- [Computation Graphs](Computation_Graphs.ipynb)\n",
    "    - **Colab**: [Raw_TensorFlow example Notebook from github](https://colab.research.google.com/github/kenperry-public/ML_Fall_2019/blob/master/Raw_TensorFlow.ipynb)\n"
   ]
  }
 ],
 "metadata": {
  "kernelspec": {
   "display_name": "Python 3",
   "language": "python",
   "name": "python3"
  },
  "language_info": {
   "codemirror_mode": {
    "name": "ipython",
    "version": 3
   },
   "file_extension": ".py",
   "mimetype": "text/x-python",
   "name": "python",
   "nbconvert_exporter": "python",
   "pygments_lexer": "ipython3",
   "version": "3.7.1"
  },
  "toc": {
   "base_numbering": 1,
   "nav_menu": {},
   "number_sections": true,
   "sideBar": true,
   "skip_h1_title": false,
   "title_cell": "Table of Contents",
   "title_sidebar": "Contents",
   "toc_cell": false,
   "toc_position": {},
   "toc_section_display": true,
   "toc_window_display": false
  }
 },
 "nbformat": 4,
 "nbformat_minor": 2
}
