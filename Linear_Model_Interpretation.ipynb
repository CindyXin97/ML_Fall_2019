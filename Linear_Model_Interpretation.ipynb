{
 "cells": [
  {
   "cell_type": "code",
   "execution_count": 1,
   "metadata": {
    "slideshow": {
     "slide_type": "notes"
    }
   },
   "outputs": [
    {
     "data": {
      "text/latex": [
       "$$\n",
       "\\newcommand{\\x}{\\mathbf{x}}\n",
       "\\newcommand{\\y}{\\mathbf{y}}\n",
       "\\newcommand{\\b}{\\mathbf{b}}\n",
       "\\newcommand{\\c}{\\mathbf{c}}\n",
       "\\newcommand{\\e}{\\mathbf{e}}\n",
       "\\newcommand{\\z}{\\mathbf{z}}\n",
       "\\newcommand{\\h}{\\mathbf{h}}\n",
       "\\newcommand{\\w}{\\mathbf{w}}\n",
       "\\newcommand{\\W}{\\mathbf{W}}\n",
       "\\newcommand{\\X}{\\mathbf{X}}\n",
       "\\newcommand{\\KL}{\\mathbf{KL}}\n",
       "\\newcommand{\\E}{{\\mathbb{E}}}\n",
       "\\newcommand{\\ip}{\\mathbf{{(i)}}}\n",
       "% \\ll indexes a layer; we can change the actual letter\n",
       "\\newcommand{\\ll}{l}\n",
       "\\newcommand{\\llp}{(\\ll)}\n",
       "%\n",
       "\\newcommand{\\tp}{\\mathbf{{(t)}}}\n",
       "\\newcommand{\\loss}{\\mathcal{L}}\n",
       "\\newcommand{\\cost}{\\mathcal{L}}\n",
       "%\n",
       "% Functions with arguments\n",
       "\\def\\xsy#1#2{#1^#2}\n",
       "\\def\\rand#1{\\tilde{#1}}\n",
       "\\def\\randx{\\rand{\\x}}\n",
       "\\def\\randy{\\rand{\\y}}\n",
       "%\n",
       "\\def\\argmax#1{\\underset{#1} {\\operatorname{argmax}} }\n",
       "\\def\\argmin#1{\\underset{#1} {\\operatorname{argmin}} }\n",
       "\\def\\max#1{\\underset{#1} {\\operatorname{max}} }\n",
       "\\def\\min#1{\\underset{#1} {\\operatorname{min}} }\n",
       "%\n",
       "\\def\\pr#1{\\mathcal{p}(#1)}\n",
       "\\def\\cnt#1{\\mathcal{count}_{#1}}\n",
       "\\def\\node#1{\\mathbb{#1}}\n",
       "$$\n"
      ],
      "text/plain": [
       "<IPython.core.display.Latex object>"
      ]
     },
     "metadata": {},
     "output_type": "display_data"
    },
    {
     "name": "stdout",
     "output_type": "stream",
     "text": [
      "Macro `_latex_std_` created. To execute, type its name (without quotes).\n",
      "=== Macro contents: ===\n",
      "get_ipython().run_line_magic('run', 'Latex_macros.ipynb')\n",
      " "
     ]
    }
   ],
   "source": [
    "%run Latex_macros.ipynb"
   ]
  },
  {
   "cell_type": "code",
   "execution_count": 2,
   "metadata": {
    "slideshow": {
     "slide_type": "notes"
    }
   },
   "outputs": [],
   "source": [
    "# My standard magic !  You will see this in almost all my notebooks.\n",
    "\n",
    "from IPython.core.interactiveshell import InteractiveShell\n",
    "InteractiveShell.ast_node_interactivity = \"all\"\n",
    "\n",
    "# Reload all modules imported with %aimport\n",
    "%load_ext autoreload\n",
    "%autoreload 1\n",
    "\n",
    "%matplotlib inline"
   ]
  },
  {
   "cell_type": "code",
   "execution_count": 3,
   "metadata": {
    "slideshow": {
     "slide_type": "notes"
    }
   },
   "outputs": [],
   "source": [
    "import numpy as np\n",
    "import pandas as pd\n",
    "import matplotlib.pyplot as plt\n",
    "\n",
    "import os\n",
    "MOVIE_DIR=\"./images\"\n",
    "\n",
    "CREATE_MOVIE = False # True if you have ffmpeg installed\n",
    "\n",
    "import training_models_helper\n",
    "%aimport training_models_helper\n",
    "\n",
    "tmh = training_models_helper.TrainingModelsHelper()\n",
    "\n",
    "import mnist_helper\n",
    "%aimport mnist_helper\n",
    "\n",
    "mnh = mnist_helper.MNIST_Helper()\n",
    "\n",
    "import class_helper\n",
    "%aimport class_helper\n",
    "\n",
    "clh= class_helper.Classification_Helper()"
   ]
  },
  {
   "cell_type": "code",
   "execution_count": 4,
   "metadata": {
    "slideshow": {
     "slide_type": "notes"
    }
   },
   "outputs": [],
   "source": [
    "from sklearn.model_selection import cross_val_score"
   ]
  },
  {
   "cell_type": "markdown",
   "metadata": {
    "slideshow": {
     "slide_type": "slide"
    }
   },
   "source": [
    "# Interpreting the coefficients in Linear Models\n",
    "\n",
    "This section applies only to Linear models (`LinearRegression`, `LogisticRegression`)\n",
    "\n",
    "It may seem overly specialized, but since these models are used so often, we will spend some time.\n",
    "\n",
    "Also, because we can assign a meaning to the coefficients, these models are highly interpretable."
   ]
  },
  {
   "cell_type": "markdown",
   "metadata": {
    "slideshow": {
     "slide_type": "subslide"
    }
   },
   "source": [
    "## Numeric features\n",
    "For Linear Regression\n",
    "\n",
    "$\n",
    "\\hat{\\y} = \\Theta^T \\cdot \\x = \\sum_{j=1}^n { \\Theta_j * \\x_j }\n",
    "$\n",
    "\n",
    "so for a *unit* change in $\\x_j$:\n",
    "\n",
    "$\n",
    "\\Delta \\hat{\\y}  =  \\Theta_j\n",
    "$\n",
    "\n",
    "Thus\n",
    "$\n",
    "\\Theta_j = { \\partial{\\hat{\\y}} \\over { \\partial{ \\x_j} } }\n",
    "$\n",
    "\n",
    "That is, the coefficient $\\Theta_j$ is the amount $\\hat{\\y}$ changes for a $1$ unit change in $\\x_j$"
   ]
  },
  {
   "cell_type": "markdown",
   "metadata": {
    "slideshow": {
     "slide_type": "subslide"
    }
   },
   "source": [
    "Does this mean that, for two features $j, j'$ if\n",
    "- $\\Theta_j > \\Theta_{j'}$\n",
    "- that feature $j$ is more important than $j'$ ?\n",
    "\n",
    "No.\n",
    "\n",
    "Unless $\\x_j$ and $\\x_{j'}$ are on  same scale (e.g., have been standardized)\n",
    "a change of $1$ unit isn't comparable.\n",
    "\n",
    "For example\n",
    "- $\\x_j$ in miles, $\\x_{j'}$ in inches\n"
   ]
  },
  {
   "cell_type": "markdown",
   "metadata": {
    "slideshow": {
     "slide_type": "subslide"
    }
   },
   "source": [
    "What $\\Theta_j$ *does* tell you is \n",
    "- the direction\n",
    "- and magnitude\n",
    "\n",
    "of\n",
    "how much the prediction changes when the feature changes\n",
    "\n",
    "This can be useful for interpretation\n",
    "- In our housing price premium example: premium *increases* with area since $\\Theta_j > 0$"
   ]
  },
  {
   "cell_type": "markdown",
   "metadata": {
    "slideshow": {
     "slide_type": "subslide"
    }
   },
   "source": [
    "Remember that transformations change units of the variables (features or targets).\n",
    "\n",
    "So the $\\Theta_j$ reflects the sensitivity to the change in the *transformed* units, not the original."
   ]
  },
  {
   "cell_type": "markdown",
   "metadata": {
    "slideshow": {
     "slide_type": "subslide"
    }
   },
   "source": [
    "Recall the target for Logistic Regression was transformed to log odds\n",
    "$$\\y = \\log(\\frac{\\hat{p}}{1 - \\hat{p}})$$\n",
    "\n",
    "So a unit change in feature $\\x_j$ with parameter $\\Theta_j$\n",
    "changes the *odds* $\\frac{\\hat{p}}{1 - \\hat{p}}$ in a *multiplicative* way\n",
    "\n",
    "$$\n",
    "\\log(\\frac{\\hat{p}}{1 - \\hat{p}}) + \\Theta_j = \\log{(\\frac{\\hat{p}}{1 - \\hat{p}} * \\exp{\\Theta_j} ) }\n",
    "$$\n",
    "-"
   ]
  },
  {
   "cell_type": "markdown",
   "metadata": {
    "slideshow": {
     "slide_type": "subslide"
    }
   },
   "source": [
    "### Examples\n",
    "- Log transform of target: \n",
    "    - $\\log{\\y} =   \\Theta_0 + \\Theta_1 * \\x_1  $\n",
    "    - $\\theta_1 = { \\partial{ \\log{\\y} } \\over { \\partial{ \\x_1 } } } = \\% $ change in $\\y$ per unit change in $\\x_1$\n",
    "- Log transform of both target and feature:\n",
    "    - $ \\log{\\y} =  \\Theta_0 + \\Theta_1 * \\log{\\x_1} $   \n",
    "    - $\\Theta_1 = { \\partial{ \\log{\\y} } \\over { \\partial{ \\log{\\x_1} } } } = \\% $ change in $y$ per $\\%$ change in $\\x_1$\n",
    "    \n",
    "- Standardize feature\n",
    "    - Transform $\\x$ into $z_\\x = { { \\x - \\bar{\\x} } \\over { \\sigma_\\x } }$\n",
    "    - $\\y = \\Theta_0 + \\Theta_1 * z_\\x$\n",
    "    - $\\Theta_1 = { \\partial{ \\log{\\y} } \\over { \\partial{ z_\\x } } }$ change in $\\y$ per $1$ standard deviation change in $\\x$\n",
    "        - since $z$ is in units of \"number of standard deviations\"\n",
    "    "
   ]
  },
  {
   "cell_type": "markdown",
   "metadata": {
    "slideshow": {
     "slide_type": "subslide"
    }
   },
   "source": [
    "**Remember**\n",
    "- if you transform features in training, you must apply the same transformation to features in test\n",
    "    - if the transformation is parameterized, the parameters are determined at **train** fit time, not test !\n",
    "- if you transform the target, the prediction is in different units than the original\n",
    "    - you can perform the inverse transformation to get a prediction in original units"
   ]
  },
  {
   "cell_type": "markdown",
   "metadata": {
    "slideshow": {
     "slide_type": "slide"
    }
   },
   "source": [
    "## Categorical features\n",
    "\n",
    "Consider when $x_j$ is a binary categorical feature: $x_j \\in \\{0,1\\}$\n",
    "\n",
    "Then $\\Theta_j$ is the increase in $\\y$ associated with $\\x_j$ being equal to $1$ rather than $0$.\n",
    "\n",
    "Just like with numeric features.\n",
    "\n",
    "Recall our discussion about the dummy variable trap for Linear Regression:\n",
    "- if we have an intercept (with parameter $\\Theta_0$)\n",
    "    - then $\\Theta_0$ is the *contribution* (not increment) to $\\y$ when $\\x_j = 0$\n",
    "    - as you can see from equation $\\y = \\Theta_0 + \\ldots + \\Theta_j * \\x_j$, when $\\x_j = 0$"
   ]
  },
  {
   "cell_type": "markdown",
   "metadata": {
    "slideshow": {
     "slide_type": "subslide"
    }
   },
   "source": [
    "### What's wrong with representing multinomial categorical values as numbers ?\n",
    "\n",
    "We have already given several reasons why representing Categorical features as numeric is a bad idea.\n",
    "\n",
    "Now that we can interpret $\\Theta_j$, we add another reason to the list."
   ]
  },
  {
   "cell_type": "markdown",
   "metadata": {
    "slideshow": {
     "slide_type": "subslide"
    }
   },
   "source": [
    "Let's consider the Passenger Class (`PClass`) variable from the Titanic example:\n",
    "\n",
    "$\n",
    "\\text{PClass} \\in \\{ 1, 2, 3 \\}\n",
    "$\n",
    "\n",
    "- The difference in prediction for \n",
    "    - $(PClass = 1)$ vs $(PClass = 2)$, \n",
    "    - or $(PClass = 2)$ vs $(PClass = 3)$ \n",
    "    - is $\\Theta_{\\text{PClass}}$\n",
    "- BUT the difference in prediction for $PClass = 1$ vs $(PClass = 3)$ is $ 2 \\times \\Theta_{\\text{Pclass}}$\n",
    "    - Is $\\y$ (log odds of Survival) impacted by a factor of 2 ?\n",
    "    - That's what you are saying by representing `PClass` as the integer range $[1,3]$\n",
    "   "
   ]
  },
  {
   "cell_type": "markdown",
   "metadata": {
    "slideshow": {
     "slide_type": "subslide"
    }
   },
   "source": [
    " - What if $\\text{Pclass} \\in \\{ 100, 200, 300 \\}$ ?\n",
    "     - Does changing one class impact log odds of Survival by $100 * \\Theta_{\\text{PClass}}$ ?\n",
    "\n",
    "Categorical variables have neither order nor magnitude; integers have both.\n",
    "\n",
    "Beware of representing Categorical variables with numbers."
   ]
  },
  {
   "cell_type": "markdown",
   "metadata": {
    "slideshow": {
     "slide_type": "slide"
    }
   },
   "source": [
    "## Bucketing/Binning re-visited\n",
    "\n",
    "Suppose $\\x_j$ is a continous numeric feature (e.g., `Age`).\n",
    "\n",
    "Then a 1 year change in `Age` means that $\\y$ changes by $\\Theta_j$.\n",
    "\n",
    "Do you think that 1 year of increase is as important for an adult as for an infant ?\n",
    "- That's what the regression equation is telling you\n",
    "- If not, consider\n",
    "    - Bucketing/Binning continous variables\n",
    "    - Percent changes"
   ]
  },
  {
   "cell_type": "markdown",
   "metadata": {
    "slideshow": {
     "slide_type": "slide"
    }
   },
   "source": [
    "# Interpreting the MNIST classifier: template matching\n",
    "\n",
    "The $\\Theta$ produced by a linear classifier can be viewed as templates\n",
    "- the strength of $\\Theta_j$ tells you how strongly feature $\\x_j$ influences the target\n",
    "\n",
    "So we can interpret $\\Theta$ as a \"template\" for what a model is looking for.\n",
    "\n",
    "Let's look at the template for \n",
    "- The 10 separate, single-digit binary MNIST classifiers\n",
    "- Or similarly: each *row* of $\\Theta$\n",
    "for the multinomial 10 class MNIST classifier\n",
    "\n"
   ]
  },
  {
   "cell_type": "markdown",
   "metadata": {
    "slideshow": {
     "slide_type": "subslide"
    }
   },
   "source": [
    "Here's the training data"
   ]
  },
  {
   "cell_type": "code",
   "execution_count": 5,
   "metadata": {
    "slideshow": {
     "slide_type": "subslide"
    }
   },
   "outputs": [
    {
     "name": "stdout",
     "output_type": "stream",
     "text": [
      "Retrieving MNIST_784 from cache\n"
     ]
    },
    {
     "data": {
      "image/png": "[encoded data removed]",
      "text/plain": [
       "<Figure size 720x720 with 25 Axes>"
      ]
     },
     "metadata": {
      "needs_background": "light"
     },
     "output_type": "display_data"
    }
   ],
   "source": [
    "mnh.setup()\n",
    "mnh.visualize()"
   ]
  },
  {
   "cell_type": "markdown",
   "metadata": {
    "slideshow": {
     "slide_type": "subslide"
    }
   },
   "source": [
    "Let's fit a `LogisticRegression` model and examine the templates (coefficients $\\Theta$)"
   ]
  },
  {
   "cell_type": "code",
   "execution_count": 6,
   "metadata": {
    "slideshow": {
     "slide_type": "subslide"
    }
   },
   "outputs": [
    {
     "name": "stdout",
     "output_type": "stream",
     "text": [
      "Example run in 3.128 s\n"
     ]
    },
    {
     "data": {
      "text/plain": [
       "LogisticRegression(C=0.01, class_weight=None, dual=False, fit_intercept=True,\n",
       "          intercept_scaling=1, max_iter=100, multi_class='multinomial',\n",
       "          n_jobs=None, penalty='l2', random_state=None, solver='saga',\n",
       "          tol=0.1, verbose=0, warm_start=False)"
      ]
     },
     "execution_count": 6,
     "metadata": {},
     "output_type": "execute_result"
    },
    {
     "name": "stderr",
     "output_type": "stream",
     "text": [
      "/home/kjp/anaconda3/lib/python3.7/site-packages/matplotlib/figure.py:445: UserWarning: Matplotlib is currently using module://ipykernel.pylab.backend_inline, which is a non-GUI backend, so cannot show the figure.\n",
      "  % get_backend())\n"
     ]
    },
    {
     "data": {
      "image/png": "[encoded data removed]",
      "text/plain": [
       "<Figure size 720x576 with 10 Axes>"
      ]
     },
     "metadata": {},
     "output_type": "display_data"
    }
   ],
   "source": [
    "mnh.fit()\n",
    "mnist_fig, mnist_ax = mnh.plot_coeff()"
   ]
  },
  {
   "cell_type": "markdown",
   "metadata": {
    "slideshow": {
     "slide_type": "subslide"
    }
   },
   "source": [
    "Recall\n",
    "- There is one parameter per pixel\n",
    "- The parameters are ordered in the same way as the linearization of the pixels\n",
    "    - from $(28 \\times 28)$ grid to a vector of 784 numbers.\n",
    "- We can display the 784 parameters in a $(28 \\times 28)$ image to show the intensity of parameter associated with a pixel\n",
    "- White is high parameter value; Black is low (or negative)"
   ]
  },
  {
   "cell_type": "markdown",
   "metadata": {
    "slideshow": {
     "slide_type": "subslide"
    }
   },
   "source": [
    "- The template for $0$ emphasizes small values (absence of bright pixels) in the center of the image\n",
    "- The template for $1$ emphasizes bright vertical pixels\n",
    "- The template for $8$ emphasizes the absence of bright pixels\n",
    "    - in the two circles\n",
    "    - in the pinched waist"
   ]
  },
  {
   "cell_type": "markdown",
   "metadata": {
    "slideshow": {
     "slide_type": "subslide"
    }
   },
   "source": [
    "You can now imagine how these templates might lead to misclassification\n",
    "\n",
    "What is the classification of\n",
    "- a \"7\" with a strong vertical line in the center (that's what the \"1\" template tries to match)\n",
    "- a thin \"0\" (the \"0\" template is looking for a large donut)\n",
    "\n",
    "So interpretation is a very powerful diagnostic tool for both understanding and improving your models."
   ]
  },
  {
   "cell_type": "code",
   "execution_count": 7,
   "metadata": {
    "slideshow": {
     "slide_type": "slide"
    }
   },
   "outputs": [
    {
     "name": "stdout",
     "output_type": "stream",
     "text": [
      "Done\n"
     ]
    }
   ],
   "source": [
    "print(\"Done\")"
   ]
  }
 ],
 "metadata": {
  "celltoolbar": "Slideshow",
  "kernelspec": {
   "display_name": "Python 3",
   "language": "python",
   "name": "python3"
  },
  "language_info": {
   "codemirror_mode": {
    "name": "ipython",
    "version": 3
   },
   "file_extension": ".py",
   "mimetype": "text/x-python",
   "name": "python",
   "nbconvert_exporter": "python",
   "pygments_lexer": "ipython3",
   "version": "3.7.1"
  },
  "toc": {
   "base_numbering": 1,
   "nav_menu": {},
   "number_sections": true,
   "sideBar": true,
   "skip_h1_title": false,
   "title_cell": "Table of Contents",
   "title_sidebar": "Contents",
   "toc_cell": false,
   "toc_position": {
    "height": "calc(100% - 180px)",
    "left": "10px",
    "top": "150px",
    "width": "370.594px"
   },
   "toc_section_display": true,
   "toc_window_display": false
  }
 },
 "nbformat": 4,
 "nbformat_minor": 2
}
