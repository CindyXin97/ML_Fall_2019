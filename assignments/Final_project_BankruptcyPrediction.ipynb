{
 "cells": [
  {
   "cell_type": "markdown",
   "metadata": {},
   "source": [
    "# Final project: Bankruptcy prediction\n",
    "\n",
    "# Objectives\n",
    "\n",
    "You will demonstrate your strengths in several areas, especially\n",
    "- Exploratory Data Analysis\n",
    "- Feature Engineering\n",
    "- Creating, testing and evaluating models\n",
    "- Error analysis\n",
    "and Prediction **using Neural Networks**.\n"
   ]
  },
  {
   "cell_type": "markdown",
   "metadata": {},
   "source": [
    "# The data\n",
    "\n",
    "The problem you will solve is identical to that of the Midterm Project, but with expanded data.\n",
    "\n",
    "As explained in the Final Project Overview:\n",
    "- you will be given a data directory for training: `data/final_project/bankruptcy/train`\n",
    "\n",
    "The data directory will contain one file per year.\n",
    "- There are 5 years refered to as 1 through 5\n",
    "- Files named: `1st_yr.csv,  2nd_yr.csv,  3rd_yr.csv,  4th_yr.csv,  5th_yr.csv`\n",
    "- Let $i \\in \\{1, 2, 3, 4, 5 \\}$.  The data in the file for year $-i$ contains\n",
    "    - contains company characteristics for year $i$\n",
    "    - the Bankruptcy field indicates whether the company is Bankrupt/Not Bankrupt in **year 6**\n",
    "        - for year 1 (`1st.csv`), whether the company survives for 5 more years to **year 6**\n",
    "        - for year 2 (`2nd.csv`), whether the company survives for 4 more years to **year 6**\n",
    "        - and so forth\n",
    "\n",
    "        \n",
    "By comparison: for the Midterm project you were given data for year 5.\n",
    "- the single file for the Midterm project indicated survival in the year ahead\n",
    "\n",
    "You will need to \n",
    "- decide which files and which fields to use\n",
    "- prepare the data for training and testing\n"
   ]
  },
  {
   "cell_type": "markdown",
   "metadata": {},
   "source": [
    "# Out of sample evaluation\n",
    "\n",
    "*You*  should test your models out of sample.\n",
    "\n",
    "This will be beneficial as *we* will evaluate your model out of sample using a holdout data directory.\n",
    "\n",
    "It is up to you to decide on the out of sample data that you use for model development.\n",
    "\n"
   ]
  },
  {
   "cell_type": "markdown",
   "metadata": {},
   "source": [
    "**The training data directory is highly imbalanced**\n",
    "- You should expect the holdout data directory to be more balanced\n",
    "- So you should strive to predict well on the minority class"
   ]
  },
  {
   "cell_type": "markdown",
   "metadata": {},
   "source": [
    "# Suggestion\n",
    "\n",
    "- Training, test, and holdout directories should all be similar\n",
    "- It might be best for  you to write a single procedure that takes a directory name and prepares the data\n",
    "    - If you use the same procedure for training, test, and holdout you are less likely to make mistakes."
   ]
  },
  {
   "cell_type": "markdown",
   "metadata": {},
   "source": [
    "# Submission\n",
    "\n",
    "You will submit a *single* model for evaluation.\n",
    "\n",
    "We will run this model on the holdout data directory (which we don't provide)\n",
    "- the holdout data directory will be very similar to training but without targets\n",
    "- your model should produce a prediction for each example in the holdout directory\n",
    "- you can test your submission on the following dummy holdout directory: \n",
    "    - `data/final_project/bankruptcy/sample`\n",
    "    "
   ]
  },
  {
   "cell_type": "markdown",
   "metadata": {},
   "source": [
    "# Final reminder: document your thought process\n",
    "\n",
    "The real criteria is to show us your mastery of the Machine Learning process.\n",
    "\n",
    "Documenting failed experiments (from which you learned something) is just as important as the final result.\n",
    "\n",
    "Show your process !"
   ]
  }
 ],
 "metadata": {
  "kernelspec": {
   "display_name": "Python 3",
   "language": "python",
   "name": "python3"
  },
  "language_info": {
   "codemirror_mode": {
    "name": "ipython",
    "version": 3
   },
   "file_extension": ".py",
   "mimetype": "text/x-python",
   "name": "python",
   "nbconvert_exporter": "python",
   "pygments_lexer": "ipython3",
   "version": "3.7.1"
  },
  "toc": {
   "base_numbering": 1,
   "nav_menu": {},
   "number_sections": true,
   "sideBar": true,
   "skip_h1_title": false,
   "title_cell": "Table of Contents",
   "title_sidebar": "Contents",
   "toc_cell": false,
   "toc_position": {},
   "toc_section_display": true,
   "toc_window_display": false
  }
 },
 "nbformat": 4,
 "nbformat_minor": 2
}
