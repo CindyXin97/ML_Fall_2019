{
 "cells": [
  {
   "cell_type": "markdown",
   "metadata": {},
   "source": [
    "# Final Project: Overview\n",
    "\n",
    "# Objective\n",
    "\n",
    "The objective of this project is for you to demonstrate your mastery of the Machine Learning process\n",
    "**using Neural Networks**.\n",
    "\n",
    "# Two projects to choose from\n",
    "\n",
    "You can choose one of two projects.\n",
    "\n",
    "The grading criteria is different across the two projects, to compensate for relative difficulty.\n",
    "\n",
    "- Bankruptcy prediction \n",
    "    - revisit the Midterm project, using more data, in the context of Neural Networks\n",
    "    - more structured, less difficult project\n",
    "    - 100 points maximum\n",
    "        - an \"adequate\" submission earns 90 points\n",
    "        - you need a very good submission to earn the full 100 points\n",
    "- Stock prediction\n",
    "    - very challenging\n",
    "    - less structured, lots of opportunity to be creative and show off your skills\n",
    "    - 130 points maximum\n",
    "        - a \"good\" submission earns 100 points\n",
    "        - extra creativity earns extra points"
   ]
  },
  {
   "cell_type": "markdown",
   "metadata": {},
   "source": [
    "# Submission requirements\n",
    "\n",
    "We will publish detailed submission guidelines in the near future but it will be similar to the Midterm\n",
    "- you will write a procedure that takes raw data and produces predictions\n",
    "\n",
    "\n",
    "You will submit a *single* model for evaluation.\n",
    "\n",
    "**Demonstrate that all cells in your notebook work**\n",
    "\n",
    "The final cell in your notebook should print the message \"Done\"\n",
    "- `print(\"Done\")`\n",
    "- If we run your notebook and this last cell does not execute your submission will be inadequate\n",
    "\n",
    "## Testing\n",
    "\n",
    "*You must perform out of sample testing*.\n",
    "\n",
    "If you want to perform cross-validation in training, that is fine, but you\n",
    "must *also* test out of sample to show that you are not over-fitting.\n",
    "\n",
    "It is up to you to create the out of sample data that you feel best evaluates your model.\n",
    "\n",
    "We will create holdout data (that we will not show you) for grading.\n",
    "\n",
    "The procedure you write to make predictions should be able to work on the unseen holdout data\n",
    "(similar to how it should work for your test set but the holdout set has *no targets*)\n",
    "\n",
    "    "
   ]
  },
  {
   "cell_type": "markdown",
   "metadata": {},
   "source": [
    "# The data\n",
    "\n",
    "Data will be provided to you in a *different* manner than  you have become used to:\n",
    "- as multiple files in a directory which we refer to as a *data directory*\n",
    "\n",
    "The reason for this is that the different files may convey different information.\n",
    "\n",
    "You will be responsible for deciding\n",
    "- which files to use\n",
    "- which fields within the files to use\n",
    "\n",
    "We will give you a data directory for training.\n",
    "\n",
    "# Submission guidelines to follow\n",
    "\n",
    "We will provide precise guidelines in the near future but here are the basics\n",
    "- you will be required to write a procedure that takes at least one argument `dataDir`\n",
    "- we will give you the name of a data directory with holdout data\n",
    "    - the holdout data directory is similar in structure to the training data directory\n",
    "        - but without target labels !  It is your job to predict these.\n",
    "- your procedure must produce predictions given this holdout data directory\n",
    "\n",
    "This means that your procedure must\n",
    "- prepare the files in the holdout data directory similar to the way that they were prepared in the training data directory\n",
    "\n",
    "We will provide you with a sample data directory that will resemble the holdout -- this is so that you\n",
    "may test the procedure you write for submission.\n",
    "\n"
   ]
  },
  {
   "cell_type": "markdown",
   "metadata": {},
   "source": []
  }
 ],
 "metadata": {
  "kernelspec": {
   "display_name": "Python 3",
   "language": "python",
   "name": "python3"
  },
  "language_info": {
   "codemirror_mode": {
    "name": "ipython",
    "version": 3
   },
   "file_extension": ".py",
   "mimetype": "text/x-python",
   "name": "python",
   "nbconvert_exporter": "python",
   "pygments_lexer": "ipython3",
   "version": "3.7.1"
  },
  "toc": {
   "base_numbering": 1,
   "nav_menu": {},
   "number_sections": true,
   "sideBar": true,
   "skip_h1_title": false,
   "title_cell": "Table of Contents",
   "title_sidebar": "Contents",
   "toc_cell": false,
   "toc_position": {},
   "toc_section_display": true,
   "toc_window_display": false
  }
 },
 "nbformat": 4,
 "nbformat_minor": 2
}
