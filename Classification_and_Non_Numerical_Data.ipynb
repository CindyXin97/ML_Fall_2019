{
 "cells": [
  {
   "cell_type": "code",
   "execution_count": 1,
   "metadata": {
    "slideshow": {
     "slide_type": "notes"
    }
   },
   "outputs": [
    {
     "data": {
      "text/latex": [
       "$$\n",
       "\\newcommand{\\x}{\\mathbf{x}}\n",
       "\\newcommand{\\y}{\\mathbf{y}}\n",
       "\\newcommand{\\b}{\\mathbf{b}}\n",
       "\\newcommand{\\c}{\\mathbf{c}}\n",
       "\\newcommand{\\z}{\\mathbf{z}}\n",
       "\\newcommand{\\h}{\\mathbf{h}}\n",
       "\\newcommand{\\w}{\\mathbf{w}}\n",
       "\\newcommand{\\W}{\\mathbf{W}}\n",
       "\\newcommand{\\X}{\\mathbf{X}}\n",
       "\\newcommand{\\KL}{\\mathbf{KL}}\n",
       "\\newcommand{\\E}{{\\mathbb{E}}}\n",
       "\\newcommand{\\ip}{\\mathbf{{(i)}}}\n",
       "% \\ll indexes a layer; we can change the actual letter\n",
       "\\newcommand{\\ll}{l}\n",
       "\\newcommand{\\llp}{(\\ll)}\n",
       "%\n",
       "\\newcommand{\\tp}{\\mathbf{{(t)}}}\n",
       "\\newcommand{\\loss}{\\mathcal{L}}\n",
       "\\newcommand{\\cost}{\\mathcal{L}}\n",
       "%\n",
       "% Functions with arguments\n",
       "\\def\\xsy#1#2{#1^#2}\n",
       "\\def\\rand#1{\\tilde{#1}}\n",
       "\\def\\randx{\\rand{\\x}}\n",
       "\\def\\randy{\\rand{\\y}}\n",
       "%\n",
       "\\def\\argmax#1{\\underset{#1} {\\operatorname{argmax}} }\n",
       "\\def\\argmin#1{\\underset{#1} {\\operatorname{argmin}} }\n",
       "%\n",
       "\\def\\pr#1{\\mathcal{p}(#1)}\n",
       "$$\n"
      ],
      "text/plain": [
       "<IPython.core.display.Latex object>"
      ]
     },
     "metadata": {},
     "output_type": "display_data"
    },
    {
     "name": "stdout",
     "output_type": "stream",
     "text": [
      "Macro `_latex_std_` created. To execute, type its name (without quotes).\n",
      "=== Macro contents: ===\n",
      "get_ipython().run_line_magic('run', 'Latex_macros.ipynb')\n",
      " "
     ]
    }
   ],
   "source": [
    "%run Latex_macros.ipynb"
   ]
  },
  {
   "cell_type": "code",
   "execution_count": 2,
   "metadata": {
    "slideshow": {
     "slide_type": "notes"
    }
   },
   "outputs": [],
   "source": [
    "# My standard magic !  You will see this in almost all my notebooks.\n",
    "\n",
    "from IPython.core.interactiveshell import InteractiveShell\n",
    "InteractiveShell.ast_node_interactivity = \"all\"\n",
    "\n",
    "# Reload all modules imported with %aimport\n",
    "%load_ext autoreload\n",
    "%autoreload 1\n",
    "\n",
    "%matplotlib inline"
   ]
  },
  {
   "cell_type": "code",
   "execution_count": 3,
   "metadata": {
    "slideshow": {
     "slide_type": "notes"
    }
   },
   "outputs": [],
   "source": [
    "# Standard imports\n",
    "import pandas as pd\n",
    "import numpy as np\n",
    "import matplotlib.pyplot as plt\n",
    "\n",
    "# Common imports\n",
    "import os\n",
    "\n",
    "import mnist_helper\n",
    "%aimport mnist_helper\n",
    "\n",
    "mnh = mnist_helper.MNIST_Helper()\n",
    "\n",
    "import class_helper\n",
    "%aimport class_helper\n",
    "\n",
    "clh= class_helper.Classification_Helper()\n",
    "\n",
    "import training_models_helper as tmh\n",
    "%aimport training_models_helper\n",
    "\n",
    "tm = tmh.TrainingModelsHelper()"
   ]
  },
  {
   "cell_type": "markdown",
   "metadata": {
    "slideshow": {
     "slide_type": "slide"
    }
   },
   "source": [
    "# Overview\n",
    "\n",
    "## Goals\n",
    "\n",
    "- In-depth exploration of Classification task\n",
    "    - the target of the Classification task is a categorical variable\n",
    "\n",
    "- Dealing with categorical variables\n",
    "    - discrete *unordered* values, rather than continous as in Regression task\n"
   ]
  },
  {
   "cell_type": "markdown",
   "metadata": {
    "slideshow": {
     "slide_type": "subslide"
    }
   },
   "source": [
    "## Plan\n",
    "\n",
    "- Introduce the Titanic challenge\n",
    "    - driving example for Classification\n",
    "    - categorical target\n",
    "    - some categorical features\n",
    "\n",
    "- First pass at the challenge\n",
    "    - Naive approach, but makes the points\n",
    "    - Restrict to **binary** categorical target/features (ony two discrete choices)\n",
    "    \n",
    "- Generalize to\n",
    "    - multinomial targets (categorical with more than 2 choices)\n",
    "    - categorical features with more than 2 classes\n"
   ]
  },
  {
   "cell_type": "markdown",
   "metadata": {
    "slideshow": {
     "slide_type": "subslide"
    }
   },
   "source": [
    "# Categorical data\n",
    "\n",
    "A categorical variable\n",
    "- has a finite number of discrete values\n",
    "    - call each value a *category* or *class* (e.g., classification)\n",
    "- There is *no* ordering relationship between categories\n",
    "    - { \"Red\", \"Green\", \"Blue\" }  (set notation)\n",
    "    - versus [ \"Small\", \"Medium\", \"Large\" ] (sequence notation)\n",
    "        - *ordinal* if there is an ordering relationship, even in the absence of a magnitude\n",
    "\n",
    "The Classification task has a categorical target"
   ]
  },
  {
   "cell_type": "markdown",
   "metadata": {
    "slideshow": {
     "slide_type": "slide"
    }
   },
   "source": [
    "# Binary Classification: the Titanic challenge\n",
    "\n",
    "We will introduce the Classification task using an historical event: the sinking of the Titanic.\n",
    "\n",
    "(Also the subject of a famous movies)\n",
    "\n",
    "Our task: given attributes of a passenger on the ship, predict whether the passenger survived.\n",
    "\n",
    "\n",
    "This is a  *binary* classification problem as there are only two elements in the target class.\n",
    "\n",
    "In general, there may be more than two categories: *Multinomial (or multi-class) classifiction*\n",
    "\n",
    "Once you know how to do binary classification, it is easily adapted to multinomial classification.\n",
    "  "
   ]
  },
  {
   "cell_type": "markdown",
   "metadata": {
    "slideshow": {
     "slide_type": "slide"
    }
   },
   "source": [
    "## Problem statement\n",
    "\n",
    "We will follow the Recipe for Machine Learning that we introduced last lecture.\n",
    "\n",
    "First step: Problem statement -- borrowed  from [Wikipedia](https://en.wikipedia.org/wiki/RMS_Titanic)\n",
    "\n",
    ">RMS Titanic was a British passenger liner that sank in the North Atlantic Ocean in 1912 after the ship struck an iceberg during her maiden voyage from Southampton to New York City. Of the estimated 2,224 passengers and crew aboard, more than 1,500 died, making it one of modern history's deadliest peacetime commercial marine disasters\n",
    "\n",
    "\n",
    "The goal is to predict whether a passenger survives, based on passenger characteristics.\n",
    "- target: { \"Survive\", \"Not Survive\" }\n",
    "- features: vector of passenger characteristics"
   ]
  },
  {
   "cell_type": "markdown",
   "metadata": {
    "slideshow": {
     "slide_type": "slide"
    }
   },
   "source": [
    "**Aside:** What does the Titanic have to do with Finance or Risk ?\n",
    "- Defaults (Survival probability of a corporation)\n",
    "    - Credit risk\n",
    "- Mortgage pre-payment"
   ]
  },
  {
   "cell_type": "markdown",
   "metadata": {
    "slideshow": {
     "slide_type": "slide"
    }
   },
   "source": [
    "## Performance measure\n",
    "\n",
    "Our performance measure will be **accuracy**, the fraction of correct predictions.\n",
    "\n",
    "$$\n",
    "\\textrm{Accuracy} = \\frac{\\textrm{number of correct predictions}}{\\textrm{number of predictions} }\n",
    "$$\n",
    "\n",
    "There are several drawbacks with this definition, which we will address later.\n",
    "\n",
    "But let's start with it for now."
   ]
  },
  {
   "cell_type": "markdown",
   "metadata": {
    "slideshow": {
     "slide_type": "slide"
    }
   },
   "source": [
    "## The Data\n",
    "\n",
    "### Get the data\n",
    "The data comes in two CSV format files\n",
    "- train\n",
    "- test\n",
    "\n",
    "We will read them into a Pandas DataFrame.\n",
    "- Observe our use of *relative paths* for file names\n",
    "- Using relative rather than absolute paths is a requirement of your assignments!"
   ]
  },
  {
   "cell_type": "markdown",
   "metadata": {
    "slideshow": {
     "slide_type": "slide"
    }
   },
   "source": [
    "### Initial Data Exploration"
   ]
  },
  {
   "cell_type": "code",
   "execution_count": 4,
   "metadata": {
    "slideshow": {
     "slide_type": "subslide"
    }
   },
   "outputs": [],
   "source": [
    "# Note the use of *relative path*; your assignments should all use relative rather than absolute paths\n",
    "TITANIC_PATH = os.path.join(\"./external/jack-dies\", \"data\")\n",
    "\n",
    "train_data = pd.read_csv( os.path.join(TITANIC_PATH, \"train.csv\") )\n",
    "test_data  = pd.read_csv( os.path.join(TITANIC_PATH, \"test.csv\")  )\n"
   ]
  },
  {
   "cell_type": "markdown",
   "metadata": {
    "slideshow": {
     "slide_type": "slide"
    }
   },
   "source": [
    "#### First look\n",
    "\n",
    "Let's examine the first few records to get a feel for the shape of the data.\n",
    "\n",
    "This will help us understand the features and the target."
   ]
  },
  {
   "cell_type": "code",
   "execution_count": 5,
   "metadata": {
    "slideshow": {
     "slide_type": "subslide"
    }
   },
   "outputs": [
    {
     "data": {
      "text/plain": [
       "Index(['PassengerId', 'Survived', 'Pclass', 'Name', 'Sex', 'Age', 'SibSp',\n",
       "       'Parch', 'Ticket', 'Fare', 'Cabin', 'Embarked'],\n",
       "      dtype='object')"
      ]
     },
     "execution_count": 5,
     "metadata": {},
     "output_type": "execute_result"
    },
    {
     "data": {
      "text/html": [
       "<div>\n",
       "<style scoped>\n",
       "    .dataframe tbody tr th:only-of-type {\n",
       "        vertical-align: middle;\n",
       "    }\n",
       "\n",
       "    .dataframe tbody tr th {\n",
       "        vertical-align: top;\n",
       "    }\n",
       "\n",
       "    .dataframe thead th {\n",
       "        text-align: right;\n",
       "    }\n",
       "</style>\n",
       "<table border=\"1\" class=\"dataframe\">\n",
       "  <thead>\n",
       "    <tr style=\"text-align: right;\">\n",
       "      <th></th>\n",
       "      <th>PassengerId</th>\n",
       "      <th>Survived</th>\n",
       "      <th>Pclass</th>\n",
       "      <th>Name</th>\n",
       "      <th>Sex</th>\n",
       "      <th>Age</th>\n",
       "      <th>SibSp</th>\n",
       "      <th>Parch</th>\n",
       "      <th>Ticket</th>\n",
       "      <th>Fare</th>\n",
       "      <th>Cabin</th>\n",
       "      <th>Embarked</th>\n",
       "    </tr>\n",
       "  </thead>\n",
       "  <tbody>\n",
       "    <tr>\n",
       "      <th>0</th>\n",
       "      <td>1</td>\n",
       "      <td>0</td>\n",
       "      <td>3</td>\n",
       "      <td>Braund, Mr. Owen Harris</td>\n",
       "      <td>male</td>\n",
       "      <td>22.0</td>\n",
       "      <td>1</td>\n",
       "      <td>0</td>\n",
       "      <td>A/5 21171</td>\n",
       "      <td>7.2500</td>\n",
       "      <td>NaN</td>\n",
       "      <td>S</td>\n",
       "    </tr>\n",
       "    <tr>\n",
       "      <th>1</th>\n",
       "      <td>2</td>\n",
       "      <td>1</td>\n",
       "      <td>1</td>\n",
       "      <td>Cumings, Mrs. John Bradley (Florence Briggs Th...</td>\n",
       "      <td>female</td>\n",
       "      <td>38.0</td>\n",
       "      <td>1</td>\n",
       "      <td>0</td>\n",
       "      <td>PC 17599</td>\n",
       "      <td>71.2833</td>\n",
       "      <td>C85</td>\n",
       "      <td>C</td>\n",
       "    </tr>\n",
       "    <tr>\n",
       "      <th>2</th>\n",
       "      <td>3</td>\n",
       "      <td>1</td>\n",
       "      <td>3</td>\n",
       "      <td>Heikkinen, Miss. Laina</td>\n",
       "      <td>female</td>\n",
       "      <td>26.0</td>\n",
       "      <td>0</td>\n",
       "      <td>0</td>\n",
       "      <td>STON/O2. 3101282</td>\n",
       "      <td>7.9250</td>\n",
       "      <td>NaN</td>\n",
       "      <td>S</td>\n",
       "    </tr>\n",
       "    <tr>\n",
       "      <th>3</th>\n",
       "      <td>4</td>\n",
       "      <td>1</td>\n",
       "      <td>1</td>\n",
       "      <td>Futrelle, Mrs. Jacques Heath (Lily May Peel)</td>\n",
       "      <td>female</td>\n",
       "      <td>35.0</td>\n",
       "      <td>1</td>\n",
       "      <td>0</td>\n",
       "      <td>113803</td>\n",
       "      <td>53.1000</td>\n",
       "      <td>C123</td>\n",
       "      <td>S</td>\n",
       "    </tr>\n",
       "    <tr>\n",
       "      <th>4</th>\n",
       "      <td>5</td>\n",
       "      <td>0</td>\n",
       "      <td>3</td>\n",
       "      <td>Allen, Mr. William Henry</td>\n",
       "      <td>male</td>\n",
       "      <td>35.0</td>\n",
       "      <td>0</td>\n",
       "      <td>0</td>\n",
       "      <td>373450</td>\n",
       "      <td>8.0500</td>\n",
       "      <td>NaN</td>\n",
       "      <td>S</td>\n",
       "    </tr>\n",
       "  </tbody>\n",
       "</table>\n",
       "</div>"
      ],
      "text/plain": [
       "   PassengerId  Survived  Pclass  \\\n",
       "0            1         0       3   \n",
       "1            2         1       1   \n",
       "2            3         1       3   \n",
       "3            4         1       1   \n",
       "4            5         0       3   \n",
       "\n",
       "                                                Name     Sex   Age  SibSp  \\\n",
       "0                            Braund, Mr. Owen Harris    male  22.0      1   \n",
       "1  Cumings, Mrs. John Bradley (Florence Briggs Th...  female  38.0      1   \n",
       "2                             Heikkinen, Miss. Laina  female  26.0      0   \n",
       "3       Futrelle, Mrs. Jacques Heath (Lily May Peel)  female  35.0      1   \n",
       "4                           Allen, Mr. William Henry    male  35.0      0   \n",
       "\n",
       "   Parch            Ticket     Fare Cabin Embarked  \n",
       "0      0         A/5 21171   7.2500   NaN        S  \n",
       "1      0          PC 17599  71.2833   C85        C  \n",
       "2      0  STON/O2. 3101282   7.9250   NaN        S  \n",
       "3      0            113803  53.1000  C123        S  \n",
       "4      0            373450   8.0500   NaN        S  "
      ]
     },
     "execution_count": 5,
     "metadata": {},
     "output_type": "execute_result"
    }
   ],
   "source": [
    "train_data.columns\n",
    "train_data.head()"
   ]
  },
  {
   "cell_type": "markdown",
   "metadata": {
    "slideshow": {
     "slide_type": "subslide"
    }
   },
   "source": [
    "The attributes have the following meaning:\n",
    "* **Survived**: that's the target\n",
    "    - 0 means passenger did not survive\n",
    "    - 1 means passenger survived.\n",
    "* **Pclass**: passenger class.\n",
    "* **Name**, **Sex**, **Age**: self-explanatory\n",
    "* **SibSp**: how many siblings & spouses of the passenger aboard the Titanic.\n",
    "* **Parch**: how many children & parents of the passenger aboard the Titanic.\n",
    "* **Ticket**: ticket id\n",
    "* **Fare**: price paid (in pounds)\n",
    "* **Cabin**: passenger's cabin number\n",
    "* **Embarked**: where the passenger embarked the Titanic"
   ]
  },
  {
   "cell_type": "markdown",
   "metadata": {
    "slideshow": {
     "slide_type": "slide"
    }
   },
   "source": [
    "How many observation are there ?\n"
   ]
  },
  {
   "cell_type": "code",
   "execution_count": 6,
   "metadata": {
    "slideshow": {
     "slide_type": "subslide"
    }
   },
   "outputs": [
    {
     "name": "stdout",
     "output_type": "stream",
     "text": [
      "There are 891 observations and 12 attributes (including the target)\n"
     ]
    }
   ],
   "source": [
    "(num_obs, num_features) = train_data.shape\n",
    "print(\"There are {nr} observations and {nf} attributes (including the target)\".format(nr=num_obs, nf=num_features) )"
   ]
  },
  {
   "cell_type": "markdown",
   "metadata": {
    "slideshow": {
     "slide_type": "subslide"
    }
   },
   "source": [
    "The first thing to notice is that we have many fewer examples than the number of passengers\n",
    "indicated in the problem statement.\n",
    "\n",
    "We'll ignore this for now.\n",
    "\n",
    "Let's try to understand the types of the attributes"
   ]
  },
  {
   "cell_type": "code",
   "execution_count": 7,
   "metadata": {
    "slideshow": {
     "slide_type": "subslide"
    }
   },
   "outputs": [
    {
     "name": "stdout",
     "output_type": "stream",
     "text": [
      "<class 'pandas.core.frame.DataFrame'>\n",
      "RangeIndex: 891 entries, 0 to 890\n",
      "Data columns (total 12 columns):\n",
      "PassengerId    891 non-null int64\n",
      "Survived       891 non-null int64\n",
      "Pclass         891 non-null int64\n",
      "Name           891 non-null object\n",
      "Sex            891 non-null object\n",
      "Age            714 non-null float64\n",
      "SibSp          891 non-null int64\n",
      "Parch          891 non-null int64\n",
      "Ticket         891 non-null object\n",
      "Fare           891 non-null float64\n",
      "Cabin          204 non-null object\n",
      "Embarked       889 non-null object\n",
      "dtypes: float64(2), int64(5), object(5)\n",
      "memory usage: 83.6+ KB\n"
     ]
    }
   ],
   "source": [
    "train_data.info()"
   ]
  },
  {
   "cell_type": "markdown",
   "metadata": {
    "slideshow": {
     "slide_type": "subslide"
    }
   },
   "source": [
    "**Non-numeric attributes**\n",
    "\n",
    "We can see the non-numeric attributes (type is \"object\") are:\n",
    "- `Name`\n",
    "- `Sex`\n",
    "- `Cabin`\n",
    "- `Embarked`"
   ]
  },
  {
   "cell_type": "markdown",
   "metadata": {
    "slideshow": {
     "slide_type": "slide"
    }
   },
   "source": [
    "**Data issues: missing attributes**\n",
    "\n",
    "We can also see that we have some missing data issues to deal with.\n",
    "\n",
    "Any attribute with less than num_obs values has observations with a missing value in the attribute\n",
    "- `Age`\n",
    "- `Cabin`\n",
    "- `Embarked`\n",
    "\n",
    "**Other issues**\n",
    "- Shouldn't `Survived` be categorial rather than numeric ?\n",
    "    - What about `Pclass` (we will re-visit)\n"
   ]
  },
  {
   "cell_type": "markdown",
   "metadata": {
    "slideshow": {
     "slide_type": "slide"
    }
   },
   "source": [
    "Let's get a sense of the distribution of each attribute\n",
    "\n",
    "(n.b., `describe` operates *only* on the numeric attributes)"
   ]
  },
  {
   "cell_type": "code",
   "execution_count": 8,
   "metadata": {
    "slideshow": {
     "slide_type": "subslide"
    }
   },
   "outputs": [
    {
     "data": {
      "text/html": [
       "<div>\n",
       "<style scoped>\n",
       "    .dataframe tbody tr th:only-of-type {\n",
       "        vertical-align: middle;\n",
       "    }\n",
       "\n",
       "    .dataframe tbody tr th {\n",
       "        vertical-align: top;\n",
       "    }\n",
       "\n",
       "    .dataframe thead th {\n",
       "        text-align: right;\n",
       "    }\n",
       "</style>\n",
       "<table border=\"1\" class=\"dataframe\">\n",
       "  <thead>\n",
       "    <tr style=\"text-align: right;\">\n",
       "      <th></th>\n",
       "      <th>PassengerId</th>\n",
       "      <th>Survived</th>\n",
       "      <th>Pclass</th>\n",
       "      <th>Age</th>\n",
       "      <th>SibSp</th>\n",
       "      <th>Parch</th>\n",
       "      <th>Fare</th>\n",
       "    </tr>\n",
       "  </thead>\n",
       "  <tbody>\n",
       "    <tr>\n",
       "      <th>count</th>\n",
       "      <td>891.000000</td>\n",
       "      <td>891.000000</td>\n",
       "      <td>891.000000</td>\n",
       "      <td>714.000000</td>\n",
       "      <td>891.000000</td>\n",
       "      <td>891.000000</td>\n",
       "      <td>891.000000</td>\n",
       "    </tr>\n",
       "    <tr>\n",
       "      <th>mean</th>\n",
       "      <td>446.000000</td>\n",
       "      <td>0.383838</td>\n",
       "      <td>2.308642</td>\n",
       "      <td>29.699118</td>\n",
       "      <td>0.523008</td>\n",
       "      <td>0.381594</td>\n",
       "      <td>32.204208</td>\n",
       "    </tr>\n",
       "    <tr>\n",
       "      <th>std</th>\n",
       "      <td>257.353842</td>\n",
       "      <td>0.486592</td>\n",
       "      <td>0.836071</td>\n",
       "      <td>14.526497</td>\n",
       "      <td>1.102743</td>\n",
       "      <td>0.806057</td>\n",
       "      <td>49.693429</td>\n",
       "    </tr>\n",
       "    <tr>\n",
       "      <th>min</th>\n",
       "      <td>1.000000</td>\n",
       "      <td>0.000000</td>\n",
       "      <td>1.000000</td>\n",
       "      <td>0.420000</td>\n",
       "      <td>0.000000</td>\n",
       "      <td>0.000000</td>\n",
       "      <td>0.000000</td>\n",
       "    </tr>\n",
       "    <tr>\n",
       "      <th>25%</th>\n",
       "      <td>223.500000</td>\n",
       "      <td>0.000000</td>\n",
       "      <td>2.000000</td>\n",
       "      <td>20.125000</td>\n",
       "      <td>0.000000</td>\n",
       "      <td>0.000000</td>\n",
       "      <td>7.910400</td>\n",
       "    </tr>\n",
       "    <tr>\n",
       "      <th>50%</th>\n",
       "      <td>446.000000</td>\n",
       "      <td>0.000000</td>\n",
       "      <td>3.000000</td>\n",
       "      <td>28.000000</td>\n",
       "      <td>0.000000</td>\n",
       "      <td>0.000000</td>\n",
       "      <td>14.454200</td>\n",
       "    </tr>\n",
       "    <tr>\n",
       "      <th>75%</th>\n",
       "      <td>668.500000</td>\n",
       "      <td>1.000000</td>\n",
       "      <td>3.000000</td>\n",
       "      <td>38.000000</td>\n",
       "      <td>1.000000</td>\n",
       "      <td>0.000000</td>\n",
       "      <td>31.000000</td>\n",
       "    </tr>\n",
       "    <tr>\n",
       "      <th>max</th>\n",
       "      <td>891.000000</td>\n",
       "      <td>1.000000</td>\n",
       "      <td>3.000000</td>\n",
       "      <td>80.000000</td>\n",
       "      <td>8.000000</td>\n",
       "      <td>6.000000</td>\n",
       "      <td>512.329200</td>\n",
       "    </tr>\n",
       "  </tbody>\n",
       "</table>\n",
       "</div>"
      ],
      "text/plain": [
       "       PassengerId    Survived      Pclass         Age       SibSp  \\\n",
       "count   891.000000  891.000000  891.000000  714.000000  891.000000   \n",
       "mean    446.000000    0.383838    2.308642   29.699118    0.523008   \n",
       "std     257.353842    0.486592    0.836071   14.526497    1.102743   \n",
       "min       1.000000    0.000000    1.000000    0.420000    0.000000   \n",
       "25%     223.500000    0.000000    2.000000   20.125000    0.000000   \n",
       "50%     446.000000    0.000000    3.000000   28.000000    0.000000   \n",
       "75%     668.500000    1.000000    3.000000   38.000000    1.000000   \n",
       "max     891.000000    1.000000    3.000000   80.000000    8.000000   \n",
       "\n",
       "            Parch        Fare  \n",
       "count  891.000000  891.000000  \n",
       "mean     0.381594   32.204208  \n",
       "std      0.806057   49.693429  \n",
       "min      0.000000    0.000000  \n",
       "25%      0.000000    7.910400  \n",
       "50%      0.000000   14.454200  \n",
       "75%      0.000000   31.000000  \n",
       "max      6.000000  512.329200  "
      ]
     },
     "execution_count": 8,
     "metadata": {},
     "output_type": "execute_result"
    }
   ],
   "source": [
    "train_data.describe()"
   ]
  },
  {
   "cell_type": "markdown",
   "metadata": {
    "slideshow": {
     "slide_type": "subslide"
    }
   },
   "source": [
    "- You can also observe the attributes with missing values by looking at the \"count\"\n",
    "- You can clearly see that `Survived` is a binary, *integer* variable\n",
    "- Only 38 % of the passengers survived (\"mean\")"
   ]
  },
  {
   "cell_type": "code",
   "execution_count": 9,
   "metadata": {
    "slideshow": {
     "slide_type": "slide"
    }
   },
   "outputs": [
    {
     "data": {
      "text/plain": [
       "0    549\n",
       "1    342\n",
       "Name: Survived, dtype: int64"
      ]
     },
     "execution_count": 9,
     "metadata": {},
     "output_type": "execute_result"
    }
   ],
   "source": [
    "train_data[\"Survived\"].value_counts()"
   ]
  },
  {
   "cell_type": "markdown",
   "metadata": {
    "slideshow": {
     "slide_type": "slide"
    }
   },
   "source": [
    "##### Graphical exploration\n",
    "\n",
    "**Distribution of each attribute**\n",
    "\n",
    "Let's start by looking at the (unconditional) distribution of the target and some attributes\n",
    "\n",
    "First let's look at them normalized (i.e, as fractions or probabilities)"
   ]
  },
  {
   "cell_type": "code",
   "execution_count": 10,
   "metadata": {
    "slideshow": {
     "slide_type": "slide"
    }
   },
   "outputs": [
    {
     "data": {
      "image/png": "[encoded data removed]",
      "text/plain": [
       "<Figure size 576x576 with 4 Axes>"
      ]
     },
     "metadata": {
      "needs_background": "light"
     },
     "output_type": "display_data"
    },
    {
     "data": {
      "image/png": "[encoded data removed]",
      "text/plain": [
       "<Figure size 576x144 with 2 Axes>"
      ]
     },
     "metadata": {
      "needs_background": "light"
     },
     "output_type": "display_data"
    }
   ],
   "source": [
    "clh.plot_attrs(train_data, [ \"Survived\", \"Sex\", \"Pclass\", \"Embarked\" ], attr_type=\"Cat\", plot=True, normalize=True)\n",
    "clh.plot_attrs(train_data, [ \"Age\" ], attr_type=\"Num\", normalize=True)"
   ]
  },
  {
   "cell_type": "markdown",
   "metadata": {
    "slideshow": {
     "slide_type": "slide"
    }
   },
   "source": [
    "Next, let's look at them un-normalized, or absolute count"
   ]
  },
  {
   "cell_type": "code",
   "execution_count": 11,
   "metadata": {
    "slideshow": {
     "slide_type": "slide"
    }
   },
   "outputs": [
    {
     "data": {
      "image/png": "[encoded data removed]",
      "text/plain": [
       "<Figure size 576x576 with 4 Axes>"
      ]
     },
     "metadata": {
      "needs_background": "light"
     },
     "output_type": "display_data"
    },
    {
     "data": {
      "image/png": "[encoded data removed]",
      "text/plain": [
       "<Figure size 576x144 with 2 Axes>"
      ]
     },
     "metadata": {
      "needs_background": "light"
     },
     "output_type": "display_data"
    }
   ],
   "source": [
    "clh.plot_attrs(train_data, [ \"Survived\", \"Sex\", \"Pclass\", \"Embarked\" ], attr_type=\"Cat\", plot=True, normalize=False)\n",
    "clh.plot_attrs(train_data, [ \"Age\" ], attr_type=\"Num\", normalize=False)"
   ]
  },
  {
   "cell_type": "markdown",
   "metadata": {
    "slideshow": {
     "slide_type": "subslide"
    }
   },
   "source": [
    "##### Conditional survival probability (condition on single attribute)"
   ]
  },
  {
   "cell_type": "code",
   "execution_count": 12,
   "metadata": {
    "slideshow": {
     "slide_type": "subslide"
    }
   },
   "outputs": [
    {
     "data": {
      "image/png": "[encoded data removed]",
      "text/plain": [
       "<Figure size 864x576 with 9 Axes>"
      ]
     },
     "metadata": {
      "needs_background": "light"
     },
     "output_type": "display_data"
    }
   ],
   "source": [
    "fig, axs = clh.plot_conds(train_data, [ (\"Survived\", { \"Sex\": \"female\"}),\n",
    "                         (\"Survived\", { \"Sex\": \"male\"}),\n",
    "                         None,\n",
    "                         (\"Survived\", { \"Pclass\": 1}),\n",
    "                         (\"Survived\", { \"Pclass\": 2}),\n",
    "                         (\"Survived\", { \"Pclass\": 3}),\n",
    "                        \n",
    "                         (\"Survived\", { \"Embarked\":\"C\"}),\n",
    "                         (\"Survived\", { \"Embarked\":\"Q\"}),\n",
    "                         (\"Survived\", { \"Embarked\":\"S\"})\n",
    "                       ],\n",
    "                          share_y=\"row\"\n",
    "          )\n",
    "\n",
    "# In case the figure is truncated in this slide, we will re-display it in the next (without the code)"
   ]
  },
  {
   "cell_type": "code",
   "execution_count": 13,
   "metadata": {
    "slideshow": {
     "slide_type": "subslide"
    }
   },
   "outputs": [
    {
     "data": {
      "image/png": "[encoded data removed]",
      "text/plain": [
       "<Figure size 864x576 with 9 Axes>"
      ]
     },
     "execution_count": 13,
     "metadata": {},
     "output_type": "execute_result"
    }
   ],
   "source": [
    "# Display the figure again, in it's own slide, so it is not truncated\n",
    "fig"
   ]
  },
  {
   "cell_type": "markdown",
   "metadata": {
    "slideshow": {
     "slide_type": "slide"
    }
   },
   "source": [
    "Interesting !\n",
    "- Women are 3 times as likely to survive\n",
    "- NOT being in the lowest Class doubles or triples your survival probability\n",
    "- Embarking at Cherbourg increased your probability of surviving\n",
    "    - WHY ? Is there a correlation between Class and point of embarcation maybe ?\n",
    "    \n",
    "Preview: There may also be lessons here for dealing with missing data"
   ]
  },
  {
   "cell_type": "markdown",
   "metadata": {
    "slideshow": {
     "slide_type": "slide"
    }
   },
   "source": [
    "##### Conditional survival probability (condition on multiple attributes)"
   ]
  },
  {
   "cell_type": "code",
   "execution_count": 14,
   "metadata": {
    "slideshow": {
     "slide_type": "subslide"
    }
   },
   "outputs": [
    {
     "data": {
      "image/png": "[encoded data removed]",
      "text/plain": [
       "<Figure size 864x576 with 6 Axes>"
      ]
     },
     "metadata": {
      "needs_background": "light"
     },
     "output_type": "display_data"
    }
   ],
   "source": [
    "fig, axs = clh.plot_conds(train_data, [\n",
    "                         (\"Survived\", { \"Sex\": \"female\", \"Pclass\": 1}),\n",
    "                         (\"Survived\", { \"Sex\": \"female\", \"Pclass\": 2}),\n",
    "                         (\"Survived\", { \"Sex\": \"female\", \"Pclass\": 3}),\n",
    "    \n",
    "                         (\"Survived\", { \"Sex\": \"male\", \"Pclass\": 1}),\n",
    "                         (\"Survived\", { \"Sex\": \"male\", \"Pclass\": 2}),\n",
    "                         (\"Survived\", { \"Sex\": \"male\", \"Pclass\": 3}),\n",
    "                       ],\n",
    "                          share_y=\"row\"\n",
    "                         )\n",
    "\n",
    "# In case the figure is truncated in this slide, we will re-display it in the next (without the code)"
   ]
  },
  {
   "cell_type": "code",
   "execution_count": 15,
   "metadata": {
    "slideshow": {
     "slide_type": "subslide"
    }
   },
   "outputs": [
    {
     "data": {
      "image/png": "[encoded data removed]",
      "text/plain": [
       "<Figure size 864x576 with 6 Axes>"
      ]
     },
     "execution_count": 15,
     "metadata": {},
     "output_type": "execute_result"
    }
   ],
   "source": [
    "# Display the figure again, in it's own slide, so it is not truncated\n",
    "fig"
   ]
  },
  {
   "cell_type": "markdown",
   "metadata": {
    "slideshow": {
     "slide_type": "subslide"
    }
   },
   "source": [
    "Remember that we thought being Female increased chances of Survive ?\n",
    "- we can see now see that this was only true for Classes 1 and 2"
   ]
  },
  {
   "cell_type": "markdown",
   "metadata": {
    "slideshow": {
     "slide_type": "slide"
    }
   },
   "source": [
    "<div class=\"alert alert-block alert-info\">\n",
    "    <b>Aside</b>:   How does pd.groupby() work ?\n",
    "\n",
    "The Pandas Split-Apply-Combine pattern is very powerful\n",
    "- This is very SQL-like, for those who have used databases\n",
    "- Below is some simpler Pandas code to show exactly how it works"
   ]
  },
  {
   "cell_type": "code",
   "execution_count": 16,
   "metadata": {
    "slideshow": {
     "slide_type": "subslide"
    }
   },
   "outputs": [
    {
     "name": "stdout",
     "output_type": "stream",
     "text": [
      "male\t577\t0.1889\n",
      "female\t314\t0.7420\n"
     ]
    },
    {
     "data": {
      "text/html": [
       "<div>\n",
       "<style scoped>\n",
       "    .dataframe tbody tr th:only-of-type {\n",
       "        vertical-align: middle;\n",
       "    }\n",
       "\n",
       "    .dataframe tbody tr th {\n",
       "        vertical-align: top;\n",
       "    }\n",
       "\n",
       "    .dataframe thead th {\n",
       "        text-align: right;\n",
       "    }\n",
       "</style>\n",
       "<table border=\"1\" class=\"dataframe\">\n",
       "  <thead>\n",
       "    <tr style=\"text-align: right;\">\n",
       "      <th></th>\n",
       "      <th>mean</th>\n",
       "      <th>count</th>\n",
       "    </tr>\n",
       "    <tr>\n",
       "      <th>Sex</th>\n",
       "      <th></th>\n",
       "      <th></th>\n",
       "    </tr>\n",
       "  </thead>\n",
       "  <tbody>\n",
       "    <tr>\n",
       "      <th>female</th>\n",
       "      <td>0.742038</td>\n",
       "      <td>314</td>\n",
       "    </tr>\n",
       "    <tr>\n",
       "      <th>male</th>\n",
       "      <td>0.188908</td>\n",
       "      <td>577</td>\n",
       "    </tr>\n",
       "  </tbody>\n",
       "</table>\n",
       "</div>"
      ],
      "text/plain": [
       "            mean  count\n",
       "Sex                    \n",
       "female  0.742038    314\n",
       "male    0.188908    577"
      ]
     },
     "execution_count": 16,
     "metadata": {},
     "output_type": "execute_result"
    }
   ],
   "source": [
    "# Partition by the attribute \"Sex\"\n",
    "males   = train_data[ train_data[\"Sex\"] == \"male\"]\n",
    "females = train_data[ train_data[\"Sex\"] == \"female\"]\n",
    "\n",
    "# Aggregate within each group: count,mean.  n.b., only doing this for the \"Survived\" column\n",
    "count_males, count_females = males.shape[0], females.shape[0]\n",
    "survival_males, survival_females = males[\"Survived\"].mean(), females[\"Survived\"].mean()\n",
    "\n",
    "print( \"male\\t{c}\\t{m:0.4f}\".format(c=count_males, m=survival_males) )\n",
    "print( \"female\\t{c}\\t{m:0.4f}\".format(c=count_females, m=survival_females) )\n",
    "\n",
    "# Or, use the pd.groupby\n",
    "train_data.groupby(\"Sex\").agg([\"mean\", \"count\"])[\"Survived\"]\n"
   ]
  },
  {
   "cell_type": "markdown",
   "metadata": {
    "slideshow": {
     "slide_type": "slide"
    }
   },
   "source": [
    "### Test data\n",
    "\n",
    "The train/test split was done for us: it came as two separate files\n",
    "\n",
    "We might later choose to combine the two and do our own split (or better yet: multiple splits) but for now, we'll take what we are given"
   ]
  },
  {
   "cell_type": "markdown",
   "metadata": {
    "slideshow": {
     "slide_type": "slide"
    }
   },
   "source": [
    "## Prepare the data: tranformations (including cleaning)\n",
    "\n",
    "Our first model will use the following features\n",
    "- Pclass\n",
    "- Sex\n",
    "- Age\n",
    "- SibSp: passenger's number of \"same-level\" relatives (Sibling, Spouse)\n",
    "- Parch: passenger's number of \"different-level\" relatives (Parent, Child)\n",
    "- Fare"
   ]
  },
  {
   "cell_type": "markdown",
   "metadata": {
    "slideshow": {
     "slide_type": "subslide"
    }
   },
   "source": [
    "The first step will be to transform the data into a usable form.\n",
    "\n",
    "We will do minimal transformation for now (more to come in the module on Data Transformations)\n",
    "- clean the data: deal with missing values\n",
    "- convert the categorical, binary attribute \"Sex\" to a number: 0:male, 1: female\n",
    "\n",
    "(We include Data Cleaning as a transformation, rather than treating it as a separate step)\n",
    "\n",
    "This is also very naive (and, technically wrong !  Ask me later !) but it will allow us to make our key points with minimum distraction."
   ]
  },
  {
   "cell_type": "markdown",
   "metadata": {
    "slideshow": {
     "slide_type": "subslide"
    }
   },
   "source": [
    "### Data cleaning transformation\n",
    "\n",
    "Our initial data exploration revealed some attributes with missing data\n",
    "- Age\n",
    "- Cabin\n",
    "- Embarked\n",
    "\n",
    "We will address various strategies for dealing with missing data in the module on Data Transformations.\n",
    "\n",
    "For now, we will take a very simple (and naive) approach\n",
    "- for numeric attributes: use the median value\n",
    "- for non-numeric attributes: use the most frequent value"
   ]
  },
  {
   "cell_type": "markdown",
   "metadata": {
    "slideshow": {
     "slide_type": "slide"
    }
   },
   "source": [
    "### Feature engineering: transformations to add features\n",
    "\n",
    "**Preview of coming attractions (subsequent lecture)**\n",
    "\n",
    "We won't perform feature engineering now other than to point out some interesting possibilities.\n",
    "\n",
    "This may help you as  you tackle problems between now and the lecture on Transformations."
   ]
  },
  {
   "cell_type": "markdown",
   "metadata": {
    "slideshow": {
     "slide_type": "slide"
    }
   },
   "source": [
    "**Cabin**\n",
    "\n",
    "Might the Cabin location be associated with Surivival ?  \n",
    "\n",
    "Note that the front of the ship went down first."
   ]
  },
  {
   "cell_type": "markdown",
   "metadata": {
    "slideshow": {
     "slide_type": "subslide"
    }
   },
   "source": [
    "If you are a diligent Data Scientist you can find this image, which is revealing\n",
    "- Worst cabins (pink, Third class) were dispersed between front and back\n",
    "- Best cabins (white, First class) were dispersed between above/below deck\n",
    "- Mid cabins(yellow, Second Class) were *not* near front of ship\n",
    "![Titanic cabins](images/Titanic_cabin_layout.jpg)"
   ]
  },
  {
   "cell_type": "markdown",
   "metadata": {
    "slideshow": {
     "slide_type": "slide"
    }
   },
   "source": [
    "**Age**\n",
    "\n",
    "For linear estimators ($\\Theta^T \\x$)\n",
    "each increment in value of a feature impacts the prediction.\n",
    "\n",
    "So an example with feature value $2 * \\x_j$ has twice the impact of an example with feature value $\\x_j$.\n",
    "\n",
    "But is this really true ? Does even a small increment in Age (e.g, from 25 to 26 years) matter ?\n",
    "\n",
    "We might be able to improve things using a \"bucket\" transformation:\n",
    "- all Ages within a range (bucket) are given the same value\n",
    "- model will try to make distinctions *across* buckets, but not *within* a bucket."
   ]
  },
  {
   "cell_type": "code",
   "execution_count": 17,
   "metadata": {
    "scrolled": true,
    "slideshow": {
     "slide_type": "subslide"
    }
   },
   "outputs": [
    {
     "data": {
      "text/html": [
       "<div>\n",
       "<style scoped>\n",
       "    .dataframe tbody tr th:only-of-type {\n",
       "        vertical-align: middle;\n",
       "    }\n",
       "\n",
       "    .dataframe tbody tr th {\n",
       "        vertical-align: top;\n",
       "    }\n",
       "\n",
       "    .dataframe thead th {\n",
       "        text-align: right;\n",
       "    }\n",
       "</style>\n",
       "<table border=\"1\" class=\"dataframe\">\n",
       "  <thead>\n",
       "    <tr style=\"text-align: right;\">\n",
       "      <th></th>\n",
       "      <th>Survived</th>\n",
       "    </tr>\n",
       "    <tr>\n",
       "      <th>AgeBucket</th>\n",
       "      <th></th>\n",
       "    </tr>\n",
       "  </thead>\n",
       "  <tbody>\n",
       "    <tr>\n",
       "      <th>0.0</th>\n",
       "      <td>0.576923</td>\n",
       "    </tr>\n",
       "    <tr>\n",
       "      <th>15.0</th>\n",
       "      <td>0.362745</td>\n",
       "    </tr>\n",
       "    <tr>\n",
       "      <th>30.0</th>\n",
       "      <td>0.423256</td>\n",
       "    </tr>\n",
       "    <tr>\n",
       "      <th>45.0</th>\n",
       "      <td>0.404494</td>\n",
       "    </tr>\n",
       "    <tr>\n",
       "      <th>60.0</th>\n",
       "      <td>0.240000</td>\n",
       "    </tr>\n",
       "    <tr>\n",
       "      <th>75.0</th>\n",
       "      <td>1.000000</td>\n",
       "    </tr>\n",
       "  </tbody>\n",
       "</table>\n",
       "</div>"
      ],
      "text/plain": [
       "           Survived\n",
       "AgeBucket          \n",
       "0.0        0.576923\n",
       "15.0       0.362745\n",
       "30.0       0.423256\n",
       "45.0       0.404494\n",
       "60.0       0.240000\n",
       "75.0       1.000000"
      ]
     },
     "execution_count": 17,
     "metadata": {},
     "output_type": "execute_result"
    }
   ],
   "source": [
    "train_data[\"AgeBucket\"] = train_data[\"Age\"] // 15 * 15\n",
    "train_data[[\"AgeBucket\", \"Survived\"]].groupby(['AgeBucket']).mean()"
   ]
  },
  {
   "cell_type": "markdown",
   "metadata": {
    "slideshow": {
     "slide_type": "subslide"
    }
   },
   "source": [
    "Wow ! Children below the age of 15 (bucket 0.0) had a much better chance of survival.  \n",
    "\n",
    "(And it doesn't pay to be old when disaster strikes!)\n",
    "\n",
    "We would be hard pressed to see this using Age as a continous variable"
   ]
  },
  {
   "cell_type": "markdown",
   "metadata": {
    "slideshow": {
     "slide_type": "slide"
    }
   },
   "source": [
    "**Embarked**\n",
    "\n",
    "The Embarked attribute tells us where the passenger boarded:\n",
    "- C=Cherbourg, Q=Queenstown, S=Southampton.\n",
    "\n",
    "Could this be a predictor of Survival ?"
   ]
  },
  {
   "cell_type": "markdown",
   "metadata": {
    "slideshow": {
     "slide_type": "subslide"
    }
   },
   "source": [
    "### Categorical Transformation: Binary variable special case\n",
    "\n",
    "We will need to transform our categorical features into numbers.\n",
    "\n",
    "The way to treat non-numeric values is not obvious and there are many *wrong* ways to do it.\n",
    "\n",
    "Fortunately, binary non-numerical data is an an easy special case (0 or 1 values)"
   ]
  },
  {
   "cell_type": "markdown",
   "metadata": {
    "slideshow": {
     "slide_type": "subslide"
    }
   },
   "source": [
    "We will initially limit ourselves to binary targets and features.\n",
    "\n",
    "- This will allow us to focus on the Classification task without distraction.\n",
    "\n",
    "- We will make a second pass to generalize to categorical variables with more than 2 classes."
   ]
  },
  {
   "cell_type": "markdown",
   "metadata": {
    "slideshow": {
     "slide_type": "subslide"
    }
   },
   "source": [
    "Which variables are categorical ?\n",
    "\n",
    "We can (and should) apply *human logic* to discern which variables are categorical.\n",
    "\n",
    "But a little code can help:"
   ]
  },
  {
   "cell_type": "code",
   "execution_count": 18,
   "metadata": {
    "slideshow": {
     "slide_type": "subslide"
    }
   },
   "outputs": [
    {
     "name": "stdout",
     "output_type": "stream",
     "text": [
      "<class 'pandas.core.frame.DataFrame'>\n",
      "RangeIndex: 891 entries, 0 to 890\n",
      "Data columns (total 13 columns):\n",
      "PassengerId    891 non-null int64\n",
      "Survived       891 non-null int64\n",
      "Pclass         891 non-null int64\n",
      "Name           891 non-null object\n",
      "Sex            891 non-null object\n",
      "Age            714 non-null float64\n",
      "SibSp          891 non-null int64\n",
      "Parch          891 non-null int64\n",
      "Ticket         891 non-null object\n",
      "Fare           891 non-null float64\n",
      "Cabin          204 non-null object\n",
      "Embarked       889 non-null object\n",
      "AgeBucket      714 non-null float64\n",
      "dtypes: float64(3), int64(5), object(5)\n",
      "memory usage: 90.6+ KB\n"
     ]
    }
   ],
   "source": [
    "train_data.info()"
   ]
  },
  {
   "cell_type": "markdown",
   "metadata": {
    "slideshow": {
     "slide_type": "subslide"
    }
   },
   "source": [
    "- All of the columns described as `object` are non-numerical and hence likely suspects\n",
    "    - `Name`, `Sex`, `Cabin`, `Embarked`\n",
    "    \n",
    "- But, as observed during our first look, some numeric columns are *also* candidates\n",
    "    - `Survived`\n",
    "    - `PassengerId`, `Pclass`\n",
    "        - Key determinant: is there an ordering relationship ?\n",
    "        \n",
    "- In particular, our target `Survived` which should be categorical, has beeen encoded as an integer {0,1}.\n",
    "\n",
    "- So, by luck (or bad encoding) we don't have to convert the categorical Survived feature to a binary digit.\n",
    "\n",
    "- We will have to convert `Sex` (this is the only categorial feature we retain for our initial model)\n",
    " "
   ]
  },
  {
   "cell_type": "markdown",
   "metadata": {
    "slideshow": {
     "slide_type": "subslide"
    }
   },
   "source": [
    "### A sophisticated pipeline to implement all transformations\n",
    "\n",
    "- the same transformations need to be applied to\n",
    "    - the Train data  set (and each subset used during Cross Validation)\n",
    "    - the Test data\n",
    "    - the transformations are \"fit\" on the Train set and applied to the Test set\n",
    " \n",
    "We will implement both the Data Cleaning and Categorical transformations via an\n",
    "`sklearn` pipeline\n",
    "- briefly introduced in last lecture.\n",
    "- by centralizing all the transformations in a pipeline, we can apply it consistently to all sets"
   ]
  },
  {
   "cell_type": "markdown",
   "metadata": {
    "slideshow": {
     "slide_type": "subslide"
    }
   },
   "source": [
    "**Pipeline refresher** \n",
    "\n",
    "- A pipeline implements a sequence of transformations\n",
    "- `sklearn` allows Pandas DataFrames to be transformed too, not just NumPy arrays !\n",
    "    - using *custom* transformations\n",
    "    - the standard `sklearn` transformations produce NumPy arrays.\n",
    "- Our plan\n",
    "    - create one pipeline for the Numeric features\n",
    "    - create a separate pipeline for the Categorical features\n",
    "    - create a \"union\" pipeline that implements both the Numeric and Categorical pipelines\n",
    "       "
   ]
  },
  {
   "cell_type": "markdown",
   "metadata": {
    "slideshow": {
     "slide_type": "slide"
    }
   },
   "source": [
    "#### The numeric pipeline\n",
    "\n",
    "- select DataFrame columns identified as Numeric (variable `num_features`)\n",
    "- perform a \"missing value\" transformation\n",
    "    - replace missing value with median value of the feature"
   ]
  },
  {
   "cell_type": "code",
   "execution_count": 19,
   "metadata": {
    "slideshow": {
     "slide_type": "subslide"
    }
   },
   "outputs": [],
   "source": [
    "from sklearn.base import BaseEstimator, TransformerMixin\n",
    "\n",
    "# A class to select numerical or categorical columns \n",
    "# since Scikit-Learn doesn't handle DataFrames yet\n",
    "class DataFrameSelector(BaseEstimator, TransformerMixin):\n",
    "    def __init__(self, attribute_names):\n",
    "        self.attribute_names = attribute_names\n",
    "    def fit(self, X, y=None):\n",
    "        return self\n",
    "    def transform(self, X):\n",
    "        return X[self.attribute_names]\n",
    "\n",
    "from sklearn.pipeline import Pipeline\n",
    "try:\n",
    "    from sklearn.impute import SimpleImputer # Scikit-Learn 0.20+\n",
    "except ImportError:\n",
    "    from sklearn.preprocessing import Imputer as SimpleImputer\n",
    "\n",
    "num_features = [\"Age\", \"SibSp\", \"Parch\", \"Fare\"]\n",
    "\n",
    "num_pipeline = Pipeline([\n",
    "        (\"select_numeric\", DataFrameSelector( num_features )),\n",
    "        (\"imputer\", SimpleImputer(strategy=\"median\")),\n",
    "    ])"
   ]
  },
  {
   "cell_type": "markdown",
   "metadata": {
    "slideshow": {
     "slide_type": "subslide"
    }
   },
   "source": [
    "Let's see what the numeric pipleine produces.\n",
    "\n",
    "Note: it produces a NumPy array because the final transformer (`SimpleImputer`) does it"
   ]
  },
  {
   "cell_type": "code",
   "execution_count": 20,
   "metadata": {
    "slideshow": {
     "slide_type": "subslide"
    }
   },
   "outputs": [
    {
     "data": {
      "text/plain": [
       "array([[22.    ,  1.    ,  0.    ,  7.25  ],\n",
       "       [38.    ,  1.    ,  0.    , 71.2833],\n",
       "       [26.    ,  0.    ,  0.    ,  7.925 ],\n",
       "       ...,\n",
       "       [28.    ,  1.    ,  2.    , 23.45  ],\n",
       "       [26.    ,  0.    ,  0.    , 30.    ],\n",
       "       [32.    ,  0.    ,  0.    ,  7.75  ]])"
      ]
     },
     "execution_count": 20,
     "metadata": {},
     "output_type": "execute_result"
    }
   ],
   "source": [
    "num_pipeline.fit_transform(train_data)"
   ]
  },
  {
   "cell_type": "markdown",
   "metadata": {
    "slideshow": {
     "slide_type": "slide"
    }
   },
   "source": [
    "#### The non-numeric pipeline\n",
    "- select DataFrame columns identified as Categorical (variable `cat_features`)\n",
    "- perform a \"missing value\" transformation\n",
    "    - replace missing value with the value of the feature that occurs most often\n",
    "- perform a \"to categorical\" transformation on `Sex`\n",
    "\n",
    "**WARNING**: I'm doing a little cheating in this code by ignoring all categorical features other than `Sex`"
   ]
  },
  {
   "cell_type": "code",
   "execution_count": 21,
   "metadata": {
    "slideshow": {
     "slide_type": "subslide"
    }
   },
   "outputs": [],
   "source": [
    "# Inspired from stackoverflow.com/questions/25239958\n",
    "class MostFrequentImputer(BaseEstimator, TransformerMixin):\n",
    "    def fit(self, X, y=None):\n",
    "        self.most_frequent_ = pd.Series([X[c].value_counts().index[0] for c in X],\n",
    "                                        index=X.columns)\n",
    "        return self\n",
    "    def transform(self, X, y=None):\n",
    "        return X.fillna(self.most_frequent_)\n",
    "\n",
    "class SexToInt(BaseEstimator, TransformerMixin):\n",
    "    def fit(self, X, y=None):\n",
    "        return self\n",
    "    \n",
    "    def transform(self, X, y=None):\n",
    "        \"\"\"\n",
    "        I am really cheating here ! Am ignoring all columns except for \"Sex\"\n",
    "        \"\"\"\n",
    "        \n",
    "        # To see that I am cheating, look at the number of columns of X !\n",
    "        print(\"SexToInt:transform: Cheating alert!, X has {c} columns.\".format(c=X.shape[-1]) )\n",
    "        \n",
    "        sex = X[\"Sex\"]\n",
    "        X[\"Sex\"] = 0\n",
    "        X[ sex == \"female\" ] = 1\n",
    "        \n",
    "        return(X)\n",
    "\n",
    "cat_features = [\"Sex\", \"Pclass\" ]\n",
    "\n",
    "cat_pipeline = Pipeline([\n",
    "        (\"select_cat\", DataFrameSelector( cat_features )),\n",
    "        (\"imputer\", MostFrequentImputer()),\n",
    "        (\"sex_encoder\", SexToInt() ),\n",
    "    ])"
   ]
  },
  {
   "cell_type": "markdown",
   "metadata": {
    "slideshow": {
     "slide_type": "subslide"
    }
   },
   "source": [
    "Let's see what the categorical pipeline produces\n",
    "\n",
    "Note: it produces a DataFrame because all elements of the pipeline produce DataFrames"
   ]
  },
  {
   "cell_type": "code",
   "execution_count": 22,
   "metadata": {
    "slideshow": {
     "slide_type": "subslide"
    }
   },
   "outputs": [
    {
     "name": "stdout",
     "output_type": "stream",
     "text": [
      "SexToInt:transform: Cheating alert!, X has 2 columns.\n"
     ]
    },
    {
     "data": {
      "text/html": [
       "<div>\n",
       "<style scoped>\n",
       "    .dataframe tbody tr th:only-of-type {\n",
       "        vertical-align: middle;\n",
       "    }\n",
       "\n",
       "    .dataframe tbody tr th {\n",
       "        vertical-align: top;\n",
       "    }\n",
       "\n",
       "    .dataframe thead th {\n",
       "        text-align: right;\n",
       "    }\n",
       "</style>\n",
       "<table border=\"1\" class=\"dataframe\">\n",
       "  <thead>\n",
       "    <tr style=\"text-align: right;\">\n",
       "      <th></th>\n",
       "      <th>Sex</th>\n",
       "      <th>Pclass</th>\n",
       "    </tr>\n",
       "  </thead>\n",
       "  <tbody>\n",
       "    <tr>\n",
       "      <th>0</th>\n",
       "      <td>0</td>\n",
       "      <td>3</td>\n",
       "    </tr>\n",
       "    <tr>\n",
       "      <th>1</th>\n",
       "      <td>1</td>\n",
       "      <td>1</td>\n",
       "    </tr>\n",
       "    <tr>\n",
       "      <th>2</th>\n",
       "      <td>1</td>\n",
       "      <td>1</td>\n",
       "    </tr>\n",
       "    <tr>\n",
       "      <th>3</th>\n",
       "      <td>1</td>\n",
       "      <td>1</td>\n",
       "    </tr>\n",
       "    <tr>\n",
       "      <th>4</th>\n",
       "      <td>0</td>\n",
       "      <td>3</td>\n",
       "    </tr>\n",
       "  </tbody>\n",
       "</table>\n",
       "</div>"
      ],
      "text/plain": [
       "   Sex  Pclass\n",
       "0    0       3\n",
       "1    1       1\n",
       "2    1       1\n",
       "3    1       1\n",
       "4    0       3"
      ]
     },
     "execution_count": 22,
     "metadata": {},
     "output_type": "execute_result"
    }
   ],
   "source": [
    "cat_pipeline.fit_transform(train_data).head()"
   ]
  },
  {
   "cell_type": "markdown",
   "metadata": {
    "slideshow": {
     "slide_type": "notes"
    }
   },
   "source": [
    "`FeatureUnion` glues together the Numeric and Categorical transformations along column dimension"
   ]
  },
  {
   "cell_type": "markdown",
   "metadata": {
    "slideshow": {
     "slide_type": "slide"
    }
   },
   "source": [
    "#### The Union pipeline: both numeric and non-numeric pipelines together"
   ]
  },
  {
   "cell_type": "code",
   "execution_count": 23,
   "metadata": {
    "slideshow": {
     "slide_type": "subslide"
    }
   },
   "outputs": [],
   "source": [
    "from sklearn.pipeline import FeatureUnion\n",
    "preprocess_pipeline = FeatureUnion(transformer_list=[\n",
    "        (\"num_pipeline\", num_pipeline),\n",
    "        (\"cat_pipeline\", cat_pipeline),\n",
    "    ])"
   ]
  },
  {
   "cell_type": "markdown",
   "metadata": {
    "slideshow": {
     "slide_type": "subslide"
    }
   },
   "source": [
    "Let's look at the result of applying the `preprocess_pipeline`"
   ]
  },
  {
   "cell_type": "code",
   "execution_count": 24,
   "metadata": {
    "slideshow": {
     "slide_type": "subslide"
    }
   },
   "outputs": [
    {
     "name": "stdout",
     "output_type": "stream",
     "text": [
      "SexToInt:transform: Cheating alert!, X has 2 columns.\n"
     ]
    },
    {
     "data": {
      "text/plain": [
       "(891, 6)"
      ]
     },
     "execution_count": 24,
     "metadata": {},
     "output_type": "execute_result"
    },
    {
     "data": {
      "text/plain": [
       "array([[22.    ,  1.    ,  0.    ,  7.25  ,  0.    ,  3.    ],\n",
       "       [38.    ,  1.    ,  0.    , 71.2833,  1.    ,  1.    ],\n",
       "       [26.    ,  0.    ,  0.    ,  7.925 ,  1.    ,  1.    ],\n",
       "       ...,\n",
       "       [28.    ,  1.    ,  2.    , 23.45  ,  1.    ,  1.    ],\n",
       "       [26.    ,  0.    ,  0.    , 30.    ,  0.    ,  1.    ],\n",
       "       [32.    ,  0.    ,  0.    ,  7.75  ,  0.    ,  3.    ]])"
      ]
     },
     "execution_count": 24,
     "metadata": {},
     "output_type": "execute_result"
    },
    {
     "data": {
      "text/html": [
       "<div>\n",
       "<style scoped>\n",
       "    .dataframe tbody tr th:only-of-type {\n",
       "        vertical-align: middle;\n",
       "    }\n",
       "\n",
       "    .dataframe tbody tr th {\n",
       "        vertical-align: top;\n",
       "    }\n",
       "\n",
       "    .dataframe thead th {\n",
       "        text-align: right;\n",
       "    }\n",
       "</style>\n",
       "<table border=\"1\" class=\"dataframe\">\n",
       "  <thead>\n",
       "    <tr style=\"text-align: right;\">\n",
       "      <th></th>\n",
       "      <th>Age</th>\n",
       "      <th>SibSp</th>\n",
       "      <th>Parch</th>\n",
       "      <th>Fare</th>\n",
       "      <th>Sex</th>\n",
       "      <th>Pclass</th>\n",
       "    </tr>\n",
       "  </thead>\n",
       "  <tbody>\n",
       "    <tr>\n",
       "      <th>0</th>\n",
       "      <td>22.0</td>\n",
       "      <td>1</td>\n",
       "      <td>0</td>\n",
       "      <td>7.2500</td>\n",
       "      <td>male</td>\n",
       "      <td>3</td>\n",
       "    </tr>\n",
       "    <tr>\n",
       "      <th>1</th>\n",
       "      <td>38.0</td>\n",
       "      <td>1</td>\n",
       "      <td>0</td>\n",
       "      <td>71.2833</td>\n",
       "      <td>female</td>\n",
       "      <td>1</td>\n",
       "    </tr>\n",
       "    <tr>\n",
       "      <th>2</th>\n",
       "      <td>26.0</td>\n",
       "      <td>0</td>\n",
       "      <td>0</td>\n",
       "      <td>7.9250</td>\n",
       "      <td>female</td>\n",
       "      <td>3</td>\n",
       "    </tr>\n",
       "    <tr>\n",
       "      <th>3</th>\n",
       "      <td>35.0</td>\n",
       "      <td>1</td>\n",
       "      <td>0</td>\n",
       "      <td>53.1000</td>\n",
       "      <td>female</td>\n",
       "      <td>1</td>\n",
       "    </tr>\n",
       "    <tr>\n",
       "      <th>4</th>\n",
       "      <td>35.0</td>\n",
       "      <td>0</td>\n",
       "      <td>0</td>\n",
       "      <td>8.0500</td>\n",
       "      <td>male</td>\n",
       "      <td>3</td>\n",
       "    </tr>\n",
       "  </tbody>\n",
       "</table>\n",
       "</div>"
      ],
      "text/plain": [
       "    Age  SibSp  Parch     Fare     Sex  Pclass\n",
       "0  22.0      1      0   7.2500    male       3\n",
       "1  38.0      1      0  71.2833  female       1\n",
       "2  26.0      0      0   7.9250  female       3\n",
       "3  35.0      1      0  53.1000  female       1\n",
       "4  35.0      0      0   8.0500    male       3"
      ]
     },
     "execution_count": 24,
     "metadata": {},
     "output_type": "execute_result"
    }
   ],
   "source": [
    "X_train = preprocess_pipeline.fit_transform(train_data)\n",
    "\n",
    "X_train.shape\n",
    "X_train\n",
    "\n",
    "# X_train is now an ndarray, so really can't discern columns, but are in same order as in Feature Union\n",
    "# so first the num_features, then cat_features\n",
    "# Can verify this by looking at train_data\n",
    "all_features = num_features.copy()\n",
    "all_features.extend(cat_features)\n",
    "train_data.loc[:, all_features ] .head()"
   ]
  },
  {
   "cell_type": "markdown",
   "metadata": {
    "slideshow": {
     "slide_type": "slide"
    }
   },
   "source": [
    "## Select and Train the model\n",
    "\n",
    "OK, we have identified features and now want to predict Survival. \n",
    "\n",
    "How do we do it ?"
   ]
  },
  {
   "cell_type": "markdown",
   "metadata": {
    "slideshow": {
     "slide_type": "slide"
    }
   },
   "source": [
    "### Logistic Regression: high level view\n",
    "\n",
    "We will introduce a model for Binary Classification called Logistic Regression.\n",
    "\n",
    "Binary Logistic Regression produces a probability $\\hat{p}^\\ip \\in [0,1]$ that example $i$ is in \n",
    "the class encoded with $1$ (\"class 1\").\n",
    "\n",
    "From the probability $\\hat{p}^\\ip$ we produce the prediction $\\hat{\\y}^\\ip \\in C$."
   ]
  },
  {
   "cell_type": "markdown",
   "metadata": {
    "slideshow": {
     "slide_type": "subslide"
    }
   },
   "source": [
    "Convert $\\hat{p}^\\ip$ into Classification prediction $\\hat{y}^\\ip$\n",
    "\n",
    "$$\n",
    "\\hat{y}^\\ip = \n",
    "\\left\\{\n",
    "    {\n",
    "    \\begin{array}{lll}\n",
    "    0 & \\textrm{if } \\hat{p}^\\ip   < 0.5  & \\text{Negative} \\\\\n",
    "    1 & \\textrm{if } \\hat{p}^\\ip \\ge 0.5  & \\text{Positivve}\n",
    "    \\end{array}\n",
    "    }\n",
    "\\right.\n",
    "$$\n",
    "\n",
    "We will re-visit the choice of threshhold $0.5$ at a later time."
   ]
  },
  {
   "cell_type": "markdown",
   "metadata": {
    "slideshow": {
     "slide_type": "subslide"
    }
   },
   "source": [
    "How do we compute $\\hat{p}$ ?\n",
    "\n",
    "$$\\hat{p} = \\sigma(\\Theta^T \\x)  $$\n",
    "where $\\sigma$,  the *logistic function*, is:\n",
    "$$\n",
    "\\sigma(s)  ={1 \\over { 1 + e^{-s}} }\n",
    "$$\n",
    "\n",
    "Let's see what this function looks like\n"
   ]
  },
  {
   "cell_type": "code",
   "execution_count": 25,
   "metadata": {
    "slideshow": {
     "slide_type": "subslide"
    }
   },
   "outputs": [
    {
     "data": {
      "image/png": "[encoded data removed]",
      "text/plain": [
       "<Figure size 432x288 with 1 Axes>"
      ]
     },
     "metadata": {
      "needs_background": "light"
     },
     "output_type": "display_data"
    }
   ],
   "source": [
    "s = np.linspace(-10,10, 50)\n",
    "sigma_s = 1/(1 + np.exp(- s))\n",
    "\n",
    "fig = plt.figure()\n",
    "ax  = fig.add_subplot(1,1,1)\n",
    "_= ax.plot(s, sigma_s)\n",
    "_= ax.set_title(\"Sigmoid\")\n",
    "_= ax.set_xlabel(\"score = $\\Theta^T x$\")\n",
    "_= ax.set_ylabel(\"probability\")"
   ]
  },
  {
   "cell_type": "markdown",
   "metadata": {
    "slideshow": {
     "slide_type": "subslide"
    }
   },
   "source": [
    "The logistic function converts a score \n",
    "$$s = \\Theta^T \\x$$\n",
    "which has an unbounded range,  into values in the range $[0,1]$ which can\n",
    "then be interpretted as probabilities.\n",
    "\n",
    "The name Logistic Regression comes from the use of the logistic function applied to the linear $\\Theta^T \\x$.\n",
    "\n",
    "This function is also called the *sigmoid* function and will reappear in the Deep Learning part of the  course."
   ]
  },
  {
   "cell_type": "markdown",
   "metadata": {
    "slideshow": {
     "slide_type": "subslide"
    }
   },
   "source": [
    "$\\hat{p} = \\sigma(\\Theta^T \\x)  $\n",
    "\n",
    "Can be interpretted as\n",
    "- using template matching on the features $\\x$ to produce a \"score\" $s = \\Theta^T \\x$\n",
    "- convert the score into a probability with the sigmoid function\n",
    "\n",
    "This interpetation will also reappear in the Deep Learning part of the course."
   ]
  },
  {
   "cell_type": "markdown",
   "metadata": {
    "slideshow": {
     "slide_type": "subslide"
    }
   },
   "source": [
    "We will relate Logistic Regression to Linear Regression \n",
    "in a later section of the lecture.\n",
    "\n",
    "For now, let's stick with this intuitive explanation."
   ]
  },
  {
   "cell_type": "markdown",
   "metadata": {
    "slideshow": {
     "slide_type": "slide"
    }
   },
   "source": [
    "### Cost function for Binary Logistic Classification: Binary Cross Entropy\n",
    "\n",
    "As usual, we will treat Logistic Regresson as an optimization problem:\n",
    "- solve for $\\Theta$ that minimizes average loss across the training set.\n",
    "\n",
    "The loss for example $i$ will be defined as\n",
    "$$\n",
    "\\loss^\\ip_\\Theta =\n",
    "\\begin{cases}\n",
    "- \\log(\\hat{p}) & \\textrm{if } & \\y^\\ip = 1 \\\\\n",
    "- \\log(1-\\hat{p})     & \\textrm{if } & \\y^\\ip = 0 \\\\\n",
    "\\end{cases}\n",
    "$$\n",
    "\n",
    "Note the negative signs:\n",
    "- the term being negated is a Utility (which we want to maximize)"
   ]
  },
  {
   "cell_type": "markdown",
   "metadata": {
    "slideshow": {
     "slide_type": "slide"
    }
   },
   "source": [
    "Because only one of $\\y^\\ip$ and $(1-\\y^\\ip)$ is non zero, we  can re-write this as\n",
    "\n",
    "$$\n",
    "\\loss^\\ip_\\Theta = - \\left( y^\\ip*\\log(\\hat{p}^\\ip) + (1-\\y^\\ip) * \\log(1-\\hat{p}^\\ip) \\right)\n",
    "$$\n",
    "\n",
    "\n",
    "This expression is referred to as Binary Cross Entropy; it and the multi-class version\n",
    "will become quite familiar going forward.\n",
    "\n",
    "**Intuition (case $\\y^\\ip =1$)**\n",
    "- since probabilities are no more than $1$, log probabilities are non-positive\n",
    "- we want $\\log(\\hat{p}^\\ip)$ to be very close to $0$; i.e., for $\\hat{p}^\\ip$ to be close to $1$\n",
    "- so minimize the loss for positive example (i.e, $\\y^\\ip = 1$) when we predict $\\hat{p}^\\ip$ to be close to $1$"
   ]
  },
  {
   "cell_type": "markdown",
   "metadata": {
    "slideshow": {
     "slide_type": "subslide"
    }
   },
   "source": [
    "The Loss for the entire training set is simply the average (across examples) of the Loss for the example\n",
    "\n",
    "$$\n",
    "\\loss_\\Theta  = { 1\\over{m} } \\sum_{i=1}^m \\loss^\\ip_\\Theta\n",
    "$$"
   ]
  },
  {
   "cell_type": "markdown",
   "metadata": {
    "slideshow": {
     "slide_type": "slide"
    }
   },
   "source": [
    "### Why didn't we use Accuracy (the Performance Metric) as our Cost ?\n",
    "\n",
    "- Per example accuracy is binary: you are either correct or incorrect\n",
    "- This means that unless we predict $\\hat{p}^\\ip = 1$ for a positive example, we are *incorrect*\n",
    "    - There is no *degree* of incorrectness\n",
    "    - we are equally incorrect whether $\\hat{p}^\\ip = (1 - .0001)$ or $\\hat{p}^\\ip =.0001$ \n",
    "\n",
    "So accuracy is missing some important properties\n",
    "- continuity\n",
    "- differentiable\n",
    "    - being able to compute derivatives will be a **crucial** requirement for Deep Learning\n",
    "\n",
    "So think of Binary Cross Entropy as a continuous analog of Accuracy."
   ]
  },
  {
   "cell_type": "markdown",
   "metadata": {
    "slideshow": {
     "slide_type": "slide"
    }
   },
   "source": [
    "# Titanic: let's predict !\n"
   ]
  },
  {
   "cell_type": "code",
   "execution_count": 26,
   "metadata": {
    "slideshow": {
     "slide_type": "slide"
    }
   },
   "outputs": [],
   "source": [
    "y_train = train_data[\"Survived\"]"
   ]
  },
  {
   "cell_type": "markdown",
   "metadata": {
    "slideshow": {
     "slide_type": "slide"
    }
   },
   "source": [
    "### Logistic Regression classifier\n",
    "\n",
    "Let's instantiate a `LogisticRegression` classifier"
   ]
  },
  {
   "cell_type": "code",
   "execution_count": 27,
   "metadata": {
    "slideshow": {
     "slide_type": "subslide"
    }
   },
   "outputs": [],
   "source": [
    "from sklearn.model_selection import cross_val_score\n",
    "from sklearn import linear_model, preprocessing, model_selection \n",
    "\n",
    "# New version of sklearn will give a warning if you don't specify a solver (b/c the default solver -- liblinear -- will be replaced in future)\n",
    "logistic_clf = linear_model.LogisticRegression(solver='liblinear')"
   ]
  },
  {
   "cell_type": "markdown",
   "metadata": {
    "slideshow": {
     "slide_type": "slide"
    }
   },
   "source": [
    "**More models, more fun ! Same price !**\n",
    "\n",
    "Although the focus of this lecture is on Logistic Regression, it turns out to be just as\n",
    "easy to run *multiple* models as it is one !\n",
    "\n",
    "So we will solve the Titanic challenge with multiple models as an illustration, but we will\n",
    "not delve into these other models."
   ]
  },
  {
   "cell_type": "markdown",
   "metadata": {
    "slideshow": {
     "slide_type": "subslide"
    }
   },
   "source": [
    "**SVM Classifier**"
   ]
  },
  {
   "cell_type": "code",
   "execution_count": 28,
   "metadata": {
    "slideshow": {
     "slide_type": "subslide"
    }
   },
   "outputs": [],
   "source": [
    "from sklearn.svm import SVC\n",
    "\n",
    "svm_clf = SVC(gamma=\"auto\")"
   ]
  },
  {
   "cell_type": "markdown",
   "metadata": {
    "slideshow": {
     "slide_type": "subslide"
    }
   },
   "source": [
    "**Random Forest Classifier**"
   ]
  },
  {
   "cell_type": "code",
   "execution_count": 29,
   "metadata": {
    "slideshow": {
     "slide_type": "subslide"
    }
   },
   "outputs": [],
   "source": [
    "from sklearn.ensemble import RandomForestClassifier\n",
    "\n",
    "forest_clf = RandomForestClassifier(n_estimators=100, random_state=42)"
   ]
  },
  {
   "cell_type": "markdown",
   "metadata": {
    "slideshow": {
     "slide_type": "slide"
    }
   },
   "source": [
    "### Train the models\n",
    "\n",
    "We will train all the models at once.\n",
    "\n",
    "This demonstrates the power of a consistent API: \n",
    "- training several models is no more difficult than training one."
   ]
  },
  {
   "cell_type": "code",
   "execution_count": 30,
   "metadata": {
    "slideshow": {
     "slide_type": "subslide"
    }
   },
   "outputs": [
    {
     "name": "stdout",
     "output_type": "stream",
     "text": [
      "SexToInt:transform: Cheating alert!, X has 2 columns.\n",
      "SexToInt:transform: Cheating alert!, X has 2 columns.\n",
      "Model: Logistic avg cross val score=0.79\n",
      "\n",
      "SexToInt:transform: Cheating alert!, X has 2 columns.\n",
      "SexToInt:transform: Cheating alert!, X has 2 columns.\n",
      "Model: SVM avg cross val score=0.73\n",
      "\n",
      "SexToInt:transform: Cheating alert!, X has 2 columns.\n",
      "SexToInt:transform: Cheating alert!, X has 2 columns.\n",
      "Model: Random Forest avg cross val score=0.80\n",
      "\n"
     ]
    }
   ],
   "source": [
    "for name, clf in { \"Logistic\": logistic_clf,\n",
    "                   \"SVM\": svm_clf,\n",
    "                   \"Random Forest\": forest_clf\n",
    "                 }.items():\n",
    "    \n",
    "    # Transform the data\n",
    "    X_train = preprocess_pipeline.fit_transform(train_data)\n",
    "    _= clf.fit(X_train, y_train)\n",
    "    \n",
    "    X_test = preprocess_pipeline.transform(test_data)\n",
    "    y_pred = clf.predict(X_test)\n",
    "\n",
    "    scores = cross_val_score(clf, X_train, y_train, cv=10)\n",
    "    print(\"Model: {m:s} avg cross val score={s:3.2f}\\n\".format(m=name, s=scores.mean()) )"
   ]
  },
  {
   "cell_type": "markdown",
   "metadata": {
    "slideshow": {
     "slide_type": "slide"
    }
   },
   "source": [
    "The (average) accuracy of the various models is in the range of 70% to 80%"
   ]
  },
  {
   "cell_type": "markdown",
   "metadata": {
    "slideshow": {
     "slide_type": "slide"
    }
   },
   "source": [
    "**Reminders**\n",
    "- Use Cross Validation\n",
    "    - out of sample performance\n",
    "    - confidence interval\n",
    "    \n",
    "- Be sure to run the test set through the pipeline that was fit to the train set !"
   ]
  },
  {
   "cell_type": "markdown",
   "metadata": {
    "slideshow": {
     "slide_type": "slide"
    }
   },
   "source": [
    "## Prediction\n",
    "\n",
    "The model output $\\hat{p}^\\ip$ is a probability that example $i$ is in the Positive class.\n",
    "\n",
    "Use some threshhold on $\\hat{p}^\\ip$  to convert the output\n",
    "to a category in { Positive, Negative }.\n",
    "\n",
    "We will discuss the choice of threshhold in a later lecture but, for now:\n",
    "- it is safe to imagine choosing the category with maximum probability."
   ]
  },
  {
   "cell_type": "markdown",
   "metadata": {
    "slideshow": {
     "slide_type": "slide"
    }
   },
   "source": [
    "## Error Analysis\n",
    "\n",
    "Cross validation gives you a metric for how well the model performed on the Test set *at a high level*.\n",
    "\n",
    "You will gain deeper insight into the Classification task by analyzing individual predictions.\n",
    "\n",
    "You can do this by \n",
    "- going through each test example\n",
    "- determine whether the prediction is correct for the example\n",
    "\n",
    "Is there some class for which the predictions are much less succesful than others ?\n",
    "\n",
    "This is a signal to improve your model\n",
    "- perhaps by adding features that aid prediction for the trouble classes.\n"
   ]
  },
  {
   "cell_type": "markdown",
   "metadata": {
    "slideshow": {
     "slide_type": "subslide"
    }
   },
   "source": [
    "There is some standard terminology for analyzing classification predictions.\n",
    "\n",
    "For binary classification, to be concrete, let's call the two classes Positive (P) and Negative (N).\n",
    "\n",
    "Let's create a table\n",
    "- the row labels correspond to the predicted class\n",
    "- the column labels correspond to the target (actual) class\n",
    "\n",
    "In pictures:\n",
    "$$\n",
    "\\begin{array}{lll}\n",
    "\\\\\n",
    "           & \\textbf{P} &  \\textbf{N} \\\\\n",
    "\\textbf{P} & \\text{TP}         & \\text{FP} \\\\\n",
    "\\textbf{N} & \\text{FN}         & \\text{TN} \\\\\n",
    "\\end{array}\n",
    "$$"
   ]
  },
  {
   "cell_type": "markdown",
   "metadata": {
    "slideshow": {
     "slide_type": "subslide"
    }
   },
   "source": [
    "- The entry labelled True Positive (TP) denotes the number of test examples\n",
    "    - that were correctly predicted as Positive\n",
    "- The entry labelled as False Positive (FP) denotes the number of test examples\n",
    "    - that were incorrectly predicted as Positive\n",
    "- The entry labelled True Negative (TN) denotes the number of test examples\n",
    "    - that were correctly predicted as Negative\n",
    "- The entry labelled False Negative denotes the number of test examples\n",
    "    - that were incorrectly predicted as Negative"
   ]
  },
  {
   "cell_type": "markdown",
   "metadata": {
    "slideshow": {
     "slide_type": "subslide"
    }
   },
   "source": [
    "So\n",
    "\n",
    "$$\\textrm{Accuracy} =  { \\text{TP} + \\text{TN} \\over  \\text{TP} + \\text{FP} + \\text{TN} + \\text{FN} } $$"
   ]
  },
  {
   "cell_type": "markdown",
   "metadata": {
    "slideshow": {
     "slide_type": "subslide"
    }
   },
   "source": [
    "The False Positive (FP) and False Negative (FN) are our errors.\n",
    "\n",
    "If the incorrectly predicted examples share something in common\n",
    "- this may indicate a problem in our model\n",
    "- needs to be corrected, perhaps through feature engineering."
   ]
  },
  {
   "cell_type": "markdown",
   "metadata": {
    "slideshow": {
     "slide_type": "slide"
    }
   },
   "source": [
    "# What if the target has more than 2 classes ? Multinomial Classification\n",
    "\n",
    "So far, we have a binary classifier.  \n",
    "\n",
    "What to do if the target classes has more than 2 classes ?\n",
    "\n",
    "Let $C$ denote the set of discrete values for the target variable.\n",
    "\n",
    "\n",
    "When $|| C || > 2$ this is called **Multinomial** or **Multiclass** Classification\n"
   ]
  },
  {
   "cell_type": "markdown",
   "metadata": {
    "slideshow": {
     "slide_type": "subslide"
    }
   },
   "source": [
    "## One versus all, One versus one\n",
    "Some models (e.g. Decision Trees) can handle Multinomial classification directly.\n",
    "\n",
    "For those that can't, we can adapt a binary classifier:\n",
    "- One versus All (**OvA**):\n",
    "    - create $K = ||C||$ binary classifiers, one for each class label\n",
    "        - Use the $i^{th}$ binary classifier to predict: Is $i$, or is not $i$\n",
    "    - predict the class whose binary classifier yields the highest probability\n",
    "- One versus One (**OvO**)\n",
    "    - create $ K \\cdot (K-1)/2$ binary classifiers, one for each pair of class labels\n",
    "    - predict the class that wins in the most paired classifications\n",
    "    \n",
    " "
   ]
  },
  {
   "cell_type": "markdown",
   "metadata": {
    "slideshow": {
     "slide_type": "subslide"
    }
   },
   "source": [
    "In One versus All, we compute a score for each $c \\in C$:\n",
    "$$ \n",
    "s_{(c)} = \\Theta_{(c)}^T \\cdot \\x \n",
    "$$ \n",
    "\n",
    "where\n",
    "- $s_{(c)}$ denotes the score for the binary \"c\" classifier that predicts $c$ or not $c$\n",
    "- $\\Theta_{(c)}$ are the parameters of the \"c\" classifier"
   ]
  },
  {
   "cell_type": "markdown",
   "metadata": {
    "slideshow": {
     "slide_type": "slide"
    }
   },
   "source": [
    "Let's be clear on the number of coefficients estimated in One versus All:\n",
    "\n",
    "For the digit classification problem where there are $C = 10$ classes\n",
    "the number of of parameters is *10 times* that of a binary classifier.\n",
    "\n",
    "Fortunately, `sklearn` hides all of this from you.\n",
    "\n",
    "What you *should* realize is that $||C||$ models are being fit, each with it's own parameters."
   ]
  },
  {
   "cell_type": "markdown",
   "metadata": {
    "slideshow": {
     "slide_type": "subslide"
    }
   },
   "source": [
    "*Geron page 130*\n",
    "\n",
    ">Scikit-Learn\tdetects\twhen\tyou\ttry\tto\tuse\ta\tbinary\tclassification\talgorithm\tfor\ta\tmulticlass\tclassification\n",
    "task,\tand\tit\tautomatically\truns\tOvA\t(except\tfor\tSVM\tclassifiers\tfor\twhich\tit\tuses\tOvO).\n"
   ]
  },
  {
   "cell_type": "markdown",
   "metadata": {
    "slideshow": {
     "slide_type": "slide"
    }
   },
   "source": [
    "## Softmax Regression\n",
    "\n",
    "When we had a single binary classifier, we converted the score to a probability via the sigmoid function.\n",
    "\n",
    "In multinomial classification\n",
    "- we need a way to convert the set of per-class scores \n",
    "$$\\{ s_{(c)} | c \\in C \\}$$\n",
    "into a probability vector $\\hat{\\mathbf{p}}$ of length $||C||$.\n",
    "\n",
    "The softmax function is the multinomial analog of the sigmoid function for binary values.\n"
   ]
  },
  {
   "cell_type": "markdown",
   "metadata": {
    "slideshow": {
     "slide_type": "subslide"
    }
   },
   "source": [
    "\n",
    "$$\n",
    "\\begin{array}{lll}\n",
    "\\hat{\\mathbf{p}}_c  & = & \\frac{\\textrm{exp}( s_{(c)}(\\x) )}  { \\sum_{c=1}^{||C||} {\\textrm{exp}( s_{(c)}(\\x) )}}\n",
    "\\end{array}\n",
    "$$\n",
    "\n",
    "You can see that each $\\hat{\\mathbf{p}}_c \\in [0,1]$ and that\n",
    "$\\sum_{c \\in C} { \\hat{\\mathbf{p}}_c } = 1$ so $\\mathbf{p}$ is indeed a probablility vector.\n"
   ]
  },
  {
   "cell_type": "markdown",
   "metadata": {
    "slideshow": {
     "slide_type": "slide"
    }
   },
   "source": [
    "## Prediction\n",
    "\n",
    "We can choose the class $c$ with the largest value in $\\hat{\\mathbf{p}}$ as our prediction\n",
    "$$\n",
    "\\argmax{c} \\hat{\\mathbf{p}}_c \n",
    "$$\n"
   ]
  },
  {
   "cell_type": "markdown",
   "metadata": {
    "slideshow": {
     "slide_type": "slide"
    }
   },
   "source": [
    "# One hot encoding (OHE)\n",
    "$\n",
    "\\newcommand{\\v}{\\mathbf{v}}\n",
    "$\n",
    "\n",
    "Categorical variables can have more than 2 classes.\n",
    "\n",
    "The way to represent a categorical variable $v$ with $||C||$ classes is with a \n",
    "vector $\\v$ of length $||C||$.\n",
    "\n",
    "$\\v$ will have the property of being all zero *except* at a single index $j$ where $\\v_j = 1$.\n",
    "\n",
    "Hence the name *one hot* encoding."
   ]
  },
  {
   "cell_type": "markdown",
   "metadata": {
    "slideshow": {
     "slide_type": "subslide"
    }
   },
   "source": [
    "We need to create a mapping $m$ from class $c \\in C$ to  integers $\\in \\left[ \\, 1, ||C|| \\,\\right]$.\n",
    "\n",
    "This will enable us to associate an integer with a class label.\n",
    "\n",
    "For example $i$, suppose $v$ has class label $c$.\n",
    "\n",
    "Then $\\v^\\ip$ is defined as\n",
    "$$\n",
    "\\begin{array}[lll]\\\\\n",
    "\\v^\\ip_j & = & 1 & \\text{ if } j = m(c) \\\\\n",
    "\\v^\\ip_j & = & 0 & \\text{ if } j \\ne m(c) \\\\\n",
    "\\end{array}\n",
    "$$\n",
    "\n",
    "**n.b., we may slip into writing $\\mathbf{v}^\\ip_c$ rather than $\\mathbf{v}^\\ip_{m(c)}$**\n",
    "- since $c$ is a category (non-numeric) and $m(c)$ is an integer this is unambgious"
   ]
  },
  {
   "cell_type": "markdown",
   "metadata": {
    "slideshow": {
     "slide_type": "subslide"
    }
   },
   "source": [
    "The categorical variable $v$ was replaced with $||C||$ binary variables $\\v_1, \\ldots, \\v_{||C||}$.\n",
    "- for each example $i$: there is exactly $1$ index $j$ such that $\\v_j = 1$\n",
    "- if feature $\\v$ of example $i$ was from the $j^{th}$ class in $C$, then $\\v^\\ip_j = 1$\n",
    "\n",
    "Each of the new *binary* features is called an *indicator* or *dummy* variable.\n",
    "\n",
    "\n",
    "This is called **one hot encoding (OHE)** of a variable.\n",
    "\n",
    "We can use OHE on variables, whether they are targets or features."
   ]
  },
  {
   "cell_type": "markdown",
   "metadata": {
    "slideshow": {
     "slide_type": "subslide"
    }
   },
   "source": [
    "Let's see what $\\v$ looks like on a number of examples, one for each possible class $c \\in C$:\n",
    "\n",
    "$$\n",
    "\\begin{array}{cccc}\\\\\n",
    "&    & \\v_1 & \\v_2 & \\v_3 & \\ldots & \\v_{||C||} \\\\\n",
    "&m(c)=1 & 1    & 0    & 0    &        & 0    \\\\\n",
    "&m(c)=2 & 0    & 1    & 0    &        & 0    \\\\\n",
    "&m(c)=3 & 0    & 0    & 1    &        & 0    \\\\\n",
    "& \\ldots \\\\\n",
    "&m(c)=||C|| & 0    & 0    & 0    &        & 1    \\\\\n",
    "\\end{array}\n",
    "$$\n"
   ]
  },
  {
   "cell_type": "markdown",
   "metadata": {
    "slideshow": {
     "slide_type": "subslide"
    }
   },
   "source": [
    "To be concrete let's consider a data set with\n",
    "- one numeric variable $x_0$\n",
    "- categorical variable $x_1$ (\"Gender\") from categories $C_{(1)} = \\{ \"Male\", \"Female\" \\}$\n",
    "- categorical variable $x_2$ (\"Location\")from categories $C_{(2)} = \\{ \"Urban\", \"Suburban\", \"Exurban\" \\}$"
   ]
  },
  {
   "cell_type": "markdown",
   "metadata": {
    "slideshow": {
     "slide_type": "subslide"
    }
   },
   "source": [
    "And a few rows from our data set\n",
    "\n",
    "$\n",
    "  \\X' = \\begin{pmatrix}\n",
    "  \\mathbf{const} & \\mathbf{Gender} & \\mathbf{Location} \\\\\n",
    "  1 & Female & Urban \\\\ \n",
    "  1 & Female & Exurban \\\\ \n",
    "  1 & Male & Exurban \\\\ \n",
    "  1 & Male & Suburban \\\\ \n",
    "   \\vdots \\\\\n",
    "  \\end{pmatrix}\n",
    "$"
   ]
  },
  {
   "cell_type": "markdown",
   "metadata": {
    "slideshow": {
     "slide_type": "subslide"
    }
   },
   "source": [
    "After our One Hot Encoding we get\n",
    "\n",
    "$\n",
    "  \\X'' = \\begin{pmatrix}\n",
    "  \\mathbf{const} & \\mathbf{Is Female} & \\mathbf{Is Male} & \\mathbf{Is Urban} & \\mathbf{Is Suburban} & \\mathbf{Is Exurban}\\\\\n",
    "  1 &  1 & 0 & 1 & 0 & 0 \\\\ \n",
    "  1 &  1 & 0 &  0 & 0 & 1\\\\ \n",
    "  1 &  0 & 1 &  0 & 0 & 1 \\\\ \n",
    "  1 &  0 & 1 &  0 & 1 & 0 \\\\ \n",
    "   \\vdots \\\\\n",
    "  \\end{pmatrix}\n",
    "$"
   ]
  },
  {
   "cell_type": "markdown",
   "metadata": {
    "slideshow": {
     "slide_type": "subslide"
    }
   },
   "source": [
    "Notice that the number of features has increased.\n",
    "\n",
    "Specifically: a single categorical variable $x_j$ from a category $C = \\{ c_1, c_2, \\ldots \\}$ of size $||C||$ \n",
    "- has been replaced by $||C||$ new varibles\n",
    "   - $\\text{Is } c_1$\n",
    "   - $\\text{Is } c_2$\n",
    "   - $\\vdots$\n",
    "   - $\\text{Is } c_{||C||}$\n",
    "   \n"
   ]
  },
  {
   "cell_type": "markdown",
   "metadata": {
    "slideshow": {
     "slide_type": "subslide"
    }
   },
   "source": [
    "## One-Hot encoding of target \n",
    "\n",
    "Although it is pedantically convenient to think of multinomial classification as $||C||$ separate binary\n",
    "classifiers, in reality we are fitting one classifier (with $||C||$ *sets* of parameters)\n",
    "\n",
    "OHE turns the target from a scalar into a vector $\\y$ of length $||C||$.\n",
    "\n",
    "One way to think about this is that each target $\\y^\\ip$ is now a probability distribution, with all the mass concentrated at one point.\n"
   ]
  },
  {
   "cell_type": "markdown",
   "metadata": {
    "slideshow": {
     "slide_type": "subslide"
    }
   },
   "source": [
    "## One-Hot encoding of a feature\n",
    "\n",
    "We can apply one hot encoding to features as well, as illustrated in the example above.\n",
    "\n",
    "**Warning**: Depending on the model: \n",
    "- we may fall into the Dummy Variable Trap\n",
    "when using OHE on *features*\n",
    "- More in a moment."
   ]
  },
  {
   "cell_type": "markdown",
   "metadata": {
    "slideshow": {
     "slide_type": "subslide"
    }
   },
   "source": [
    "# Cost function for Multinomial Logistic Classification: Cross Entropy\n",
    "\n",
    "With the target now encoded as a vector $\\y$ we can write the cost function per example as\n",
    "\n",
    "$$\n",
    "\\loss^\\ip_\\Theta = - \\sum_{c=1}^{||C||}\n",
    "\\left(\n",
    "{ \\y_c^\\ip * \\textrm{log} (\\hat{\\mathbf{p}}_c^\\ip)}\n",
    "\\right)\n",
    "$$\n",
    "\n",
    "This is the multinomial analog of Binary Cross Entropy and is called **Cross Entropy**.\n",
    "\n",
    "\n",
    "This is called the **Cross Entropy** Cost Function."
   ]
  },
  {
   "cell_type": "markdown",
   "metadata": {
    "slideshow": {
     "slide_type": "slide"
    }
   },
   "source": [
    "# Titanic revisited: OHE  features\n",
    "\n",
    "Rather than representing the Sex feature as a binary value as we did originally \n",
    "\n",
    "`class SexToInt(BaseEstimator, TransformerMixin):`\n",
    "\n",
    "    ...\n",
    "    \n",
    "    def transform(self, X, y=None):\n",
    "        sex = X[\"Sex\"]\n",
    "        X[\"Sex\"] = 0\n",
    "        X[ sex == \"female\" ] = 1`\n",
    "        \n",
    "we will use one hot encoding."
   ]
  },
  {
   "cell_type": "markdown",
   "metadata": {
    "slideshow": {
     "slide_type": "slide"
    }
   },
   "source": [
    "## Titanic categorical features, without cheating\n",
    "\n",
    "Can anyone spot where we \"cheated\" on the categorical feature in our first pass at the Titanic ?\n",
    "\n",
    "- Our categorical pipeline treated `Sex` as the *only* categorical variable \n",
    "    - might there be other categorical variables ?\n",
    "    - `Pclass` ?\n",
    "        - How different is `Pclass == 2` from `Pclass == 1` ?\n",
    "        - What if the classes were labeled `Pclass = 100` and `Pclass == 200` ?\n",
    "- We encoded `Sex` with a binary integer\n",
    "    - In general, it's best to use One Hot Encoding, resulting in two indicator features\n",
    "    - This worked out (as we'll see) because Linear Regression needs a special form of OHE\n"
   ]
  },
  {
   "cell_type": "markdown",
   "metadata": {
    "slideshow": {
     "slide_type": "subslide"
    }
   },
   "source": [
    "We will now treat all features in the `cat_features` list as categorical in our pipeline"
   ]
  },
  {
   "cell_type": "code",
   "execution_count": 31,
   "metadata": {
    "slideshow": {
     "slide_type": "subslide"
    }
   },
   "outputs": [
    {
     "data": {
      "text/plain": [
       "['Sex', 'Pclass']"
      ]
     },
     "execution_count": 31,
     "metadata": {},
     "output_type": "execute_result"
    }
   ],
   "source": [
    "cat_features"
   ]
  },
  {
   "cell_type": "code",
   "execution_count": 32,
   "metadata": {
    "slideshow": {
     "slide_type": "slide"
    }
   },
   "outputs": [],
   "source": [
    "# Categorical pipleine, using OHE\n",
    "from sklearn.preprocessing import OneHotEncoder \n",
    "\n",
    "cat_pipeline = Pipeline([\n",
    "        (\"select_cat\", DataFrameSelector( cat_features )),\n",
    "        (\"imputer\", MostFrequentImputer()),\n",
    "        (\"cat_encoder\", OneHotEncoder(sparse=False)),\n",
    "    ])\n",
    "\n",
    "preprocess_pipeline = FeatureUnion(transformer_list=[\n",
    "        (\"num_pipeline\", num_pipeline),\n",
    "        (\"cat_pipeline\", cat_pipeline),\n",
    "    ])"
   ]
  },
  {
   "cell_type": "markdown",
   "metadata": {
    "slideshow": {
     "slide_type": "subslide"
    }
   },
   "source": [
    "The `cat_pipeline` now creates $5$ indicators whereas the old one created only 1\n",
    "- The `Sex`attribute is now 2 indicators (\"Is Female\", \"Is Male\")\n",
    "- The `Pclass` attribute is now 3 indicators (\"Is class 1\", \"Is class 2\", \"Is class 3\")\n",
    "\n",
    "Let's look at the first couple of training examples after OHE has been applied.\n",
    "\n",
    "We will show the encoding along with the corresponding class labels."
   ]
  },
  {
   "cell_type": "code",
   "execution_count": 33,
   "metadata": {
    "slideshow": {
     "slide_type": "subslide"
    }
   },
   "outputs": [
    {
     "name": "stdout",
     "output_type": "stream",
     "text": [
      "Sex:\n",
      "\n"
     ]
    },
    {
     "data": {
      "text/plain": [
       "array([[0., 1.],\n",
       "       [1., 0.],\n",
       "       [1., 0.],\n",
       "       [1., 0.],\n",
       "       [0., 1.],\n",
       "       [0., 1.],\n",
       "       [0., 1.]])"
      ]
     },
     "execution_count": 33,
     "metadata": {},
     "output_type": "execute_result"
    },
    {
     "data": {
      "text/html": [
       "<div>\n",
       "<style scoped>\n",
       "    .dataframe tbody tr th:only-of-type {\n",
       "        vertical-align: middle;\n",
       "    }\n",
       "\n",
       "    .dataframe tbody tr th {\n",
       "        vertical-align: top;\n",
       "    }\n",
       "\n",
       "    .dataframe thead th {\n",
       "        text-align: right;\n",
       "    }\n",
       "</style>\n",
       "<table border=\"1\" class=\"dataframe\">\n",
       "  <thead>\n",
       "    <tr style=\"text-align: right;\">\n",
       "      <th></th>\n",
       "      <th>Sex</th>\n",
       "    </tr>\n",
       "  </thead>\n",
       "  <tbody>\n",
       "    <tr>\n",
       "      <th>0</th>\n",
       "      <td>male</td>\n",
       "    </tr>\n",
       "    <tr>\n",
       "      <th>1</th>\n",
       "      <td>female</td>\n",
       "    </tr>\n",
       "    <tr>\n",
       "      <th>2</th>\n",
       "      <td>female</td>\n",
       "    </tr>\n",
       "    <tr>\n",
       "      <th>3</th>\n",
       "      <td>female</td>\n",
       "    </tr>\n",
       "    <tr>\n",
       "      <th>4</th>\n",
       "      <td>male</td>\n",
       "    </tr>\n",
       "    <tr>\n",
       "      <th>5</th>\n",
       "      <td>male</td>\n",
       "    </tr>\n",
       "    <tr>\n",
       "      <th>6</th>\n",
       "      <td>male</td>\n",
       "    </tr>\n",
       "  </tbody>\n",
       "</table>\n",
       "</div>"
      ],
      "text/plain": [
       "      Sex\n",
       "0    male\n",
       "1  female\n",
       "2  female\n",
       "3  female\n",
       "4    male\n",
       "5    male\n",
       "6    male"
      ]
     },
     "execution_count": 33,
     "metadata": {},
     "output_type": "execute_result"
    }
   ],
   "source": [
    "# Run the categorial pipeline\n",
    "cat_ndarray = cat_pipeline.fit_transform(train_data)\n",
    "\n",
    "# Let's examine the first first rows of the ndarray, and relate them to the same rows in the DataFrame, \n",
    "# -- n.b., with the DataFrame, we can see the column names\n",
    "num_to_see = 7\n",
    "\n",
    "print(cat_features[0] + \":\\n\")\n",
    "cat_ndarray[:num_to_see, :2]\n",
    "\n",
    "train_data.loc[:, [ cat_features[0] ] ].head(num_to_see)"
   ]
  },
  {
   "cell_type": "code",
   "execution_count": 34,
   "metadata": {
    "slideshow": {
     "slide_type": "subslide"
    }
   },
   "outputs": [
    {
     "name": "stdout",
     "output_type": "stream",
     "text": [
      "Pclass:\n",
      "\n"
     ]
    },
    {
     "data": {
      "text/plain": [
       "array([[0., 0., 1.],\n",
       "       [1., 0., 0.],\n",
       "       [0., 0., 1.],\n",
       "       [1., 0., 0.],\n",
       "       [0., 0., 1.],\n",
       "       [0., 0., 1.],\n",
       "       [1., 0., 0.]])"
      ]
     },
     "execution_count": 34,
     "metadata": {},
     "output_type": "execute_result"
    },
    {
     "data": {
      "text/html": [
       "<div>\n",
       "<style scoped>\n",
       "    .dataframe tbody tr th:only-of-type {\n",
       "        vertical-align: middle;\n",
       "    }\n",
       "\n",
       "    .dataframe tbody tr th {\n",
       "        vertical-align: top;\n",
       "    }\n",
       "\n",
       "    .dataframe thead th {\n",
       "        text-align: right;\n",
       "    }\n",
       "</style>\n",
       "<table border=\"1\" class=\"dataframe\">\n",
       "  <thead>\n",
       "    <tr style=\"text-align: right;\">\n",
       "      <th></th>\n",
       "      <th>Pclass</th>\n",
       "    </tr>\n",
       "  </thead>\n",
       "  <tbody>\n",
       "    <tr>\n",
       "      <th>0</th>\n",
       "      <td>3</td>\n",
       "    </tr>\n",
       "    <tr>\n",
       "      <th>1</th>\n",
       "      <td>1</td>\n",
       "    </tr>\n",
       "    <tr>\n",
       "      <th>2</th>\n",
       "      <td>3</td>\n",
       "    </tr>\n",
       "    <tr>\n",
       "      <th>3</th>\n",
       "      <td>1</td>\n",
       "    </tr>\n",
       "    <tr>\n",
       "      <th>4</th>\n",
       "      <td>3</td>\n",
       "    </tr>\n",
       "    <tr>\n",
       "      <th>5</th>\n",
       "      <td>3</td>\n",
       "    </tr>\n",
       "    <tr>\n",
       "      <th>6</th>\n",
       "      <td>1</td>\n",
       "    </tr>\n",
       "  </tbody>\n",
       "</table>\n",
       "</div>"
      ],
      "text/plain": [
       "   Pclass\n",
       "0       3\n",
       "1       1\n",
       "2       3\n",
       "3       1\n",
       "4       3\n",
       "5       3\n",
       "6       1"
      ]
     },
     "execution_count": 34,
     "metadata": {},
     "output_type": "execute_result"
    }
   ],
   "source": [
    "print(cat_features[1] + \":\\n\")\n",
    "cat_ndarray[:num_to_see, -3:]\n",
    "train_data.loc[:, [ cat_features[1]]].head(num_to_see)"
   ]
  },
  {
   "cell_type": "markdown",
   "metadata": {
    "slideshow": {
     "slide_type": "slide"
    }
   },
   "source": [
    "Notice that $\\X$ now has many more feature columns."
   ]
  },
  {
   "cell_type": "code",
   "execution_count": 35,
   "metadata": {
    "slideshow": {
     "slide_type": "slide"
    }
   },
   "outputs": [
    {
     "data": {
      "text/plain": [
       "Index(['PassengerId', 'Survived', 'Pclass', 'Name', 'Sex', 'Age', 'SibSp',\n",
       "       'Parch', 'Ticket', 'Fare', 'Cabin', 'Embarked', 'AgeBucket'],\n",
       "      dtype='object')"
      ]
     },
     "execution_count": 35,
     "metadata": {},
     "output_type": "execute_result"
    },
    {
     "data": {
      "text/plain": [
       "(891, 9)"
      ]
     },
     "execution_count": 35,
     "metadata": {},
     "output_type": "execute_result"
    },
    {
     "data": {
      "text/plain": [
       "array([[22.,  1.,  0., ...,  0.,  0.,  1.],\n",
       "       [38.,  1.,  0., ...,  1.,  0.,  0.],\n",
       "       [26.,  0.,  0., ...,  0.,  0.,  1.],\n",
       "       ...,\n",
       "       [28.,  1.,  2., ...,  0.,  0.,  1.],\n",
       "       [26.,  0.,  0., ...,  1.,  0.,  0.],\n",
       "       [32.,  0.,  0., ...,  0.,  0.,  1.]])"
      ]
     },
     "execution_count": 35,
     "metadata": {},
     "output_type": "execute_result"
    }
   ],
   "source": [
    "X_train = preprocess_pipeline.fit_transform(train_data)\n",
    "\n",
    "# Note: All the columns in untransformed train_data are NOT in X_train, especially the target Survived !\n",
    "train_data.columns\n",
    "X_train.shape\n",
    "X_train"
   ]
  },
  {
   "cell_type": "markdown",
   "metadata": {
    "slideshow": {
     "slide_type": "slide"
    }
   },
   "source": [
    "OK, no more cheating.  How did we do ?"
   ]
  },
  {
   "cell_type": "code",
   "execution_count": 36,
   "metadata": {
    "slideshow": {
     "slide_type": "subslide"
    }
   },
   "outputs": [
    {
     "name": "stdout",
     "output_type": "stream",
     "text": [
      "Model Logistic avg cross val score=0.79\n",
      "Model SVM avg cross val score=0.74\n",
      "Model Random Forest avg cross val score=0.81\n"
     ]
    }
   ],
   "source": [
    "for name, clf in { \"Logistic\": logistic_clf,\n",
    "                   \"SVM\": svm_clf,\n",
    "                   \"Random Forest\": forest_clf\n",
    "                 }.items():\n",
    "    \n",
    "    # Transform and fit the model\n",
    "    X_train = preprocess_pipeline.fit_transform(train_data)\n",
    "    _= clf.fit(X_train, y_train)\n",
    "    \n",
    "    # Transform the test data\n",
    "    X_test = preprocess_pipeline.transform(test_data)\n",
    "    y_pred = clf.predict(X_test)\n",
    "\n",
    "    scores = cross_val_score(clf, X_train, y_train, cv=10)\n",
    "    print(\"Model {m:s} avg cross val score={s:3.2f}\".format(m=name, s=scores.mean()) )"
   ]
  },
  {
   "cell_type": "markdown",
   "metadata": {
    "slideshow": {
     "slide_type": "slide"
    }
   },
   "source": [
    "Not too different across models (hard to even know whether the difference is statistically significant).\n",
    "\n",
    "As far as `LogisticRegression`:  it doesn't look like our \"cheating\" made much of a difference.\n",
    "- Using a single binary variable for `Sex` rather than 2 indicators\n",
    "- Treating `Pclasss` as numeric values $\\{ 1, 2, 3 \\}$ rather than OHE\n",
    "\n",
    "This may be more luck than skill\n"
   ]
  },
  {
   "cell_type": "markdown",
   "metadata": {
    "slideshow": {
     "slide_type": "slide"
    }
   },
   "source": [
    "# Categorical features: the Dummy Variable Trap for Linear Regression\n",
    "\n",
    "In general, OHE of features is the best way to deal with Categorical features in\n",
    "Machine Learning.\n",
    "\n",
    "**However** there is a mathematical issue for some models\n",
    "- linear models (like Linear Regression and Logistic Regression).\n",
    "\n",
    "This is called the **Dummy Variable Trap** \n",
    "\n",
    "To avoid the trap, we need to perform OHE in a slightly different way for the affected models.\n",
    "\n",
    "Special cases are unfortunate and we will only offer a quick explanation here.\n"
   ]
  },
  {
   "cell_type": "markdown",
   "metadata": {
    "slideshow": {
     "slide_type": "slide"
    }
   },
   "source": [
    "For now, when using linear models there are several alternatives to avoid the trap\n",
    "- if you have a categorical variable $v$ with $||C||$ classes\n",
    "\n",
    "- The vector $\\mathbf{v}$ should consist of $||C|| -1$ indicators rather than $||C||$\n",
    "    - this solution is common enough that several toolkits provide functions to deal with it\n",
    "        - `sklearn.preprocessing.OneHotEncoder` with argument `drop=\"first\"`\n",
    "        - Pandas: `pd.get_dummies` with argument `drop_first=True`\n",
    "- Use a regularizer (e.g., Ridge regression)\n",
    "- *Don't* include an intercept term\n",
    "    - But this may cause problems\n",
    "        - Having an intercept ensures that the errors are mean $0$"
   ]
  },
  {
   "cell_type": "markdown",
   "metadata": {
    "slideshow": {
     "slide_type": "slide"
    }
   },
   "source": [
    "## Dummy variable trap: Multi-collinearity in Linear Regression\n",
    "\n",
    "Consider the class $C = $ { \"Red\", \"Green\", \"Blue\" } and a categorical variable $v$ for this class.\n",
    "\n",
    "Suppose we create $||C||$ indicator variables\n",
    "- $\\mathbf{v}_{Red}, \\mathbf{v}_{Green}, \\mathbf{v}_{Blue}$\n",
    "\n",
    "By construction of the OHE of $v$,\n",
    "for each example $i$:\n",
    "$$\n",
    "\\sum_{c \\in C} { \\mathbf{v}^\\ip_c } = 1\n",
    "$$\n",
    "\n",
    "This means that the indicators in $\\mathbf{v}$ are perfectly collinear with the \"constant\" attribute 1 in each example\n",
    "representing the intercept term, e.g, $\\x_0$."
   ]
  },
  {
   "cell_type": "markdown",
   "metadata": {
    "slideshow": {
     "slide_type": "subslide"
    }
   },
   "source": [
    "$\n",
    "  \\X'' = \\begin{pmatrix}\n",
    "  \\mathbf{const} & \\mathbf{Is Red} & \\mathbf{Is Green} & \\mathbf{Is Blue}\\\\\n",
    "  1 &  1 & 0 & 0 \\\\ \n",
    "  1 &  0 & 0 & 1\\\\ \n",
    "  1 &  0 & 1 & 0 \\\\ \n",
    "   \\vdots \\\\\n",
    "  \\end{pmatrix}\n",
    "$"
   ]
  },
  {
   "cell_type": "markdown",
   "metadata": {
    "slideshow": {
     "slide_type": "slide"
    }
   },
   "source": [
    "When one feature (e.g., the constant) is equal to a linear combination of some other features, this is\n",
    "called Perfect Multi-collinearity.\n",
    "\n",
    "Linear Regression has mathematical issues with Perfect Multi-colinearity (or even with Imperfect Multi-collinearity).\n",
    "\n",
    "This manifests itself as \n",
    "- some variables with huge positive parameter values (e.g., $\\Theta_{Red}, \\Theta_{Blue}$)\n",
    "- and other variables with huge (offsetting) negative parameter values (e.g., $\\Theta_{Green}$)."
   ]
  },
  {
   "cell_type": "markdown",
   "metadata": {
    "slideshow": {
     "slide_type": "slide"
    }
   },
   "source": [
    "Regularization skirts the issue by enforcing a constraint that restricts large values for parameters.\n",
    "\n",
    "By turning the parameter value of one indicator in a class to $0$, we effectively eliminate\n",
    "1 indicator and avoid perfect collinearity."
   ]
  },
  {
   "cell_type": "markdown",
   "metadata": {
    "slideshow": {
     "slide_type": "slide"
    }
   },
   "source": [
    "So where did we get lucky in our two versions of Tittanic ?\n",
    "- In the first version, a binary variable for `Sex` is  same as $||C|| -1$ indicators since $||C|| = 2$\n",
    "- In the second version, with a full set of indicators for `Sex` (2) and `Pclass` (3)\n",
    "    - `LogisticRegression` defaults to a regularized cost function\n",
    "\n",
    "So by luck or design, we avoided any potential Dummay Variable Trap issues."
   ]
  },
  {
   "cell_type": "markdown",
   "metadata": {
    "slideshow": {
     "slide_type": "slide"
    }
   },
   "source": [
    "# Text: another categorial variables\n",
    "\n",
    "How do you include text variables ? One-hot encoding of the vocabulary !\n",
    "\n",
    "That's only approximately true, as vocabularies can be quite large and thus, the vectors are very long.\n",
    "\n",
    "Dealing with Text will be the subject of another lecture\n",
    "\n",
    "**Example:** Spam filtering (classification task: Is Spam/Is Not Spam)\n",
    "- each word is an indicator\n",
    "- Dealing with large vocabulary\n",
    "    - sparse matrices\n",
    "    - word vectors\n",
    "- feature engineering: an ALLCAP feature"
   ]
  },
  {
   "cell_type": "markdown",
   "metadata": {
    "slideshow": {
     "slide_type": "slide"
    }
   },
   "source": [
    "# Multinomial classification example: MNIST digit classifier\n",
    "\n",
    "Remember the digit classifier using KNN from our introductory lecture ?\n",
    "\n",
    "We criticized the model as being one of excessive template matching: one template per training example.\n",
    "\n",
    "We can now use Logistic Regression to obtain a classifier with *many* fewer paramters.\n",
    "\n",
    "It will also have the benefit of helping us *interpret* **how** the classifer is making its predictions.\n",
    "\n",
    "We won't go into interpretation until a later lecture, but for now: a preview of coming attractions.\n",
    "\n",
    "\n"
   ]
  },
  {
   "cell_type": "markdown",
   "metadata": {
    "slideshow": {
     "slide_type": "subslide"
    }
   },
   "source": [
    "Let's fetch the data and visualize it."
   ]
  },
  {
   "cell_type": "code",
   "execution_count": 37,
   "metadata": {
    "slideshow": {
     "slide_type": "subslide"
    }
   },
   "outputs": [
    {
     "name": "stdout",
     "output_type": "stream",
     "text": [
      "Retrieving MNIST_784 from cache\n"
     ]
    },
    {
     "data": {
      "image/png": "[encoded data removed]",
      "text/plain": [
       "<Figure size 720x720 with 25 Axes>"
      ]
     },
     "metadata": {
      "needs_background": "light"
     },
     "output_type": "display_data"
    }
   ],
   "source": [
    "mnh.setup()\n",
    "mnh.visualize()"
   ]
  },
  {
   "cell_type": "code",
   "execution_count": 38,
   "metadata": {
    "slideshow": {
     "slide_type": "subslide"
    }
   },
   "outputs": [
    {
     "name": "stdout",
     "output_type": "stream",
     "text": [
      "Training set: X shape=(5000, 784), y shape: (5000,)\n",
      "Training labels: y is of type <class 'str'>\n"
     ]
    }
   ],
   "source": [
    "print(\"Training set: X shape={xs}, y shape: {ys}\".format(xs=mnh.X_train.shape, ys=mnh.y_train.shape) )\n",
    "print(\"Training labels: y is of type {t}\".format(t=type(mnh.y_train[0]) ) )"
   ]
  },
  {
   "cell_type": "markdown",
   "metadata": {
    "slideshow": {
     "slide_type": "subslide"
    }
   },
   "source": [
    "The training set $\\X$ consists of 5000 examples, each having 784 features.\n",
    "\n",
    "The 784 features are pixel intensity values (1=white, 0=black),  visualized as a $(28 \\times 28)$ image.\n",
    "\n",
    "Importantly, the labels (targets) are strings, i.e, string \"0\" rather than integer 0.\n",
    "$$\n",
    "C = \\{ \"0\", \"1\", \\ldots, \"9\" \\}\n",
    "$$\n",
    "\n",
    "Let's fit a Logistic Regression model."
   ]
  },
  {
   "cell_type": "code",
   "execution_count": 39,
   "metadata": {
    "slideshow": {
     "slide_type": "subslide"
    }
   },
   "outputs": [
    {
     "name": "stdout",
     "output_type": "stream",
     "text": [
      "Example run in 3.756 s\n"
     ]
    }
   ],
   "source": [
    "mnist_lr = mnh.fit()"
   ]
  },
  {
   "cell_type": "markdown",
   "metadata": {
    "slideshow": {
     "slide_type": "subslide"
    }
   },
   "source": [
    "How did we do, i.e., what was the Performance Metric ?"
   ]
  },
  {
   "cell_type": "code",
   "execution_count": 40,
   "metadata": {
    "slideshow": {
     "slide_type": "subslide"
    }
   },
   "outputs": [
    {
     "name": "stdout",
     "output_type": "stream",
     "text": [
      "Test score with l2 penalty:0.87\n",
      "Sparsity with l2 penalty: 15.43.\n"
     ]
    }
   ],
   "source": [
    "clf = mnh.clf\n",
    "score = clf.score(mnh.X_test, mnh.y_test)\n",
    "\n",
    "# How many zero coefficients were forced by the penalty ?\n",
    "sparsity = np.mean(clf.coef_ == 0) * 100\n",
    "\n",
    "print(\"Test score with {p} penalty:{s:.2f}\".format(p=clf.penalty, s=score) )\n",
    "print(\"Sparsity with {p} penalty: {s:.2f}.\".format(p=clf.penalty, s=sparsity) )"
   ]
  },
  {
   "cell_type": "markdown",
   "metadata": {
    "slideshow": {
     "slide_type": "subslide"
    }
   },
   "source": [
    "We achieved an accuracy on the Test set of about 88%.\n",
    "\n",
    "Is this good ?  We'll probe that question in a later lecture.\n",
    "\n",
    "For now: it sounds pretty good, but\n",
    "- in a Test set with equal quantities of each digit\n",
    "- we could get *all* instances of a single digit wrong and still achieve 90% accuracy !\n",
    "- **Lesson**: absolute numbers are mis-leading"
   ]
  },
  {
   "cell_type": "markdown",
   "metadata": {
    "slideshow": {
     "slide_type": "subslide"
    }
   },
   "source": [
    "Also notice that `LogisticRegression` used an L2 penalty (Ridge Regression) that caused\n",
    "about 16% of the parameters to become $0$."
   ]
  },
  {
   "cell_type": "markdown",
   "metadata": {
    "slideshow": {
     "slide_type": "slide"
    }
   },
   "source": [
    "How many parameters did we fit (i.e., what is the size of $\\Theta$ ?"
   ]
  },
  {
   "cell_type": "code",
   "execution_count": 41,
   "metadata": {
    "slideshow": {
     "slide_type": "subslide"
    }
   },
   "outputs": [
    {
     "name": "stdout",
     "output_type": "stream",
     "text": [
      "The classifier non-intercept parameters shape: (10, 784);  intercept parameters shape: (10,)\n"
     ]
    }
   ],
   "source": [
    "print(\"The classifier non-intercept parameters shape: {nc};  intercept parameters shape: {ni}\".format(\n",
    "    nc=mnh.clf.coef_.shape,\n",
    "    ni=mnh.clf.intercept_.shape\n",
    ")\n",
    "     )\n"
   ]
  },
  {
   "cell_type": "markdown",
   "metadata": {
    "slideshow": {
     "slide_type": "slide"
    }
   },
   "source": [
    "`sklearn` separately stores\n",
    "- the intercept (`clf.intercept_`): the parameter associated with the `const` column in $\\X'$)\n",
    "- all other parameters (`clf.coef_`) \n"
   ]
  },
  {
   "cell_type": "markdown",
   "metadata": {
    "slideshow": {
     "slide_type": "subslide"
    }
   },
   "source": [
    "As you can see from the leading dimension (10) there are essentially $||C||$ binary classifiers\n",
    "- one parameter per element of the feature vector\n",
    "- plus one intercept/constant parameter\n",
    "\n",
    "In total $\\Theta$ has $10*(784 + 1) = 7850$ parameters."
   ]
  },
  {
   "cell_type": "markdown",
   "metadata": {
    "slideshow": {
     "slide_type": "slide"
    }
   },
   "source": [
    "More precisely\n",
    "- The target vector $\\y$ is of length $||C|| = 10$, i.e., OHE target\n",
    "    - we have previously only seen scalar targets\n",
    "- `LogisticRegression` is performing One versus All (OvA) classification\n",
    "- Because $||\\y^\\ip|| > 1$, it is using a Cross Entropy Loss in the cost function\n"
   ]
  },
  {
   "cell_type": "markdown",
   "metadata": {
    "slideshow": {
     "slide_type": "subslide"
    }
   },
   "source": [
    "Compare this to the KNN classifier from the first lecture\n",
    "- one template per example, at $(28 \\times 28) = 784$ parameters per example\n",
    "- times $m = 5000$ examples\n",
    "\n",
    "So the Logistic Classifier uses about $m = 5000$ times fewer parameters."
   ]
  },
  {
   "cell_type": "markdown",
   "metadata": {
    "slideshow": {
     "slide_type": "slide"
    }
   },
   "source": [
    "What do the 784 non-intercept parameters look like ?\n",
    "\n",
    "That is: what is the \"template\" for each class (digit) ?\n",
    "\n",
    "Since there is one parameter per pixel, ordered in the same way as the input image pixels, we can display the 784 parameters in a $(28 \\times 28)$ image.\n",
    "\n",
    "Remember: there is one parameter vector (template) for each of the $||C|| = 10$ classes."
   ]
  },
  {
   "cell_type": "code",
   "execution_count": 42,
   "metadata": {
    "slideshow": {
     "slide_type": "subslide"
    }
   },
   "outputs": [
    {
     "name": "stderr",
     "output_type": "stream",
     "text": [
      "/home/kjp/anaconda3/lib/python3.7/site-packages/matplotlib/figure.py:445: UserWarning: Matplotlib is currently using module://ipykernel.pylab.backend_inline, which is a non-GUI backend, so cannot show the figure.\n",
      "  % get_backend())\n"
     ]
    },
    {
     "data": {
      "image/png": "[encoded data removed]",
      "text/plain": [
       "<Figure size 720x576 with 10 Axes>"
      ]
     },
     "metadata": {},
     "output_type": "display_data"
    }
   ],
   "source": [
    "mnist_fig, mnist_ax = mnh.plot_coeff()"
   ]
  },
  {
   "cell_type": "markdown",
   "metadata": {
    "slideshow": {
     "slide_type": "subslide"
    }
   },
   "source": [
    "Our model learned a template, per digit, which hopefully captures the \"essence\" of the digit\n",
    "- fuzzy, since it needs to match many possible examples of the digit, each written differently\n",
    "\n",
    "We will \"interpret\" these coefficients in a subsequent lecture but, for now:\n",
    "- dark colored parameters indicate the template for the pixel best matches dark input pixels\n",
    "- bright colored parameters indicate the template for the pixel best matches bright input pixels\n",
    "\n",
    "So the \"essence\" of an image representing the \"1\" digit is a vertical band of bright pixels."
   ]
  },
  {
   "cell_type": "markdown",
   "metadata": {
    "slideshow": {
     "slide_type": "slide"
    }
   },
   "source": [
    "<div class=\"alert alert-block alert-success\">\n",
    "<b>TIP</b>\n",
    "    \n",
    "The <font face=courier>fetch_mnist_784</font>\n",
    "routine in the module takes a <b>long</b> time to execute.  Caching results makes you more productive.\n",
    "\n",
    "</div>"
   ]
  },
  {
   "cell_type": "markdown",
   "metadata": {
    "slideshow": {
     "slide_type": "slide"
    }
   },
   "source": [
    "## Error analysis: classifiction report, confusion matrix\n",
    "\n",
    "For binary classification we are able to categorize the predictions on the test set into\n",
    "- True Positives (TP), True negatives (TN)\n",
    "    - correct predictions for Positive and Negative examples\n",
    "- False Positives (FP), False Negatives (FN)\n",
    "    - incorrectly labelled Positive and Negative Predictions\n",
    "    \n",
    "The *confusion matrix* generalizes this analysis to the multinomial case.\n",
    "\n"
   ]
  },
  {
   "cell_type": "code",
   "execution_count": 43,
   "metadata": {
    "slideshow": {
     "slide_type": "subslide"
    }
   },
   "outputs": [
    {
     "name": "stdout",
     "output_type": "stream",
     "text": [
      "Normalized confusion matrix\n"
     ]
    },
    {
     "data": {
      "image/png": "[encoded data removed]",
      "text/plain": [
       "<Figure size 432x288 with 1 Axes>"
      ]
     },
     "metadata": {
      "needs_background": "light"
     },
     "output_type": "display_data"
    }
   ],
   "source": [
    "# Now predict the value of the digit on the second half:\n",
    "confusion_mat = mnh.create_confusion_matrix()\n",
    "\n",
    "digits = range(0,10)\n",
    "_= clh.plot_confusion_matrix(confusion_mat, digits, normalize=True)"
   ]
  },
  {
   "cell_type": "markdown",
   "metadata": {
    "slideshow": {
     "slide_type": "subslide"
    }
   },
   "source": [
    "- The row labels are the (correct) targets\n",
    "- The column labels are the predictions\n",
    "\n",
    "The entry in the matrix for row $i$, column $j$\n",
    "- fraction of test examples for class $i$ that were\n",
    "predicted as class $j$.\n",
    "\n",
    "So the diagonal entries correspond to correct predictions.\n",
    "\n",
    "The off-diagonal entries are incorrect predictions, grouped by class."
   ]
  },
  {
   "cell_type": "markdown",
   "metadata": {
    "slideshow": {
     "slide_type": "subslide"
    }
   },
   "source": [
    "From the confusion matrix: \n",
    "- our classifier is doing a great job recognizing the digit 0\n",
    "- our classifier is struggling to recognize the digit 5\n",
    "    - most often confusing it with the digit 3\n",
    "- our classifier is struggling to recognize the digit 8\n",
    "    - most often confusing it with the digits 5 and 1\n"
   ]
  },
  {
   "cell_type": "markdown",
   "metadata": {
    "slideshow": {
     "slide_type": "slide"
    }
   },
   "source": [
    "### Show the math behind precison and recall"
   ]
  },
  {
   "cell_type": "code",
   "execution_count": 44,
   "metadata": {
    "slideshow": {
     "slide_type": "subslide"
    }
   },
   "outputs": [
    {
     "name": "stdout",
     "output_type": "stream",
     "text": [
      "Confusion matrix shape:  (10, 10)\n",
      "Confusion matrix col sums:  [1035 1342  915  959 1062  809  983 1040  881  974]\n",
      "Confusion matrix row sums:  [ 993 1179  977  955 1005  884  998 1039  978  992]\n",
      "0: precision 0.92, recall 0.96\n",
      "1: precision 0.84, recall 0.96\n",
      "2: precision 0.88, recall 0.83\n",
      "3: precision 0.84, recall 0.85\n",
      "4: precision 0.86, recall 0.91\n",
      "5: precision 0.86, recall 0.79\n",
      "6: precision 0.93, recall 0.91\n",
      "7: precision 0.90, recall 0.90\n",
      "8: precision 0.84, recall 0.76\n",
      "9: precision 0.84, recall 0.83\n"
     ]
    }
   ],
   "source": [
    "print(\"Confusion matrix shape: \", confusion_mat.shape)\n",
    "print(\"Confusion matrix col sums: \", np.sum(confusion_mat, axis=0))\n",
    "print(\"Confusion matrix row sums: \", np.sum(confusion_mat, axis=1))\n",
    "\n",
    "# Compute recall by hand\n",
    "for i in range(0,10):\n",
    "    # True positives are on the diagonal\n",
    "    TP = confusion_mat[i,i]\n",
    "    \n",
    "    # False positives\n",
    "    # Column i contains the observations that were classified (correctly or incorrectly) as i\n",
    "    FP =np.sum(confusion_mat, axis=0)[i] -TP\n",
    "    \n",
    "    num_true_i = np.sum(confusion_mat, axis=1)[i]\n",
    "    num_classified_i = np.sum(confusion_mat, axis=0)[i]\n",
    "    \n",
    "    recall    = TP/num_true_i\n",
    "    precision = TP/num_classified_i\n",
    "    \n",
    "    print(\"{i}: precision {p:3.2f}, recall {r:3.2f}\".format(i=i, r=recall, p=precision) )"
   ]
  },
  {
   "cell_type": "markdown",
   "metadata": {
    "slideshow": {
     "slide_type": "slide"
    }
   },
   "source": [
    "### Confusion matrix"
   ]
  },
  {
   "cell_type": "markdown",
   "metadata": {
    "slideshow": {
     "slide_type": "subslide"
    }
   },
   "source": [
    "#### Recall is the diagonal of the normalized confusion matrix"
   ]
  },
  {
   "cell_type": "markdown",
   "metadata": {
    "slideshow": {
     "slide_type": "slide"
    }
   },
   "source": [
    "# Logistic regression as Linear Regression of log odds"
   ]
  },
  {
   "cell_type": "markdown",
   "metadata": {
    "slideshow": {
     "slide_type": "slide"
    }
   },
   "source": [
    "$$\n",
    "\\newcommand{\\o}{\\mathbf{o}}\n",
    "$$\n",
    "\n",
    "We can demonstrate a relationship between Logistic Regression and Linear Regression.\n",
    "\n",
    "Recall the mapping of the score $\\Theta^T \\x$ into probabilities"
   ]
  },
  {
   "cell_type": "code",
   "execution_count": 45,
   "metadata": {
    "slideshow": {
     "slide_type": "subslide"
    }
   },
   "outputs": [
    {
     "data": {
      "image/png": "[encoded data removed]",
      "text/plain": [
       "<Figure size 432x288 with 1 Axes>"
      ]
     },
     "metadata": {
      "needs_background": "light"
     },
     "output_type": "display_data"
    }
   ],
   "source": [
    "s = np.linspace(-10,10, 50)\n",
    "sigma_s = 1/(1 + np.exp(- s))\n",
    "\n",
    "fig = plt.figure()\n",
    "ax  = fig.add_subplot(1,1,1)\n",
    "_= ax.plot(s, sigma_s)\n",
    "_= ax.set_title(\"Sigmoid\")\n",
    "_= ax.set_xlabel(\"score = $\\Theta^T x$\")\n",
    "_= ax.set_ylabel(\"probability\")"
   ]
  },
  {
   "cell_type": "markdown",
   "metadata": {
    "slideshow": {
     "slide_type": "subslide"
    }
   },
   "source": [
    "Certainly doesn't look like a linear relationship between scores and probability.\n",
    "\n",
    "Define the *odds* $o^\\ip$ of example $i$ being in class 1 as\n",
    "$$o^\\ip = \\frac{\\hat{p}^\\ip}{1 - \\hat{p}^\\ip}$$\n",
    "- the odds is just the ratio of the probability of being in class $1$ versus not being in class $1$\n",
    "\n",
    "- **Note** this is called the *odds* **not** the odds ratio !\n",
    "    - *odds ratio* is the ratio of two odds\n",
    "\n",
    "Let's graph the relationship between scores $\\Theta^T \\x$ and the *log of the odds*."
   ]
  },
  {
   "cell_type": "code",
   "execution_count": 46,
   "metadata": {
    "slideshow": {
     "slide_type": "subslide"
    }
   },
   "outputs": [
    {
     "data": {
      "image/png": "[encoded data removed]",
      "text/plain": [
       "<Figure size 432x288 with 1 Axes>"
      ]
     },
     "metadata": {
      "needs_background": "light"
     },
     "output_type": "display_data"
    }
   ],
   "source": [
    "s = np.linspace(-10,10, 50)\n",
    "sigma_s = 1/(1 + np.exp(- s))\n",
    "\n",
    "p = sigma_s\n",
    "epsilon = 10e-6\n",
    "\n",
    "odds = p/(1 - p + epsilon)\n",
    "log_odds = np.log(odds)\n",
    "\n",
    "fig = plt.figure()\n",
    "ax  = fig.add_subplot(1,1,1)\n",
    "_= ax.plot(s, log_odds)\n",
    "_= ax.set_title(\"Log Odds\")\n",
    "_= ax.set_xlabel(\"score = $\\Theta^T x$\")\n",
    "_= ax.set_ylabel(\"Log Odds\")"
   ]
  },
  {
   "cell_type": "markdown",
   "metadata": {
    "slideshow": {
     "slide_type": "slide"
    }
   },
   "source": [
    "Linear !\n",
    "\n",
    "So you can implement Logistic Regression as Linear Regression of the log odds versus features $\\x$\n",
    "\n",
    "This is similar in spirit to our transforming the \"curvy\" data set of the previous lesson\n",
    "- there, we transformed features to obtain a linear relationship\n",
    "- here we transformed the target\n",
    "\n",
    "So the Logistic Regression equation is the linear equation\n",
    " $$\\log(\\o) = \\Theta^T \\x + \\epsilon$$\n",
    "   "
   ]
  },
  {
   "cell_type": "markdown",
   "metadata": {
    "slideshow": {
     "slide_type": "subslide"
    }
   },
   "source": [
    "In words:\n",
    "- Logistic Regression is Linear Regression to predict log odds, given features $\\x$ \n",
    "\n",
    "Knowing that the regression produces log odds will\n",
    "become very useful in interpreting coefficients $\\Theta$.\n",
    "\n",
    "(Coming attraction: a unit change in $\\Theta_j$ results in a *multiplicative* increase in odds)"
   ]
  },
  {
   "cell_type": "markdown",
   "metadata": {
    "slideshow": {
     "slide_type": "slide"
    }
   },
   "source": [
    "### Log odds are normally distributed\n",
    "\n",
    "Let's examine the distribution of log odds."
   ]
  },
  {
   "cell_type": "code",
   "execution_count": 47,
   "metadata": {
    "slideshow": {
     "slide_type": "subslide"
    }
   },
   "outputs": [
    {
     "data": {
      "image/png": "[encoded data removed]",
      "text/plain": [
       "<Figure size 720x360 with 2 Axes>"
      ]
     },
     "metadata": {
      "needs_background": "light"
     },
     "output_type": "display_data"
    }
   ],
   "source": [
    "tf = tmh.TransformHelper()\n",
    "tf.plot_odds()"
   ]
  },
  {
   "cell_type": "markdown",
   "metadata": {
    "slideshow": {
     "slide_type": "subslide"
    }
   },
   "source": [
    "- Log of the odds  is normally distributed\n",
    "- Linear Regression errors will be normally distributed, satisfying model's mathematical assumptions "
   ]
  },
  {
   "cell_type": "markdown",
   "metadata": {
    "slideshow": {
     "slide_type": "slide"
    }
   },
   "source": [
    "## Logistic Regression as Linear Regression on the log odds: complication\n",
    "\n",
    "Turns out you can't solve for the $\\Theta$ in Logistic Regression by minimizing the RMSE cost function.\n",
    "- Observe that\n",
    "    - the log odds $\\log(\\frac{\\hat{p}}{1 - \\hat{p}}) =  \\infty$ is  at $\\hat{p} = 1$\n",
    "    - the log odds $\\log(\\frac{\\hat{p}}{1 - \\hat{p}}) = - \\infty$ is  at $\\hat{p} = 0$\n",
    "\n",
    "This will give infinite errors."
   ]
  },
  {
   "cell_type": "markdown",
   "metadata": {
    "slideshow": {
     "slide_type": "subslide"
    }
   },
   "source": [
    "There is an alternate solution to Linear Regression using *Maximum Likelihood* which doesn't have\n",
    "this issue.\n",
    "\n",
    "n.b., Minimizing RMSE produces a Maximum Likelihood estimate of $\\Theta$."
   ]
  },
  {
   "cell_type": "markdown",
   "metadata": {
    "slideshow": {
     "slide_type": "slide"
    }
   },
   "source": [
    "## Proof: log odds = score\n",
    "\n",
    "Let\n",
    "$$\n",
    "\\begin{array}[lll]\\\\\n",
    "s  =  \\Theta^T \\x; &  \\hat{p}   = \\sigma(s)\\\\\n",
    "\\end{array}\n",
    "$$\n",
    "Then the odds $\\o = \\frac{\\hat{p}}{1- \\hat{p}}$ are\n",
    "$$\n",
    "\\begin{array}{llll}\n",
    "\\hat{p} \\over {1- \\hat{p}} & = &  { 1 \\over { 1 + e^{-s} } } \\over { 1 -  {1 \\over { 1 + e^{-s} } } } \\\\\n",
    "& = & { 1 \\over { 1 + e^{-s} } } \\over { {1 + e^{-s}  -1} \\over {1 + e^{-s}} } \\\\\n",
    "& = & 1 \\over {e^{-s}} \\\\\n",
    "& = & e^{s}\n",
    "\\end{array}\n",
    "$$\n",
    "\n",
    "Thus the log odds\n",
    "$$\n",
    "\\begin{array}[ll]\\\\\n",
    "\\log(\\o) = s  \\\\\n",
    "\\log(\\o) = \\Theta^T \\x & \\text{since }  s = \\Theta^T \\x \\\\\n",
    "\\end{array}\n",
    "$$\n",
    "\n"
   ]
  },
  {
   "cell_type": "markdown",
   "metadata": {
    "slideshow": {
     "slide_type": "slide"
    }
   },
   "source": [
    "# Entropy, Cross Entropy, KL Diverence: deep dive\n",
    "\n",
    "The Cross Entropy cost function is ominpresent in Machine Learning\n",
    "as many problems involve matching probability distributions.\n",
    "\n",
    "Although not strictly necessary, it may be interesting to explore this concept more deeply.\n",
    "\n",
    "\n",
    "<div class=\"alert alert-block alert-warning\">\n",
    "    <b>TL;DR</b> \n",
    "    <ul>\n",
    "        <li>Cross Entropy measures the \"distance\" between two distributions </li>\n",
    "            <li>You will often come across Cross Entropy and KL Divergence in  your future ML endeavours.</li>\n",
    "        </div> "
   ]
  },
  {
   "cell_type": "markdown",
   "metadata": {
    "slideshow": {
     "slide_type": "slide"
    }
   },
   "source": [
    "## Entropy\n",
    "\n",
    "In order to understand *Cross* Entropy, we first try to explain *Entropy*.\n",
    "- A measure of the randomness of a distribution\n",
    "- Interpreted as the number of bits of information obtained from a single sample\n",
    "- an alternative to Gini for deciding which variable/what threshold to use in constructing a Decision Tree"
   ]
  },
  {
   "cell_type": "markdown",
   "metadata": {
    "slideshow": {
     "slide_type": "slide"
    }
   },
   "source": [
    "### What is a bit ?\n",
    "- Amount of information need to reduce uncertainly by a factor of 2\n",
    "\n",
    "\n",
    "#### Example: what is a bit\n",
    "\n",
    "Here, a bit is the amount of information **not** a length of the message"
   ]
  },
  {
   "cell_type": "markdown",
   "metadata": {
    "slideshow": {
     "slide_type": "subslide"
    }
   },
   "source": [
    "**Simple case: two equally probable outcomes**\n",
    "\n",
    "Two outcomes: Rain, Sun\n",
    "$$    \n",
    "\\begin{array}{lll}\n",
    "\\text{Rain} & .5 \\\\\n",
    "\\text{Sun}  & .5\n",
    "\\end{array}\n",
    "$$\n",
    "\n",
    "Uncertainty about Rain is .5"
   ]
  },
  {
   "cell_type": "markdown",
   "metadata": {
    "slideshow": {
     "slide_type": "subslide"
    }
   },
   "source": [
    "If I tell you that it will Rain (so $p_{\\text{Rain}}$ goes from $0.5$ to $1$)  the uncertainty is reduced\n",
    "by a factor of\n",
    "$$\n",
    "{1 \\over .5} = 2\n",
    "$$\n",
    "\n",
    "$\\log_2 (2) = 1$ \n",
    "\n",
    "so this conveyed 1 bit of *information* regardless of how many *physical* bits were sent.\n",
    "\n",
    "**Definition of a bit: Uncertainty reduction of a factor of 2**\n",
    "\n",
    "One bit reduces uncertainty ($1/p$) by a factor of $2$.\n",
    "\n",
    "$\\log_2 (1/p) = - \\log_2(p)$ "
   ]
  },
  {
   "cell_type": "markdown",
   "metadata": {
    "slideshow": {
     "slide_type": "subslide"
    }
   },
   "source": [
    "**Simple case: 4 equally probable outcomes**\n",
    "\n",
    "4 outcomes: Rain, Sun, Clouds, Drizzle\n",
    "$$    \n",
    "\\begin{array}{lll}\n",
    "\\text{Rain} & .25 \\\\\n",
    "\\text{Sun}  & .25 \\\\\n",
    "\\text{Clouds} & .25 \\\\\n",
    "\\text{Drizzle} & .25\n",
    "\\end{array}\n",
    "$$\n",
    "\n",
    "Uncertainty about Rain is .25.\n"
   ]
  },
  {
   "cell_type": "markdown",
   "metadata": {
    "slideshow": {
     "slide_type": "subslide"
    }
   },
   "source": [
    "If I tell you that it will Rain (so $p_{\\text{Rain}}$ goes from $0.25$ to $1$) I've reduced the uncertainty\n",
    "by a factor of\n",
    "$$\n",
    "{1 \\over .25} = 4\n",
    "$$\n",
    "\n",
    "This is $- \\log_2 (.25) = 2$ bits of information."
   ]
  },
  {
   "cell_type": "markdown",
   "metadata": {
    "slideshow": {
     "slide_type": "subslide"
    }
   },
   "source": [
    "**Outcomes with arbitrary probabilities**\n",
    "\n",
    "Two outcomes with unequal probability: Rain, Sun\n",
    "$$    \n",
    "\\begin{array}{lll}\n",
    "\\text{Rain} & .25 \\\\\n",
    "\\text{Sun}  & .75\n",
    "\\end{array}\n",
    "$$"
   ]
  },
  {
   "cell_type": "markdown",
   "metadata": {
    "slideshow": {
     "slide_type": "subslide"
    }
   },
   "source": [
    "If I tell you that it will Rain (so $p_{\\text{Rain}} = 1$) I've reduced the uncertainty\n",
    "by\n",
    "$$\n",
    "{1 \\over .25} = 4\n",
    "$$\n",
    "\n",
    "so this is $\\log_2 (2) = 2$ bits of information.\n",
    "\n",
    "If I tell you that there will be Sun (so $p_{\\text{Sun}} = 1$) I've reduced the uncertainty\n",
    "by\n",
    "$$\n",
    "{1 \\over .75}\n",
    "$$\n",
    "\n",
    "so this is $- \\log_2 (0.75) = 0.415$ bits of information.\n",
    "\n",
    "In this case, the number of bits I convey to you is different depending on the message."
   ]
  },
  {
   "cell_type": "markdown",
   "metadata": {
    "slideshow": {
     "slide_type": "slide"
    }
   },
   "source": [
    "### Average number of bits in a sample\n",
    "\n",
    "The average number of bits (*information*) in a sample randomly drawn from the distribution is\n",
    "\n",
    "$\n",
    "H_i = -\\sum\\limits_{k=1 \\atop p_{i,k} \\ne 0}^{n}{{p_{i,k}}\\log_2(p_{i,k})}\n",
    "$\n",
    "\n",
    "For the 75%/25% case above\n",
    "\n",
    "$\n",
    "H_i = 0.75 * 0.415 + 0.25 * 2 = 0.81\n",
    "$\n",
    "\n",
    "25% of the time I give you 2 bits of information; 75% of the time only 0.415 bits \n",
    "\n",
    "\n",
    "This is also called the **entropy**\n",
    "\n",
    "It measures the unpredictability of the distribution."
   ]
  },
  {
   "cell_type": "markdown",
   "metadata": {
    "slideshow": {
     "slide_type": "subslide"
    }
   },
   "source": [
    "### A pure distribution has 0 entropy\n",
    "\n",
    "Since $p_{i,k} = 1, log(p_{i,k}) = 0$"
   ]
  },
  {
   "cell_type": "markdown",
   "metadata": {
    "slideshow": {
     "slide_type": "slide"
    }
   },
   "source": [
    "## Cross entropy\n",
    "\n",
    "Whereas Entropy measured the randomness of a single distribution,\n",
    "Cross Entropy measures the \"distance\" between two probability distributions $p$ and $q$.\n",
    "\n",
    "We will call $p$ the *true* distribution and $q$ the estimated distribution.\n",
    "\n",
    "\n",
    "**Cross entropy between two discrete probability distributions $p$ and $q$:**\n",
    "\n",
    "$ H(p, q) = -\\sum\\limits_{x}p(x) \\log q(x) $\n",
    "\n",
    " Similar to Entropy interpretation as weighted sum of bits but \n",
    "- uses true probability $p$ as weights\n",
    "- uses estimated probability $q$ to measure the bits"
   ]
  },
  {
   "cell_type": "markdown",
   "metadata": {
    "slideshow": {
     "slide_type": "subslide"
    }
   },
   "source": [
    "If distributions $p(x), q(x)$ are the same\n",
    "- cross entropy equals entropy: $H(p,p) = H(p)$\n",
    "\n",
    "The difference \n",
    "$(H(p,q) - H(p))$ is called the *Kullback-Liebler* or KL divergence."
   ]
  },
  {
   "cell_type": "markdown",
   "metadata": {
    "slideshow": {
     "slide_type": "subslide"
    }
   },
   "source": [
    "**Aside**\n",
    "\n",
    "There is another interpretation of Cross Entropy.\n",
    "\n",
    "We've seen that the amount of information depends on number of bits of each outcome $k$: $\\log_2(p_{i,k})$.\n",
    "\n",
    "$ H(p, q) = -\\sum\\limits_{x}p(x) \\log q(x) $\n",
    "is the average number of bits if information is given by $q$\n",
    "\n",
    "If the number of bits  is different than $\\log_2(p_{i,k})$\n",
    "- then this message $q$ is *optimal* in length\n",
    "    - only if the distribution is some other $q_{i,k}$\n",
    "    \n",
    "The physical length will equal the information content only if $p(x) = q(x)$\n",
    "\n",
    "\n"
   ]
  },
  {
   "cell_type": "markdown",
   "metadata": {
    "slideshow": {
     "slide_type": "slide"
    }
   },
   "source": [
    "# Imbalanced datasets\n",
    "\n",
    "\n",
    "**Problem**\n",
    "\n",
    "We can define the *conditional accuracy of class* $c$ as the accuracy conditional on all\n",
    "examples being from class $c$.\n",
    "\n",
    "*Unconditional accuracy* is the accuracy measured on *all* examples in the set.\n",
    "It is thus an equally weighted averge across examples\n",
    "\n",
    "It is possible for unconditional accuracy to be high while conditional accuracy\n",
    "for some class is low."
   ]
  },
  {
   "cell_type": "markdown",
   "metadata": {
    "slideshow": {
     "slide_type": "subslide"
    }
   },
   "source": [
    "Consider the digit prediction task:\n",
    "- assuming the distribution across the 10 classes is uniform\n",
    "- we can consistently mispredict on a single digit (0% conditional accuracy)\n",
    "- and still have an unconditional accuracy of 90% "
   ]
  },
  {
   "cell_type": "markdown",
   "metadata": {
    "slideshow": {
     "slide_type": "subslide"
    }
   },
   "source": [
    "The distribution among the $|| C ||$ possible classes in $C$ is not always uniform.\n",
    "\n",
    "This is called an *imbalanced* data set.\n",
    "\n",
    "The problem of high unconditional accuracy with low conditional accuracy is most\n",
    "acute for highly imbalanced data sets."
   ]
  },
  {
   "cell_type": "markdown",
   "metadata": {
    "slideshow": {
     "slide_type": "subslide"
    }
   },
   "source": [
    "For the Titanic survival:\n",
    "- only 38% of the passengers survived, so the dataset is highly imbalanced\n",
    "- a naive model that *always* predicted \"Not survived\" will\n",
    "    - have 62% accuracy\n",
    "        - be correct 100% of the time for 62% of the sample (those that didn't survive)\n",
    "        - be incorrect 100% of the time for 38% of the sample (those that did survive)\n",
    "\n",
    "The question is whether your use case requiress high accuracy in *all* classes."
   ]
  },
  {
   "cell_type": "markdown",
   "metadata": {
    "slideshow": {
     "slide_type": "slide"
    }
   },
   "source": [
    "## Approaches to dealing with imbalanced data sets\n",
    "- Use metrics other than unconditional accuracy\n",
    "    - Precision, Recall\n",
    "        - we use subsets of the confusion matrix to measure\n",
    "        - Recall: fraction of True Positives versus True Examples\n",
    "    - AUROC\n",
    "    - Part of a good  Error Analysis\n",
    "    - we will discuss these measures in a subsequent lecture\n",
    "    "
   ]
  },
  {
   "cell_type": "markdown",
   "metadata": {
    "slideshow": {
     "slide_type": "slide"
    }
   },
   "source": [
    "- Cost-sensitive training\n",
    "    - modify the Performance Metric/Cost function to weight conditional probabilities\n",
    "        - equally weighted across classes\n",
    "            - `sklearn` inverse frequency weights\n",
    "        - user-defined weights (`sklearn` optional `class_weights` argument to some classification models)\n",
    "       \n",
    "- Choose a model that is not sensitive to imbalance\n",
    "    - Decision Trees\n",
    "        - branching structure can handle imbalance\n",
    "\n",
    "- Restore balance by resampling\n",
    "    - oversample low frequency\n",
    "    - undersample high frequency\n",
    "    "
   ]
  },
  {
   "cell_type": "markdown",
   "metadata": {
    "slideshow": {
     "slide_type": "slide"
    }
   },
   "source": [
    "# Recap\n",
    "\n",
    "- We saw how to deal with categorical targets and features\n",
    "- We saw some real-life transformations\n",
    "    - We saw a real Data Transformation pipeline\n",
    "        - feature union\n",
    "        - was able to transform Pandas DataFrame !\n",
    "        - Data cleaning via Imputer\n",
    "        - One Hot Encoding\n",
    "\n",
    "- Multiple models at no extra effort !\n",
    "    - snuck in RandomForest and SVC classifiers - more later\n",
    "    - only 1 line (instantiate model) changes !\n",
    "\n",
    "- First pass at data cleaning - more later\n"
   ]
  },
  {
   "cell_type": "code",
   "execution_count": 48,
   "metadata": {
    "slideshow": {
     "slide_type": "slide"
    }
   },
   "outputs": [
    {
     "name": "stdout",
     "output_type": "stream",
     "text": [
      "Done\n"
     ]
    }
   ],
   "source": [
    "print(\"Done\")"
   ]
  }
 ],
 "metadata": {
  "celltoolbar": "Slideshow",
  "kernelspec": {
   "display_name": "Python 3",
   "language": "python",
   "name": "python3"
  },
  "language_info": {
   "codemirror_mode": {
    "name": "ipython",
    "version": 3
   },
   "file_extension": ".py",
   "mimetype": "text/x-python",
   "name": "python",
   "nbconvert_exporter": "python",
   "pygments_lexer": "ipython3",
   "version": "3.7.1"
  },
  "toc": {
   "base_numbering": 1,
   "nav_menu": {},
   "number_sections": true,
   "sideBar": true,
   "skip_h1_title": false,
   "title_cell": "Table of Contents",
   "title_sidebar": "Contents",
   "toc_cell": false,
   "toc_position": {
    "height": "calc(100% - 180px)",
    "left": "10px",
    "top": "150px",
    "width": "368px"
   },
   "toc_section_display": true,
   "toc_window_display": true
  }
 },
 "nbformat": 4,
 "nbformat_minor": 2
}
