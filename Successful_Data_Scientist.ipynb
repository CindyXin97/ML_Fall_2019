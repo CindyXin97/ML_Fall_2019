{
 "cells": [
  {
   "cell_type": "code",
   "execution_count": 1,
   "metadata": {
    "slideshow": {
     "slide_type": "notes"
    }
   },
   "outputs": [
    {
     "data": {
      "text/latex": [
       "$$\n",
       "\\newcommand{\\x}{\\mathbf{x}}\n",
       "\\newcommand{\\y}{\\mathbf{y}}\n",
       "\\newcommand{\\b}{\\mathbf{b}}\n",
       "\\newcommand{\\c}{\\mathbf{c}}\n",
       "\\newcommand{\\e}{\\mathbf{e}}\n",
       "\\newcommand{\\z}{\\mathbf{z}}\n",
       "\\newcommand{\\h}{\\mathbf{h}}\n",
       "\\newcommand{\\w}{\\mathbf{w}}\n",
       "\\newcommand{\\W}{\\mathbf{W}}\n",
       "\\newcommand{\\X}{\\mathbf{X}}\n",
       "\\newcommand{\\KL}{\\mathbf{KL}}\n",
       "\\newcommand{\\E}{{\\mathbb{E}}}\n",
       "\\newcommand{\\ip}{\\mathbf{{(i)}}}\n",
       "% \\ll indexes a layer; we can change the actual letter\n",
       "\\newcommand{\\ll}{l}\n",
       "\\newcommand{\\llp}{(\\ll)}\n",
       "%\n",
       "\\newcommand{\\tp}{\\mathbf{{(t)}}}\n",
       "\\newcommand{\\loss}{\\mathcal{L}}\n",
       "\\newcommand{\\cost}{\\mathcal{L}}\n",
       "%\n",
       "% Functions with arguments\n",
       "\\def\\xsy#1#2{#1^#2}\n",
       "\\def\\rand#1{\\tilde{#1}}\n",
       "\\def\\randx{\\rand{\\x}}\n",
       "\\def\\randy{\\rand{\\y}}\n",
       "%\n",
       "\\def\\argmax#1{\\underset{#1} {\\operatorname{argmax}} }\n",
       "\\def\\argmin#1{\\underset{#1} {\\operatorname{argmin}} }\n",
       "\\def\\max#1{\\underset{#1} {\\operatorname{max}} }\n",
       "\\def\\min#1{\\underset{#1} {\\operatorname{min}} }\n",
       "%\n",
       "\\def\\pr#1{\\mathcal{p}(#1)}\n",
       "\\def\\cnt#1{\\mathcal{count}_{#1}}\n",
       "\\def\\node#1{\\mathbb{#1}}\n",
       "$$\n"
      ],
      "text/plain": [
       "<IPython.core.display.Latex object>"
      ]
     },
     "metadata": {},
     "output_type": "display_data"
    },
    {
     "name": "stdout",
     "output_type": "stream",
     "text": [
      "Macro `_latex_std_` created. To execute, type its name (without quotes).\n",
      "=== Macro contents: ===\n",
      "get_ipython().run_line_magic('run', 'Latex_macros.ipynb')\n",
      " "
     ]
    }
   ],
   "source": [
    "%run Latex_macros.ipynb"
   ]
  },
  {
   "cell_type": "code",
   "execution_count": 2,
   "metadata": {
    "slideshow": {
     "slide_type": "notes"
    }
   },
   "outputs": [],
   "source": [
    "# My standard magic !  You will see this in almost all my notebooks.\n",
    "\n",
    "from IPython.core.interactiveshell import InteractiveShell\n",
    "InteractiveShell.ast_node_interactivity = \"all\"\n",
    "\n",
    "# Reload all modules imported with %aimport\n",
    "%load_ext autoreload\n",
    "%autoreload 1\n",
    "\n",
    "%matplotlib inline"
   ]
  },
  {
   "cell_type": "code",
   "execution_count": 3,
   "metadata": {
    "slideshow": {
     "slide_type": "notes"
    }
   },
   "outputs": [],
   "source": [
    "import numpy as np\n",
    "import pandas as pd\n",
    "import matplotlib.pyplot as plt\n",
    "\n",
    "import os\n",
    "MOVIE_DIR=\"./images\"\n",
    "\n",
    "CREATE_MOVIE = False # True if you have ffmpeg installed\n",
    "\n",
    "import training_models_helper\n",
    "%aimport training_models_helper\n",
    "\n",
    "tmh = training_models_helper.TrainingModelsHelper()\n",
    "\n",
    "import mnist_helper\n",
    "%aimport mnist_helper\n",
    "\n",
    "mnh = mnist_helper.MNIST_Helper()\n",
    "\n",
    "import class_helper\n",
    "%aimport class_helper\n",
    "\n",
    "clh= class_helper.Classification_Helper()\n",
    "\n",
    "import recipe_helper\n",
    "%aimport recipe_helper\n",
    "rh = recipe_helper.Recipe_Helper()"
   ]
  },
  {
   "cell_type": "code",
   "execution_count": 4,
   "metadata": {
    "slideshow": {
     "slide_type": "notes"
    }
   },
   "outputs": [],
   "source": [
    "from sklearn.model_selection import cross_val_score\n",
    "from sklearn.datasets import make_classification\n",
    "from sklearn.neighbors import KNeighborsClassifier\n",
    "from sklearn.linear_model import LogisticRegression"
   ]
  },
  {
   "cell_type": "markdown",
   "metadata": {
    "slideshow": {
     "slide_type": "slide"
    }
   },
   "source": [
    "# Becoming a successful Data Scientist\n",
    "\n",
    "As of now, you should know\n",
    "- how to construct models (the \"recipe\")\n",
    "- how to use them for prediction\n",
    "- some simple metrics on how they perform"
   ]
  },
  {
   "cell_type": "markdown",
   "metadata": {
    "slideshow": {
     "slide_type": "subslide"
    }
   },
   "source": [
    "But, to a degree, this knowledge is purely knowing the mechanics.\n",
    "Perhaps having answers to the following questions is *the most important* topic from this course\n",
    "\n",
    "- How can you *improve* your models ?\n",
    "- How can you tell if your model's predictions \"make sense\"\n",
    "- How can I be most productive ?"
   ]
  },
  {
   "cell_type": "markdown",
   "metadata": {
    "slideshow": {
     "slide_type": "subslide"
    }
   },
   "source": [
    "In this module, the topics to be covered provide answers:\n",
    "- model diagnostics and interpretation\n",
    "\n",
    "In other words: the importance of Error Aanalysis in diagnosing and improving models."
   ]
  },
  {
   "cell_type": "markdown",
   "metadata": {
    "slideshow": {
     "slide_type": "slide"
    }
   },
   "source": [
    "# Improving a model: study the errors\n",
    "\n",
    "There is an old saying that you learn more from your mistakes than from your successes.\n",
    "\n",
    "This is true in training models as well.\n",
    "\n",
    "Hyper-focus on the Performance Metric, as is often the case, may mask subtle problems in the model."
   ]
  },
  {
   "cell_type": "markdown",
   "metadata": {
    "slideshow": {
     "slide_type": "slide"
    }
   },
   "source": [
    "By examining where the model succeeds and where it fails\n",
    "- we may be able to improve the Performance Metric by adjusting the model to make correct predictions on previousy incorrect examples\n",
    "- uncover undesirable properties of the model: bad predictions that are associated with a particular subset of examples\n",
    "    - so overall Performance Metric may be good, but *always* wrong on important examples"
   ]
  },
  {
   "cell_type": "markdown",
   "metadata": {
    "slideshow": {
     "slide_type": "slide"
    }
   },
   "source": [
    "## Model diagnostics\n",
    "\n",
    "- Beyond summary statistics\n",
    "    - for classification\n",
    "    - for regression\n",
    "- What is a \"good\" value for the summary statistic"
   ]
  },
  {
   "cell_type": "markdown",
   "metadata": {
    "slideshow": {
     "slide_type": "slide"
    }
   },
   "source": [
    "# Running example for Beyond Accuracy: A Binary Classifier for a single MNIST digit\n",
    "\n",
    "To illustrate some metrics deeper than Accuracy, we will focus on a specific binary classifier.\n"
   ]
  },
  {
   "cell_type": "markdown",
   "metadata": {
    "slideshow": {
     "slide_type": "slide"
    }
   },
   "source": [
    "- Create a binary classifier for a single MNIST digit"
   ]
  },
  {
   "cell_type": "code",
   "execution_count": null,
   "metadata": {
    "slideshow": {
     "slide_type": "subslide"
    }
   },
   "outputs": [
    {
     "name": "stdout",
     "output_type": "stream",
     "text": [
      "Retrieving MNIST_784 from cache\n"
     ]
    }
   ],
   "source": [
    "# Fetch the MNIST data into object\n",
    "mnh.setup()"
   ]
  },
  {
   "cell_type": "code",
   "execution_count": null,
   "metadata": {
    "slideshow": {
     "slide_type": "subslide"
    }
   },
   "outputs": [],
   "source": [
    "# Turn the 10 class training set into a binary training set\n",
    "# - Same examples, different targets\n",
    "# - targets are now \"is 'digit'\" or \"is not 'digit'\" for a single digit\n",
    "digit = '5'\n",
    "y_train_d, y_test_d = mnh.make_binary(digit)"
   ]
  },
  {
   "cell_type": "code",
   "execution_count": null,
   "metadata": {
    "slideshow": {
     "slide_type": "subslide"
    }
   },
   "outputs": [
    {
     "name": "stdout",
     "output_type": "stream",
     "text": [
      "Example run in 1.392 s\n"
     ]
    },
    {
     "data": {
      "text/plain": [
       "LogisticRegression(C=0.01, class_weight=None, dual=False, fit_intercept=True,\n",
       "          intercept_scaling=1, max_iter=100, multi_class='multinomial',\n",
       "          n_jobs=None, penalty='l2', random_state=None, solver='saga',\n",
       "          tol=0.1, verbose=0, warm_start=False)"
      ]
     },
     "execution_count": 7,
     "metadata": {},
     "output_type": "execute_result"
    },
    {
     "data": {
      "text/plain": [
       "array([0.93821236, 0.93761248, 0.92076831])"
      ]
     },
     "execution_count": 7,
     "metadata": {},
     "output_type": "execute_result"
    }
   ],
   "source": [
    "# Fit a binary model: Is digit/Is not digit\n",
    "mnh.fit(y_train=y_train_d)\n",
    "cross_val_score(mnh.clf, mnh.X_train, y_train_d, cv=3, scoring=\"accuracy\")\n",
    "\n",
    "from sklearn.model_selection import cross_val_predict\n",
    "\n",
    "y_train_pred = cross_val_predict(mnh.clf, mnh.X_train, y_train_d, cv=3)\n",
    "\n",
    "y_scores = cross_val_predict(mnh.clf, mnh.X_train, y_train_d, cv=3,\n",
    "                             method=\"decision_function\")\n"
   ]
  },
  {
   "cell_type": "markdown",
   "metadata": {
    "slideshow": {
     "slide_type": "slide"
    }
   },
   "source": [
    "# Classification: Beyond accuracy\n",
    "\n",
    "We revisit the MNIST Classifier from a previous lecture in order to do a more in depth followup.\n",
    "\n",
    "**n.b., we ran this exact code in Classification.  Still need it here**\n",
    "\n",
    "Let's re-run the MNIST problem and examine measures of error more detailed than accuracy\n"
   ]
  },
  {
   "cell_type": "code",
   "execution_count": null,
   "metadata": {
    "slideshow": {
     "slide_type": "subslide"
    }
   },
   "outputs": [
    {
     "name": "stdout",
     "output_type": "stream",
     "text": [
      "Example run in 3.765 s\n"
     ]
    },
    {
     "data": {
      "text/plain": [
       "LogisticRegression(C=0.01, class_weight=None, dual=False, fit_intercept=True,\n",
       "          intercept_scaling=1, max_iter=100, multi_class='multinomial',\n",
       "          n_jobs=None, penalty='l2', random_state=None, solver='saga',\n",
       "          tol=0.1, verbose=0, warm_start=False)"
      ]
     },
     "execution_count": 8,
     "metadata": {},
     "output_type": "execute_result"
    },
    {
     "data": {
      "image/png": "[encoded data removed]",
      "text/plain": [
       "<Figure size 720x720 with 25 Axes>"
      ]
     },
     "metadata": {
      "needs_background": "light"
     },
     "output_type": "display_data"
    }
   ],
   "source": [
    "mnh.setup()\n",
    "mnh.visualize()\n",
    "mnh.fit()"
   ]
  },
  {
   "cell_type": "markdown",
   "metadata": {
    "slideshow": {
     "slide_type": "slide"
    }
   },
   "source": [
    "Examine the score (n.b., ran with L2 penalty)"
   ]
  },
  {
   "cell_type": "code",
   "execution_count": null,
   "metadata": {
    "slideshow": {
     "slide_type": "subslide"
    }
   },
   "outputs": [
    {
     "name": "stdout",
     "output_type": "stream",
     "text": [
      "Test score with l2 penalty:0.8695\n",
      "Sparsity with l2 penalty: 16.58.\n"
     ]
    }
   ],
   "source": [
    "clf = mnh.clf\n",
    "score = clf.score(mnh.X_test, mnh.y_test)\n",
    "\n",
    "# How many zero coefficients were forced by the penalty ?\n",
    "sparsity = np.mean(clf.coef_ == 0) * 100\n",
    "\n",
    "print(\"Test score with {p} penalty:{s:.4f}\".format(p=clf.penalty, s=score) )\n",
    "print(\"Sparsity with {p} penalty: {s:.2f}.\".format(p=clf.penalty, s=sparsity) )"
   ]
  },
  {
   "cell_type": "markdown",
   "metadata": {
    "slideshow": {
     "slide_type": "slide"
    }
   },
   "source": [
    "We achieved an accuracy on the Test set of about 88%.\n",
    "\n",
    "That sounds good, but is it really ?"
   ]
  },
  {
   "cell_type": "markdown",
   "metadata": {
    "slideshow": {
     "slide_type": "subslide"
    }
   },
   "source": [
    "There are two methods that we will explore to answer that question\n",
    "- *Baseline model*\n",
    "    - Compare our results to those obtained by a simple model (the *baseline model*)\n",
    "    - If we have done no better than the simple model, then we have not achieved anything\n",
    "- *Conditional Performance*\n",
    "    - An analysis deeper than Unconditional Performance (e.g., Unconditional Accuracy)\n",
    "    - Performance *conditional* on narrow subsets of the data\n",
    "        - We can misclassify **all** test examples of a single digit and still get 90% unconditional accuracy on MNIST"
   ]
  },
  {
   "cell_type": "markdown",
   "metadata": {
    "slideshow": {
     "slide_type": "slide"
    }
   },
   "source": [
    "## Baseline models for classification\n",
    "\n",
    "Let's start with very weak Baseline models: ones that do **no** fitting.\n",
    "\n",
    "Remember, our example is for the binary classifier: Is Digit/Is not Digit, for a single digit\n"
   ]
  },
  {
   "cell_type": "markdown",
   "metadata": {
    "slideshow": {
     "slide_type": "subslide"
    }
   },
   "source": [
    "\n",
    "- Most Frequent: always predict the class that occurs most frequently\n",
    "- Constant: always predict Positive\n",
    "- Uniform:  predict each class with equal probability (50% for binary case)\n",
    "- Stratified: predict each class according to empirical distribution"
   ]
  },
  {
   "cell_type": "code",
   "execution_count": null,
   "metadata": {
    "slideshow": {
     "slide_type": "subslide"
    }
   },
   "outputs": [
    {
     "name": "stdout",
     "output_type": "stream",
     "text": [
      "stratified: Accuracy = 0.83\n",
      "uniform: Accuracy = 0.50\n",
      "most_frequent: Accuracy = 0.91\n",
      "constant: Accuracy = 0.09\n"
     ]
    }
   ],
   "source": [
    "from sklearn.dummy import DummyClassifier\n",
    "\n",
    "strats = { \"stratified\": {}, \n",
    "          \"uniform\": {},\n",
    "          \"most_frequent\": {},\n",
    "          \"constant\": {\"constant\": True}\n",
    "         }\n",
    "    \n",
    "plt_num = 1\n",
    "\n",
    "# Compute Accuracy for various baseline classifiers\n",
    "for strat, args in strats.items():\n",
    "    dmy_clf = DummyClassifier(strategy=strat, **args)\n",
    "    acc_scores_dmy = cross_val_score(dmy_clf, mnh.X_train, y_train_d, cv=3, scoring=\"accuracy\")\n",
    "    \n",
    "    print(\"{s}: Accuracy = {a:.2f}\".format(s=strat, a=acc_scores_dmy.mean()))\n",
    "   \n",
    "  "
   ]
  },
  {
   "cell_type": "markdown",
   "metadata": {
    "slideshow": {
     "slide_type": "subslide"
    }
   },
   "source": [
    "Note that we have a highly imbalanced dataset (only approximately 10% Positive examples)\n",
    "\n",
    "This explains\n",
    "- the poor accuracy of the Constant Baseline (should match the 10% of Positive examples)\n",
    "- the good accuracy of the Most Frequent Basline (should match the 90% of Negative examples)\n",
    "- the good accuracy of the Stratified Baseline\n",
    "\n",
    "Remember to take the imbalance into account when evaluating the Performance metric."
   ]
  },
  {
   "cell_type": "markdown",
   "metadata": {
    "slideshow": {
     "slide_type": "subslide"
    }
   },
   "source": [
    "If we do a little fitting, we can come up with simple, non-trivial Baseline Models.\n",
    "\n",
    "If our \"complicated\" model seems to improve on the simple baseline, then (perhaps) our efforts have\n",
    "achieved something.\n",
    "\n",
    "The Naive Bayes model is a popular baseline."
   ]
  },
  {
   "cell_type": "markdown",
   "metadata": {
    "slideshow": {
     "slide_type": "slide"
    }
   },
   "source": [
    "## Conditional accuracy\n",
    "\n",
    "Condition the accuracy metric on *subsets* of examples (either test or training)\n",
    "- get greater insight into potential pockets of problems with our model"
   ]
  },
  {
   "cell_type": "markdown",
   "metadata": {
    "slideshow": {
     "slide_type": "slide"
    }
   },
   "source": [
    "### Conditional accuracy: review\n",
    "\n",
    "We briefly introduced these concepts in our Classification lecture; let's review\n",
    "and then extend."
   ]
  },
  {
   "cell_type": "markdown",
   "metadata": {
    "slideshow": {
     "slide_type": "subslide"
    }
   },
   "source": [
    "Let's examine our predictions of a binary classifier at a fine granularity via the following table\n",
    "\n",
    "- the row labels correspond to the predicted class\n",
    "- the column labels correspond to the target (actual) class\n",
    "\n",
    "$$\n",
    "\\begin{array}{lll}\n",
    "\\\\\n",
    "           & \\textbf{P} &  \\textbf{N} \\\\\n",
    "\\textbf{P} & \\text{TP}        & \\text{FP} \\\\\n",
    "\\textbf{N} & \\text{FN}        & \\text{TN} \\\\\n",
    "\\end{array}\n",
    "$$"
   ]
  },
  {
   "cell_type": "markdown",
   "metadata": {
    "slideshow": {
     "slide_type": "subslide"
    }
   },
   "source": [
    "The correct predictions\n",
    "- True Positives (TP) are  test examples predicted as Positive that were in fact Positive\n",
    "- True Positives (TN) are  test examples predicted as Negative that were in fact Negative\n",
    "\n",
    "The incorrect predictions\n",
    "- False Positives (FP) are  test examples predicted as Positive that were in fact Negative\n",
    "- False Positives (FN) are  test examples predicted as Negative that were in fact Positive\n"
   ]
  },
  {
   "cell_type": "markdown",
   "metadata": {
    "slideshow": {
     "slide_type": "subslide"
    }
   },
   "source": [
    "Unconditional Accuracy can thus be written as\n",
    "\n",
    "$$\\textrm{Accuracy} =  { \\text{TP} + \\text{TN} \\over  \\text{TP} + \\text{FP} + \\text{TN} + \\text{FN} } $$\n",
    "\n",
    "We can also define some conditional Accuracy measures"
   ]
  },
  {
   "cell_type": "markdown",
   "metadata": {},
   "source": [
    "###  Recall\n",
    "- Conditioned on Positive test examples\n",
    "\n",
    "$$\n",
    "\\textrm{Recall} = { { \\textrm{TP} } \\over { \\textrm{TP} +  \\textrm{FN} }  }\n",
    "$$\n",
    "- The fraction of Positive examples that were correctly classified\n",
    "- You can achieve 100% Recall by always predicting positive, but Unconditional Accuracy will suffer.\n",
    "- Also goes by the names: True Positive Rate (TPR), Sensitivity"
   ]
  },
  {
   "cell_type": "markdown",
   "metadata": {},
   "source": [
    "### Specificity\n",
    "- conditioned on Negative examples\n",
    "\n",
    "$$\n",
    "\\textrm{Specificity} = { { \\textrm{TN} } \\over { \\textrm{TN} +  \\textrm{FP} }  }\n",
    "$$\n",
    "\n",
    "- The fraction of Negative examples that were correctly classified\n",
    "- Also goes by the name: True Negative Rate (TNR)"
   ]
  },
  {
   "cell_type": "markdown",
   "metadata": {
    "slideshow": {
     "slide_type": "subslide"
    }
   },
   "source": [
    "### Precision\n",
    "A metric to tell you the fraction of your Positive predictions that were correct.\n",
    "\n",
    "$$\n",
    "\\textrm{Precision} = { { \\textrm{TP} } \\over { \\textrm{TP} +  \\textrm{FP} }  }\n",
    "$$\n",
    "\n",
    "There is a degenerate case of perfect precision:\n",
    "- predict \"Positive\" for only a single, known actual positive\n",
    "- 100% precision, but you fail to correctly predict most actual positives"
   ]
  },
  {
   "cell_type": "markdown",
   "metadata": {
    "slideshow": {
     "slide_type": "subslide"
    }
   },
   "source": [
    "### False Positive Rate\n",
    "$$\n",
    "\\begin{array}{lll}\n",
    "\\textrm{FPR} & = & { { \\textrm{FP} } \\over { \\textrm{FP} + \\textrm{TN} } } \\\\\n",
    "             & = & 1 - \\textrm{Sensitivity}\n",
    "\\end{array}\n",
    "$$"
   ]
  },
  {
   "cell_type": "markdown",
   "metadata": {
    "slideshow": {
     "slide_type": "subslide"
    }
   },
   "source": [
    "## Precison/Recall Tradeoff"
   ]
  },
  {
   "cell_type": "markdown",
   "metadata": {
    "slideshow": {
     "slide_type": "slide"
    }
   },
   "source": [
    "Some Classification models (e.g., Logistic Regression) have hyperparameters\n",
    "that compare numerical \"scores\" to a threshold in order to make a prediction.\n",
    "\n",
    "By varying the threshold, we can change predictions to favor a particular Conditional Performance metric.\n",
    "\n",
    "We will show how this happens and demonstrate ways to evaluate the tradeoff between metrics."
   ]
  },
  {
   "cell_type": "markdown",
   "metadata": {
    "slideshow": {
     "slide_type": "slide"
    }
   },
   "source": [
    "Recall our methodology for Classification via Logistic Regression:\n",
    "- Compute a \"score\" that our example is in each of the target classes\n",
    "- Construct a probability distribution (over the target classes) from the scores\n",
    "    - convert the per class score into a probability via the sigmoid/softmax function\n",
    "- Compare the probability to a threshhold\n",
    "\n",
    "$$\\hat{p} = \\sigma(\\Theta^T \\x)  $$\n",
    "where $\\sigma$,  the *logistic function*, is:\n",
    "\n",
    "Convert $\\hat{p}^\\ip$ into Classification prediction $\\hat{y}^\\ip$\n",
    "\n",
    "$$\n",
    "\\hat{y}^\\ip = \n",
    "\\left\\{\n",
    "    {\n",
    "    \\begin{array}{lll}\n",
    "    0 & \\textrm{if } \\hat{p}^\\ip < 0.5   & \\text{Negative} \\\\\n",
    "    1 & \\textrm{if } \\hat{p}^\\ip \\ge 0.5  & \\text{Positive} \\\\\n",
    "    \\end{array}\n",
    "    }\n",
    "\\right.\n",
    "$$"
   ]
  },
  {
   "cell_type": "markdown",
   "metadata": {},
   "source": [
    "We can affect the prediction of Positive/Negative by varying the choice of Threshhold.\n",
    "\n",
    "We can increase the number of Positive predictions by lowering the threshhold\n",
    "- this will increase TP\n",
    "    - increase Recall by increasing numerator\n",
    "    - degenerate case: *always* predict Positive !\n",
    "- but also increase  FP\n",
    "    - no effect on Recall (FP *does not* appear in denominator)\n",
    "    - which decreases Precision (where FP *does* appear in the denominator)\n",
    "    \n",
    "So there is a tradeoff between Recall and Precision that is determine by our choice of threshold."
   ]
  },
  {
   "cell_type": "markdown",
   "metadata": {
    "slideshow": {
     "slide_type": "slide"
    }
   },
   "source": [
    "**Precision vs Recall: which one to favor ?**\n",
    "\n",
    "- Depending on the context, you may favor Precision over Recall, or vice-versa:\n",
    "    - Favor Precision when a False Positive is undesirable\n",
    "        - FP: mistakenly tell someone they are in trouble\n",
    "    - Favor Recall when False Negative is undesirable\n",
    "        - FN: mistakenly fail to identify a highly-communicable disease"
   ]
  },
  {
   "cell_type": "markdown",
   "metadata": {
    "slideshow": {
     "slide_type": "subslide"
    }
   },
   "source": [
    "Why would we want to increase Recall (at the potential cost of decreased unconditional Accuracy) ?\n",
    "\n",
    "It depends on your task.\n",
    "\n",
    "Consider a diagnostic test for an extremely dangerous, infectious disease\n",
    "- It might very important to have high Recall (catch truly infected patients)\n",
    "- Even at the expense of incorrectly labelling some healthy patients as infected"
   ]
  },
  {
   "cell_type": "markdown",
   "metadata": {
    "slideshow": {
     "slide_type": "subslide"
    }
   },
   "source": [
    "By *decreasing* the threshold we increase the number of Positive predictions\n",
    "- Recall increases (by increasing TP)\n",
    "- Precision decreases (by increasing FP)\n"
   ]
  },
  {
   "cell_type": "markdown",
   "metadata": {
    "slideshow": {
     "slide_type": "subslide"
    }
   },
   "source": [
    "By *raising* the threshhold, we can decrease the number of Positive predictions.\n",
    "- Potentially decrease Recall (by decreasing TP)\n",
    "- Increase Precision (by decreasing FP)\n",
    "\n",
    "Decreasing the number of Positive predictions increases the number of Negatives\n",
    "- Complementary effect on the Negative counterparts of the Positive metrics (Recall:Specificity)\n",
    "- Increase Specificity (by decreasing FP, we increase TN)"
   ]
  },
  {
   "cell_type": "markdown",
   "metadata": {
    "slideshow": {
     "slide_type": "subslide"
    }
   },
   "source": [
    "Why would we want to increase Specificity (potentially decreasing unconditional Accuracy) ?\n",
    "- decrease Unconditional Accuracy by increasing the False Negatives (FN)\n",
    "\n",
    "Consider a diagnostic test for a mild, non-infectious disease\n",
    "- A Positive prediction might entail an expensive/painful remedy, which we want to avoid\n",
    "- Even at the expense of incorrectly labelling some non-healthy patients as healthy\n",
    "   "
   ]
  },
  {
   "cell_type": "markdown",
   "metadata": {
    "slideshow": {
     "slide_type": "slide"
    }
   },
   "source": [
    "### Precision/Recall tradeoff: plot"
   ]
  },
  {
   "cell_type": "code",
   "execution_count": null,
   "metadata": {
    "slideshow": {
     "slide_type": "subslide"
    }
   },
   "outputs": [
    {
     "data": {
      "image/png": "[encoded data removed]",
      "text/plain": [
       "<Figure size 864x288 with 1 Axes>"
      ]
     },
     "metadata": {
      "needs_background": "light"
     },
     "output_type": "display_data"
    }
   ],
   "source": [
    "from sklearn.metrics import precision_recall_curve\n",
    "\n",
    "precisions, recalls, thresholds = precision_recall_curve(y_train_d, y_scores)\n",
    "\n",
    "def plot_precision_recall_vs_threshold(precisions, recalls, thresholds):\n",
    "    fig, ax = plt.subplots(1,1, figsize=(12,4))\n",
    "    _ = ax.plot(thresholds, precisions[:-1], \"b--\", label=\"Precision\", linewidth=2)\n",
    "    _ = ax.plot(thresholds, recalls[:-1], \"g-\", label=\"Recall\", linewidth=2)\n",
    "    _ = ax.set_xlabel(\"Threshold\", fontsize=16)\n",
    "    _ = ax.legend(loc=\"upper left\", fontsize=16)\n",
    "    _ = ax.set_ylim([0, 1])\n",
    "    \n",
    "    return fig, ax\n",
    "\n",
    "fig, ax = plot_precision_recall_vs_threshold(precisions, recalls, thresholds)\n",
    "_ = ax.set_xlim([ thresholds.min(), thresholds.max()])"
   ]
  },
  {
   "cell_type": "code",
   "execution_count": null,
   "metadata": {
    "slideshow": {
     "slide_type": "subslide"
    }
   },
   "outputs": [
    {
     "data": {
      "image/png": "[encoded data removed]",
      "text/plain": [
       "<Figure size 864x288 with 1 Axes>"
      ]
     },
     "execution_count": 12,
     "metadata": {},
     "output_type": "execute_result"
    }
   ],
   "source": [
    "fig"
   ]
  },
  {
   "cell_type": "markdown",
   "metadata": {
    "slideshow": {
     "slide_type": "subslide"
    }
   },
   "source": [
    "You can see how varying the threshold (units is log odds ?) affects Recall and Precision\n",
    "- one at the expense of the other"
   ]
  },
  {
   "cell_type": "markdown",
   "metadata": {
    "slideshow": {
     "slide_type": "slide"
    }
   },
   "source": [
    "### ROC/AUC: Evaluating the Precision/Recall tradeoff"
   ]
  },
  {
   "cell_type": "markdown",
   "metadata": {
    "slideshow": {
     "slide_type": "subslide"
    }
   },
   "source": [
    "The **ROC** plots the True Positive Rate (TPR) versus the False Positive Rate (FPR).\n",
    "\n",
    "The resulting curve helps us choose a threshold.\n",
    "\n",
    "Our goal is to get a high TPR with a low FPR.\n",
    "\n",
    "This corresponds to the Area Under the Curve being as high as possible, as we will see in the plots."
   ]
  },
  {
   "cell_type": "markdown",
   "metadata": {
    "slideshow": {
     "slide_type": "subslide"
    }
   },
   "source": [
    "Here's how it works\n",
    "- fit a binary classifier\n",
    "- predict on a dataset (e.g., test)\n",
    "    - this gives a vector of probabilities for each example\n",
    "    - classifier predicts Positive if corresponding probability exceeds a threshold\n",
    "- vary the threshold between 0 and 1\n",
    "    - each threshold value gives a TPR and FPR"
   ]
  },
  {
   "cell_type": "markdown",
   "metadata": {
    "slideshow": {
     "slide_type": "subslide"
    }
   },
   "source": [
    "We illustrate with a couple of classifiers for the binary MNIST digit classification problem."
   ]
  },
  {
   "cell_type": "markdown",
   "metadata": {
    "slideshow": {
     "slide_type": "slide"
    }
   },
   "source": [
    "**Geron page 128** When to prefer Precision/Recall curve to AUC"
   ]
  },
  {
   "cell_type": "code",
   "execution_count": null,
   "metadata": {
    "slideshow": {
     "slide_type": "subslide"
    }
   },
   "outputs": [
    {
     "data": {
      "image/png": "[encoded data removed]",
      "text/plain": [
       "<Figure size 864x432 with 3 Axes>"
      ]
     },
     "metadata": {
      "needs_background": "light"
     },
     "output_type": "display_data"
    }
   ],
   "source": [
    "# ROC curves for binary classifier: Is Digit/Is not Digit\n",
    "clh.AUC_plot(X_train=mnh.X_train, y_train=y_train_d, X_test=mnh.X_train, y_test=y_train_d)\n"
   ]
  },
  {
   "cell_type": "markdown",
   "metadata": {
    "slideshow": {
     "slide_type": "subslide"
    }
   },
   "source": [
    "You can see the results of \n",
    "- Logistic Regression\n",
    "- KNN\n",
    "- Random Forests"
   ]
  },
  {
   "cell_type": "markdown",
   "metadata": {
    "slideshow": {
     "slide_type": "subslide"
    }
   },
   "source": [
    "### $F_1$: Another way to combine Precision and Recall\n",
    "\n",
    "There is a simple metric to combine\n",
    " Precision and Recall into a single number:\n",
    "\n",
    "$$\n",
    "\\textrm{F}_1 = { { \\textrm{TP} } \\over { \\textrm{TP} +  { { \\textrm{FN} + \\textrm{FP} }   \\over 2 } }  }\n",
    "$$"
   ]
  },
  {
   "cell_type": "markdown",
   "metadata": {
    "slideshow": {
     "slide_type": "slide"
    }
   },
   "source": [
    "## Regression: beyond RMSE/$R^2$\n",
    "\n",
    "We just spent time developing methods to study errors of classification.\n",
    "\n",
    "What is the analog for Regression ?\n",
    "\n",
    "Examining the residuals."
   ]
  },
  {
   "cell_type": "code",
   "execution_count": null,
   "metadata": {
    "slideshow": {
     "slide_type": "slide"
    }
   },
   "outputs": [
    {
     "name": "stdout",
     "output_type": "stream",
     "text": [
      "Coefficients: \n",
      " [9.86448852] [[0.93673892]]\n",
      "\n",
      "\n",
      "R-squared (test): 0.91\n",
      "Root Mean squared error (test): 13.73\n",
      "\n",
      "\n",
      "R-squared (train): 0.91\n",
      "Root Mean squared error (train): 13.13\n"
     ]
    },
    {
     "data": {
      "image/png": "[encoded data removed]",
      "text/plain": [
       "<Figure size 432x288 with 1 Axes>"
      ]
     },
     "metadata": {
      "needs_background": "light"
     },
     "output_type": "display_data"
    },
    {
     "data": {
      "image/png": "[encoded data removed]",
      "text/plain": [
       "<Figure size 864x288 with 2 Axes>"
      ]
     },
     "metadata": {
      "needs_background": "light"
     },
     "output_type": "display_data"
    },
    {
     "data": {
      "image/png": "[encoded data removed]",
      "text/plain": [
       "<Figure size 864x288 with 2 Axes>"
      ]
     },
     "metadata": {
      "needs_background": "light"
     },
     "output_type": "display_data"
    }
   ],
   "source": [
    "v1, a1 = 1, .005\n",
    "v2, a2 = v1, a1*2\n",
    "(xlabel, ylabel) = (\"Size\", \"Price Premium\")\n",
    "\n",
    "X_curve, y_curve = rh.gen_data(num=50, v=v2, a=a2)\n",
    "figp, axp = rh.gen_plot(X_curve,y_curve, xlabel, ylabel)\n",
    "\n",
    "fig, axs = rh.regress_with_error(X_curve, y_curve, xlabel=xlabel, ylabel=ylabel)"
   ]
  },
  {
   "cell_type": "markdown",
   "metadata": {
    "slideshow": {
     "slide_type": "subslide"
    }
   },
   "source": [
    "Let's focus on the errors."
   ]
  },
  {
   "cell_type": "code",
   "execution_count": null,
   "metadata": {
    "slideshow": {
     "slide_type": "subslide"
    }
   },
   "outputs": [
    {
     "data": {
      "image/png": "[encoded data removed]",
      "text/plain": [
       "<Figure size 864x288 with 2 Axes>"
      ]
     },
     "execution_count": 15,
     "metadata": {},
     "output_type": "execute_result"
    }
   ],
   "source": [
    "fig"
   ]
  },
  {
   "cell_type": "markdown",
   "metadata": {
    "slideshow": {
     "slide_type": "subslide"
    }
   },
   "source": [
    "Not good !\n",
    "- clear pattern: errors increase in the tails\n",
    "- not constant variance\n",
    "\n",
    "Recall that our conclusion was that there was a missing feature: a higher order $x^2$ term.\n",
    "\n",
    "Once we added that term, the target became linear in \n",
    "$$ \\Theta^T \\cdot X = \\beta_1 *x + \\beta_2 * x^2$$"
   ]
  },
  {
   "cell_type": "markdown",
   "metadata": {
    "slideshow": {
     "slide_type": "slide"
    }
   },
   "source": [
    "# Beyond accuracy for full MNIST\n",
    "\n",
    "We perform a deep-dive on the results of the full 10 class MNIST Logistic Regression classifier.\n",
    "\n",
    "We illustrate the multitude of tools that an enterprising Data Scientist can use\n",
    "beyond Accuracy.\n",
    "\n",
    "Let's start by fitting the model."
   ]
  },
  {
   "cell_type": "code",
   "execution_count": null,
   "metadata": {
    "slideshow": {
     "slide_type": "subslide"
    }
   },
   "outputs": [],
   "source": [
    "mnh.fit()"
   ]
  },
  {
   "cell_type": "markdown",
   "metadata": {
    "slideshow": {
     "slide_type": "subslide"
    }
   },
   "source": [
    "Let's examine the Confusion Matrix for potential issues"
   ]
  },
  {
   "cell_type": "code",
   "execution_count": null,
   "metadata": {
    "slideshow": {
     "slide_type": "subslide"
    }
   },
   "outputs": [],
   "source": [
    "# Now predict the value of the digit on the second half:\n",
    "confusion_mat = mnh.create_confusion_matrix()\n",
    "\n",
    "digits = range(0,10)\n",
    "_= clh.plot_confusion_matrix(confusion_mat, digits, normalize=True)"
   ]
  },
  {
   "cell_type": "markdown",
   "metadata": {
    "slideshow": {
     "slide_type": "subslide"
    }
   },
   "source": [
    "- You can see that we didn't do equally well for all digits\n",
    "    - \"5\", \"8\": below 80% correctly classified\n",
    "    - \"2\", \"3\", \"9\": 80%-90% correctly classified\n",
    "    \n",
    "- Questions:\n",
    "    - Are the errors acceptable ?\n",
    "    - What can we do about the errors ?"
   ]
  },
  {
   "cell_type": "markdown",
   "metadata": {
    "slideshow": {
     "slide_type": "slide"
    }
   },
   "source": [
    "We will perform some diagnostics on the classification of a *single* digit.\n",
    "\n",
    "If we pick up a pattern on examples for this digit that have been misclassified\n",
    "- we have identified a cause (commonality of problem examples)\n",
    "- might be able to improve the model by feature engineering\n",
    "    - hand-engineer a feature for the problem cases"
   ]
  },
  {
   "cell_type": "markdown",
   "metadata": {
    "slideshow": {
     "slide_type": "subslide"
    }
   },
   "source": [
    "Consider the multinomial MNIST classification problem with class $C = \\{ \n",
    "\\text{'0', '1'}, \\ldots, \\text{'9'} \\}$\n",
    "\n",
    "Let $D \\in C$ be a particular digit that we wish to focus on.\n",
    "\n",
    "Perhaps this is a digit for which the confusion matrix shows problems.\n",
    "\n",
    "We will look at *accuracy conditional on* correct label being $D$.\n",
    "- we turn the results of the multinomial classifier into a binary classifier with class $C' = \\{ \\text{Is D}, \\text{Is not D} \\}$\n",
    "\n",
    "So we are essentially testing the Recall of digit $D$."
   ]
  },
  {
   "cell_type": "markdown",
   "metadata": {
    "slideshow": {
     "slide_type": "subslide"
    }
   },
   "source": [
    "Let's see some examples of misclassified digits."
   ]
  },
  {
   "cell_type": "code",
   "execution_count": null,
   "metadata": {
    "scrolled": true,
    "slideshow": {
     "slide_type": "subslide"
    }
   },
   "outputs": [],
   "source": [
    "problem_digits = [ '5', '8', '2', '3', '9' ]\n",
    "\n",
    "mnh.plot_problem_digits( problem_digits )"
   ]
  },
  {
   "cell_type": "markdown",
   "metadata": {
    "slideshow": {
     "slide_type": "subslide"
    }
   },
   "source": [
    "The first row shows the misclassified 5's.\n",
    "\n",
    "Why were they mis-classified ?"
   ]
  },
  {
   "cell_type": "markdown",
   "metadata": {
    "slideshow": {
     "slide_type": "subslide"
    }
   },
   "source": [
    "It's possible that the probability of the incorrect class was barely above the correct one.\n",
    "\n",
    "Was that the case here ?\n",
    "\n",
    "Let's examine the probability vector $\\hat{p}$ predicted for a number of examples.\n",
    "\n",
    "**Note**\n",
    "The prediction is the class at index $i$ where \n",
    "$$i = \\argmax{j} \\hat{p}_j$$"
   ]
  },
  {
   "cell_type": "code",
   "execution_count": null,
   "metadata": {
    "scrolled": true,
    "slideshow": {
     "slide_type": "subslide"
    }
   },
   "outputs": [],
   "source": [
    "# Select some mis-classified \"5\"'s'\n",
    "problems = mnh.misclassified[\"5\"][ [2,3,4] ]\n",
    "mnh.predict_with_probs(problems, digits)"
   ]
  },
  {
   "cell_type": "markdown",
   "metadata": {
    "slideshow": {
     "slide_type": "subslide"
    }
   },
   "source": [
    "Examining the probabilities: \n",
    "- the predicted class had highest probability; was the correct class probability even close ?\n",
    "- what were the other potential candidate classes ?\n",
    "\n",
    "Any theories why the misclassification occured ?\n",
    "\n",
    "That would be the first step in fixing the problem\n",
    "- perhaps some feature engineering would help\n",
    "\n",
    "In the Deep Learning part of the course, we will show how the decision of a classifier may be \"explained\".\n",
    "\n",
    "The techniques might help here, in the Classical setting, as well."
   ]
  },
  {
   "cell_type": "markdown",
   "metadata": {
    "slideshow": {
     "slide_type": "subslide"
    }
   },
   "source": [
    "Let's narrow our focus to a single misclassified digit in\n",
    "an attempt to gain more insight.\n",
    "\n",
    "The digit 8 seems to get misclassified as the digit 1.  Let's explore."
   ]
  },
  {
   "cell_type": "code",
   "execution_count": null,
   "metadata": {
    "scrolled": true,
    "slideshow": {
     "slide_type": "subslide"
    }
   },
   "outputs": [],
   "source": [
    "mnh.plot_problem_digits( ['8'], wrong_class='1', num_cols=10)\n"
   ]
  },
  {
   "cell_type": "markdown",
   "metadata": {
    "slideshow": {
     "slide_type": "subslide"
    }
   },
   "source": [
    "- Is the strong vertical part in the center the problem ?\n",
    "- Are small black holes a problem ?\n",
    "\n",
    "Now that you can visualize the \"problems\", can you think of ways to improve the prediction ?"
   ]
  },
  {
   "cell_type": "markdown",
   "metadata": {
    "slideshow": {
     "slide_type": "subslide"
    }
   },
   "source": [
    "We didn't offer any answers or potential solutions.\n",
    "\n",
    "Our goal was merely to show\n",
    "- that you *don't have to stop* with a summary statistic\n",
    "- you don't need a specialized package to examine errors\n",
    "\n",
    "Error analysis is what separates an adequate Data Scientist from a successful one."
   ]
  },
  {
   "cell_type": "code",
   "execution_count": null,
   "metadata": {
    "slideshow": {
     "slide_type": "slide"
    }
   },
   "outputs": [],
   "source": [
    "print(\"Done\")"
   ]
  }
 ],
 "metadata": {
  "celltoolbar": "Slideshow",
  "kernelspec": {
   "display_name": "Python 3",
   "language": "python",
   "name": "python3"
  },
  "language_info": {
   "codemirror_mode": {
    "name": "ipython",
    "version": 3
   },
   "file_extension": ".py",
   "mimetype": "text/x-python",
   "name": "python",
   "nbconvert_exporter": "python",
   "pygments_lexer": "ipython3",
   "version": "3.7.1"
  },
  "toc": {
   "base_numbering": 1,
   "nav_menu": {},
   "number_sections": true,
   "sideBar": true,
   "skip_h1_title": false,
   "title_cell": "Table of Contents",
   "title_sidebar": "Contents",
   "toc_cell": false,
   "toc_position": {
    "height": "calc(100% - 180px)",
    "left": "10px",
    "top": "150px",
    "width": "370.594px"
   },
   "toc_section_display": true,
   "toc_window_display": false
  }
 },
 "nbformat": 4,
 "nbformat_minor": 2
}
