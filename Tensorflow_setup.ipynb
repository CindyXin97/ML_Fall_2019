{
 "cells": [
  {
   "cell_type": "markdown",
   "metadata": {
    "slideshow": {
     "slide_type": "slide"
    }
   },
   "source": [
    "# Setup Tensorflow\n",
    "\n",
    "- We will be using\n",
    "    - Tensorflow\n",
    "    - Keras\n",
    "    \n",
    "Unfortunately, Keras is not compatible with versions of Python greater than 3.6.\n",
    "\n",
    "Let's check what we are running:"
   ]
  },
  {
   "cell_type": "code",
   "execution_count": 1,
   "metadata": {
    "slideshow": {
     "slide_type": "subslide"
    }
   },
   "outputs": [
    {
     "name": "stdout",
     "output_type": "stream",
     "text": [
      "Running Python  3.7.1 (default, Dec 14 2018, 19:28:38) \n",
      "[GCC 7.3.0]\n"
     ]
    }
   ],
   "source": [
    "import sys\n",
    "print(\"Running Python \", sys.version)"
   ]
  },
  {
   "cell_type": "markdown",
   "metadata": {
    "slideshow": {
     "slide_type": "subslide"
    }
   },
   "source": [
    "If you are running a version greater than 3.6, you will need to create an \"environment\" in Anaconda\n",
    "that uses Python 3.6.\n"
   ]
  },
  {
   "cell_type": "markdown",
   "metadata": {
    "slideshow": {
     "slide_type": "slide"
    }
   },
   "source": [
    "## Creating an environment in Anaconda\n",
    "\n",
    "Anaconda allows  you to have multiple \"environments\" simultaneously\n",
    "- an environment is a collection of packages\n",
    "\n",
    "So we will create an environment that is similar to our current environment (base) **but**\n",
    "uses Python 3.6\n",
    "\n",
    "- We will be able to freely switch back and forth between environment"
   ]
  },
  {
   "cell_type": "markdown",
   "metadata": {
    "slideshow": {
     "slide_type": "subslide"
    }
   },
   "source": [
    "To create an environment (which we are naming `py36` -- you an choose any name) with Anaconda installed:\n",
    "- run the following from the command line"
   ]
  },
  {
   "cell_type": "raw",
   "metadata": {
    "slideshow": {
     "slide_type": "subslide"
    }
   },
   "source": [
    "conda create -n py36 python=3.6 anaconda"
   ]
  },
  {
   "cell_type": "markdown",
   "metadata": {
    "slideshow": {
     "slide_type": "subslide"
    }
   },
   "source": [
    "After this completes, you *will still be* in your current environment.\n",
    "\n",
    "To switch to the environment named `py36`, run the following from the command line:"
   ]
  },
  {
   "cell_type": "raw",
   "metadata": {
    "slideshow": {
     "slide_type": "subslide"
    }
   },
   "source": [
    "conda activate py36"
   ]
  },
  {
   "cell_type": "markdown",
   "metadata": {
    "slideshow": {
     "slide_type": "subslide"
    }
   },
   "source": [
    "If the above doesn't work, run:"
   ]
  },
  {
   "cell_type": "raw",
   "metadata": {
    "slideshow": {
     "slide_type": "subslide"
    }
   },
   "source": [
    "source activate py36"
   ]
  },
  {
   "cell_type": "markdown",
   "metadata": {
    "slideshow": {
     "slide_type": "subslide"
    }
   },
   "source": [
    "You will see that the command line prompt has change\n",
    "- It now has the prefix `(py36)` to indicte that you are in the new environment"
   ]
  },
  {
   "cell_type": "markdown",
   "metadata": {
    "slideshow": {
     "slide_type": "subslide"
    }
   },
   "source": [
    "When you want to return to your prior environment you may do so by running (from the command line):\n"
   ]
  },
  {
   "cell_type": "raw",
   "metadata": {
    "slideshow": {
     "slide_type": "subslide"
    }
   },
   "source": [
    "conda deactivate"
   ]
  },
  {
   "cell_type": "markdown",
   "metadata": {
    "slideshow": {
     "slide_type": "slide"
    }
   },
   "source": [
    "## Install Tensorflow (includes Keras)\n",
    "\n",
    "    \n",
    "**Please make sure you are in the a Python 3.6 environment before installing Tensorflow**.\n",
    "\n",
    "If you deactivated `py36` **reactivate it now**\n",
    "\n",
    "    `conda activate py36`\n"
   ]
  },
  {
   "cell_type": "markdown",
   "metadata": {
    "slideshow": {
     "slide_type": "subslide"
    }
   },
   "source": [
    "Install Tensorflow by running the following from the command line:"
   ]
  },
  {
   "cell_type": "raw",
   "metadata": {
    "slideshow": {
     "slide_type": "subslide"
    }
   },
   "source": [
    "conda install -c conda-forge tensorflow"
   ]
  },
  {
   "cell_type": "markdown",
   "metadata": {
    "slideshow": {
     "slide_type": "subslide"
    }
   },
   "source": [
    "You can test whether you are successful by running the following Python code\n",
    "- You can type `python` from the command line and enter each line of code below by hand"
   ]
  },
  {
   "cell_type": "markdown",
   "metadata": {
    "slideshow": {
     "slide_type": "subslide"
    }
   },
   "source": [
    "The code most likely *will not* run from the current notebook.\n",
    "\n",
    "That is because the current notebook is running in a version of Jupyter launced from the current (non-Python 3.6) environment.\n",
    "\n",
    "If you want to run Tensorflow code in a Jupyter notebook, you must\n",
    "\n",
    "- shut down Jupyter\n",
    "- activate the Python 3.6 environment, e.g., `py36`\n",
    "- *start Jupyter from the Python 3.6 environment*"
   ]
  },
  {
   "cell_type": "raw",
   "metadata": {
    "slideshow": {
     "slide_type": "subslide"
    }
   },
   "source": [
    "import tensorflow as tf\n",
    "\n",
    "print(\"Running TensorFlow version \",tf.__version__)"
   ]
  },
  {
   "cell_type": "markdown",
   "metadata": {
    "slideshow": {
     "slide_type": "slide"
    }
   },
   "source": [
    "# Google Colab\n",
    "\n",
    "Google provides a Jupyter-like server, on the web, that you can use for free !\n",
    "\n",
    "You may use this instead of installing Tensorflow, etc. on your local machine.\n",
    "\n",
    "Try out [Colab](https://colab.research.google.com/) by clicking the link\n"
   ]
  },
  {
   "cell_type": "markdown",
   "metadata": {
    "slideshow": {
     "slide_type": "subslide"
    }
   },
   "source": [
    "- Try out the Examples in the `Examples` tab\n",
    "- Try accessing a notebook from Github !  \n",
    "    - You can use the class repo: `kenperry-public/ML_Fall_2019`"
   ]
  },
  {
   "cell_type": "markdown",
   "metadata": {
    "slideshow": {
     "slide_type": "subslide"
    }
   },
   "source": [
    "Colab uses a newer version of Jupyter called Jupyterlab.\n",
    "\n",
    "(When you installed Anaconda, you also installed Jupyterlab, so you can run Jupyterlab rather\n",
    "than Jupyter on your own machine as well.)\n",
    "\n",
    "It is quite similar to Jupyter\n",
    "- the keyboard shortcuts may be different\n",
    "- the markup language is not as powerful\n"
   ]
  },
  {
   "cell_type": "markdown",
   "metadata": {
    "slideshow": {
     "slide_type": "subslide"
    }
   },
   "source": [
    "## Your Colab machine is transient, including the disk !\n",
    "\n",
    "Colab provides you with a temporary server on which to run your notebooks.\n",
    "- Anything you can do on your local machine,  you can do on the temporary server\n",
    "    - you can install packages with\n",
    "        - `conda install`\n",
    "        - `pip install`\n",
    "        \n",
    "**BUT** it will all disappear when   you disconnect, including *anything on its disk storage*\n",
    "\n",
    "**Make sure you store \"permanent\" files, e.g., notebooks, modules, data, on your Google Drive !**"
   ]
  },
  {
   "cell_type": "markdown",
   "metadata": {
    "slideshow": {
     "slide_type": "subslide"
    }
   },
   "source": [
    "## Lecture notebooks on Colab\n",
    "\n",
    "I will run my Tensorflow notebooks on Colab.\n",
    "- I will place all my files on Google Drive (notebooks, helper modules, data files, etc.)\n",
    "- I will tell Colab how to find my Google Drive so that it can access all the files"
   ]
  },
  {
   "cell_type": "markdown",
   "metadata": {
    "slideshow": {
     "slide_type": "subslide"
    }
   },
   "source": [
    "## Accessing your Google Drive from a Colab notebook\n",
    "\n",
    "Run the code in the following cell in your notebook\n",
    "- You will be prompted to grant access to your Google Drive\n",
    "- If you agree, you will be given something to copy\n",
    "    - paste this into your notebook as per the instructions that will appear"
   ]
  },
  {
   "cell_type": "raw",
   "metadata": {
    "slideshow": {
     "slide_type": "subslide"
    }
   },
   "source": [
    "from google.colab import drive\n",
    "drive.mount('/content/gdrive')\n"
   ]
  },
  {
   "cell_type": "markdown",
   "metadata": {
    "slideshow": {
     "slide_type": "subslide"
    }
   },
   "source": [
    "Note: the directory your notebook is currently running in is **not** where your Google Drive has been mounted\n",
    "- Some of your Python commands, which are *relative to the current directory*, may not find the files\n",
    "- You might want to change the notebook's directory in order to find files in the Drive\n",
    "    - for example:"
   ]
  },
  {
   "cell_type": "raw",
   "metadata": {
    "slideshow": {
     "slide_type": "subslide"
    }
   },
   "source": [
    "%cd \"/content/gdrive/My Drive/\""
   ]
  },
  {
   "cell_type": "code",
   "execution_count": 2,
   "metadata": {
    "slideshow": {
     "slide_type": "slide"
    }
   },
   "outputs": [
    {
     "name": "stdout",
     "output_type": "stream",
     "text": [
      "Done\n"
     ]
    }
   ],
   "source": [
    "print(\"Done\")"
   ]
  }
 ],
 "metadata": {
  "celltoolbar": "Slideshow",
  "kernelspec": {
   "display_name": "Python 3",
   "language": "python",
   "name": "python3"
  },
  "language_info": {
   "codemirror_mode": {
    "name": "ipython",
    "version": 3
   },
   "file_extension": ".py",
   "mimetype": "text/x-python",
   "name": "python",
   "nbconvert_exporter": "python",
   "pygments_lexer": "ipython3",
   "version": "3.7.1"
  },
  "toc": {
   "base_numbering": 1,
   "nav_menu": {},
   "number_sections": true,
   "sideBar": true,
   "skip_h1_title": false,
   "title_cell": "Table of Contents",
   "title_sidebar": "Contents",
   "toc_cell": false,
   "toc_position": {},
   "toc_section_display": true,
   "toc_window_display": false
  }
 },
 "nbformat": 4,
 "nbformat_minor": 2
}
