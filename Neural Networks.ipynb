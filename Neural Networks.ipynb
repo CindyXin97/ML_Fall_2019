{
 "cells": [
  {
   "cell_type": "code",
   "execution_count": 1,
   "metadata": {
    "slideshow": {
     "slide_type": "notes"
    }
   },
   "outputs": [
    {
     "data": {
      "text/latex": [
       "$$\n",
       "\\newcommand{\\x}{\\mathbf{x}}\n",
       "\\newcommand{\\y}{\\mathbf{y}}\n",
       "\\newcommand{\\b}{\\mathbf{b}}\n",
       "\\newcommand{\\c}{\\mathbf{c}}\n",
       "\\newcommand{\\e}{\\mathbf{e}}\n",
       "\\newcommand{\\z}{\\mathbf{z}}\n",
       "\\newcommand{\\h}{\\mathbf{h}}\n",
       "\\newcommand{\\w}{\\mathbf{w}}\n",
       "\\newcommand{\\W}{\\mathbf{W}}\n",
       "\\newcommand{\\X}{\\mathbf{X}}\n",
       "\\newcommand{\\KL}{\\mathbf{KL}}\n",
       "\\newcommand{\\E}{{\\mathbb{E}}}\n",
       "\\newcommand{\\ip}{\\mathbf{{(i)}}}\n",
       "% \\ll indexes a layer; we can change the actual letter\n",
       "\\newcommand{\\ll}{l}\n",
       "\\newcommand{\\llp}{(\\ll)}\n",
       "%\n",
       "\\newcommand{\\tp}{\\mathbf{{(t)}}}\n",
       "\\newcommand{\\loss}{\\mathcal{L}}\n",
       "\\newcommand{\\cost}{\\mathcal{L}}\n",
       "%\n",
       "% Functions with arguments\n",
       "\\def\\xsy#1#2{#1^#2}\n",
       "\\def\\rand#1{\\tilde{#1}}\n",
       "\\def\\randx{\\rand{\\x}}\n",
       "\\def\\randy{\\rand{\\y}}\n",
       "%\n",
       "\\def\\argmax#1{\\underset{#1} {\\operatorname{argmax}} }\n",
       "\\def\\argmin#1{\\underset{#1} {\\operatorname{argmin}} }\n",
       "\\def\\max#1{\\underset{#1} {\\operatorname{max}} }\n",
       "\\def\\min#1{\\underset{#1} {\\operatorname{min}} }\n",
       "%\n",
       "\\def\\pr#1{\\mathcal{p}(#1)}\n",
       "\\def\\cnt#1{\\mathcal{count}_{#1}}\n",
       "\\def\\node#1{\\mathbb{#1}}\n",
       "$$\n"
      ],
      "text/plain": [
       "<IPython.core.display.Latex object>"
      ]
     },
     "metadata": {},
     "output_type": "display_data"
    },
    {
     "name": "stdout",
     "output_type": "stream",
     "text": [
      "Macro `_latex_std_` created. To execute, type its name (without quotes).\n",
      "=== Macro contents: ===\n",
      "get_ipython().run_line_magic('run', 'Latex_macros.ipynb')\n",
      " "
     ]
    }
   ],
   "source": [
    "%run Latex_macros.ipynb"
   ]
  },
  {
   "cell_type": "code",
   "execution_count": 2,
   "metadata": {
    "slideshow": {
     "slide_type": "notes"
    }
   },
   "outputs": [],
   "source": [
    "# My standard magic !  You will see this in almost all my notebooks.\n",
    "\n",
    "from IPython.core.interactiveshell import InteractiveShell\n",
    "InteractiveShell.ast_node_interactivity = \"all\"\n",
    "\n",
    "# Reload all modules imported with %aimport\n",
    "%load_ext autoreload\n",
    "%autoreload 1\n",
    "\n",
    "%matplotlib inline"
   ]
  },
  {
   "cell_type": "code",
   "execution_count": 3,
   "metadata": {
    "slideshow": {
     "slide_type": "notes"
    }
   },
   "outputs": [],
   "source": [
    "import numpy as np\n",
    "import pandas as pd\n",
    "import matplotlib.pyplot as plt\n",
    "\n",
    "import neural_net_helper\n",
    "%aimport neural_net_helper\n",
    "\n",
    "nnh = neural_net_helper.NN_Helper()"
   ]
  },
  {
   "cell_type": "markdown",
   "metadata": {
    "slideshow": {
     "slide_type": "slide"
    }
   },
   "source": [
    "# Intro\n",
    "\n",
    "In Classical ML, the paradigm was\n",
    "- construct, by hand, transformations of the input to alternatate representations\n",
    "    - feature engineering: create representations corresponding to a \"concept\" useful for classificatin\n",
    "    - we called this a pipeline\n",
    "- after multiple transformations, the representation was good enough that a classifer could separate classes\n",
    "\n",
    "In \"New\" ML, the paradigm is very similar\n",
    "- a sequence of transformations\n",
    "    - each transformation is called a \"layer\"\n",
    "        - \"Deep Learning\" is many layers of transformation\n",
    "    - each layer successively constructs a new representation\n",
    "    - the transformations are \"discovered\" (by gradient descent) rather than hand engineered\n",
    "    \n",
    "One way to think about transformations is as a sort of \"pattern matching\":\n",
    "- does the input representation have a specific pattern (feature)\n",
    "- we can search for multiple features\n",
    "    - so new representation has \"depth\": one per feature\n",
    "    "
   ]
  },
  {
   "cell_type": "markdown",
   "metadata": {
    "slideshow": {
     "slide_type": "slide"
    }
   },
   "source": [
    "# Deep Learning\n",
    "\n",
    "Inspired by Keras\n",
    "\n",
    "- A neural network is a sequence of layers\n",
    "- Each layer is a transformer of input\n",
    "    - unike human transformation, the transformation is trained\n",
    "- Final layer: classifier after input transformed into final form\n",
    "\n",
    "Cartoon version of DL:\n",
    "- successive layers to transform\n",
    "- final classifier/regressor layer that can operate on transformed space\n",
    "\n",
    "Types of layers (transformations) we will learn\n",
    "- Fully Connected\n",
    "- Convolutional\n",
    "- Recurrent\n",
    "- Lambda\n",
    "    - occassionally you will have to write  your own operations\n",
    "        - TensorFlow native operations: multiplication, addition\n",
    "        \n",
    "- Layer is a sequence of one or more\n",
    "- Primitive layers (sequence of length 1, see above)\n",
    "- Non-primitive layers\n",
    "    - can treat a sequence of length greater than 1 as a single layer (treat the middle as a black box_"
   ]
  },
  {
   "cell_type": "markdown",
   "metadata": {
    "slideshow": {
     "slide_type": "slide"
    }
   },
   "source": [
    "![Deep Learning cartoon](images/DL_Classifier.jpg)"
   ]
  },
  {
   "cell_type": "markdown",
   "metadata": {},
   "source": []
  },
  {
   "cell_type": "markdown",
   "metadata": {
    "slideshow": {
     "slide_type": "slide"
    }
   },
   "source": [
    "## Generalized dot product as pattern matching\n",
    "\n",
    "Given an input representation, how do we tell whether it matches a certain feature ?\n",
    "- weights as pattern\n",
    "- dot product computes score\n",
    "    - score is high if input is similar to pattern\n",
    "    \n",
    "Although it is easiest to think of representations as one dimensional, that will rarely be the case\n",
    "- images are a representation that is 2 or 3 dimensional (color channel)\n",
    "- if a layer produces $n$ features, its output volume has a \"depth\" of $n$\n",
    "    - so the 3d image (2d plus one channel for each of 3 colors), after passed through a layer creating $n$ features, now has depth $n$ rather than 3\n",
    "    \n",
    "So best to think of \"dot product\" as \n",
    "- element-wise multiplication of input representation with weights of same dimensionality\n",
    "- reduce (sum) to scalar"
   ]
  },
  {
   "cell_type": "markdown",
   "metadata": {
    "slideshow": {
     "slide_type": "slide"
    }
   },
   "source": [
    "**Aside** \n",
    "Different types of multiplication\n",
    "\n",
    "$$\n",
    "\\begin{array}[lll]\\\\\n",
    "\\text{expression}                      & \\text{Input shapes}        & \\text{Output shape}  & \\text{Description}\\\\\n",
    "\\W \\x  & (m \\times n), (n \\times 1) & (m \\times 1)  &  \\text{Matrix multiplication: }\\\\\n",
    "\\x \\cdot \\y & n,n & 1 & \\text{Dot product} \\\\\n",
    "\\W_a \\otimes \\W_b & (m \\times n), (m \\times n) & (m \\times n) & \\text{Hadamard product} \\\\\n",
    "\\end{array}\n",
    "$$"
   ]
  },
  {
   "cell_type": "markdown",
   "metadata": {
    "slideshow": {
     "slide_type": "slide"
    }
   },
   "source": [
    "## Where have we seen this before: logistic regression for MNIST\n",
    "- input dimensions $28 \\times 28 \\times 1$\n",
    "- $10$ new features, each produce a score\n",
    "    - one per output class\n",
    "    - each pattern is $28 \\times 28 \\times 1$\n",
    "    - produces a score (does input match a specific digit)\n",
    "- final \"soft max\" layer to convert score to probability\n",
    "\n",
    "Imagine adding a two layer version\n",
    "- layer 1: features\n",
    "    - if we were to hand-engineer\n",
    "        - horizontal top\n",
    "        - horizontal botton\n",
    "        - diagonal, each direction\n",
    "- layer 2: combo of layer 1 features\n",
    "    - horizontal top and diagonal\n",
    "    \n",
    "This might seem like the way to do digit recognition were we to perform feature engineerig by hand.\n",
    "\n",
    "But our intuition of what features are useful may be off, or at least, sub-optimal\n",
    "\n",
    "Deep Learning is an optimization problem that solves for the patterns (feature extractors) that prove\n",
    "most useful for the final classification."
   ]
  },
  {
   "cell_type": "markdown",
   "metadata": {
    "slideshow": {
     "slide_type": "slide"
    }
   },
   "source": [
    "## How is this different ?\n",
    "\n",
    "One key observation is that the \"generalized dot product\" is a linear transformation.\n",
    "\n",
    "Feeding the output of linear transformation $T_1$ (implemented by matrix multiplcation by $M_1$) into linear trasnformation ($T_2$, implemented by matrix multiplication $M_2$)\n",
    "is just equivalent to another linear transformation (multiplication by matrix resulting from $M_1  M_2$)\n",
    "\n",
    "So there would be no mathematical purpose to more than a single layer of transformation.\n",
    "\n",
    "Deep learning interposes a \"non-linear\" *activation* between linear layers.  In doing so,\n",
    "the composition of layers is no longer linear.\n",
    "As we will see, this will gives us the ability to compute arbitrary functions so the transformation\n",
    "of representatins no longer needs to be linear.\n",
    "\n",
    "The non-linearity is called an \"activation\" because it typically acts like a threshhold:\n",
    "- if the linear \"score\" is high, pass it through\n",
    "- otherwise reduce it to (near) 0\n",
    "\n",
    "The activation introduces the ability to compute non-linear transformations as well as a mechanism to\n",
    "separate High scores (\"has feature\") form insignificant scores.\n",
    "\n",
    "In what follows, we will introduce\n",
    "- several \"linear\" layers\n",
    "- several \"non-linearities\" (activations)\n",
    "\n",
    "A general NN will (usually) be an alternating sequence of linear layers and activations."
   ]
  },
  {
   "cell_type": "markdown",
   "metadata": {
    "slideshow": {
     "slide_type": "slide"
    }
   },
   "source": [
    "# The NN learning process\n",
    "- construct a NN\n",
    "- define a loss function\n",
    "    - function of\n",
    "        - training input, network output, label\n",
    "- initialize weights (patterns)\n",
    "- perform SGD\n",
    "    - free variables: the weights\n",
    "    - optimization objective: minimize loss, given weights\n",
    "    - feed a training example through the NN (forward pass) computing an output\n",
    "    - compute the loss on this example\n",
    "    - compute the derivative of the loss wrt weights (backward pass)\n",
    "    - update the weights in direction of loss reduction\n",
    "    \n",
    "Each of these steps will be a mini-topic."
   ]
  },
  {
   "cell_type": "markdown",
   "metadata": {
    "slideshow": {
     "slide_type": "slide"
    }
   },
   "source": [
    "# Constructing a NN: Layers\n",
    "\n",
    "## Fully connected layer"
   ]
  },
  {
   "cell_type": "markdown",
   "metadata": {
    "slideshow": {
     "slide_type": "slide"
    }
   },
   "source": [
    "## Activation layers\n",
    "\n",
    "[cs 231n midterm review](http://cs231n.stanford.edu/slides/2018/cs231n_2018_midterm_review.pdf)\n",
    "\n",
    "As we will see, there are several choices for the non-linear activation layer.\n",
    "To get some intuition, let's show the plot of each, along with its derivative.\n",
    "The derivative is important as it will come into play during back propagation."
   ]
  },
  {
   "cell_type": "code",
   "execution_count": 22,
   "metadata": {
    "slideshow": {
     "slide_type": "slide"
    }
   },
   "outputs": [
    {
     "data": {
      "image/png": "[encoded data removed]",
      "text/plain": [
       "<Figure size 1152x864 with 6 Axes>"
      ]
     },
     "metadata": {
      "needs_background": "light"
     },
     "output_type": "display_data"
    }
   ],
   "source": [
    "nnh.plot_activations( np.arange(-3,3, 0.1) )"
   ]
  },
  {
   "cell_type": "markdown",
   "metadata": {
    "slideshow": {
     "slide_type": "slide"
    }
   },
   "source": [
    "The first thing to note is the different output ranges.\n",
    "The choice of the activation may be influenced by the need for the output to fall into a particular\n",
    "range (this is true only for activations that do not propagate further, such as the final layer).\n",
    "\n",
    "- the range of tanh is $[-1,+1]$ which may be appropriate for $0$ centered outputs\n",
    "- the range of sigmoid is $[0,1]$, which may be appropriate for\n",
    "    - binary classifiers, or neurons that act as \"gates\" (on/off switches)\n",
    "    - outputs that need to be in this range, such as probabilities\n",
    "\n",
    "The other thing to notice are the derivatives (applicable to all layers, not just the final):\n",
    "- both the tanh and sigmoid have large regions, at either tail, of near zero derivatives\n",
    "    - a zero derivative can hamper learning via SGD\n",
    "- the derivative of the sigmoid has a maximum value of about 0.25\n",
    "    - as we will see, the magnitude of the derivative modulates the \"error signal\" during back propagation\n",
    "        - so smaller values diminish the signal more than larger values\n",
    "    \n",
    "    "
   ]
  },
  {
   "cell_type": "markdown",
   "metadata": {
    "slideshow": {
     "slide_type": "slide"
    }
   },
   "source": [
    "## Other activations\n",
    "\n",
    "### Softmax Layer\n",
    "\n",
    "### Leaky ReLU Layer"
   ]
  },
  {
   "cell_type": "markdown",
   "metadata": {
    "slideshow": {
     "slide_type": "slide"
    }
   },
   "source": [
    "## The Loss \"layer\"\n",
    "\n",
    "As usual with Machine Learning, we compute a Cost/Loss measure of how successful our model is,\n",
    "and mininimize it during training.\n",
    "\n",
    "Although not truly a \"layer\" in the sense that it is not deriving an alternative representation\n",
    "of the input (it's more like a summary of the predictins and inputs) it be convenient\n",
    "sometimes to refer to it as a layer.\n",
    "\n",
    "In particular: when we perform SGD we will back propagate a derivative (with respective to weights)\n",
    "of the loss through the layers of the NN.\n",
    "So it will simplify notation if we consider the \"loss\" to be a \"layer\" (whose derivative with respect\n",
    "to the loss is 1, as we will see)."
   ]
  },
  {
   "cell_type": "markdown",
   "metadata": {
    "slideshow": {
     "slide_type": "slide"
    }
   },
   "source": [
    "# Universal function approximator\n",
    "[Nelson book](https://neuralnetworksanddeeplearning.com/chap4.html)\n",
    "\n",
    "\n",
    "A Neural Network is a Universal Function Approximator.\n",
    "\n",
    "This means that a sufficiently wide (large number of neurons per layer) \n",
    "and deep (deeper means the network can be narrower) can approximate (to arbitrary degree)\n",
    "the function represented by the training set.\n",
    "\n",
    "Recall that the training set consists of a collection of pairs $(\\x^\\ip, \\y^\\ip), i \\in [1,m]$.\n",
    "This may look like a strange way to define a function but it is indeed a mapping from the\n",
    "domain of $\\x$ (i.e., $\\mathcal{R}^n$) to the domain of $\\y$ (i.e., $\\mathcal{R}$, when $\\mid \\y \\mid = 1$),\n",
    "subject to $\\y^i = \\y^j \\;  \\text{if} \\; \\x^i = \\x^j$)."
   ]
  },
  {
   "cell_type": "markdown",
   "metadata": {
    "slideshow": {
     "slide_type": "subslide"
    }
   },
   "source": [
    "We give an intuitive proof for a one-dimensional function (so all vectors $\\x, \\y, \\W, \\b$) are length 1.\n",
    "For simplicity, let's assume that the training set\n",
    "is presented in order of increasing value of $\\x$, i.e.\n",
    "$$\n",
    "\\x^{(0)} \\lt \\x^{(1)} \\lt \\ldots x^{(m)}\n",
    "$$\n",
    "\n",
    "Consider a single neuron with a ReLU activation, computing\n",
    "$$\n",
    "\\max(0, \\W \\x + \\b)\n",
    "$$\n",
    "\n",
    "Let's plot the output of this neuron, for varying $\\W, \\b$.\n",
    "The slope of the neuron's activation is $\\W$ and the intercept is $\\b$."
   ]
  },
  {
   "cell_type": "code",
   "execution_count": 7,
   "metadata": {
    "slideshow": {
     "slide_type": "slide"
    }
   },
   "outputs": [
    {
     "data": {
      "image/png": "[encoded data removed]",
      "text/plain": [
       "<Figure size 720x432 with 1 Axes>"
      ]
     },
     "metadata": {
      "needs_background": "light"
     },
     "output_type": "display_data"
    }
   ],
   "source": [
    "nnh.plot_steps( [NN(1,0), NN(10,0), NN(100,0), NN(1000,0), ])"
   ]
  },
  {
   "cell_type": "code",
   "execution_count": 8,
   "metadata": {
    "slideshow": {
     "slide_type": "slide"
    }
   },
   "outputs": [
    {
     "data": {
      "image/png": "[encoded data removed]",
      "text/plain": [
       "<Figure size 720x432 with 1 Axes>"
      ]
     },
     "metadata": {
      "needs_background": "light"
     },
     "output_type": "display_data"
    }
   ],
   "source": [
    "nnh.plot_steps( [NN(1,0), NN(1,10), NN(1,20), NN(1,30), ])"
   ]
  },
  {
   "cell_type": "markdown",
   "metadata": {
    "slideshow": {
     "slide_type": "slide"
    }
   },
   "source": [
    "As you can see, with a little effort, we can construct a neuron whose slope is (almost) infinite,\n",
    "rising from the x-axis at any offset.\n",
    "\n",
    "With a little more effort (adding a neuron with an offsetting negative slope, at a very small distance from\n",
    "the x-intercept) we can construct an approximation of a step function (unit height, 0 output at inputs\n",
    "less than the x-interecept, and unit output for all inputs greater than the intercept).\n",
    "\n",
    "(The sigmoid function is even more easily transformed into a step function)."
   ]
  },
  {
   "cell_type": "markdown",
   "metadata": {
    "slideshow": {
     "slide_type": "subslide"
    }
   },
   "source": [
    "So we can construct neurons implementing step functions at any x-intercept.\n",
    "Construct $m$ such neurons, one for each $i \\in [1,m]$ with x-intercept $\\x^\\ip$.\n",
    "Let us call the $i^{th}$ such neuron \"step neuron $i$\".\n",
    "\n",
    "If connect these $m$ step neurons to a \"final\" neuron with $0$ bias, linear activation, and weights\n",
    "\n",
    "$$\n",
    "\\begin{array}[lll] \\\\\n",
    "\\W_1 & = & \\y^{(1)} \\\\\n",
    "\\W_i & = & \\y^{(i)} - \\W_{i-1} \\\\\n",
    "\\end{array}\n",
    "$$\n",
    "\n",
    "we claim that the output of this neuron approximates the training set.\n",
    "\n",
    "To see this: consider what happens when we input $\\x^\\ip$ to this network.\n",
    "The only step neurons that are active (non-zero) are those corresponding\n",
    "to inputs $1 \\le j \\le i$.\n",
    "So the output of the final neuron is the sum of the outputs of the first $i$ step neurons.\n",
    "By construction, this sum is equal to $\\y^\\ip$.\n",
    "\n",
    "Thus, our neural network of step neurons and final \"adder\" neuron creates the mapping\n",
    "defined by the training set.\n",
    "\n",
    "**Financial analogy:** if we have call options with completely flexible strikes and same expiry,\n",
    "we can mimic an arbitrary payoff in a similar manner."
   ]
  },
  {
   "cell_type": "markdown",
   "metadata": {
    "slideshow": {
     "slide_type": "slide"
    }
   },
   "source": [
    "# Loss functions\n",
    "\n",
    "## Ideas\n",
    "**Move out of NN** and into first 7 lectures ??\n",
    "- Probably not\n",
    "- discussed MSE, cross entropy in first part\n",
    "\n",
    "**Explore this**\n",
    "[Nielson book](https://neuralnetworksanddeeplearning.com/chap3.html)\n",
    "\n",
    "Nielsen defines something \"similar\" to cross-entropy for mult-class\n",
    "\n",
    "$$\n",
    "\\loss^\\ip = \\sum_j { \\y^\\ip \\log( \\hat{y}^\\ip) + (1-\\y^\\ip) \\log( 1- \\hat{y} ) }\n",
    "$$\n",
    "\n",
    "rather than the true\n",
    "$$\n",
    "\\loss^\\ip = \\sum_j { \\y^\\ip \\log( \\hat{y}^\\ip)  }\n",
    "$$\n",
    "The two expressions are the same for binary (i.e., $j$ is two classes).\n",
    "The latter \n",
    "- measures the distance between two distributions $\\y^\\ip$ and $\\hat{\\y}^\\ip$.\n",
    "- provided that $\\y^\\ip$ and $\\hat{\\y}^\\i[$ are distributions (i.e., positve, sum to $1$)\n",
    "\n",
    "The \"similar to\" can be viewed as the sum of binary cross-entropies (rather than mathematical cross-entropy)\n",
    "and he finds it useful because he can apply it to the output of a group of binary neurons, even\n",
    "if the group doesn't satisfy the probability assumptions (sum to $1$).\n",
    "\n",
    "The \"similar to\", used as a cost function, is better than a quadratic (MSE) cost function when\n",
    "outputs are activated by sigmoid\n",
    "- derivative of sigmoid does *not* appear in derivative of \"similar to\", so doesn't diminish gradient\n",
    "- derivative of sigmoid does appear in quadratic, so diminishes gradient and slows learning, at least from last layer\n",
    "\n",
    "So Nielsen says either\n",
    "- can use sigmoid activation followed by \"similar to\" cross entropy\n",
    "- case use softmax followed by true cross entropy (log likelihood)\n",
    "    - \n",
    "    \n",
    "[Which loss function to use](https://machinelearningmastery.com/how-to-choose-loss-functions-when-training-deep-learning-neural-networks/)\n",
    "\n",
    "- [cs 231n](http://cs231n.stanford.edu/slides/2017/cs231n_2017_lecture3.pdf)\n",
    "\n",
    "- [loss functions](https://rohanvarma.me/Loss-Functions/)\n",
    "  \n",
    "        "
   ]
  },
  {
   "cell_type": "markdown",
   "metadata": {
    "slideshow": {
     "slide_type": "slide"
    }
   },
   "source": [
    "## Overview\n",
    "\n",
    "The basis of the Machine Learning process is optimization of an objective function.\n",
    "When maximizing, we call this objective function Utility; when minimizing we call it Cost or Loss.\n",
    "When no confusion will arise, we will generically refer to the objective as Cost or Loss.\n",
    "\n",
    "There are many loss functions to choose from, so how does one choose ?\n",
    "\n",
    "First, let's state some basic properties of a loss/function:\n",
    "- it should be positive\n",
    "- it should be close to $0$ if the prediction is close to the correct value\n",
    "- it should be differentiable (or at least sub-differentiable) if SGD is our optimizer\n",
    "\n",
    "At the top level, the type of problem (classification or regression) comes into play.\n",
    "A discrete measure (e.g., accuracy) is inappropriate for a continuous prediction (regression)\n",
    "and a continuous measure may be inappropriate for discrete classification.\n",
    "\n",
    "Sometimes the type of prediction (i.e., training example label) will help us to decide.\n",
    "If our \"prediction\" is a probability distribution, then a loss function that compares\n",
    "distributions would be appropriate."
   ]
  },
  {
   "cell_type": "markdown",
   "metadata": {
    "slideshow": {
     "slide_type": "slide"
    }
   },
   "source": [
    "Let's consider a binary classifier where the two classes  $\\{-1,1\\}$.\n",
    "We'll define a linear \"score\" as a function of the input an decide on the output class based on the score.\n",
    "In particular, if the score is positive we'll predict $1$; if it's negative we'll predict $0$\n",
    "\n",
    "$\n",
    "s(\\x) = \\w^T \\x + \\b \n",
    "$\n",
    "\n",
    "$\n",
    "\\hat{y} = \\begin{cases}\n",
    " -1 & \\text{if } s(\\x) < 0, \\\\\n",
    " 1  & \\text{if } s(\\x) \\geq 0\n",
    "\\end{cases}\n",
    "$\n",
    "\n",
    "Then, for any training example $\\x^\\ip$, $s(\\x^\\ip) *\\y^\\ip$ will\n",
    "be positive if for correct predictions and negative for incorrect predictions.\n",
    "So this product often appears as the \"error\" for functions used for classification loss.\n",
    "For regression, the \"error\" is often of the form $(\\y^\\ip - s(\\x^\\ip) $\n",
    "\n",
    "Let's visualize some common loss functions as a function of the error.\n",
    "\n",
    "**TO DO**\n",
    "Compare code with legend for final graph in [Varma](https://rohanvarma.me/Loss-Functions/)\n"
   ]
  },
  {
   "cell_type": "code",
   "execution_count": 11,
   "metadata": {
    "slideshow": {
     "slide_type": "slide"
    }
   },
   "outputs": [
    {
     "data": {
      "image/png": "[encoded data removed]",
      "text/plain": [
       "<Figure size 720x432 with 1 Axes>"
      ]
     },
     "metadata": {
      "needs_background": "light"
     },
     "output_type": "display_data"
    }
   ],
   "source": [
    "nnh.plot_loss_fns()"
   ]
  },
  {
   "cell_type": "markdown",
   "metadata": {
    "slideshow": {
     "slide_type": "slide"
    }
   },
   "source": [
    "## Accuracy\n",
    "\n",
    "Accuracy is a simple, binary measure: either the prediction is correct (0 loss) or incorrect (unit loss).\n",
    "Thus it is used in classification problems.\n",
    "\n",
    "Looking at the plot, you can see the accuracy is a step function and hence, is not differentiable\n",
    "(nor sub-differentiable, since all tangents to the \"kink\" are above the line).\n",
    "Thus, one cannot use accuracy (really: inaccuracy) as a loss measure in conjuction with SGD.\n",
    "\n",
    "Despite it's drawbacks, it's worth examining properties that may be common to other loss functions\n",
    "- there is no further gain (i.e., reduction in loss) once the score exceeds the threshhold\n",
    "    - there is no force pushing the prediction to become \"more confident\" by increasing the score\n",
    "- similarly, there is not further penalty(increase in loss) once the score fails to exceed the threshhold\n",
    "    - this makes learning impossible as the derivative is 0\n",
    "     \n",
    "In summary, accuracy is used as a measure of quality of a predictive method but not as a loss function.\n",
    "Typically, we use Cross Entropy as the loss function (Binary Cross Entropy sort of looks like accuracy).\n",
    "\n",
    "During training, it is common to see a loss measure decrease even as accuracy remains unchanged.\n",
    "The decrease in loss means we are \"improving\" incorrect predictions (i.e., getting closer to the threshhold for correct classification) while the unchanged accuracy means we have not yet corrected an incorrect prediction."
   ]
  },
  {
   "cell_type": "markdown",
   "metadata": {
    "slideshow": {
     "slide_type": "slide"
    }
   },
   "source": [
    "## Hinge/Margin loss\n",
    "\n",
    "In classification, we need to convert a continuous score into a discrete class prediction, usually\n",
    "comparing the score to a threshhold (which we can consider to be 0 just be shifting the scores).\n",
    "This means that minor changes to the score can change predictions.\n",
    "This can make predictions subject to noise in the input.\n",
    "\n",
    "One idea is rather than using a threshhold, we create a margin: requiring the score to exceed\n",
    "the threshhold by a margin for positive classification and to be at least the margin below the\n",
    "threshhold for non-positive classification.\n",
    "\n",
    "The loss on the $i^{th}$ training example is defined as\n",
    "$$\n",
    "\\loss^\\ip = \\max(0, 1 - \\y^\\ip s(\\x^\\ip) )\n",
    "$$\n",
    "\n",
    "where $s(\\x^\\ip)$ is the computation of a \"score\" (just like logistic regression, typically a linear form).\n",
    "Only if $\\y^\\ip, s(\\x^\\ip)$ have the same sign can the loss be less than $1$;\n",
    "the loss can only be  $0$ if the absolute value of the score  is greater than $1$:\n",
    "\n",
    "$$\n",
    "\\mid {s(\\x^\\ip)} \\mid \\;\\ge 1\n",
    "$$\n",
    "\n",
    "That is, the loss is minimized when the score is greater than the margin of $1$.\n",
    "\n",
    "The hinge loss for the training set is the sum of the hinge losses of each training example.\n"
   ]
  },
  {
   "cell_type": "markdown",
   "metadata": {
    "slideshow": {
     "slide_type": "slide"
    }
   },
   "source": [
    "### Derivative\n",
    "\n",
    "Like the ReLU, the Hingle Loss only has sub-gradients so\n",
    "for linear score\n",
    "$$\n",
    "\\hat{y}^\\ip = s(\\x^\\ip) = \\W \\x^\\ip\n",
    "$$\n",
    "\n",
    "the derivative of the loss is\n",
    "$$\n",
    "\\frac{\\loss}{\\partial \\W} = \n",
    "\\begin{cases}\n",
    "-\\y^\\ip \\x & \\text{if } \\y^\\ip  s(\\x^\\ip) < 1 \\\\\n",
    "0 & \\text{otherwise}\n",
    "\\end{cases}\n",
    "$$"
   ]
  },
  {
   "cell_type": "markdown",
   "metadata": {
    "slideshow": {
     "slide_type": "subslide"
    }
   },
   "source": [
    "## Multi-class hinge loss\n",
    "\n",
    "- [wikipedia](https://en.wikipedia.org/wiki/Hinge_loss)\n",
    "- [cs231](http://cs231n.stanford.edu/slides/2017/cs231n_2017_lecture3.pdf)\n",
    "    - example, slides 7+\n",
    "\n",
    "The hinge loss can be extended from two classes to many classes \n",
    "$C = \\{ C_1 \\ldots, C_{n_C} \\}$\n",
    "\n",
    "The loss on the $i^{th}$ training example is defined as\n",
    "$$\n",
    "\\loss^\\ip = \\sum_{j \\ne \\y^\\ip} \\max \\left(0, 1 - (\\;  s_{\\y^\\ip}(\\x) - s_j(\\x)  \\;)  \\right)\n",
    "$$\n",
    "\n",
    "where $s_c$ is a score function specific to classs $c$:\n",
    "$$\n",
    "s_c(\\x^\\ip) = \\W_c \\x^\\ip\n",
    "$$\n",
    "\n",
    "So the example loss is $0$ when the score for the correct class $\\y^\\ip$ is at least $1$ greater than\n",
    "the score of any incorrect class.\n",
    "\n",
    "(This is easily implemented by a matrix $\\W$ of containing $\\mid C \\mid$ rows, one per class."
   ]
  },
  {
   "cell_type": "markdown",
   "metadata": {
    "slideshow": {
     "slide_type": "slide"
    }
   },
   "source": [
    "This creates a zone (of width two times the margin) in which it is possible for the score to be\n",
    "on the \"correct\" side of the threshhold but no further than the margin away.  Predictions in\n",
    "this zone are characterized as \"incorrect\" by the Hinge/Margin loss function.\n",
    "\n",
    "One can see that once the score is farther than the margin from the threshhold, the derivative\n",
    "of the hinge/margin loss is 0.  So this loss function tries to push different classes apart, but\n",
    "\"stops pushing\" once the margin is crossed.\n",
    "This contrasts with some other loss functions which continue to try to increase the score.\n",
    "\n",
    "This type of loss may be used in either classification or regression problems.\n",
    "When used for regression, the objective is somewhat inverted: rather than forcing the prediction\n",
    "to be outside the zone, the prediction is characterized as correct only if it lies *within* the zone.\n",
    "\n",
    "**TO DO**\n",
    "- [Varma](https://rohanvarma.me/Loss-Functions/) says that Hinge loss, with L2 regularization,\n",
    "leads to max-margin SVM.  Show this.\n",
    "    - note: we have used a margin of $1$.  Why ?\n",
    "        - it could be anything; the weight will scale \n",
    "        - but adding a regularizer (e.g., L2 regularizer for weights) normalizes and constrains\n",
    "- [sklearn](https://scikit-learn.org/stable/modules/generated/sklearn.metrics.hinge_loss.html)\n",
    "    - margin = y_true * prediction < 0 for mistake (and y_true in {-1,+1})\n",
    "        - so sum of (1 - margin) is upper bound on number of mistakes\n",
    "            - assume |prediction} > 1 ?\n",
    "    - [Keras hinge loss classifier for circles problem](https://machinelearningmastery.com/how-to-choose-loss-functions-when-training-deep-learning-neural-networks/#attachment_6921)\n",
    "- [wikipedia](https://en.wikipedia.org/wiki/Hinge_loss)"
   ]
  },
  {
   "cell_type": "markdown",
   "metadata": {
    "slideshow": {
     "slide_type": "slide"
    }
   },
   "source": [
    "## Exponential loss\n",
    "\n",
    "This is used in the AdaBoost (Adaptive Boosting) algorithm.\n",
    "One can think of it as a smoothed version of either accuracy or hinge/margin loss.\n",
    "\n",
    "Unlike hinge/margin loss, optimizing this loss function means there is pressure to increase\n",
    "the score of an already correct prediction.  However, the derivative eventually decreases to near 0.\n",
    "Moreover, note the asymmetry: there is greater pressure to correct an incorrect prediction than to\n",
    "increase the score of a correct prediction.\n",
    "\n",
    "This measure can be used for either classification or regression.  When used for regression, its\n",
    "asymmetry implies a greater penalty for losses on one side of correct than the other."
   ]
  },
  {
   "cell_type": "markdown",
   "metadata": {
    "slideshow": {
     "slide_type": "slide"
    }
   },
   "source": [
    "## Squared error\n",
    "\n",
    "We have seen variants of this before (MSE) for regression.\n",
    "In theory one can use this for classification as well but observe that there is a penalty (i.e., increased\n",
    "loss) for moving too far from the boundary.  So being \"very confident\" (higher score) is worse than\n",
    "being \"just confident enough\".\n",
    "\n",
    "- can relate MSE to likelihood\n"
   ]
  },
  {
   "cell_type": "markdown",
   "metadata": {
    "slideshow": {
     "slide_type": "slide"
    }
   },
   "source": [
    "## Log likelihood: justifying the Cost functions\n",
    "[Deep Learning Book 5.5](https://www.deeplearningbook.org/contents/ml.html)\n",
    "\n",
    "We have justified our models as minimizing over Cost functions.\n",
    "\n",
    "The cost functions we gave were \"intuitive\"; we now justify this mathematically."
   ]
  },
  {
   "cell_type": "markdown",
   "metadata": {
    "slideshow": {
     "slide_type": "slide"
    }
   },
   "source": [
    "The training data $\\{ x^\\ip | i=1, \\dots, m \\}$\n",
    "is a sample from an unknown distribution $\\pdata(\\x)$\n",
    "\n",
    "When we create a model, we are creating an approximation $\\pmodel(\\x;\\Theta)$, parameterized by $\\Theta$, of $\\pdata(\\x)$.\n",
    "\n",
    "\n",
    "Note that $\\pdata(\\x^\\ip)$ is not parameterized by $\\Theta$ since the actual data doesn't depend\n",
    "on the model's parameters $\\Theta$ in any way.\n",
    "\n",
    "We can motivate the choice of $\\Theta$ by the principle of Likelihood Maximization."
   ]
  },
  {
   "cell_type": "markdown",
   "metadata": {
    "slideshow": {
     "slide_type": "slide"
    }
   },
   "source": [
    "Given the training set, and the true distribution $\\pdata(\\x)$,\n",
    "we can compute the likelihood (i.e, probability) of drawing the $m$ samples in the training set as\n",
    "\n",
    "$$\n",
    "\\likeli_{\\text{data}} = \\prod_{i=1}^m { \\pdata(\\x^\\ip) }\n",
    "$$\n",
    "\n",
    "Similarly, we can compute the same likelihood, using the probabilities from the model\n",
    "\n",
    "$$\n",
    "\\likeli_{\\text{model}} = \\prod_{i=1}^m { \\pmodel(\\x^\\ip; \\Theta) }\n",
    "$$\n",
    "\n",
    "We can turn this product into a sum by taking the log of both sides\n",
    "\n",
    "$$\n",
    "\\log(\\likeli_{\\text{model}}) = \\sum_{i=1}^m { \\log(\\pmodel(\\x^\\ip; \\Theta)) }\n",
    "$$\n",
    "\n",
    "This is called the Log Likelihood."
   ]
  },
  {
   "cell_type": "markdown",
   "metadata": {
    "slideshow": {
     "slide_type": "slide"
    }
   },
   "source": [
    "So how do we choose $\\Theta$ ?\n",
    "\n",
    "Let us choose $\\Theta$ such that the choice\n",
    "*maximizes* the likelihood of seeing the training set.\n",
    "\n",
    "$$\n",
    "\\hat{\\Theta} = \\argmax{\\Theta}{\\sum_{i=1}^m { \\log(\\pmodel(\\x^\\ip; \\Theta)) } }\n",
    "$$\n",
    "\n",
    "That is, a choice of $\\Theta$ that results in a model which reproduces the training set with\n",
    "highest probability is the \"best\" model in terms of explaining the training set."
   ]
  },
  {
   "cell_type": "markdown",
   "metadata": {
    "slideshow": {
     "slide_type": "slide"
    }
   },
   "source": [
    "Replacing the sum by the expectation (ignoring the $\\frac{1}{m}$ of the average, as it does not change $\\Theta$)\n",
    "$$\n",
    "\\hat{\\Theta} = \\argmax{\\Theta}{ \\E_{\\x \\sim \\pdata} ( \\log(\\pmodel(\\x; \\Theta)) ) }\n",
    "$$"
   ]
  },
  {
   "cell_type": "markdown",
   "metadata": {
    "slideshow": {
     "slide_type": "subslide"
    }
   },
   "source": [
    "We can also explain the choice of $\\Theta$ as minimizing the KL divergence between\n",
    "$\\pdata$ and $\\pmodel$.\n",
    "\n",
    "\n",
    "$\\KL(\\pdata || \\pmodel)= \\E_{\\x \\sim \\pdata} { (\\log(\\pdata(\\x)) - \\log(\\pmodel(\\x; \\Theta)) )}$\n",
    "\n",
    "\n",
    "The divergence has a minimum at $0$, which occurs when $\\pdata = \\pmodel$.\n",
    "\n",
    "Rewriting \n",
    "$$\n",
    "\\KL(\\pdata || \\pmodel)= \\E_{\\x \\sim \\pdata} { \\log(\\pdata(\\x)) } - \\E_{\\x \\sim \\pdata} {\\log(\\pmodel(\\x; \\Theta)) }\n",
    "$$\n",
    "\n",
    "Since only $\\log(\\pmodel; \\Theta)$ depends on $\\Theta$,\n",
    "minimizing the KL divergence between $\\pdata$ and $\\pmodel$ \n",
    "is achieved by maximizing $\\E_{\\x \\sim \\pdata} \\log(\\pmodel; \\Theta) )$ which is the maximization of log likelihood.\n",
    "\n",
    "So the maximum likelihood estimation of $\\Theta$ is the one that makes $\\pmodel$ closest to $\\pdata$.\n",
    "\n",
    "So maximizing likelihood is equivalent to making the model distribution match the empirical.\n"
   ]
  },
  {
   "cell_type": "markdown",
   "metadata": {
    "slideshow": {
     "slide_type": "slide"
    }
   },
   "source": [
    "We now show (below) that our choice of cost functions\n",
    "- MSE for Regression\n",
    "- Binary Cross Entropy for (binary) Classification\n",
    "\n",
    "can be justified in terms of\n",
    "maximization of the log likelihood.\n"
   ]
  },
  {
   "cell_type": "markdown",
   "metadata": {
    "slideshow": {
     "slide_type": "slide"
    }
   },
   "source": [
    "### Log Likelihood of Linear models with normal errors\n",
    "\n",
    "Our Linear models are of the form\n",
    "\n",
    "$$\n",
    "\\hat{\\y}^\\ip = \\Theta^T \\cdot \\x^\\ip + \\epsilon\n",
    "$$\n",
    "where $\\epsilon \\in \\mathcal{N}(0,\\sigma)$.\n",
    "\n",
    "The $\\epsilon$ can be interpretted in either of two ways\n",
    "- as an error in fitting\n",
    "- the possible existence of two training examples $i, i'$ with \n",
    "    - $\\x^\\ip = \\x^{(i')}$ but\n",
    "    - $\\y^\\ip \\ne \\y^{(i')}$\n",
    "    - this is often explained as error in measurement\n",
    "    \n",
    "So our prediction $\\hat{\\y}^\\ip$ becomes a Normal random variable with\n",
    "mean $\\mu = \\Theta^T \\cdot \\x^\\ip$ and standard deviation $\\sigma$.\n",
    "\n"
   ]
  },
  {
   "cell_type": "markdown",
   "metadata": {
    "slideshow": {
     "slide_type": "slide"
    }
   },
   "source": [
    "Thus, the conditional probability of $\\hat{\\y}^\\ip$ given $\\x^\\ip$ is\n",
    "\n",
    "$$\n",
    "\\begin{array}[llll] \\\\\n",
    "p(\\hat{\\y}^\\ip | \\x^\\ip) & = & \\frac{1}{\\sigma \\sqrt(2\\pi)} \\exp(- \\frac{(\\hat{\\y}^\\ip - \\mu)^2}{2\\sigma}) & \\text{def. of Normal} \\\\\n",
    "    & \\propto &\\exp(- \\frac{(\\hat{\\y}^\\ip - \\Theta^T \\cdot \\x^\\ip)^2}{2 \\sigma}) & \\text{def. of }\\mu \\\\  \n",
    "\\end{array}\n",
    "$$"
   ]
  },
  {
   "cell_type": "markdown",
   "metadata": {
    "slideshow": {
     "slide_type": "slide"
    }
   },
   "source": [
    "The Likelihood of the training set, given this model of the conditional probability,\n",
    "is just the product over the training set of $p(\\hat{\\y}^\\ip | \\x^\\ip)$:\n",
    "$$\n",
    "\\mathbb{L}_{\\text{model}} = \\prod_{i=1}^m {p(\\hat{\\y}^\\ip | \\x^\\ip)}\n",
    "$$\n",
    "and the Log Likelihood is\n",
    "$$\n",
    "\\begin{array}[llll] \\\\\n",
    "\\mathbb{l}_{\\text{model}} & = & \\log( \\prod_{i=1}^m {p(\\hat{\\y}^\\ip | \\x^\\ip)}) \\\\\n",
    "& = &  \\sum_{i=1}^m {\\log( p(\\hat{\\y}^\\ip | \\x^\\ip) )} \\\\\n",
    "& = &  \\sum_{i=1}^m { - \\frac{(\\hat{\\y}^\\ip - \\Theta^T \\cdot \\x^\\ip)^2}{2 \\sigma}} \\\\\n",
    "& = &   - \\frac{1}{2 \\sigma} \\sum_{i=1}^m { {(\\hat{\\y}^\\ip - \\Theta^T \\cdot \\x^\\ip)^2}}\n",
    "\\end{array}\n",
    "$$"
   ]
  },
  {
   "cell_type": "markdown",
   "metadata": {
    "slideshow": {
     "slide_type": "subslide"
    }
   },
   "source": [
    "We can see that maximizing the Log Likelihood of a linear model with normal errors\n",
    "can be achieved by minimizing the Squared Errors ${(\\hat{\\y}^\\ip - \\Theta^T \\cdot \\x^\\ip)^2}$"
   ]
  },
  {
   "cell_type": "markdown",
   "metadata": {
    "slideshow": {
     "slide_type": "slide"
    }
   },
   "source": [
    "### Log likelihood of Binary classifiction\n",
    "\n",
    "For binary classification (where $\\hat{y}^\\ip \\in \\{0,1\\}$)\n",
    "we compute a score as a linear function of $\\x$\n",
    "$$\n",
    "s(\\x^\\ip) = \\Theta^T \\cdot \\x^\\ip\n",
    "$$\n",
    "\n",
    "and we convert the linear score into a probability via the logistic function\n",
    "\n",
    "$$ \\hat{p}^\\ip  = \\sigma(s(\\hat\\x^\\ip))$$\n",
    "\n",
    "The prediction (i.e., probability that the correct answer is $1$) becomes\n",
    "$$\n",
    "p(\\hat{y}^\\ip  = 1 \\, |\\, \\x^\\ip) = \\hat{p}^\\ip\n",
    "$$\n",
    "so\n",
    "$$\n",
    "p(\\hat{y}^\\ip  = 0 \\,|\\, \\x^\\ip) = 1 - \\hat{p}^\\ip\n",
    "$$\n",
    "\n",
    "We can write\n",
    "$$\n",
    "p(\\hat{y}^\\ip | \\x^\\ip) = p(\\hat{y}^\\ip  = 1  | \\x^\\ip)^{\\y^\\ip} * p(\\hat{y}^\\ip  = 0 | \\x^\\ip)^{(1- \\y^\\ip)}\n",
    "$$\n",
    "\n",
    "(because $\\hat{\\y} \\in \\{0,1\\}$, one term in the product  always has exponent $0$)"
   ]
  },
  {
   "cell_type": "markdown",
   "metadata": {
    "slideshow": {
     "slide_type": "slide"
    }
   },
   "source": [
    "Again, the likelihood is the product (over $i$) of these terms and the log likelihood is\n",
    "$$\n",
    "\\begin{array}[lll]\\\\\n",
    "\\mathcal{l} & = & \\sum_{i=1}^m { \\y^\\ip \\log(p(\\hat{y}^\\ip  = 1  | \\x^\\ip))  + (1-\\y^\\ip )\\log(p(\\hat{y}^\\ip  = 0  | \\x^\\ip) )} \\\\\n",
    "   & = & \\sum_{i=1}^m { \\y^\\ip \\log(p(\\hat{y}^\\ip  = 1  | \\x^\\ip))  + (1-y^\\ip )\\log( 1 - p(\\hat{y}^\\ip  = 1  | \\x^\\ip) )} \\\\\n",
    "\\end{array}\n",
    "$$"
   ]
  },
  {
   "cell_type": "markdown",
   "metadata": {
    "slideshow": {
     "slide_type": "slide"
    }
   },
   "source": [
    "\n",
    "You should recognize the (negative of) the Log Likelhood as the Binary cross entropy loss.\n",
    "\n",
    "So maximizing the log likelihood minimizes the Binary Cross Entropy Loss."
   ]
  },
  {
   "cell_type": "markdown",
   "metadata": {
    "slideshow": {
     "slide_type": "slide"
    }
   },
   "source": [
    "## Complex loss functions: multiple objectives\n",
    "\n",
    "### Regularization objectives\n",
    "\n",
    "### Neural Style Transfer"
   ]
  },
  {
   "cell_type": "markdown",
   "metadata": {
    "slideshow": {
     "slide_type": "slide"
    }
   },
   "source": [
    "![Neural Style Transfer](images/NeuralStyleTransfer.jpg)"
   ]
  },
  {
   "cell_type": "markdown",
   "metadata": {
    "slideshow": {
     "slide_type": "slide"
    }
   },
   "source": [
    "# Weight initialization: first cut\n",
    "\n",
    "Although this seemes trivial, good choices are critical for successful training.\n",
    "\n",
    "We will discuss this more in depth in a subsequent lecture but, for now\n",
    "- Many activation functions have \"flat\" regions with near-zero gradient, which inhibits learning when using GD.\n",
    "    - avoid choosing initial weights (too big/small) that cause activations to lie in the domain giving rise to flat activation function range"
   ]
  },
  {
   "cell_type": "markdown",
   "metadata": {
    "slideshow": {
     "slide_type": "slide"
    }
   },
   "source": [
    "# Optimizers: first cut\n",
    "\n",
    "Again, several choices.\n",
    "But let's start by reviewing Mini batch SGD"
   ]
  },
  {
   "cell_type": "markdown",
   "metadata": {
    "slideshow": {
     "slide_type": "slide"
    }
   },
   "source": [
    "# Training\n",
    "\n",
    "Training is the process of solving for the parameter values that minimize the Loss function.\n",
    "We feed in a training set, and minimize the average loss across the training set.\n",
    "\n",
    "This is the same as \"fitting\" a model like we did in Classical ML in the first half of the course.\n",
    "In fact, the API (for Keras) is not that different than sklearn.\n",
    "\n",
    "So our goal is to find the $\\theta$\n",
    "\n",
    "$$\n",
    "\\DeclareMathOperator*{\\argmin}{arg\\,min}\n",
    "\\theta = \\argmin_{\\theta}(\\text{loss})\n",
    "$$"
   ]
  },
  {
   "cell_type": "markdown",
   "metadata": {
    "slideshow": {
     "slide_type": "subslide"
    }
   },
   "source": [
    "## Training is Optimization\n",
    "\n",
    "How do we solve the minimization problem:\n",
    "$$\\theta = \\argmin_{\\theta}(\\text{loss})$$\n",
    "\n",
    "- Via an optimizer\n",
    "    - given a loss function, over free variables\n",
    "    - find the value for the free variables that minimizes the loss\n",
    "- Many optimizers available\n",
    "    - Most based on Gradient Descent\n",
    "    - We will later see how Gradient Descent optimizers\n",
    "        - compute the gradients\n",
    "        - incorporate learning rate, momentum, etc.\n",
    "        \n",
    "For now, we will just use vanilla Gradient Descent and take the details for granted.\n"
   ]
  },
  {
   "cell_type": "markdown",
   "metadata": {
    "slideshow": {
     "slide_type": "slide"
    }
   },
   "source": [
    "# The training loop\n",
    "\n",
    "** Refer to Raw TF code in Colab Notebook DNN_TensorFlow ??"
   ]
  },
  {
   "cell_type": "markdown",
   "metadata": {
    "slideshow": {
     "slide_type": "subslide"
    }
   },
   "source": [
    "## Pseudo code\n",
    "\n",
    "Let\n",
    "- `NN`represent the function computed by the neural net, i.e, a map $X \\mapsto y$\n",
    "    - In general,$X$ is a batch (number of examples is `batch_size`)\n",
    "    - $X$ denotes the name of the formal parameters of the function `NN`\n",
    "    - $\\Theta$ are the weights (trainable parameters) of `NN`\n",
    "- `loss_fn` the function that compares the predictions (for the batch) to the correct outputs\n",
    "- the optimizer used in our illustration is SGD"
   ]
  },
  {
   "cell_type": "markdown",
   "metadata": {
    "slideshow": {
     "slide_type": "slide"
    }
   },
   "source": [
    ">\n",
    "`\n",
    "initialize(Theta)\n",
    "`\n",
    "\n",
    "`\\# Training loop to implement mini-batch SGD\n",
    "`\n",
    "\n",
    "`for epoch in range(n_epochs):`\n",
    "\n",
    "    for X_batch, y_batch in next_batch(X_train, y_train, batch_size, shuffle=True):\n",
    "        # Forward pass\n",
    "        z = NN(X_batch)\n",
    "        \n",
    "        # Loss calculation\n",
    "        loss = loss_fn(z, y_batch)\n",
    "        \n",
    "        # Backward pass\n",
    "        grads = gradient(loss, X)\n",
    "        \n",
    "        # Update \n",
    "        Theta = Theta - grads * learning_rate\n",
    "`"
   ]
  },
  {
   "cell_type": "markdown",
   "metadata": {
    "slideshow": {
     "slide_type": "slide"
    }
   },
   "source": [
    "We can conceive of a replacing the training loop with a higher level API whereby the entire training loop is replaced\n",
    "by an `sklearn`-like API:\n",
    ">\n",
    "    NN = create Neural Net model object\n",
    "\n",
    "    NN.fit(X_train, y_train, epochs=n_epochs, batch_size=batch_size, \n",
    "           validation_data=(X_valid, y_valid), shuffle=True)\n",
    "`"
   ]
  },
  {
   "cell_type": "markdown",
   "metadata": {
    "slideshow": {
     "slide_type": "slide"
    }
   },
   "source": [
    "# Summary so far\n",
    "- Thus far, not too different from Classical ML\n",
    "- Differences\n",
    "    - In Classical ML, the loss function was implicit in the model\n",
    "        - here, you define the loss function\n",
    "        - this is the key part of DL\n",
    "        - many \"canned\" loss functions available\n",
    "            - but the cool stuff happens via Cool Loss Functions\n",
    "    - As you will see\n",
    "        - In Classical ML,\n",
    "            - many transformations (aside from scaling/normalization) were done explicitly based on data exploration and knowledge of the problem domain\n",
    "        - In DL\n",
    "            - each layer implicitly performs a transformation\n",
    "                - we don't specify the logic, how or why\n",
    "                - the optimizer \"finds\" good transformations"
   ]
  },
  {
   "cell_type": "markdown",
   "metadata": {
    "slideshow": {
     "slide_type": "slide"
    }
   },
   "source": [
    "# Deeper dive: inside the fully connected layer\n",
    "\n",
    "Before there was a layer API, you had to build it by hand, in TF.\n",
    "\n",
    "A lot of code that you will find still uses raw TF.\n",
    "\n",
    "And, on occassion, you have to write some raw TF: either in a Lambda function (like your own layer) or\n",
    "when the connections between layers are more complex than the Sequential Keras model\n",
    "- e.g., a model that takes inputs from the outputs of two other models\n",
    "\n",
    "So let's implement a FC layer in raw TF."
   ]
  },
  {
   "cell_type": "markdown",
   "metadata": {
    "slideshow": {
     "slide_type": "slide"
    }
   },
   "source": [
    "# The \"Why's\"\n",
    "\n",
    "## Why multi layer ? Universal Function approximators\n",
    "[NNDL](http://neuralnetworksanddeeplearning.com/chap4.html)\n",
    "\n",
    "We will spend much more time on this is a subsequent lecture but, for now:\n",
    "\n",
    "A network maps inputs to outputs, so can think of it as a computing a function\n",
    "- we don't know what that function is\n",
    "    - but can describe it's input/output pairs (training examples)\n",
    "    \n",
    "The NN architecture is powerful enough to approximate any function (up to some precision)\n",
    "- so very powerful\n",
    "- the function is learned through training\n",
    "    - not interpretable usuallly\n",
    "    \n",
    "It can be shown that any function can be computed with a shallow but very wide (lots of neurons per layer)\n",
    "NN.\n",
    "Arranging the NN into multiple layers (\"deep\" rather than \"wide\") allows the function to be approximted\n",
    "using narrower layers.\n",
    "One intuition: think of this like \"factoring\" code.  The early layers implement sub-routines\n",
    "that will be used repeatedly in subsequent layers (rather than repeating the code at each use, which\n",
    "is what happens in a shallow NN)."
   ]
  },
  {
   "cell_type": "markdown",
   "metadata": {
    "slideshow": {
     "slide_type": "slide"
    }
   },
   "source": [
    "## Why were they hard to train ? \n",
    "\n",
    "Again: explored in depth in a subsequent lecture.  For now:\n",
    "- unfortunate choices of activation function\n",
    "    - zero gradient inhibits learning\n",
    "- unfortunate/difficult initialization\n",
    "    - initializing weights so that activations saturate (with zero gradient) hurt learning\n",
    "    - see *PNN* page 32\n",
    "        - vanishing, exploding gradients\n",
    "- computational limits\n",
    "    - larger networks empirically easier to train than smaller ones\n",
    "        - [The Lottery Ticket Hypothesis](https://arxiv.org/abs/1803.03635)\n",
    "            - within a large network is a smaller, easily trained network\n",
    "            - increasing network side increases the chance of large network containing a trainable subset\n",
    "            - [summary](https://towardsdatascience.com/how-the-lottery-ticket-hypothesis-is-challenging-everything-we-knew-about-training-neural-networks-e56da4b0da27)\n",
    "            "
   ]
  },
  {
   "cell_type": "markdown",
   "metadata": {
    "slideshow": {
     "slide_type": "slide"
    }
   },
   "source": [
    "## Why do GPU's matter ?\n",
    "\n",
    "[What makes TPU's fined tuned for Deep Learning](https://cloud.google.com/blog/products/ai-machine-learning/what-makes-tpus-fine-tuned-for-deep-learning)\n",
    "\n",
    "A GPU (Graphics Processing Unit) is a piece of hardware specially designed to perform repeated\n",
    "vector multiplications (a typical calculation in graphics processing).\n",
    "It is not general purpose (like a CPU) but does what it does extremely quickly, and using many\n",
    "more cores than a CPU (typically several thousand).\n",
    "\n",
    "As matrix multiplication is a fundamental operation of Deep Learning, GPU's have the ability to greatly\n",
    "speed up training (and inference).\n",
    "\n",
    "Google has a further enhancement called a TPU (Tensor Processing Unit) to speed both training and inference.\n",
    "It is even less general than a GPU, but is highly specialized to eliminate bottlenecks (e.g., memory access) in fundamental Deep Learning matrix multiplication.\n",
    "\n",
    "Note that both GPU's and TPU's incur an overhead (a \"set up\" step is needed before calculation).\n",
    "So a speedup is achieved only for sufficiently large matrices, or long \"calculation pipelines\" (multiplying \n",
    "different examples by the same weights).\n",
    "\n",
    "Since deep learning involves multiplying large matrices (each example) by large matrices (the weights, which are the same for each example in a batch), both GPU's and TPU's offer the possibility of large speed ups.\n",
    "\n",
    "- GPU's are **not** necessary\n",
    "    - but they are a **lot** faster\n",
    "    - life changing experience\n",
    "        - 30x faster means your 10 minute run (that ended in a bug) now only takes 20 seconds\n",
    "        - increases your ambition by faster iteration of experimental cycle"
   ]
  },
  {
   "cell_type": "code",
   "execution_count": 8,
   "metadata": {},
   "outputs": [
    {
     "name": "stdout",
     "output_type": "stream",
     "text": [
      "Done\n"
     ]
    }
   ],
   "source": [
    "print(\"Done\")"
   ]
  }
 ],
 "metadata": {
  "celltoolbar": "Slideshow",
  "kernelspec": {
   "display_name": "Python 3",
   "language": "python",
   "name": "python3"
  },
  "language_info": {
   "codemirror_mode": {
    "name": "ipython",
    "version": 3
   },
   "file_extension": ".py",
   "mimetype": "text/x-python",
   "name": "python",
   "nbconvert_exporter": "python",
   "pygments_lexer": "ipython3",
   "version": "3.7.1"
  },
  "toc": {
   "base_numbering": 1,
   "nav_menu": {},
   "number_sections": true,
   "sideBar": true,
   "skip_h1_title": false,
   "title_cell": "Table of Contents",
   "title_sidebar": "Contents",
   "toc_cell": false,
   "toc_position": {
    "height": "calc(100% - 180px)",
    "left": "10px",
    "top": "150px",
    "width": "370.594px"
   },
   "toc_section_display": true,
   "toc_window_display": true
  }
 },
 "nbformat": 4,
 "nbformat_minor": 2
}
