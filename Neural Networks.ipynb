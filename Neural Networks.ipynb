{
 "cells": [
  {
   "cell_type": "code",
   "execution_count": 1,
   "metadata": {
    "scrolled": true,
    "slideshow": {
     "slide_type": "notes"
    }
   },
   "outputs": [
    {
     "data": {
      "text/latex": [
       "$$\n",
       "\\newcommand{\\x}{\\mathbf{x}}\n",
       "\\newcommand{\\y}{\\mathbf{y}}\n",
       "\\newcommand{\\b}{\\mathbf{b}}\n",
       "\\newcommand{\\c}{\\mathbf{c}}\n",
       "\\newcommand{\\e}{\\mathbf{e}}\n",
       "\\newcommand{\\z}{\\mathbf{z}}\n",
       "\\newcommand{\\h}{\\mathbf{h}}\n",
       "\\newcommand{\\w}{\\mathbf{w}}\n",
       "\\newcommand{\\W}{\\mathbf{W}}\n",
       "\\newcommand{\\X}{\\mathbf{X}}\n",
       "\\newcommand{\\KL}{\\mathbf{KL}}\n",
       "\\newcommand{\\E}{{\\mathbb{E}}}\n",
       "\\newcommand{\\ip}{\\mathbf{{(i)}}}\n",
       "% \\ll indexes a layer; we can change the actual letter\n",
       "\\newcommand{\\ll}{l}\n",
       "\\newcommand{\\llp}{{(\\ll)}}\n",
       "%\n",
       "\\newcommand{\\tp}{\\mathbf{{(t)}}}\n",
       "\\newcommand{\\loss}{\\mathcal{L}}\n",
       "\\newcommand{\\cost}{\\mathcal{L}}\n",
       "%\n",
       "% Functions with arguments\n",
       "\\def\\xsy#1#2{#1^#2}\n",
       "\\def\\rand#1{\\tilde{#1}}\n",
       "\\def\\randx{\\rand{\\x}}\n",
       "\\def\\randy{\\rand{\\y}}\n",
       "%\n",
       "\\def\\argmax#1{\\underset{#1} {\\operatorname{argmax}} }\n",
       "\\def\\argmin#1{\\underset{#1} {\\operatorname{argmin}} }\n",
       "\\def\\max#1{\\underset{#1} {\\operatorname{max}} }\n",
       "\\def\\min#1{\\underset{#1} {\\operatorname{min}} }\n",
       "%\n",
       "\\def\\pr#1{\\mathcal{p}(#1)}\n",
       "\\def\\cnt#1{\\mathcal{count}_{#1}}\n",
       "\\def\\node#1{\\mathbb{#1}}\n",
       "$$\n"
      ],
      "text/plain": [
       "<IPython.core.display.Latex object>"
      ]
     },
     "metadata": {},
     "output_type": "display_data"
    },
    {
     "name": "stdout",
     "output_type": "stream",
     "text": [
      "Macro `_latex_std_` created. To execute, type its name (without quotes).\n",
      "=== Macro contents: ===\n",
      "get_ipython().run_line_magic('run', 'Latex_macros.ipynb')\n",
      " "
     ]
    }
   ],
   "source": [
    "%run Latex_macros.ipynb"
   ]
  },
  {
   "cell_type": "code",
   "execution_count": 2,
   "metadata": {
    "scrolled": true,
    "slideshow": {
     "slide_type": "notes"
    }
   },
   "outputs": [],
   "source": [
    "# My standard magic !  You will see this in almost all my notebooks.\n",
    "\n",
    "from IPython.core.interactiveshell import InteractiveShell\n",
    "InteractiveShell.ast_node_interactivity = \"all\"\n",
    "\n",
    "# Reload all modules imported with %aimport\n",
    "%load_ext autoreload\n",
    "%autoreload 1\n",
    "\n",
    "%matplotlib inline"
   ]
  },
  {
   "cell_type": "code",
   "execution_count": 3,
   "metadata": {
    "scrolled": true,
    "slideshow": {
     "slide_type": "notes"
    }
   },
   "outputs": [],
   "source": [
    "import numpy as np\n",
    "import pandas as pd\n",
    "import matplotlib.pyplot as plt\n",
    "\n",
    "import neural_net_helper\n",
    "%aimport neural_net_helper\n",
    "\n",
    "nnh = neural_net_helper.NN_Helper()"
   ]
  },
  {
   "cell_type": "markdown",
   "metadata": {
    "slideshow": {
     "slide_type": "slide"
    }
   },
   "source": [
    "# Intro\n",
    "\n",
    "In Classical ML, the paradigm was\n",
    "- construct, by hand, transformations of the input to alternatate representations\n",
    "    - feature engineering: create representations corresponding to a \"concept\" useful for classificatin\n",
    "    - we called this a pipeline\n",
    "- after multiple transformations, the representation was good enough that a classifer could separate classes"
   ]
  },
  {
   "cell_type": "markdown",
   "metadata": {
    "slideshow": {
     "slide_type": "subslide"
    }
   },
   "source": [
    "In Deep Learning, the paradigm is very similar\n",
    "- a sequence of transformations\n",
    "    - each transformation is called a \"layer\"\n",
    "        - \"Deep Learning\" is many layers of transformation\n",
    "    - each layer successively constructs a new representation\n",
    "    \n",
    "**The key difference from Classical ML**:\n",
    "- the transformations are \"discovered\"  rather than hand engineered\n",
    "    "
   ]
  },
  {
   "cell_type": "markdown",
   "metadata": {
    "slideshow": {
     "slide_type": "slide"
    }
   },
   "source": [
    "# Deep Learning: the cartoon\n",
    "Here is a \"cartoon\" diagram of Deep Learning (as applied to Classification)"
   ]
  },
  {
   "cell_type": "markdown",
   "metadata": {
    "slideshow": {
     "slide_type": "slide"
    }
   },
   "source": [
    "![Deep Learning cartoon](images/DL_Classifier.jpg)"
   ]
  },
  {
   "cell_type": "markdown",
   "metadata": {
    "slideshow": {
     "slide_type": "subslide"
    }
   },
   "source": [
    "- the large vertical box at the left in the input (e.g., example: training or test)\n",
    "- the smaller vertical boxes are \"layers\"\n",
    "- the final layer (drawn outside the big box\n",
    "    - is a layer that implements a Classifier\n",
    "        - e.g., Logistic Regression"
   ]
  },
  {
   "cell_type": "markdown",
   "metadata": {
    "slideshow": {
     "slide_type": "subslide"
    }
   },
   "source": [
    "The input will be refered to as layer $0$.\n",
    "\n",
    "Layer $(\\ll + 1)$:\n",
    "- takes as input: the output of layer $\\ll$\n",
    "- produces an output that is the transformed version of its input\n",
    "    - the sizes of the inputs and outputs may be *very different*\n",
    "    - determined by the internal workings of the layer"
   ]
  },
  {
   "cell_type": "markdown",
   "metadata": {
    "slideshow": {
     "slide_type": "subslide"
    }
   },
   "source": [
    "You can think of the output of each layer (inlcuding layer $0$) as being\n",
    "alternate representations of our example's features.\n",
    "\n",
    "So the NN is successively transforming the example's input features into\n",
    "different *representations*.\n",
    "\n"
   ]
  },
  {
   "cell_type": "markdown",
   "metadata": {
    "slideshow": {
     "slide_type": "subslide"
    }
   },
   "source": [
    "You can think of the represenation of layer $(\\ll + 1)$ as being more complex or \"higher level\" than\n",
    "that of layer $\\ll$.\n",
    "\n",
    "The goal of more complex representations is to eventually enable the final layer (e.g., Classifier)\n",
    "to be able to separate example classes.\n",
    "\n",
    "Perhaps the lower level representations are not sufficient to enable the Classifier to succeed."
   ]
  },
  {
   "cell_type": "markdown",
   "metadata": {
    "slideshow": {
     "slide_type": "subslide"
    }
   },
   "source": [
    "Our old friend, the dot product, will play a starring role.\n",
    "- it is a fundamental part of many layers that we will study\n",
    "\n",
    "Let's start with our the inputs to the NN: an example with our original features\n",
    "\n",
    "Recall that the dot product can be thought of implementing a kind of \"pattern matching:\n",
    "- looking for a subset of features in an example"
   ]
  },
  {
   "cell_type": "markdown",
   "metadata": {
    "slideshow": {
     "slide_type": "subslide"
    }
   },
   "source": [
    "So one way to think of the transformations implemented by the **first layer** is that it\n",
    "- recognizes patterns in the layer's input\n",
    "- construct new \"higher level\" features\n",
    "\n",
    "These higher level features may (or may not) be sufficient\n",
    "- for a Classical Classifier to be able to correctly classify training examples\n",
    "- for a Classical Regression to be able to correctly predict continous values"
   ]
  },
  {
   "cell_type": "markdown",
   "metadata": {
    "slideshow": {
     "slide_type": "subslide"
    }
   },
   "source": [
    "This also explains why we may need more than one layer\n",
    "- layer $(\\ll +1)$ takes as its input: the \"high level feature\" contructed by layer $\\ll$\n",
    "- with the benefit of a higher (compared to the training example) level features\n",
    "    - we might match more complex patterns\n",
    "    - and create even higher level features as output of layer $(\\ll +1)$"
   ]
  },
  {
   "cell_type": "markdown",
   "metadata": {
    "slideshow": {
     "slide_type": "slide"
    }
   },
   "source": [
    "# Notation 1\n",
    "\n",
    "Layer $\\ll$:\n",
    "\n",
    "- output of layer $\\ll: \\y_\\llp$\n",
    "    - subscripts in parenthesis refer to layer numbers\n",
    "- input of layer $\\ll: \\y_{(\\ll-1)}$\n",
    "- layer $0$ (*the input layer*) is where our examples are input\n",
    "    - $\\y_{(0)} = \\x$\n",
    "    \n",
    "Let $L$ denote the number of layers\n",
    "- Final output of the NN:\n",
    "    - $\\y = \\y_{(L)}$\n",
    "    "
   ]
  },
  {
   "cell_type": "markdown",
   "metadata": {
    "slideshow": {
     "slide_type": "subslide"
    }
   },
   "source": [
    "<div>\n",
    "    <center>Layers</center>\n",
    "    <br>\n",
    "<img src=images/NN_Layers.jpg width=2500>\n",
    "    </div>"
   ]
  },
  {
   "cell_type": "markdown",
   "metadata": {
    "slideshow": {
     "slide_type": "slide"
    }
   },
   "source": [
    "# How does the NN \"learn\" the transformations ?\n",
    "\n",
    "The answer is not too different than what we learned in Classical Machine Learning\n",
    "- each layer has a set of parameters, e.g, $\\Theta_{(\\ll)}$ for layer $\\ll$\n",
    "- so the entire NN (the \"model\") has a collection of paramters $\\Theta$\n",
    "- we define a per-example cost function\n",
    "    - for our Classification or Regression problem\n",
    "- we \"solve\" for the $\\Theta$ that minimizes our Average (across examples) Cost"
   ]
  },
  {
   "cell_type": "markdown",
   "metadata": {
    "slideshow": {
     "slide_type": "subslide"
    }
   },
   "source": [
    "But how do we find the Cost-minimizing $\\Theta$ ?\n",
    "- In Classical ML: we sought closed-form solutions: Linear/Logistic Regression\n",
    "- In Deep Learning: we will *search* for the best $\\Theta$\n",
    "    - using search: we are able to use more complex Cost functions\n",
    "    \n",
    "**Note**\n",
    "\n",
    "In DL, $\\Theta$ is often refered to as the NN's *weights* and will thus often be denoted by $\\W$ rather than $\\Theta$."
   ]
  },
  {
   "cell_type": "markdown",
   "metadata": {
    "slideshow": {
     "slide_type": "slide"
    }
   },
   "source": [
    "## Training: finding the best $\\W$\n",
    "\n",
    "We begin by reviewing\n",
    "- Cost functions\n",
    "- Gradient Descent"
   ]
  },
  {
   "cell_type": "markdown",
   "metadata": {
    "slideshow": {
     "slide_type": "slide"
    }
   },
   "source": [
    "### Review\n",
    "\n",
    "**Cost/Loss, Utility/Optimization: review**\n",
    "\n",
    "- The prediction $\\hat{\\y}^{(i)}$ for example $\\x^\\ip$ is perfect if it matches the true label $\\y^\\ip$\n",
    "\n",
    "$$ \\hat{\\y}^\\ip = \\y^\\ip$$\n",
    "\n",
    "- The distance between $\\hat{\\y}^{(i)}, \\y^\\ip$  is called the *Loss* (or *Cost*) for example $i$:\n",
    "\n",
    "$$\n",
    "\\loss^\\ip_\\Theta =  L( \\hat{\\y}^\\ip , \\y) \n",
    "$$\n",
    "\n",
    "where $L(a,b)$ is a function that is $0$ when $a = b$ and increasing as $a$ increasingly differs from $b$.\n",
    "\n",
    "Two versions $L$ that we've seen are Mean Squared Error (for Regression) and Cross Entropy Loss (for classification)."
   ]
  },
  {
   "cell_type": "markdown",
   "metadata": {
    "slideshow": {
     "slide_type": "subslide"
    }
   },
   "source": [
    "The Loss for the entire training set is simply the average (across examples) of the Loss for the example\n",
    "\n",
    "$$\n",
    "\\loss_\\Theta  = { 1\\over{m} } \\sum_{i=1}^m \\loss^\\ip_\\Theta\n",
    "$$"
   ]
  },
  {
   "cell_type": "markdown",
   "metadata": {
    "slideshow": {
     "slide_type": "subslide"
    }
   },
   "source": [
    "Whereas Loss describes how \"bad\" our prediction is, we sometimes refer to the converse -- how \"good\" the prediction is.\n",
    "\n",
    "We call the \"goodness\" of the prediction  the *Utility* $U_\\Theta$.\n",
    "\n",
    "So we could state the optimization objective either as\n",
    "\"minimize Cost\" or \"maximize Utility\".\n",
    "\n",
    "By convention, the DL optimization problem is usually framed as one of minimization (of cost or loss) \n",
    "rather than maximization of utility."
   ]
  },
  {
   "cell_type": "markdown",
   "metadata": {
    "slideshow": {
     "slide_type": "slide"
    }
   },
   "source": [
    "**Gradient Descent review**\n",
    "\n",
    "- $\\loss_\\Theta$ is a function of parameters $\\Theta$\n",
    "- The (negative of) the derivative of $\\loss_\\theta$ points in the direction of $\\Theta$ that reduces \n",
    "\n",
    "- One *step* of Gradient Descent updates $\\Theta$ in the direction that reduces $\\loss_\\Theta$\n",
    "$$\n",
    "\\Theta_{(t + 1)} = \\Theta_\\tp - \\alpha * \\frac{\\partial \\loss_\\Theta}{\\partial \\Theta}\n",
    "$$\n",
    "where\n",
    "    - subscript in parenthesis refers to the step number of Gradient Descent\n",
    "        - update equation is for step $(t+1)$\n",
    "    - $\\alpha$ is the *learning rate*\n",
    "    "
   ]
  },
  {
   "cell_type": "markdown",
   "metadata": {
    "slideshow": {
     "slide_type": "subslide"
    }
   },
   "source": [
    "**Minibatch Gradient Descent review**\n",
    "\n",
    "$\\loss_\\Theta$ is the sum of $m$ per-example losses \n",
    "$$\n",
    "    \\loss_\\Theta = \\frac{1}{m} \\sum_{i=1}^m \\loss_\\Theta^\\ip\n",
    "    $$\n",
    "- expensive to compute, for large $m$\n",
    "- can *approximate* $\\loss_\\Theta$ by evaluating it\n",
    "    - across a *random subset ( of size $m' \\le m$)* of  examples: $I = \\{ i_1, \\ldots, i_{m'} \\}$\n",
    "    $$\n",
    "    \\loss_\\Theta \\approx \\frac{1}{|I|}\\sum_{i \\in I} \\loss_\\Theta^\\ip\n",
    "    $$"
   ]
  },
  {
   "cell_type": "markdown",
   "metadata": {
    "slideshow": {
     "slide_type": "subslide"
    }
   },
   "source": [
    "Whereas Gradient Descent computes an exact $\\loss_\\Theta$ to perform a single update of $\\Theta$:\n",
    "\n",
    "*Minibatch Gradient Descent*\n",
    "- takes $b = m/m'$ smaller steps, each updating $\\Theta$\n",
    "- each small step using an approxmation of $\\loss_\\Theta$ based on $m' \\le m$ examples"
   ]
  },
  {
   "cell_type": "markdown",
   "metadata": {
    "slideshow": {
     "slide_type": "subslide"
    }
   },
   "source": [
    "It does this by\n",
    "- choosing batch size $m'$\n",
    "- partitioning the set of example indices $\\{i | 1 \\le i \\le m \\}$\n",
    "    - into $b$\n",
    "    *batches* of size $m'$\n",
    "    - batch $i': b_{(i')}$ is one partition consisting of $m'$ example indices\n",
    "    - Each small step uses a single batch to approximate $\\loss_\\Theta$ and update $\\Theta$\n",
    "\n",
    "The collection of $b$ small steps (comprising all examples) is called an *epoch*\n",
    "\n",
    "So one epoch of Minibatch Gradient Descent performs $b$ updates"
   ]
  },
  {
   "cell_type": "markdown",
   "metadata": {
    "slideshow": {
     "slide_type": "slide"
    }
   },
   "source": [
    "## The Training loop\n",
    "\n",
    "The way we find the cost-minimizing $\\Theta$ is by using Gradient Descent (or Minibatch Gradient Descent)\n",
    "on the Cost function $\\loss_\\Theta$.\n",
    "\n",
    "This is implemented in a loop called the *training loop*"
   ]
  },
  {
   "cell_type": "markdown",
   "metadata": {
    "slideshow": {
     "slide_type": "subslide"
    }
   },
   "source": [
    "During each iteration (epoch) $t$ of the loop\n",
    "- We compute $\\hat{\\y}^\\ip$ for all $m$ examples\n",
    "    - Present $\\x^\\ip$ to the input layer of the NN\n",
    "    - Evaluate $\\hat{\\y}^\\ip$ using the current value for $\\Theta: \\Theta_{(t)}$\n",
    "        - compute $\\y_\\ll$ for each layer $0 \\le l \\le L$\n",
    "        - $\\hat{\\y}^\\ip = \\y_L$\n",
    "- Each example $i$ has it's per-example loss $\\loss_\\Theta^\\ip$"
   ]
  },
  {
   "cell_type": "markdown",
   "metadata": {
    "slideshow": {
     "slide_type": "subslide"
    }
   },
   "source": [
    "- The per-example losses contribute to a gradient (exact or approximate)\n",
    "- The loss per batch causes a single update to $\\Theta$\n",
    "\n",
    "So the Training Loop implements a Gradient Descent or one of its variants."
   ]
  },
  {
   "cell_type": "markdown",
   "metadata": {
    "slideshow": {
     "slide_type": "subslide"
    }
   },
   "source": [
    "In \"the old days\" the **user** wrote the Training Loop.\n",
    "\n",
    "Using a higher level API (like Keras) the loop is implemented for you in a single call.\n",
    "\n",
    "This is called *training* or *fitting* the model.\n",
    "\n",
    "We will examine both the high level API and the low level implementation."
   ]
  },
  {
   "cell_type": "raw",
   "metadata": {
    "slideshow": {
     "slide_type": "subslide"
    }
   },
   "source": [
    "initialize(Theta)\n",
    "\n",
    "# Training loop to implement mini-batch SGD\n",
    "for epoch in range(n_epochs):`\n",
    "    for X_batch, y_batch in next_batch(X_train, y_train, batch_size, shuffle=True):\n",
    "        # Forward pass\n",
    "        z = NN(X_batch)\n",
    "        \n",
    "        # Loss calculation\n",
    "        loss = loss_fn(z, y_batch)\n",
    "        \n",
    "        # Backward pass\n",
    "        grads = gradient(loss, X)\n",
    "        \n",
    "        # Update \n",
    "        Theta = Theta - grads * learning_rate"
   ]
  },
  {
   "cell_type": "markdown",
   "metadata": {
    "slideshow": {
     "slide_type": "slide"
    }
   },
   "source": [
    "# Layers\n",
    "\n",
    "We will learn about several primitive types of layers:\n",
    "- Dense/Fully Connected\n",
    "- Activation\n",
    "- Convolutional\n",
    "- Recurrent\n",
    "- Lambda\n",
    "    - occassionally you will have to write  your own operations\n",
    "        - TensorFlow native operations: multiplication, addition\n",
    "        "
   ]
  },
  {
   "cell_type": "markdown",
   "metadata": {
    "slideshow": {
     "slide_type": "subslide"
    }
   },
   "source": [
    "By \"drawing a box\" around a sequence of layers\n",
    "- you can create a more complex layer\n",
    "- same API, but hidden steps in the middle\n",
    "\n",
    "Think of a Layer as a sequence of one or more\n",
    "- Primitive layers (sequence of length 1, see above)\n",
    "- Non-primitive layers\n",
    "    - can treat a sequence of length greater than 1 as a single layer (treat the middle as a black box_"
   ]
  },
  {
   "cell_type": "markdown",
   "metadata": {
    "slideshow": {
     "slide_type": "slide"
    }
   },
   "source": [
    "## The Dense (Fully Connected) Layer\n",
    "\n",
    "The first layer type we will learn about is called the *Dense* or $Fully Connected (FC)* layer.\n",
    "\n",
    "Let layer $\\ll$ in the Sequential Model by a Dense layer\n",
    "- It's inputs are $\\y_{(\\ll-1)}$ and outputs $\\y_\\llp$\n",
    "- It consists of $n_\\llp$ *neurons* (nodes)\n",
    "    - So $| \\y_\\llp| = n_\\llp$\n",
    "- Each neuron $j$ performs a dot product of\n",
    "    - $\\y_\\llp$ and a set of per neuron parameters $\\W_{\\llp,j}$\n",
    "        - where $\\W_{\\llp,j}$ is a vector of length $|\\y_\\llp|$\n",
    "    - adds a constant per neuron *bias* $\\b_j$"
   ]
  },
  {
   "cell_type": "markdown",
   "metadata": {
    "slideshow": {
     "slide_type": "subslide"
    }
   },
   "source": [
    "$$\\y_{\\llp, j} = \\y_{(\\ll-1)} \\cdot \\W_{\\llp,j} + \\b_j$$\n",
    "\n",
    "To summarize Dense Layer $\\ll$\n",
    "- Its inputs are a representation (vector of features) of length $|\\y_{(\\ll-1)}|$\n",
    "- It outputs a represenation of length $|\\y_\\llp|$"
   ]
  },
  {
   "cell_type": "markdown",
   "metadata": {
    "slideshow": {
     "slide_type": "subslide"
    }
   },
   "source": [
    "- The number of parameters (size of $\\W_\\llp$) is\n",
    "$$\n",
    "| \\W_\\llp | = |\\y_\\llp| * ( |\\y_{(\\ll-1)}| + 1 )\n",
    "$$\n",
    "    - one output for each of the $n_\\llp = | \\y_\\llp|$ neurons\n",
    "    - each neuron $j$ has\n",
    "        - $|\\y_{(\\ll-1)}|$ parameters to use in the dot product with $\\y_{(\\ll-1)}$\n",
    "        - one bias $\\b_j$"
   ]
  },
  {
   "cell_type": "markdown",
   "metadata": {
    "slideshow": {
     "slide_type": "subslide"
    }
   },
   "source": [
    "The Dense Layer is also called *Fully Connected* \n",
    "- each output is \"connected\" to each  input, via a single neuron."
   ]
  },
  {
   "cell_type": "markdown",
   "metadata": {
    "slideshow": {
     "slide_type": "slide"
    }
   },
   "source": [
    "**Note**\n",
    "\n",
    "ALWAYS count the number of parameters\n",
    "- They add up quickly !\n",
    "- Dense Layers are particularly greedy\n",
    "    - product of input size and output size"
   ]
  },
  {
   "cell_type": "markdown",
   "metadata": {
    "slideshow": {
     "slide_type": "slide"
    }
   },
   "source": [
    "## Dense Layer as pattern matching\n",
    "\n",
    "Given an input representation, how do we tell whether it matches a certain feature ?\n",
    "- weights as pattern\n",
    "- dot product computes score\n",
    "    - score is high if input is similar to pattern\n",
    "\n",
    "So the Dense Layer $\\ll$ can be thought of as creating $|\\y_\\llp|$ \"more complex\" features.\n",
    "\n",
    "We *don't* tell the NN what these features should be\n",
    "- they are *discovered* (learned) by solving the Cost Function minimization "
   ]
  },
  {
   "cell_type": "markdown",
   "metadata": {
    "slideshow": {
     "slide_type": "subslide"
    }
   },
   "source": [
    "The fact that the new representation is learned rather than specified often makes\n",
    "the process of Deep Learning (and the intermediate represenations) it produces\n",
    "*difficult to interpret*.\n",
    "\n",
    "We will make some attempts at interpretability throughout this course."
   ]
  },
  {
   "cell_type": "markdown",
   "metadata": {
    "slideshow": {
     "slide_type": "slide"
    }
   },
   "source": [
    "Although it is easiest to think of representations as one dimensional, that will rarely be the case\n",
    "- images are a representation that is 2 or 3 dimensional (color channel)\n",
    "- if a layer produces $n$ features, its output volume has a \"depth\" of $n$\n",
    "    - so the 3d image (2d plus one channel for each of 3 colors), after passed through a layer creating $n$ features, now has depth $n$ rather than 3\n",
    "    \n",
    "So best to think of \"dot product\" as \n",
    "- element-wise multiplication of input representation with weights of same dimensionality\n",
    "- reduce (sum) to scalar"
   ]
  },
  {
   "cell_type": "markdown",
   "metadata": {
    "slideshow": {
     "slide_type": "slide"
    }
   },
   "source": [
    "### Classical ML versus Deep Learning: MNIST digit recognition\n",
    "\n",
    "Imagine we were trying to recognize MNIST digits in the Classical ML setting.\n",
    "\n",
    "We might *hand-engineer* features using two levels of transormations before sending the new features to a Classifier\n",
    "\n",
    "- layer 1: features\n",
    "    - horizontal top\n",
    "    - horizontal botton\n",
    "    - diagonal, each direction\n",
    "- layer 2: combo of layer 1 features\n",
    "    - horizontal top and diagonal\n",
    "    "
   ]
  },
  {
   "cell_type": "markdown",
   "metadata": {
    "slideshow": {
     "slide_type": "slide"
    }
   },
   "source": [
    "This might seem like the way to do digit recognition were we to perform feature engineering by hand.\n",
    "\n",
    "But our intuition of what features are useful may be off, or at least, sub-optimal\n",
    "\n",
    "Deep Learning \n",
    "- is an optimization that solves for patterns  that prove\n",
    "most useful for  classification."
   ]
  },
  {
   "cell_type": "markdown",
   "metadata": {
    "slideshow": {
     "slide_type": "slide"
    }
   },
   "source": [
    "## Activation Layers\n",
    "\n",
    "Observe that a Dense Layer is performing a linear transformation (because of the dot product).\n",
    "\n",
    "From Linear Algera: the composition of linear transformations is itself a single linear transformation.\n",
    "\n",
    "So there would be *no mathematical purpose* to a Sequential Model consisting of only Dense Layers.\n"
   ]
  },
  {
   "cell_type": "markdown",
   "metadata": {
    "slideshow": {
     "slide_type": "subslide"
    }
   },
   "source": [
    "Key aspect separating Classical ML from Deep LearningL \n",
    "- DL can *also* implement\n",
    "*non-linear transformations*.\n",
    "\n",
    "This turns out to be incredibly powerful.\n",
    "\n",
    "In turn, a key in enabling this power is that we optimize the Cost Function by *search*\n",
    "- closed form solutions for Non-Linear functions are hard !"
   ]
  },
  {
   "cell_type": "markdown",
   "metadata": {
    "slideshow": {
     "slide_type": "subslide"
    }
   },
   "source": [
    "Deep learning programming appends  a \"non-linear\" *Activation Layer* at the end of every linear layer.\n",
    "- there is a default Activation associated with each layer\n",
    "- so, in practice, you specify the Activation layer as a parameter in constructing another layer\n",
    "- know the default activation for your layer !\n",
    "\n",
    "By doing so, the composition of layers is no longer linear.\n",
    "\n",
    "Non-linearity allows us to compute arbitrary functions\n",
    "- A NN is a Universal Function Approximator\n"
   ]
  },
  {
   "cell_type": "markdown",
   "metadata": {
    "slideshow": {
     "slide_type": "subslide"
    }
   },
   "source": [
    "The non-linearity is called an \"activation\" because it typically acts like a threshhold:\n",
    "- if the linear \"dot product score\" is high, pass the score through to the ouptut\n",
    "- otherwise reduce it to (near) 0\n",
    "\n",
    "The activation introduces the ability to compute non-linear transformations as well as a mechanism to\n",
    "separate High scores (\"has feature\") form insignificant scores.\n"
   ]
  },
  {
   "cell_type": "markdown",
   "metadata": {
    "slideshow": {
     "slide_type": "slide"
    }
   },
   "source": [
    "### Some Activation Layers\n",
    "\n",
    "There are several choices for the non-linear activation layer.\n",
    "\n",
    "To get some intuition, let's show the plot of each, along with its derivative.\n",
    "\n",
    "The derivative is **very important** as it will come into play during Gradient Descent."
   ]
  },
  {
   "cell_type": "code",
   "execution_count": 4,
   "metadata": {
    "scrolled": false,
    "slideshow": {
     "slide_type": "subslide"
    }
   },
   "outputs": [
    {
     "data": {
      "image/png": "[encoded data removed]",
      "text/plain": [
       "<Figure size 1152x576 with 6 Axes>"
      ]
     },
     "metadata": {
      "needs_background": "light"
     },
     "output_type": "display_data"
    }
   ],
   "source": [
    "fig, _ = nnh.plot_activations( np.arange(-3,3, 0.1) )"
   ]
  },
  {
   "cell_type": "markdown",
   "metadata": {
    "slideshow": {
     "slide_type": "subslide"
    }
   },
   "source": [
    "The first thing to note is the different output ranges.\n",
    "\n",
    "The particular task might dictate the Activation function for the final layer\n",
    "- the range of tanh is $[-1,+1]$ which may be appropriate for $0$ centered outputs\n",
    "- the range of sigmoid is $[0,1]$, which may be appropriate for\n",
    "    - binary classifiers, or neurons that act as \"gates\" (on/off switches)\n",
    "    - outputs that need to be in this range, such as probabilities\n",
    "- **No** activation might be the right choice for a Regression task (unbounded output range)"
   ]
  },
  {
   "cell_type": "markdown",
   "metadata": {
    "slideshow": {
     "slide_type": "subslide"
    }
   },
   "source": [
    "The other thing to notice are the derivatives:\n",
    "- both the tanh and sigmoid have large regions, at either tail, of near zero derivatives\n",
    "\n",
    "- the derivative of the sigmoid has a maximum value of about 0.25\n",
    "    \n",
    "    "
   ]
  },
  {
   "cell_type": "markdown",
   "metadata": {
    "slideshow": {
     "slide_type": "subslide"
    }
   },
   "source": [
    "Although it is hard to appreciate at the moment\n",
    "- Managing derivatives is\n",
    "**one of the key** insights that enabled the explosive growth of DL !\n",
    "\n",
    "We will explore this more in a subsequent lecture; for now:\n",
    "- A zero derivative can hamper learning that uses Gradient Descent (tanh, sigmoid)\n",
    "- The magnitude of the derivative modulates the \"error signal\" during back propagation\n",
    "    - so smaller maximum values diminish the signal more than larger ones (sigmoid)\n",
    "    "
   ]
  },
  {
   "cell_type": "markdown",
   "metadata": {
    "slideshow": {
     "slide_type": "slide"
    }
   },
   "source": [
    "## What does the bias do ?\n",
    "\n",
    "The bias term (e.g., in the Dense layer) seems like an isolated annoyance.\n",
    "\n",
    "Far from it !\n",
    "\n",
    "The Activations map inputs in a fixed range to outputs.\n",
    "\n",
    "The bias (of layer $\\ll$) shifts the input to layer $(\\ll +1)$.\n",
    "\n",
    "So although, for example, the ReLU \"hinge\" is located at $0$\n",
    "- The bias of the previous layer\n",
    "can effectively shift this point."
   ]
  },
  {
   "cell_type": "markdown",
   "metadata": {
    "slideshow": {
     "slide_type": "slide"
    }
   },
   "source": [
    "## Other activations\n",
    "\n",
    "### Softmax Layer\n",
    "\n",
    "### Leaky ReLU Layer"
   ]
  },
  {
   "cell_type": "markdown",
   "metadata": {
    "slideshow": {
     "slide_type": "slide"
    }
   },
   "source": [
    "## Loss \"Layers\"\n",
    "\n",
    "In the $L$ layer Sequential Model\n",
    "- We sometimes see\n",
    "an additional layer ($L + 1$) implementing the Cost/Loss function.\n",
    "\n",
    "Although not truly a \"layer\" in the sense we have defined it\n",
    "- It is not deriving a new representation\n",
    "- It is a programming/mathematical convenience \n",
    "    - makes it easier to implement and analyze Gradient Descent when the Loss is $\\y_{(L+1)}$\n"
   ]
  },
  {
   "cell_type": "markdown",
   "metadata": {
    "slideshow": {
     "slide_type": "slide"
    }
   },
   "source": [
    "# Cost/Loss functions \n",
    "\n",
    "We have framed Machine Learning (and DL in particular) as \n",
    "the task of minimizing a Cost/Loss function.\n",
    "\n",
    "There are many such functions that we can consider.\n",
    "\n",
    "We briefy discuss a few.\n",
    "\n",
    "Let's begin by plotting some Cost functions\n",
    "\n",
    "(Note: this statement is true regardless of whether the Loss is implemented as a layer.)"
   ]
  },
  {
   "cell_type": "code",
   "execution_count": 5,
   "metadata": {
    "scrolled": false,
    "slideshow": {
     "slide_type": "slide"
    }
   },
   "outputs": [
    {
     "data": {
      "image/png": "[encoded data removed]",
      "text/plain": [
       "<Figure size 720x432 with 1 Axes>"
      ]
     },
     "metadata": {
      "needs_background": "light"
     },
     "output_type": "display_data"
    }
   ],
   "source": [
    "nnh.plot_loss_fns()"
   ]
  },
  {
   "cell_type": "markdown",
   "metadata": {
    "slideshow": {
     "slide_type": "slide"
    }
   },
   "source": [
    "## Overview\n",
    "\n",
    "First, let's state some basic properties of a loss/function:\n",
    "- it should be positive\n",
    "- it should be close to $0$ if the prediction is close to the correct value\n",
    "- it should be **differentiable** (or at least sub-differentiable) if Gradient Descent is our optimizer"
   ]
  },
  {
   "cell_type": "markdown",
   "metadata": {
    "slideshow": {
     "slide_type": "subslide"
    }
   },
   "source": [
    "### Accuracy\n",
    "- The non-differentiability of Accuracy **rules it out** as a Cost function"
   ]
  },
  {
   "cell_type": "markdown",
   "metadata": {
    "slideshow": {
     "slide_type": "subslide"
    }
   },
   "source": [
    "### Hinge Loss\n",
    "\n",
    "We encountered this loss in the lecture on Support Vector Machines (SVM):\n",
    "- It *is* sub-differntiable\n",
    "- Is unusual in that there are elements in the domain where the Cost is *exactly* 0\n",
    "- Gradient Descent will\n",
    "    - **stop trying** to improve $\\Theta, \\W$ once the Cost is $0$\n",
    "    - contrast this to Cross Entropy, where cost never reaches $0$\n",
    "        - Gradient Descent will keep trying to improve $\\Theta, \\W$\n",
    "        - Will try to increase score of already correct prediction\n",
    "            - long after the probability threshold for Classification has been passed"
   ]
  },
  {
   "cell_type": "markdown",
   "metadata": {
    "slideshow": {
     "slide_type": "subslide"
    }
   },
   "source": [
    "### Exponential loss\n",
    "\n",
    "This is used in the AdaBoost (Adaptive Boosting) algorithm.\n",
    "\n",
    "One can think of it as a smoothed version of either accuracy or hinge/margin loss.\n",
    "- But never reaches a value of $0$, so continous pressure to increase the score of an already correct prediction\n",
    "- Asymmetric: there is greater pressure to correct an incorrect prediction than to\n",
    "increase the score of a correct prediction.\n",
    "\n",
    "This measure can be used for either classification or regression.  \n",
    "\n",
    "When used for regression\n",
    "- asymmetry implies a greater penalty for losses on one side of correct than the other."
   ]
  },
  {
   "cell_type": "markdown",
   "metadata": {
    "slideshow": {
     "slide_type": "subslide"
    }
   },
   "source": [
    "### Squared error\n",
    "\n",
    "We have seen variants of this before (MSE) for regression.\n",
    "\n",
    "In theory one can use this for classification\n",
    "- But observe that there is a penalty (i.e., increased\n",
    "loss) for moving too far from the boundary.  \n",
    "\n",
    "So being \"very confident\" (higher score) is worse than\n",
    "being \"just confident enough\".\n"
   ]
  },
  {
   "cell_type": "markdown",
   "metadata": {
    "slideshow": {
     "slide_type": "subslide"
    }
   },
   "source": [
    "### Complex loss functions: multiple objectives\n",
    "\n",
    "#### Regularization objectives\n",
    "\n"
   ]
  },
  {
   "cell_type": "markdown",
   "metadata": {
    "slideshow": {
     "slide_type": "slide"
    }
   },
   "source": [
    "## Neural Style Transfer: fun with Cost functions\n",
    "![Neural Style Transfer](images/NeuralStyleTransfer.jpg)"
   ]
  },
  {
   "cell_type": "markdown",
   "metadata": {
    "slideshow": {
     "slide_type": "slide"
    }
   },
   "source": [
    "# Scaling the inputs\n",
    "\n",
    "Many times in this course we have pointed out that some models are *scale sensitive*.\n",
    "\n",
    "Neural Networks are not *mathematically* sensitive but tend to be so *in practice*.\n",
    "\n",
    "It is *highly recommended* to scale your data so their absolute values are around 1.0 or at least somewhat small."
   ]
  },
  {
   "cell_type": "markdown",
   "metadata": {
    "slideshow": {
     "slide_type": "subslide"
    }
   },
   "source": [
    "Gradient Descent is the root of the problem:\n",
    "\n",
    "- Two features on different scales can cause the optimizer to favor one over the other\n",
    "- Activations can *saturate*\n",
    "    - Output of dot product (Dense layer) is in the \"flat* area of the activation\n",
    "    - Zero derivative: no learning\n",
    "- The Cost/Loss may be large in initial epochs when the target values are too different from the dot products\n",
    "    - *Large* gradients: unstable learning\n",
    "    - Weights are typically initialized to values less than 1.0, leading to small dot products\n",
    "    "
   ]
  },
  {
   "cell_type": "markdown",
   "metadata": {
    "slideshow": {
     "slide_type": "subslide"
    }
   },
   "source": [
    "Remember: if you re-scale the inputs, you will need to invert the transformation when\n",
    "communicating the results"
   ]
  },
  {
   "cell_type": "markdown",
   "metadata": {
    "slideshow": {
     "slide_type": "slide"
    }
   },
   "source": [
    "# Universal function approximator\n",
    "A Neural Network is a Universal Function Approximator.\n",
    "\n",
    "This means that an NN that is sufficiently \n",
    "- wide (large number of neurons per layer) \n",
    "- and deep (many layers; deeper means the network can be narrower)\n",
    "\n",
    "can approximate (to arbitrary degree)\n",
    "the function represented by the training set.\n",
    "\n",
    "Recall that the training $\\X = \\{ (\\x^\\ip, \\y^\\ip) |  1 \\le i \\le m \\}$ is a set of input/target pairs."
   ]
  },
  {
   "cell_type": "markdown",
   "metadata": {
    "slideshow": {
     "slide_type": "slide"
    }
   },
   "source": [
    "This may look like a strange way to define a function \n",
    "- but it is indeed a mapping from the\n",
    "domain of $\\x$ (i.e., $\\mathcal{R}^n$) to the domain of $\\y$ (i.e., $\\mathcal{R})$\n",
    "- subject to $\\y^i = \\y^j \\;  \\text{if} \\; \\x^i = \\x^j$ (i.e., mapping is unique)."
   ]
  },
  {
   "cell_type": "markdown",
   "metadata": {
    "slideshow": {
     "slide_type": "subslide"
    }
   },
   "source": [
    "We give an intuitive proof for a one-dimensional function\n",
    "- all vectors $\\x, \\y, \\W, \\b$ are length 1.\n",
    "\n",
    "For simplicity, let's assume that the training set\n",
    "is presented in order of increasing value of $\\x$, i.e.\n",
    "$$\n",
    "\\x^{(0)} \\lt \\x^{(1)} \\lt \\ldots \\x^{(m)}\n",
    "$$\n",
    "\n",
    "Consider a single neuron with a ReLU activation, computing\n",
    "$$\n",
    "\\max{}(0, \\W \\x + \\b)\n",
    "$$\n",
    "\n",
    "Let's plot the output of this neuron, for varying $\\W, \\b$.\n",
    "\n",
    "The slope of the neuron's activation is $\\W$ and the intercept is $\\b$."
   ]
  },
  {
   "cell_type": "markdown",
   "metadata": {
    "slideshow": {
     "slide_type": "subslide"
    }
   },
   "source": [
    "By making slope $\\W$ extremely large, we can approach a vertical line."
   ]
  },
  {
   "cell_type": "code",
   "execution_count": 6,
   "metadata": {
    "scrolled": false,
    "slideshow": {
     "slide_type": "subslide"
    }
   },
   "outputs": [
    {
     "data": {
      "image/png": "[encoded data removed]",
      "text/plain": [
       "<Figure size 720x432 with 1 Axes>"
      ]
     },
     "metadata": {
      "needs_background": "light"
     },
     "output_type": "display_data"
    }
   ],
   "source": [
    "_ = nnh.plot_steps( [ nnh.NN(1,0), nnh.NN(10,0), nnh.NN(100,0), nnh.NN(1000,0), ])"
   ]
  },
  {
   "cell_type": "markdown",
   "metadata": {
    "slideshow": {
     "slide_type": "subslide"
    }
   },
   "source": [
    "And by varying the intercept (bias) we can shift this vertical line to any point on the feature axis."
   ]
  },
  {
   "cell_type": "code",
   "execution_count": 7,
   "metadata": {
    "scrolled": false,
    "slideshow": {
     "slide_type": "slide"
    }
   },
   "outputs": [
    {
     "data": {
      "image/png": "[encoded data removed]",
      "text/plain": [
       "<Figure size 720x432 with 1 Axes>"
      ]
     },
     "metadata": {
      "needs_background": "light"
     },
     "output_type": "display_data"
    }
   ],
   "source": [
    "_ = nnh.plot_steps( [ nnh.NN(1,0), nnh.NN(1,10), nnh.NN(1,20), nnh.NN(1,30), ])"
   ]
  },
  {
   "cell_type": "markdown",
   "metadata": {
    "slideshow": {
     "slide_type": "slide"
    }
   },
   "source": [
    "With a little effort, we can construct a neuron \n",
    "- With near infinite slope\n",
    "- Rising from the x-axis at any offset.\n",
    "\n",
    "With a little more effort \n",
    "- adding a neuron with an offsetting negative slope, at a very small distance from\n",
    "the x-intercept\n",
    "\n",
    "we can construct an approximation of a step function\n",
    "- unit height\n",
    "- 0 output at inputs\n",
    "less than the x-intercept\n",
    "- unit output for all inputs greater than the intercept).\n",
    "\n",
    "(The sigmoid function is even more easily transformed into a step function)."
   ]
  },
  {
   "cell_type": "markdown",
   "metadata": {
    "slideshow": {
     "slide_type": "subslide"
    }
   },
   "source": [
    "We can construct neurons implementing step functions at any x-intercept.\n",
    "\n",
    "- Construct $m$ such neurons with intercepts $\\{ \\x^\\ip | 1  \\le i \\le m \\}$\n",
    "- Let us call the $i^{th}$ such neuron \"step neuron $i$\".\n",
    "\n",
    "If we connect the $m$ step neurons to a \"final\" neuron with $0$ bias, linear activation, and weights\n",
    "\n",
    "$$\n",
    "\\begin{array}[lll] \\\\\n",
    "\\W_1 & = & \\y^{(1)} \\\\\n",
    "\\W_i & = & \\y^{(i)} - \\W_{i-1} \\\\\n",
    "\\end{array}\n",
    "$$"
   ]
  },
  {
   "cell_type": "markdown",
   "metadata": {
    "slideshow": {
     "slide_type": "subslide"
    }
   },
   "source": [
    "We claim that the output of this neuron approximates the training set.\n",
    "\n",
    "To see this: \n",
    "- Consider what happens when we input $\\x^\\ip$ to this network.\n",
    "- The only step neurons that are active (non-zero) are those corresponding\n",
    "to inputs $1 \\le j \\le i$.\n",
    "- The output of the final neuron is the sum of the outputs of the first $i$ step neurons.\n",
    "- By construction, this sum is equal to $\\y^\\ip$.\n",
    "\n",
    "Thus, our neural network \n",
    "- $m$ step neurons \n",
    "- Final \"adder\" neuron\n",
    "creates the mapping\n",
    "defined by the training set.\n",
    "\n",
    "**Financial analogy:** if we have call options with completely flexible strikes and same expiry,\n",
    "we can mimic an arbitrary payoff in a similar manner."
   ]
  },
  {
   "cell_type": "markdown",
   "metadata": {
    "slideshow": {
     "slide_type": "slide"
    }
   },
   "source": [
    "# Some \"Why's\"\n",
    "\n",
    "Here are some interesting questions to ask about Deep Learning"
   ]
  },
  {
   "cell_type": "markdown",
   "metadata": {
    "slideshow": {
     "slide_type": "subslide"
    }
   },
   "source": [
    "## Why was progress in DL so slow (decades) ? \n",
    "\n",
    "We will answer this more deeply in a subequent lecture; for now:\n",
    "- Seemingly minor details turned out to be incredibily important !\n",
    "    - Initialization of weights $\\Theta, \\W$ for Gradient Descent\n",
    "    - Activations with large regions of zero gradient hampered learning\n",
    "- Vanishing/Exploding Gradients\n",
    "    - problems arise when the gradient is effectively  0\n",
    "    - problems also occurs when they are effectively infinite"
   ]
  },
  {
   "cell_type": "markdown",
   "metadata": {
    "slideshow": {
     "slide_type": "subslide"
    }
   },
   "source": [
    "- Computational limits\n",
    "    - It turns out to be quite important to make your NN big; bigger/faster machines help\n",
    "    - Actually: bigger than it needs to be\n",
    "        - many weights wind up near $0$, which renders the neurons useless\n",
    "        - [The Lottery Ticket Hypothesis](https://arxiv.org/abs/1803.03635)\n",
    "            - within a large network is a smaller, easily trained network\n",
    "            - increasing network side increases the chance of large network containing a trainable subset\n",
    "            - [summary](https://towardsdatascience.com/how-the-lottery-ticket-hypothesis-is-challenging-everything-we-knew-about-training-neural-networks-e56da4b0da27)\n"
   ]
  },
  {
   "cell_type": "markdown",
   "metadata": {
    "slideshow": {
     "slide_type": "subslide"
    }
   },
   "source": [
    "## Why do GPU's matter ?\n",
    "\n",
    "[What makes TPU's fined tuned for Deep Learning](https://cloud.google.com/blog/products/ai-machine-learning/what-makes-tpus-fine-tuned-for-deep-learning)\n",
    "\n",
    "GPU (Graphics Processing Unit): specially designed hardware to perform repeated\n",
    "vector multiplications (a typical calculation in graphics processing).\n",
    "\n",
    "- It is not general purpose (like a CPU) but does what it does extremely quickly, and using many\n",
    "more cores than a CPU (typically several thousand).\n",
    "\n",
    "- As matrix multiplication is a fundamental operation of Deep Learning, GPU's have the ability to greatly\n",
    "speed up training (and inference)."
   ]
  },
  {
   "cell_type": "markdown",
   "metadata": {
    "slideshow": {
     "slide_type": "subslide"
    }
   },
   "source": [
    "Google has a further enhancement called a TPU (Tensor Processing Unit) to speed both training and inference.\n",
    "-  highly specialized to eliminate bottlenecks (e.g., memory access) in fundamental Deep Learning matrix multiplication.\n",
    "\n",
    "Both GPU's and TPU's \n",
    "- Incur an overhead (a \"set up\" step is needed before calculation).\n",
    "- So speedup only for sufficiently large matrices, or long \"calculation pipelines\" (multiplying \n",
    "different examples by the same weights)."
   ]
  },
  {
   "cell_type": "markdown",
   "metadata": {
    "slideshow": {
     "slide_type": "subslide"
    }
   },
   "source": [
    "DL involves \n",
    "- Multiplying large matrices (each example) \n",
    "- By large matrices (weights, which are same for each example in batch)\n",
    "- Both GPU's and TPU's offer the possibility of large speed ups.\n",
    "\n",
    "- GPU's are **not** necessary\n",
    "    - but they are a **lot** faster\n",
    "    - life changing experience\n",
    "        - 30x faster means your 10 minute run (that ended in a bug) now only takes 20 seconds\n",
    "        - increases your ambition by faster iteration of experimental cycle"
   ]
  },
  {
   "cell_type": "code",
   "execution_count": 8,
   "metadata": {
    "scrolled": true,
    "slideshow": {
     "slide_type": "slide"
    }
   },
   "outputs": [
    {
     "name": "stdout",
     "output_type": "stream",
     "text": [
      "Done\n"
     ]
    }
   ],
   "source": [
    "print(\"Done\")"
   ]
  }
 ],
 "metadata": {
  "celltoolbar": "Slideshow",
  "kernelspec": {
   "display_name": "Python 3",
   "language": "python",
   "name": "python3"
  },
  "language_info": {
   "codemirror_mode": {
    "name": "ipython",
    "version": 3
   },
   "file_extension": ".py",
   "mimetype": "text/x-python",
   "name": "python",
   "nbconvert_exporter": "python",
   "pygments_lexer": "ipython3",
   "version": "3.7.1"
  },
  "toc": {
   "base_numbering": 1,
   "nav_menu": {},
   "number_sections": true,
   "sideBar": true,
   "skip_h1_title": false,
   "title_cell": "Table of Contents",
   "title_sidebar": "Contents",
   "toc_cell": false,
   "toc_position": {
    "height": "calc(100% - 180px)",
    "left": "10px",
    "top": "150px",
    "width": "370.594px"
   },
   "toc_section_display": true,
   "toc_window_display": false
  }
 },
 "nbformat": 4,
 "nbformat_minor": 2
}
